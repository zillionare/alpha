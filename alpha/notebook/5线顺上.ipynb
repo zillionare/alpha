{
 "cells": [
  {
   "cell_type": "markdown",
   "id": "dc735335",
   "metadata": {},
   "source": [
    "# 策略说明\n",
    "\n",
    "    开仓条件：\n",
    "        1. 股价沿5日均线上线\n",
    "        2. 不存在前一周期rsi超标、当前周期rsi超标以及上涨3%后rsi超标情况。rsi指标处于90%高位为超标\n",
    "    平仓条件：\n",
    "        1. rsi 30分钟线高位,或\n",
    "        2. -5%止损，或\n",
    "        3. 30分钟两次上攻失败,或\n",
    "        4. 5天内两次上攻失败"
   ]
  },
  {
   "cell_type": "code",
   "execution_count": 2,
   "id": "53928d71",
   "metadata": {
    "scrolled": false
   },
   "outputs": [],
   "source": [
    "from alpha.notebook import *\n",
    "from alpha.strategies.z05 import Z05\n",
    "await init_notebook()"
   ]
  },
  {
   "cell_type": "code",
   "execution_count": 3,
   "id": "94ec2c06",
   "metadata": {
    "scrolled": false
   },
   "outputs": [
    {
     "name": "stderr",
     "output_type": "stream",
     "text": [
      "sh: 1: aplay: not found\n"
     ]
    }
   ],
   "source": [
    "async def scan(dt, n):\n",
    "    end = tf.day_shift(arrow.get(dt), 0)\n",
    "    nbars = n + 5 - 1\n",
    "    start = tf.day_shift(end, -nbars + 1)\n",
    "    \n",
    "    results = []\n",
    "    for code in Securities().choose([\"stock\"]):\n",
    "        sec = Security(code)\n",
    "        try:\n",
    "            bars = await sec.load_bars(start, end, FrameType.DAY)\n",
    "            msr = maline_support_ratio(bars[\"close\"], 5, n)\n",
    "            bd = real_body(bars)\n",
    "            d1 = ma_d1(bars[\"close\"], 5)[-1]\n",
    "            d2 = ma_d2(bars[\"close\"], 5)[-1]\n",
    "            results.append([sec.display_name, code, msr, bd, d1, d2])\n",
    "        except Exception as e:\n",
    "            print(e)\n",
    "            continue\n",
    "            \n",
    "    return results\n",
    "            \n",
    "results = await scan(\"2021-10-26\", 7)\n",
    "say(\"finished\")"
   ]
  },
  {
   "cell_type": "code",
   "execution_count": null,
   "id": "50d85787",
   "metadata": {
    "scrolled": false
   },
   "outputs": [],
   "source": [
    "df = pd.DataFrame(results, columns=[\"name\", \"code\", \"msr\", \"body\", \"d1\", \"d2\"])"
   ]
  },
  {
   "cell_type": "code",
   "execution_count": null,
   "id": "8e983a3f",
   "metadata": {
    "scrolled": false
   },
   "outputs": [],
   "source": [
    "df.nlargest(20, [\"msr\", \"br\", \"d2\", \"d1\"])[df.d2>0]"
   ]
  },
  {
   "cell_type": "markdown",
   "id": "6896699a",
   "metadata": {},
   "source": [
    "# Z05"
   ]
  },
  {
   "cell_type": "markdown",
   "id": "28cf8db5",
   "metadata": {},
   "source": [
    "## 持仓3天强平"
   ]
  },
  {
   "cell_type": "code",
   "execution_count": null,
   "id": "f2e3ce4d",
   "metadata": {
    "scrolled": false
   },
   "outputs": [],
   "source": [
    "z05 = Z05(holding_days=3)\n",
    "summary = await z05.backtest(\"2021-10-21\", \"2021-10-21\")"
   ]
  },
  {
   "cell_type": "code",
   "execution_count": null,
   "id": "89e33c9d",
   "metadata": {
    "scrolled": false
   },
   "outputs": [],
   "source": [
    "summary"
   ]
  },
  {
   "cell_type": "code",
   "execution_count": null,
   "id": "078147c4",
   "metadata": {
    "scrolled": false
   },
   "outputs": [],
   "source": [
    "z05.trades"
   ]
  },
  {
   "cell_type": "markdown",
   "id": "466c9397",
   "metadata": {},
   "source": [
    "## 持仓4天强平"
   ]
  },
  {
   "cell_type": "code",
   "execution_count": null,
   "id": "762368c9",
   "metadata": {
    "scrolled": false
   },
   "outputs": [],
   "source": [
    "z05 = Z05(holding_days=4)\n",
    "summary = await z05.backtest(\"2021-10-21\", \"2021-10-21\")"
   ]
  },
  {
   "cell_type": "code",
   "execution_count": null,
   "id": "d7d14fc2",
   "metadata": {
    "scrolled": false
   },
   "outputs": [],
   "source": [
    "summary"
   ]
  },
  {
   "cell_type": "code",
   "execution_count": null,
   "id": "bece8f0b",
   "metadata": {
    "scrolled": false
   },
   "outputs": [],
   "source": [
    "z05.trades"
   ]
  },
  {
   "cell_type": "markdown",
   "id": "f458d6bc",
   "metadata": {},
   "source": [
    "# 昨天的信号"
   ]
  },
  {
   "cell_type": "code",
   "execution_count": null,
   "id": "c30f34ac",
   "metadata": {
    "scrolled": false
   },
   "outputs": [],
   "source": [
    "z05 = Z05(holding_days=3)\n",
    "\n",
    "end = arrow.get(\"2021-10-27\").date()\n",
    "await z05.scan(end)"
   ]
  },
  {
   "cell_type": "code",
   "execution_count": null,
   "id": "e05d8c6d",
   "metadata": {
    "scrolled": false
   },
   "outputs": [],
   "source": [
    "z05.long_orders"
   ]
  },
  {
   "cell_type": "markdown",
   "id": "ba95b607",
   "metadata": {},
   "source": [
    "# 30日回测\n",
    "\n",
    "持仓最长10天"
   ]
  },
  {
   "cell_type": "code",
   "execution_count": null,
   "id": "fa204185",
   "metadata": {
    "scrolled": false
   },
   "outputs": [],
   "source": [
    "from itertools import product\n",
    "import random\n",
    "import logging\n",
    "\n",
    "rootLogger = logging.getLogger()\n",
    "rootLogger.setLevel(logging.WARNING)\n",
    "\n",
    "rsi = [70, 75, 80, 85]\n",
    "prsi = [0.7, 0.75, 0.8, 0.85]\n",
    "rsi3 = [80, 85, 90, 95]\n",
    "stop_loss = [-0.05, -0.1, -0.15]\n",
    "msr = [0.6, 0.7, 0.8, 0.9, 1]\n",
    "bcr = [0.6, 0.7, 0.8, 0.9, 1]\n",
    "d1 = np.arange(1,4)/100\n",
    "\n",
    "all_perms = list(product(*(rsi, prsi, rsi3, stop_loss, msr, bcr, d1)))\n",
    "\n",
    "results = []\n",
    "\n",
    "for params in random.sample(all_perms, int(0.1 * len(all_perms))):\n",
    "    rsi, prsi, rsi3, stop_loss, msr, bcr, d1 = params\n",
    "    z05_30 = Z05(holding_days=10, rsi=rsi, prsi=prsi, rsi3=rsi3, stop_loss=stop_loss,msr=msr,bcr=bcr,d1=d1)\n",
    "\n",
    "    summary = await z05_30.backtest(\"2021-09-01\", \"2021-09-03\")\n",
    "    summary.update({\n",
    "        \"rsi\": rsi,\n",
    "        \"prsi\": prsi,\n",
    "        \"rsi3\": rsi3,\n",
    "        \"stop_loss\": stop_loss,\n",
    "        \"msr\": msr,\n",
    "        \"bcr\": bcr,\n",
    "        \"d1\": d1\n",
    "    })\n",
    "    results.append(summary)\n",
    "df = pd.DataFrame(results)"
   ]
  },
  {
   "cell_type": "code",
   "execution_count": null,
   "id": "edbe803a",
   "metadata": {
    "scrolled": false
   },
   "outputs": [],
   "source": [
    "columns = [\"name\", \"code\", \"gains\", \"buy_at\", \"sell_at\", \"duration\",  \"buy\", \"sell\", \"type\", \"params\"]\n",
    "df = pd.DataFrame(z05_30.orders, columns=columns)\n",
    "\n",
    "pd.options.display.max_rows = 999\n",
    "df"
   ]
  },
  {
   "cell_type": "code",
   "execution_count": null,
   "id": "49c5fc79",
   "metadata": {},
   "outputs": [],
   "source": [
    "df = pd.DataFrame(results)"
   ]
  },
  {
   "cell_type": "code",
   "execution_count": 10,
   "id": "1d65d02b",
   "metadata": {},
   "outputs": [
    {
     "name": "stdout",
     "output_type": "stream",
     "text": [
      "   impl   |     account     |   pid  | port | alive\n",
      "jqdaptor  |  18693939333    |  32222 | 3180 | YES\n"
     ]
    }
   ],
   "source": [
    "results = [(32222, 3180, True, \"jqdaptor:18693939333\")]\n",
    "print(\"   impl   |     account     |   pid  | port | alive\")\n",
    "for pid, port, alive, group in results:\n",
    "    impl, account = group.split(\":\")\n",
    "    alive = \"YES\" if alive else \"*NO*\"\n",
    "    print(f\"{impl:10}|{' ':2}{account:15}|  {pid} | {port} | {alive}\")"
   ]
  },
  {
   "cell_type": "code",
   "execution_count": null,
   "id": "958ed146",
   "metadata": {},
   "outputs": [],
   "source": []
  }
 ],
 "metadata": {
  "kernelspec": {
   "display_name": "alpha",
   "language": "python",
   "name": "alpha"
  },
  "language_info": {
   "codemirror_mode": {
    "name": "ipython",
    "version": 3
   },
   "file_extension": ".py",
   "mimetype": "text/x-python",
   "name": "python",
   "nbconvert_exporter": "python",
   "pygments_lexer": "ipython3",
   "version": "3.9.7"
  },
  "toc": {
   "base_numbering": 1,
   "nav_menu": {},
   "number_sections": true,
   "sideBar": true,
   "skip_h1_title": false,
   "title_cell": "Table of Contents",
   "title_sidebar": "Contents",
   "toc_cell": false,
   "toc_position": {},
   "toc_section_display": true,
   "toc_window_display": true
  }
 },
 "nbformat": 4,
 "nbformat_minor": 5
}
