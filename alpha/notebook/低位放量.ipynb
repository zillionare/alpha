{
 "cells": [
  {
   "cell_type": "markdown",
   "id": "4a447724",
   "metadata": {},
   "source": [
    "# 特征\n",
    "\n",
    "2021年9月16日，漱玉平民出现日线仙人指路形态。换手率18.4%，上涨4.4%，上影线5.6%。日线量比达4.8，30分钟量比更是高达29.5倍。其后不久，连续出现20cm涨停。\n",
    "\n",
    "\n",
    "<img src=\"https://images.jieyu.ai/images/202110/20211103195208.png\" width=\"400\"/>\n",
    "\n",
    "买入点特征：\n",
    "1. 近期(5日内）出现日线量比3倍以上，30分钟量比10倍以上。\n",
    "2. 当前30分钟出现底部特征：长下影、RSI超卖\n",
    "3. 低位: 120日wr < 0.3"
   ]
  },
  {
   "cell_type": "code",
   "execution_count": 3,
   "id": "cbf70d42",
   "metadata": {
    "scrolled": false
   },
   "outputs": [],
   "source": [
    "from alpha.notebook import *\n",
    "from alpha.core.rsi_stats import rsiday, rsi30\n",
    "import datetime\n",
    "await init_notebook()"
   ]
  },
  {
   "cell_type": "code",
   "execution_count": null,
   "id": "c13df6cd",
   "metadata": {
    "scrolled": false
   },
   "outputs": [],
   "source": [
    "def fire_long(code, bars, **params):\n",
    "    altitude_threshold = params.get(\"altitude\", 0.6)\n",
    "    turnover_threshold = params.get(\"turnover\", 0.07)\n",
    "    lb_threshold = params.get(\"lb\", 3)\n",
    "    pcr_threshold = params.get(\"pcr\", 0.05)\n",
    "    \n",
    "    close = bars[\"close\"]\n",
    "    volume = bars[\"volume\"]\n",
    "    \n",
    "    minv = np.min(volume[-6:-1])\n",
    "    high_price = np.max(close)\n",
    "    pcr = close[-1] / close[-2] - 1\n",
    "    is_down = bars[-1][\"close\"] <= bars[-1][\"open\"]\n",
    "    \n",
    "    if is_down:\n",
    "        return None\n",
    "\n",
    "    altitude = close[-1] / high_price \n",
    "    lb = volume[-1] / minv\n",
    "    to = jq_get_turnover_realtime(code, volume[-1], close[-1])\n",
    "    \n",
    "    if altitude < altitude_threshold and to > turnover_threshold and \\\n",
    "    lb > lb_threshold and pcr <= pcr_threshold:\n",
    "        return bars[-1][\"frame\"], bars[-1][\"close\"], altitude, lb, to, pcr\n",
    "    else:\n",
    "        return None"
   ]
  },
  {
   "cell_type": "code",
   "execution_count": null,
   "id": "d9c496d6",
   "metadata": {
    "scrolled": false
   },
   "outputs": [],
   "source": [
    "def jq_scan_v0(lb=3, turnover=0.07, altitude=0.6, pcr=0.05):\n",
    "    \"\"\"直接使用jq数据进行扫描，仅适用快速搜索当日行情\"\"\"\n",
    "    params = {\n",
    "        \"lb\": lb,\n",
    "        \"turnover\": turnover,\n",
    "        \"altitude\": altitude,\n",
    "        \"pcr\": pcr\n",
    "    }\n",
    "    \n",
    "    results = []\n",
    "    for code in jq_choose_stocks():\n",
    "        name = jq_get_name(code)\n",
    "        \n",
    "        bars = jq_get_bars(code, 120)\n",
    "        signal = fire_long(code, bars, **params)\n",
    "        if signal is None:\n",
    "            continue\n",
    "        \n",
    "        frame, price, altitude, lb, to, pcr_0 = signal\n",
    "        results.append([name, code, lb, to, altitude, pcr_0])\n",
    "\n",
    "    df = pd.DataFrame(results, columns=[\"name\", \"code\", \"lb\", \"turnover\", \"altitude\", \"pcr\"])\n",
    "\n",
    "    mail_notify(f\"[{arrow.now().date()}]低位放量\", \"低位放量 \", params, df)\n",
    "    return df\n",
    "\n",
    "df = scan_v0()\n",
    "df"
   ]
  },
  {
   "cell_type": "markdown",
   "id": "f9c5d5fa",
   "metadata": {},
   "source": [
    "# V1 低位放量"
   ]
  },
  {
   "cell_type": "code",
   "execution_count": null,
   "id": "dc1b8782",
   "metadata": {
    "scrolled": false
   },
   "outputs": [],
   "source": [
    "async def backtest_v1(start, end):\n",
    "    start = arrow.get(start).date()\n",
    "    end = arrow.get(end).date()\n",
    "    \n",
    "    signals = []\n",
    "    for code in Securities().choose([\"stock\"]):\n",
    "        sec = Security(code)\n",
    "        try:\n",
    "            bars = await sec.load_bars(start, end, FrameType.DAY)\n",
    "\n",
    "            for i in range(120, len(bars) - 15):\n",
    "                xbars = bars[i-120:i]\n",
    "\n",
    "                signal = fire_long(code, xbars, pcr=0.2)\n",
    "                if signal is None:\n",
    "                    continue\n",
    "                else:\n",
    "                    frame, price, altitude, lb, to, pcr_0 = signal\n",
    "                    row = [sec.display_name, code, frame, price, altitude, lb, to, pcr_0]\n",
    "                    for j in [1, 3, 5, 10, 15]:\n",
    "                        ybars = bars[i:i+j]\n",
    "                        yclose = np.max(ybars[\"close\"])\n",
    "                        row.append(yclose/price-1)\n",
    "\n",
    "                    signals.append(row)\n",
    "        except Exception:\n",
    "            pass\n",
    "        \n",
    "    columns = [\"name\", \"code\", \"frame\", \"price\", \"altitude\", \"lb\", \"to\", \"pcr_0\", \n",
    "               \"pcr_1\", \"pcr_3\", \"pcr_5\", \"pcr_10\", \"pcr_15\"]\n",
    "    return pd.DataFrame(signals, columns=columns)\n",
    "        \n",
    "df = await backtest_v1(\"2021-01-04\", \"2021-09-30\")\n",
    "df"
   ]
  },
  {
   "cell_type": "code",
   "execution_count": null,
   "id": "94102167",
   "metadata": {
    "scrolled": false
   },
   "outputs": [],
   "source": [
    "df.describe()"
   ]
  },
  {
   "cell_type": "markdown",
   "id": "d5115bc3",
   "metadata": {},
   "source": [
    "# V2 加上次新股属性\n",
    "\n",
    "回测表明，次新股低位放量后，10交易日平均涨幅为12%；15日平均涨幅为15%。"
   ]
  },
  {
   "cell_type": "code",
   "execution_count": null,
   "id": "2e350f29",
   "metadata": {
    "scrolled": false
   },
   "outputs": [],
   "source": [
    "async def backtest_v2(start, end, **params):\n",
    "    end = arrow.get(end).date()\n",
    "    start = arrow.get(start).date()\n",
    "    \n",
    "    signals = []\n",
    "    for code in Securities().choose([\"stock\"]):\n",
    "        sec = Security(code)\n",
    "        \n",
    "        if tf.day_shift(sec.ipo_date, 60) < start:\n",
    "            continue\n",
    "            \n",
    "        try:\n",
    "            bars = await sec.load_bars(sec.ipo_date, end, FrameType.DAY)\n",
    "\n",
    "            for i in range(60, min(250, len(bars) - 15)): #限制在一年内\n",
    "                xbars = bars[i-60:i]\n",
    "\n",
    "                signal = fire_long(code, xbars, **params)\n",
    "                if signal is None:\n",
    "                    continue\n",
    "                else:\n",
    "                    frame, price, altitude, lb, to, pcr_0 = signal\n",
    "                    row = [sec.display_name, code, frame, price, altitude, lb, to, pcr_0]\n",
    "                    for j in [1, 3, 5, 10, 15]:\n",
    "                        ybars = bars[i:i+j]\n",
    "                        yclose = np.max(ybars[\"close\"])\n",
    "                        row.append(yclose/price-1)\n",
    "\n",
    "                    signals.append(row)\n",
    "        except Exception:\n",
    "            pass\n",
    "        \n",
    "    columns = [\"name\", \"code\", \"frame\", \"price\", \"altitude\", \"lb\", \"to\", \"pcr_0\", \n",
    "               \"pcr_1\", \"pcr_3\", \"pcr_5\", \"pcr_10\", \"pcr_15\"]\n",
    "    return pd.DataFrame(signals, columns=columns)"
   ]
  },
  {
   "cell_type": "code",
   "execution_count": null,
   "id": "d79c6294",
   "metadata": {
    "scrolled": false
   },
   "outputs": [],
   "source": [
    "df = await backtest_v2(\"2015-01-04\", \"2021-09-30\", altitude=0.6, turnover=0.07, lb=3, pcr=0.05)\n",
    "df.describe()"
   ]
  },
  {
   "cell_type": "code",
   "execution_count": null,
   "id": "1b0a3596",
   "metadata": {
    "scrolled": false
   },
   "outputs": [],
   "source": [
    "report(\"低位放量v2次新股版回测结果\", {\"altitude\":0.6, \"turnover\":0.07, \"lb\":3, \"pcr\":0.05}, result_df=df)"
   ]
  },
  {
   "cell_type": "markdown",
   "id": "fb590a50",
   "metadata": {},
   "source": [
    "# v3\n",
    "放量后，缩量下跌至低于放量涨当日开盘价买入，计算持有1，3，5，10，15日，以收盘价卖出的利润。结果表明并无改进。"
   ]
  },
  {
   "cell_type": "code",
   "execution_count": null,
   "id": "b74e326f",
   "metadata": {
    "scrolled": false
   },
   "outputs": [],
   "source": [
    "async def backtest_v3(start, end):\n",
    "    start = arrow.get(start).date()\n",
    "    end = arrow.get(end).date()\n",
    "    \n",
    "    signals = []\n",
    "    \n",
    "    # 寻找发出放量信号的个股\n",
    "    for code in Securities().choose([\"stock\"]):\n",
    "        sec = Security(code)\n",
    "        try:\n",
    "            bars = await sec.load_bars(start, end, FrameType.DAY)\n",
    "\n",
    "            for i in range(120, len(bars) - 30):\n",
    "                xbars = bars[i-120:i]\n",
    "\n",
    "                signal = fire_long(code, xbars, pcr=0.3, altitude=0.8, lb=2.5)\n",
    "                if signal is None:\n",
    "                    continue\n",
    "                else:\n",
    "                    frame, close, altitude, lb, to, pcr_0 = signal\n",
    "                    row = [code, frame, altitude, lb, to]\n",
    "                    signals.append(row)\n",
    "        except Exception:\n",
    "            pass\n",
    "        \n",
    "    # 如果股价回到放量日开盘价以下，则为买入点\n",
    "    results = []\n",
    "    for code, sig_start, altitude, lb, to in signals:\n",
    "        sig_end = tf.day_shift(sig_start, 15)\n",
    "        sec = Security(code)\n",
    "        try:\n",
    "            bars = await sec.load_bars(sig_start, sig_end, FrameType.DAY)\n",
    "            open_price = bars[\"open\"][0]\n",
    "            \n",
    "            sig_bars = bars[1:]\n",
    "            pos = np.argwhere(sig_bars[\"low\"] <= open_price).flatten()\n",
    "            if len(pos) == 0:\n",
    "                continue\n",
    "                \n",
    "            order_day = sig_bars[pos[0]][\"frame\"]\n",
    "            ystart = tf.day_shift(order_day, 1)\n",
    "            yend = tf.day_shift(order_day, 16)\n",
    "            \n",
    "            ybars = await sec.load_bars(ystart, yend, FrameType.DAY)\n",
    "            \n",
    "            row = [sec.display_name, code, sig_start, order_day, open_price, altitude, lb, to]\n",
    "            for n in [1, 3, 5, 10, 15]:\n",
    "                c = ybars[n][\"close\"] / open_price - 1\n",
    "                row.append(c)\n",
    "            \n",
    "            results.append(row)\n",
    "        except Exception as e:\n",
    "            break\n",
    "        \n",
    "    columns = [\"name\", \"code\", \"fire_date\", \"oder_date\", \"order_price\", \"altitude\", \"lb\", \"to\",  \n",
    "               \"pcr_1\", \"pcr_3\", \"pcr_5\", \"pcr_10\", \"pcr_15\"]\n",
    "    return pd.DataFrame(results, columns=columns)\n",
    "        \n",
    "df = await backtest_v3(\"2021-01-04\", \"2021-09-30\")\n",
    "df"
   ]
  },
  {
   "cell_type": "markdown",
   "id": "03565ee3",
   "metadata": {},
   "source": [
    "# V4\n",
    "找出近10天日线放量最大超过4倍，或者换手率超过20%的标的，30分钟线出现rsi低于25%时发出提示。"
   ]
  },
  {
   "cell_type": "code",
   "execution_count": null,
   "id": "c90c3e70",
   "metadata": {},
   "outputs": [],
   "source": [
    "def daybars_trigger(name, code, bars, results, frame_type):\n",
    "    n = 10\n",
    "    last_n = bars[-n:]\n",
    "    volume = last_n[\"volume\"]\n",
    "    vr = max(volume)/min(volum)\n",
    "#     if vr < 4:\n",
    "#         return\n",
    "    \n",
    "    pos = np.argmax(volume)\n",
    "    flag = last_n[pos][\"close\"] < last_n[pos][\"open\"] #阴线放量\n",
    "    \n",
    "    results.append([name, code, vr, n-pos, flag])\n",
    "    \n",
    "result = await scan(daybars_trigger, 15)"
   ]
  },
  {
   "cell_type": "code",
   "execution_count": null,
   "id": "2ca5cce4",
   "metadata": {},
   "outputs": [],
   "source": [
    "result"
   ]
  },
  {
   "cell_type": "code",
   "execution_count": null,
   "id": "191ff964",
   "metadata": {},
   "outputs": [],
   "source": []
  }
 ],
 "metadata": {
  "kernelspec": {
   "display_name": "alpha",
   "language": "python",
   "name": "alpha"
  },
  "language_info": {
   "codemirror_mode": {
    "name": "ipython",
    "version": 3
   },
   "file_extension": ".py",
   "mimetype": "text/x-python",
   "name": "python",
   "nbconvert_exporter": "python",
   "pygments_lexer": "ipython3",
   "version": "3.8.12"
  },
  "toc": {
   "base_numbering": 1,
   "nav_menu": {},
   "number_sections": true,
   "sideBar": true,
   "skip_h1_title": false,
   "title_cell": "Table of Contents",
   "title_sidebar": "Contents",
   "toc_cell": false,
   "toc_position": {
    "height": "calc(100% - 180px)",
    "left": "10px",
    "top": "150px",
    "width": "165px"
   },
   "toc_section_display": true,
   "toc_window_display": true
  }
 },
 "nbformat": 4,
 "nbformat_minor": 5
}
