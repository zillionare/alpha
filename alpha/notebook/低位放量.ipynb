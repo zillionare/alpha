{
 "cells": [
  {
   "cell_type": "markdown",
   "id": "4a447724",
   "metadata": {},
   "source": [
    "# 特征\n",
    "\n",
    "2021年9月16日，漱玉平民出现低位高换手，换手率18.4%，上涨4.4%，上影线5.6%。日线量比达4.8，30分钟量比更是高达29.5倍。其后不久，连续出现20cm涨停。\n",
    "\n",
    "又如上声电子， 2021-11-03前后出现上述特征，随后一周上涨50%以上。\n",
    "\n",
    "需要直接使用jqdatasdk\n",
    "\n",
    "买入点特征：\n",
    "1. 新股或者次新股（<1年）\n",
    "2. 换手率15%以上\n",
    "3. 连续两日以上涨幅5%以上\n",
    "4. 低位: 120日altitude < 0.3\n",
    "5. RSI？"
   ]
  },
  {
   "cell_type": "code",
   "execution_count": 62,
   "id": "cbf70d42",
   "metadata": {
    "scrolled": false
   },
   "outputs": [],
   "source": [
    "from alpha.notebook import *\n",
    "from alpha.core.rsi_stats import rsiday, rsi30\n",
    "import datetime\n",
    "import os\n",
    "\n",
    "await init_notebook(adaptor='both')"
   ]
  },
  {
   "cell_type": "markdown",
   "id": "e907f40c",
   "metadata": {},
   "source": [
    "# 高换手版（适用于新股？）"
   ]
  },
  {
   "cell_type": "code",
   "execution_count": 63,
   "id": "c13df6cd",
   "metadata": {
    "scrolled": false
   },
   "outputs": [
    {
     "name": "stdout",
     "output_type": "stream",
     "text": [
      "progress: 500/4002, elapsed: 2, ETA: 14\n",
      "progress: 1000/4002, elapsed: 5, ETA: 15\n",
      "progress: 1500/4002, elapsed: 7, ETA: 11\n",
      "progress: 2000/4002, elapsed: 9, ETA: 9\n",
      "progress: 2500/4002, elapsed: 12, ETA: 7\n",
      "progress: 3000/4002, elapsed: 14, ETA: 4\n",
      "progress: 3500/4002, elapsed: 16, ETA: 2\n",
      "progress: 4000/4002, elapsed: 18, ETA: 0\n"
     ]
    }
   ],
   "source": [
    "def features(code, name, bars, results, frame_type):\n",
    "    altitude_threshold =  0.6\n",
    "    lb_threshold =  3\n",
    "    roc_threshold = 0.05\n",
    "    \n",
    "    high = bars[\"high\"]\n",
    "    close = bars[\"close\"]\n",
    "    low = bars[\"low\"]\n",
    "    open_ = bars[\"open\"]\n",
    "\n",
    "    volume = bars[\"volume\"]\n",
    "\n",
    "    c2, c1, c0 = close[-3:]\n",
    "    v2, v1, v0 = volume[-3:]\n",
    "    \n",
    "    lv = np.min(volume[-6:-1])\n",
    "    \n",
    "    hh = np.max(high)\n",
    "    ll = np.min(low)\n",
    "    \n",
    "    altitude = 1 - (hh - close[-1])/(hh - ll)\n",
    "    \n",
    "    roc2, roc1, roc0 = close[-3:] / close[-4:-1] - 1\n",
    "    \n",
    "    to2 = jq_get_turnover_realtime(code, v2, c2)\n",
    "    to1 = jq_get_turnover_realtime(code, v1, c1)\n",
    "    to0 = jq_get_turnover_realtime(code, v0, c0)\n",
    "    \n",
    "    if len(days) < 60:\n",
    "        return\n",
    "    \n",
    "    results.append([name, code, altitude, roc2, roc1, roc0, to2, to1, to0, days])\n",
    "\n",
    "results = await scan(features, 60, nstocks=-1, silent=True)"
   ]
  },
  {
   "cell_type": "code",
   "execution_count": 19,
   "id": "602c1e7c",
   "metadata": {},
   "outputs": [
    {
     "data": {
      "text/plain": [
       "[]"
      ]
     },
     "execution_count": 19,
     "metadata": {},
     "output_type": "execute_result"
    }
   ],
   "source": [
    "results"
   ]
  },
  {
   "cell_type": "markdown",
   "id": "b6647801",
   "metadata": {},
   "source": [
    "# 高量比版\n",
    "\n",
    "参考标的：翰宇药业， 2021年11月9日前后\n",
    "\n",
    "1. 量比极高\n",
    "2. 平台突破"
   ]
  },
  {
   "cell_type": "code",
   "execution_count": 64,
   "id": "588b8cc6",
   "metadata": {},
   "outputs": [],
   "source": [
    "def features(code, name, bars, results, frame_type):\n",
    "    close = bars[\"close\"]\n",
    "    volume = bars[\"volume\"]\n",
    "    high = bars[\"high\"]\n",
    "    low = bars[\"low\"]\n",
    "    \n",
    "    c1, c0 = close[-2:]\n",
    "    v0 = volume[-1]\n",
    "    \n",
    "    if c0/c1 - 1 < 0:\n",
    "        return\n",
    "    \n",
    "#     mas = []\n",
    "#     for win in [5, 10, 20, 30, 60]:\n",
    "#         mas.append(moving_average(close, win)[-20:])\n",
    "        \n",
    "#     mas_max = np.max(mas, axis=0)\n",
    "#     mas_min = np.min(mas, axis=0)\n",
    "#     convergency = 1 - mas_min/mas_max\n",
    "    \n",
    "#     # count of convergency\n",
    "#     coc = np.count_nonzero(convergency < 0.1)/20\n",
    "    \n",
    "    hh = np.max(high)\n",
    "    ll = np.min(low)\n",
    "    \n",
    "    # altitude\n",
    "    alt = 1 - (hh - c0)/(hh - ll)\n",
    "    \n",
    "    # 量比\n",
    "    lb = v0 / np.min(volume[-10:])\n",
    "    \n",
    "    results.append((name, code, alt, lb))"
   ]
  },
  {
   "cell_type": "code",
   "execution_count": 65,
   "id": "02fc0852",
   "metadata": {},
   "outputs": [
    {
     "name": "stdout",
     "output_type": "stream",
     "text": [
      "progress: 500/4002, elapsed: 1, ETA: 7\n"
     ]
    },
    {
     "name": "stderr",
     "output_type": "stream",
     "text": [
      "2021-11-13 02:00:41,799 E 34623 asyncio:default_exception_handler:1707 | Task was destroyed but it is pending!\n",
      "task: <Task pending name='Task-5' coro=<RedisConnection._read_data() running at /home/aaron/miniconda3/envs/alpha/lib/python3.8/site-packages/aioredis/connection.py:186> wait_for=<Future pending cb=[<TaskWakeupMethWrapper object at 0xffff590f0af0>()]> cb=[RedisConnection.__init__.<locals>.<lambda>() at /home/aaron/miniconda3/envs/alpha/lib/python3.8/site-packages/aioredis/connection.py:168]>\n",
      "2021-11-13 02:00:41,799 E 34623 asyncio:default_exception_handler:1707 | Task was destroyed but it is pending!\n",
      "task: <Task pending name='Task-6' coro=<RedisConnection._read_data() running at /home/aaron/miniconda3/envs/alpha/lib/python3.8/site-packages/aioredis/connection.py:186> wait_for=<Future pending cb=[<TaskWakeupMethWrapper object at 0xffff0f3b97c0>()]> cb=[RedisConnection.__init__.<locals>.<lambda>() at /home/aaron/miniconda3/envs/alpha/lib/python3.8/site-packages/aioredis/connection.py:168]>\n",
      "2021-11-13 02:00:41,800 E 34623 asyncio:default_exception_handler:1707 | Task was destroyed but it is pending!\n",
      "task: <Task pending name='Task-4' coro=<RedisConnection._read_data() running at /home/aaron/miniconda3/envs/alpha/lib/python3.8/site-packages/aioredis/connection.py:186> wait_for=<Future pending cb=[<TaskWakeupMethWrapper object at 0xffff7c461c10>()]> cb=[RedisConnection.__init__.<locals>.<lambda>() at /home/aaron/miniconda3/envs/alpha/lib/python3.8/site-packages/aioredis/connection.py:168]>\n"
     ]
    },
    {
     "name": "stdout",
     "output_type": "stream",
     "text": [
      "progress: 1000/4002, elapsed: 4, ETA: 12\n",
      "progress: 1500/4002, elapsed: 5, ETA: 8\n",
      "progress: 2000/4002, elapsed: 7, ETA: 7\n",
      "progress: 2500/4002, elapsed: 9, ETA: 5\n",
      "progress: 3000/4002, elapsed: 11, ETA: 3\n",
      "progress: 3500/4002, elapsed: 13, ETA: 1\n",
      "progress: 4000/4002, elapsed: 14, ETA: 0\n"
     ]
    }
   ],
   "source": [
    "results = await scan(features, 120, nstocks=-1, tm=\"2021-11-01\", silent=True)\n",
    "df = pd.DataFrame(results, columns=[\"name\", \"code\", \"alt\", \"lb\"])"
   ]
  },
  {
   "cell_type": "code",
   "execution_count": 66,
   "id": "8c6b1db5",
   "metadata": {},
   "outputs": [
    {
     "data": {
      "text/html": [
       "<div>\n",
       "<style scoped>\n",
       "    .dataframe tbody tr th:only-of-type {\n",
       "        vertical-align: middle;\n",
       "    }\n",
       "\n",
       "    .dataframe tbody tr th {\n",
       "        vertical-align: top;\n",
       "    }\n",
       "\n",
       "    .dataframe thead th {\n",
       "        text-align: right;\n",
       "    }\n",
       "</style>\n",
       "<table border=\"1\" class=\"dataframe\">\n",
       "  <thead>\n",
       "    <tr style=\"text-align: right;\">\n",
       "      <th></th>\n",
       "      <th>name</th>\n",
       "      <th>code</th>\n",
       "      <th>alt</th>\n",
       "      <th>lb</th>\n",
       "    </tr>\n",
       "  </thead>\n",
       "  <tbody>\n",
       "    <tr>\n",
       "      <th>2547</th>\n",
       "      <td>文山电力</td>\n",
       "      <td>600995.XSHG</td>\n",
       "      <td>1.000000</td>\n",
       "      <td>138.672208</td>\n",
       "    </tr>\n",
       "    <tr>\n",
       "      <th>361</th>\n",
       "      <td>青岛食品</td>\n",
       "      <td>001219.XSHE</td>\n",
       "      <td>0.976982</td>\n",
       "      <td>103.142078</td>\n",
       "    </tr>\n",
       "    <tr>\n",
       "      <th>358</th>\n",
       "      <td>华瓷股份</td>\n",
       "      <td>001216.XSHE</td>\n",
       "      <td>0.407839</td>\n",
       "      <td>61.124959</td>\n",
       "    </tr>\n",
       "    <tr>\n",
       "      <th>2488</th>\n",
       "      <td>北京城乡</td>\n",
       "      <td>600861.XSHG</td>\n",
       "      <td>0.382923</td>\n",
       "      <td>44.051297</td>\n",
       "    </tr>\n",
       "    <tr>\n",
       "      <th>2000</th>\n",
       "      <td>四川路桥</td>\n",
       "      <td>600039.XSHG</td>\n",
       "      <td>0.953061</td>\n",
       "      <td>35.046997</td>\n",
       "    </tr>\n",
       "    <tr>\n",
       "      <th>978</th>\n",
       "      <td>崇达技术</td>\n",
       "      <td>002815.XSHE</td>\n",
       "      <td>1.000000</td>\n",
       "      <td>31.374755</td>\n",
       "    </tr>\n",
       "    <tr>\n",
       "      <th>3130</th>\n",
       "      <td>同力日升</td>\n",
       "      <td>605286.XSHG</td>\n",
       "      <td>1.000000</td>\n",
       "      <td>26.664452</td>\n",
       "    </tr>\n",
       "    <tr>\n",
       "      <th>1892</th>\n",
       "      <td>英力股份</td>\n",
       "      <td>300956.XSHE</td>\n",
       "      <td>0.478599</td>\n",
       "      <td>26.124221</td>\n",
       "    </tr>\n",
       "    <tr>\n",
       "      <th>2288</th>\n",
       "      <td>天下秀</td>\n",
       "      <td>600556.XSHG</td>\n",
       "      <td>1.000000</td>\n",
       "      <td>25.624802</td>\n",
       "    </tr>\n",
       "    <tr>\n",
       "      <th>1410</th>\n",
       "      <td>新文化</td>\n",
       "      <td>300336.XSHE</td>\n",
       "      <td>0.854167</td>\n",
       "      <td>24.416701</td>\n",
       "    </tr>\n",
       "  </tbody>\n",
       "</table>\n",
       "</div>"
      ],
      "text/plain": [
       "      name         code       alt          lb\n",
       "2547  文山电力  600995.XSHG  1.000000  138.672208\n",
       "361   青岛食品  001219.XSHE  0.976982  103.142078\n",
       "358   华瓷股份  001216.XSHE  0.407839   61.124959\n",
       "2488  北京城乡  600861.XSHG  0.382923   44.051297\n",
       "2000  四川路桥  600039.XSHG  0.953061   35.046997\n",
       "978   崇达技术  002815.XSHE  1.000000   31.374755\n",
       "3130  同力日升  605286.XSHG  1.000000   26.664452\n",
       "1892  英力股份  300956.XSHE  0.478599   26.124221\n",
       "2288   天下秀  600556.XSHG  1.000000   25.624802\n",
       "1410   新文化  300336.XSHE  0.854167   24.416701"
      ]
     },
     "execution_count": 66,
     "metadata": {},
     "output_type": "execute_result"
    }
   ],
   "source": [
    "df.nlargest(10, \"lb\")"
   ]
  },
  {
   "cell_type": "markdown",
   "id": "f9c5d5fa",
   "metadata": {},
   "source": [
    "# V1 低位放量"
   ]
  },
  {
   "cell_type": "code",
   "execution_count": null,
   "id": "dc1b8782",
   "metadata": {
    "scrolled": false
   },
   "outputs": [],
   "source": [
    "async def backtest_v1(start, end):\n",
    "    start = arrow.get(start).date()\n",
    "    end = arrow.get(end).date()\n",
    "    \n",
    "    signals = []\n",
    "    for code in Securities().choose([\"stock\"]):\n",
    "        sec = Security(code)\n",
    "        try:\n",
    "            bars = await sec.load_bars(start, end, FrameType.DAY)\n",
    "\n",
    "            for i in range(120, len(bars) - 15):\n",
    "                xbars = bars[i-120:i]\n",
    "\n",
    "                signal = fire_long(code, xbars, pcr=0.2)\n",
    "                if signal is None:\n",
    "                    continue\n",
    "                else:\n",
    "                    frame, price, altitude, lb, to, pcr_0 = signal\n",
    "                    row = [sec.display_name, code, frame, price, altitude, lb, to, pcr_0]\n",
    "                    for j in [1, 3, 5, 10, 15]:\n",
    "                        ybars = bars[i:i+j]\n",
    "                        yclose = np.max(ybars[\"close\"])\n",
    "                        row.append(yclose/price-1)\n",
    "\n",
    "                    signals.append(row)\n",
    "        except Exception:\n",
    "            pass\n",
    "        \n",
    "    columns = [\"name\", \"code\", \"frame\", \"price\", \"altitude\", \"lb\", \"to\", \"pcr_0\", \n",
    "               \"pcr_1\", \"pcr_3\", \"pcr_5\", \"pcr_10\", \"pcr_15\"]\n",
    "    return pd.DataFrame(signals, columns=columns)\n",
    "        \n",
    "df = await backtest_v1(\"2021-01-04\", \"2021-09-30\")\n",
    "df"
   ]
  },
  {
   "cell_type": "code",
   "execution_count": null,
   "id": "94102167",
   "metadata": {
    "scrolled": false
   },
   "outputs": [],
   "source": [
    "df.describe()"
   ]
  },
  {
   "cell_type": "markdown",
   "id": "d5115bc3",
   "metadata": {},
   "source": [
    "# V2 加上次新股属性\n",
    "\n",
    "回测表明，次新股低位放量后，10交易日平均涨幅为12%；15日平均涨幅为15%。"
   ]
  },
  {
   "cell_type": "code",
   "execution_count": null,
   "id": "2e350f29",
   "metadata": {
    "scrolled": false
   },
   "outputs": [],
   "source": [
    "async def backtest_v2(start, end, **params):\n",
    "    end = arrow.get(end).date()\n",
    "    start = arrow.get(start).date()\n",
    "    \n",
    "    signals = []\n",
    "    for code in Securities().choose([\"stock\"]):\n",
    "        sec = Security(code)\n",
    "        \n",
    "        if tf.day_shift(sec.ipo_date, 60) < start:\n",
    "            continue\n",
    "            \n",
    "        try:\n",
    "            bars = await sec.load_bars(sec.ipo_date, end, FrameType.DAY)\n",
    "\n",
    "            for i in range(60, min(250, len(bars) - 15)): #限制在一年内\n",
    "                xbars = bars[i-60:i]\n",
    "\n",
    "                signal = fire_long(code, xbars, **params)\n",
    "                if signal is None:\n",
    "                    continue\n",
    "                else:\n",
    "                    frame, price, altitude, lb, to, pcr_0 = signal\n",
    "                    row = [sec.display_name, code, frame, price, altitude, lb, to, pcr_0]\n",
    "                    for j in [1, 3, 5, 10, 15]:\n",
    "                        ybars = bars[i:i+j]\n",
    "                        yclose = np.max(ybars[\"close\"])\n",
    "                        row.append(yclose/price-1)\n",
    "\n",
    "                    signals.append(row)\n",
    "        except Exception:\n",
    "            pass\n",
    "        \n",
    "    columns = [\"name\", \"code\", \"frame\", \"price\", \"altitude\", \"lb\", \"to\", \"pcr_0\", \n",
    "               \"pcr_1\", \"pcr_3\", \"pcr_5\", \"pcr_10\", \"pcr_15\"]\n",
    "    return pd.DataFrame(signals, columns=columns)"
   ]
  },
  {
   "cell_type": "code",
   "execution_count": null,
   "id": "d79c6294",
   "metadata": {
    "scrolled": false
   },
   "outputs": [],
   "source": [
    "df = await backtest_v2(\"2015-01-04\", \"2021-09-30\", altitude=0.6, turnover=0.07, lb=3, pcr=0.05)\n",
    "df.describe()"
   ]
  },
  {
   "cell_type": "code",
   "execution_count": null,
   "id": "1b0a3596",
   "metadata": {
    "scrolled": false
   },
   "outputs": [],
   "source": [
    "report(\"低位放量v2次新股版回测结果\", {\"altitude\":0.6, \"turnover\":0.07, \"lb\":3, \"pcr\":0.05}, result_df=df)"
   ]
  },
  {
   "cell_type": "markdown",
   "id": "fb590a50",
   "metadata": {},
   "source": [
    "# v3\n",
    "放量后，缩量下跌至低于放量涨当日开盘价买入，计算持有1，3，5，10，15日，以收盘价卖出的利润。结果表明并无改进。"
   ]
  },
  {
   "cell_type": "code",
   "execution_count": null,
   "id": "b74e326f",
   "metadata": {
    "scrolled": false
   },
   "outputs": [],
   "source": [
    "async def backtest_v3(start, end):\n",
    "    start = arrow.get(start).date()\n",
    "    end = arrow.get(end).date()\n",
    "    \n",
    "    signals = []\n",
    "    \n",
    "    # 寻找发出放量信号的个股\n",
    "    for code in Securities().choose([\"stock\"]):\n",
    "        sec = Security(code)\n",
    "        try:\n",
    "            bars = await sec.load_bars(start, end, FrameType.DAY)\n",
    "\n",
    "            for i in range(120, len(bars) - 30):\n",
    "                xbars = bars[i-120:i]\n",
    "\n",
    "                signal = fire_long(code, xbars, pcr=0.3, altitude=0.8, lb=2.5)\n",
    "                if signal is None:\n",
    "                    continue\n",
    "                else:\n",
    "                    frame, close, altitude, lb, to, pcr_0 = signal\n",
    "                    row = [code, frame, altitude, lb, to]\n",
    "                    signals.append(row)\n",
    "        except Exception:\n",
    "            pass\n",
    "        \n",
    "    # 如果股价回到放量日开盘价以下，则为买入点\n",
    "    results = []\n",
    "    for code, sig_start, altitude, lb, to in signals:\n",
    "        sig_end = tf.day_shift(sig_start, 15)\n",
    "        sec = Security(code)\n",
    "        try:\n",
    "            bars = await sec.load_bars(sig_start, sig_end, FrameType.DAY)\n",
    "            open_price = bars[\"open\"][0]\n",
    "            \n",
    "            sig_bars = bars[1:]\n",
    "            pos = np.argwhere(sig_bars[\"low\"] <= open_price).flatten()\n",
    "            if len(pos) == 0:\n",
    "                continue\n",
    "                \n",
    "            order_day = sig_bars[pos[0]][\"frame\"]\n",
    "            ystart = tf.day_shift(order_day, 1)\n",
    "            yend = tf.day_shift(order_day, 16)\n",
    "            \n",
    "            ybars = await sec.load_bars(ystart, yend, FrameType.DAY)\n",
    "            \n",
    "            row = [sec.display_name, code, sig_start, order_day, open_price, altitude, lb, to]\n",
    "            for n in [1, 3, 5, 10, 15]:\n",
    "                c = ybars[n][\"close\"] / open_price - 1\n",
    "                row.append(c)\n",
    "            \n",
    "            results.append(row)\n",
    "        except Exception as e:\n",
    "            break\n",
    "        \n",
    "    columns = [\"name\", \"code\", \"fire_date\", \"oder_date\", \"order_price\", \"altitude\", \"lb\", \"to\",  \n",
    "               \"pcr_1\", \"pcr_3\", \"pcr_5\", \"pcr_10\", \"pcr_15\"]\n",
    "    return pd.DataFrame(results, columns=columns)\n",
    "        \n",
    "df = await backtest_v3(\"2021-01-04\", \"2021-09-30\")\n",
    "df"
   ]
  },
  {
   "cell_type": "markdown",
   "id": "03565ee3",
   "metadata": {},
   "source": [
    "# V4\n",
    "找出近10天日线放量最大超过4倍，或者换手率超过20%的标的，30分钟线出现rsi低于25%时发出提示。"
   ]
  },
  {
   "cell_type": "code",
   "execution_count": 13,
   "id": "c90c3e70",
   "metadata": {},
   "outputs": [],
   "source": [
    "def daybars_trigger(name, code, bars, results, frame_type):\n",
    "    n = 10\n",
    "    last_n = bars[-n:]\n",
    "    volume = last_n[\"volume\"]\n",
    "    vr = max(volume)/min(volume)\n",
    "#     if vr < 4:\n",
    "#         return\n",
    "    \n",
    "    pos = np.argmax(volume)\n",
    "    flag = last_n[pos][\"close\"] < last_n[pos][\"open\"] #阴线放量\n",
    "    \n",
    "    results.append([name, code, vr, n-pos, flag])\n",
    "    \n",
    "result = await scan(daybars_trigger, 15, tm=\"2021-11-05\")"
   ]
  },
  {
   "cell_type": "code",
   "execution_count": 14,
   "id": "2ca5cce4",
   "metadata": {
    "scrolled": false
   },
   "outputs": [
    {
     "data": {
      "text/html": [
       "<div>\n",
       "<style scoped>\n",
       "    .dataframe tbody tr th:only-of-type {\n",
       "        vertical-align: middle;\n",
       "    }\n",
       "\n",
       "    .dataframe tbody tr th {\n",
       "        vertical-align: top;\n",
       "    }\n",
       "\n",
       "    .dataframe thead th {\n",
       "        text-align: right;\n",
       "    }\n",
       "</style>\n",
       "<table border=\"1\" class=\"dataframe\">\n",
       "  <thead>\n",
       "    <tr style=\"text-align: right;\">\n",
       "      <th></th>\n",
       "      <th>code</th>\n",
       "      <th>name</th>\n",
       "      <th>vr</th>\n",
       "      <th>dist</th>\n",
       "      <th>flag</th>\n",
       "    </tr>\n",
       "  </thead>\n",
       "  <tbody>\n",
       "    <tr>\n",
       "      <th>37</th>\n",
       "      <td>000055.XSHE</td>\n",
       "      <td>方大集团</td>\n",
       "      <td>11.171302</td>\n",
       "      <td>8</td>\n",
       "      <td>True</td>\n",
       "    </tr>\n",
       "    <tr>\n",
       "      <th>21</th>\n",
       "      <td>000030.XSHE</td>\n",
       "      <td>富奥股份</td>\n",
       "      <td>10.557848</td>\n",
       "      <td>3</td>\n",
       "      <td>False</td>\n",
       "    </tr>\n",
       "    <tr>\n",
       "      <th>97</th>\n",
       "      <td>000505.XSHE</td>\n",
       "      <td>京粮控股</td>\n",
       "      <td>9.476838</td>\n",
       "      <td>2</td>\n",
       "      <td>False</td>\n",
       "    </tr>\n",
       "    <tr>\n",
       "      <th>58</th>\n",
       "      <td>000151.XSHE</td>\n",
       "      <td>中成股份</td>\n",
       "      <td>8.553046</td>\n",
       "      <td>1</td>\n",
       "      <td>True</td>\n",
       "    </tr>\n",
       "    <tr>\n",
       "      <th>28</th>\n",
       "      <td>000038.XSHE</td>\n",
       "      <td>深大通</td>\n",
       "      <td>7.873495</td>\n",
       "      <td>8</td>\n",
       "      <td>True</td>\n",
       "    </tr>\n",
       "    <tr>\n",
       "      <th>74</th>\n",
       "      <td>000407.XSHE</td>\n",
       "      <td>胜利股份</td>\n",
       "      <td>6.198284</td>\n",
       "      <td>8</td>\n",
       "      <td>False</td>\n",
       "    </tr>\n",
       "    <tr>\n",
       "      <th>15</th>\n",
       "      <td>000023.XSHE</td>\n",
       "      <td>深天地A</td>\n",
       "      <td>5.955041</td>\n",
       "      <td>1</td>\n",
       "      <td>False</td>\n",
       "    </tr>\n",
       "    <tr>\n",
       "      <th>12</th>\n",
       "      <td>000019.XSHE</td>\n",
       "      <td>深粮控股</td>\n",
       "      <td>5.887014</td>\n",
       "      <td>3</td>\n",
       "      <td>False</td>\n",
       "    </tr>\n",
       "    <tr>\n",
       "      <th>20</th>\n",
       "      <td>000029.XSHE</td>\n",
       "      <td>深深房A</td>\n",
       "      <td>5.791306</td>\n",
       "      <td>10</td>\n",
       "      <td>False</td>\n",
       "    </tr>\n",
       "    <tr>\n",
       "      <th>43</th>\n",
       "      <td>000062.XSHE</td>\n",
       "      <td>深圳华强</td>\n",
       "      <td>5.686140</td>\n",
       "      <td>3</td>\n",
       "      <td>True</td>\n",
       "    </tr>\n",
       "  </tbody>\n",
       "</table>\n",
       "</div>"
      ],
      "text/plain": [
       "           code  name         vr  dist   flag\n",
       "37  000055.XSHE  方大集团  11.171302     8   True\n",
       "21  000030.XSHE  富奥股份  10.557848     3  False\n",
       "97  000505.XSHE  京粮控股   9.476838     2  False\n",
       "58  000151.XSHE  中成股份   8.553046     1   True\n",
       "28  000038.XSHE   深大通   7.873495     8   True\n",
       "74  000407.XSHE  胜利股份   6.198284     8  False\n",
       "15  000023.XSHE  深天地A   5.955041     1  False\n",
       "12  000019.XSHE  深粮控股   5.887014     3  False\n",
       "20  000029.XSHE  深深房A   5.791306    10  False\n",
       "43  000062.XSHE  深圳华强   5.686140     3   True"
      ]
     },
     "execution_count": 14,
     "metadata": {},
     "output_type": "execute_result"
    }
   ],
   "source": [
    "df = pd.DataFrame(result, columns=[\"code\", \"name\", \"vr\", \"dist\", \"flag\"])\n",
    "pd.options.display.max_rows=999\n",
    "df.nlargest(10, \"vr\")"
   ]
  },
  {
   "cell_type": "code",
   "execution_count": 67,
   "id": "191ff964",
   "metadata": {},
   "outputs": [
    {
     "data": {
      "text/plain": [
       "793.4168"
      ]
     },
     "execution_count": 67,
     "metadata": {},
     "output_type": "execute_result"
    }
   ],
   "source": [
    "124.36*6.38"
   ]
  },
  {
   "cell_type": "code",
   "execution_count": null,
   "id": "229e84d0",
   "metadata": {},
   "outputs": [],
   "source": []
  }
 ],
 "metadata": {
  "kernelspec": {
   "display_name": "alpha",
   "language": "python",
   "name": "alpha"
  },
  "language_info": {
   "codemirror_mode": {
    "name": "ipython",
    "version": 3
   },
   "file_extension": ".py",
   "mimetype": "text/x-python",
   "name": "python",
   "nbconvert_exporter": "python",
   "pygments_lexer": "ipython3",
   "version": "3.8.12"
  },
  "toc": {
   "base_numbering": 1,
   "nav_menu": {},
   "number_sections": true,
   "sideBar": true,
   "skip_h1_title": false,
   "title_cell": "Table of Contents",
   "title_sidebar": "Contents",
   "toc_cell": false,
   "toc_position": {
    "height": "calc(100% - 180px)",
    "left": "10px",
    "top": "150px",
    "width": "235px"
   },
   "toc_section_display": true,
   "toc_window_display": true
  }
 },
 "nbformat": 4,
 "nbformat_minor": 5
}
