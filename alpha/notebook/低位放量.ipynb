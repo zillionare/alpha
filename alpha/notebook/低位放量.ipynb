{
 "cells": [
  {
   "cell_type": "markdown",
   "id": "4a447724",
   "metadata": {},
   "source": [
    "# 特征\n",
    "\n",
    "2021年9月16日，漱玉平民出现低位高换手，换手率18.4%，上涨4.4%，上影线5.6%。日线量比达4.8，30分钟量比更是高达29.5倍。其后不久，连续出现20cm涨停。\n",
    "\n",
    "又如上声电子， 2021-11-03前后出现上述特征，随后一周上涨50%以上。\n",
    "\n",
    "需要直接使用jqdatasdk\n",
    "\n",
    "买入点特征：\n",
    "1. 新股或者次新股（<1年）\n",
    "2. 换手率15%以上\n",
    "3. 连续两日以上涨幅5%以上\n",
    "4. 低位: 120日altitude < 0.3\n",
    "5. RSI？"
   ]
  },
  {
   "cell_type": "code",
   "execution_count": 1,
   "id": "cbf70d42",
   "metadata": {
    "scrolled": false
   },
   "outputs": [],
   "source": [
    "from alpha.notebook import *\n",
    "from alpha.core.rsi_stats import rsiday, rsi30\n",
    "import datetime\n",
    "import os\n",
    "\n",
    "await init_notebook()"
   ]
  },
  {
   "cell_type": "markdown",
   "id": "e907f40c",
   "metadata": {},
   "source": [
    "# 高换手版（适用于新股？）"
   ]
  },
  {
   "cell_type": "code",
   "execution_count": null,
   "id": "c13df6cd",
   "metadata": {
    "scrolled": false
   },
   "outputs": [],
   "source": [
    "def features(code, name, bars, results, frame_type):\n",
    "    altitude_threshold =  0.6\n",
    "    lb_threshold =  3\n",
    "    roc_threshold = 0.05\n",
    "    \n",
    "    high = bars[\"high\"]\n",
    "    close = bars[\"close\"]\n",
    "    low = bars[\"low\"]\n",
    "    open_ = bars[\"open\"]\n",
    "\n",
    "    volume = bars[\"volume\"]\n",
    "\n",
    "    c2, c1, c0 = close[-3:]\n",
    "    v2, v1, v0 = volume[-3:]\n",
    "    \n",
    "    lv = np.min(volume[-6:-1])\n",
    "    \n",
    "    hh = np.max(high)\n",
    "    ll = np.min(low)\n",
    "    \n",
    "    altitude = 1 - (hh - close[-1])/(hh - ll)\n",
    "    \n",
    "    roc2, roc1, roc0 = close[-3:] / close[-4:-1] - 1\n",
    "    \n",
    "    to2 = jq_get_turnover_realtime(code, v2, c2)\n",
    "    to1 = jq_get_turnover_realtime(code, v1, c1)\n",
    "    to0 = jq_get_turnover_realtime(code, v0, c0)\n",
    "    \n",
    "    if len(days) < 60:\n",
    "        return\n",
    "    \n",
    "    results.append([name, code, altitude, roc2, roc1, roc0, to2, to1, to0, days])\n",
    "\n",
    "results = await scan(features, 60, nstocks=-1, silent=True)"
   ]
  },
  {
   "cell_type": "code",
   "execution_count": null,
   "id": "602c1e7c",
   "metadata": {},
   "outputs": [],
   "source": [
    "results"
   ]
  },
  {
   "cell_type": "markdown",
   "id": "b6647801",
   "metadata": {},
   "source": [
    "# 高量比版\n",
    "\n",
    "参考标的：翰宇药业， 2021年11月9日前后\n",
    "\n",
    "1. 量比极高\n",
    "2. 平台突破"
   ]
  },
  {
   "cell_type": "code",
   "execution_count": null,
   "id": "588b8cc6",
   "metadata": {},
   "outputs": [],
   "source": [
    "def features(code, name, bars, results, frame_type):\n",
    "    close = bars[\"close\"]\n",
    "    volume = bars[\"volume\"]\n",
    "    high = bars[\"high\"]\n",
    "    low = bars[\"low\"]\n",
    "    \n",
    "    v1, v0 = top_volume_direction(bars)\n",
    "    vn = moving_net_volume(bars)\n",
    "    \n",
    "#     mas = []\n",
    "#     for win in [5, 10, 20, 30, 60]:\n",
    "#         mas.append(moving_average(close, win)[-20:])\n",
    "        \n",
    "#     mas_max = np.max(mas, axis=0)\n",
    "#     mas_min = np.min(mas, axis=0)\n",
    "#     convergency = 1 - mas_min/mas_max\n",
    "    \n",
    "#     # count of convergency\n",
    "#     coc = np.count_nonzero(convergency < 0.1)/20\n",
    "    alt = altitude(bars)\n",
    "    \n",
    "    results.append((name, code, alt, v1, v0, vn[-1]))"
   ]
  },
  {
   "cell_type": "code",
   "execution_count": null,
   "id": "02fc0852",
   "metadata": {},
   "outputs": [],
   "source": [
    "results = await scan(features, 120, '1d', nstocks=-1, silent=True)\n",
    "df = pd.DataFrame(results, columns=[\"name\", \"code\", \"alt\", \"v1\", \"v0\", \"vn\"])"
   ]
  },
  {
   "cell_type": "code",
   "execution_count": null,
   "id": "8c6b1db5",
   "metadata": {},
   "outputs": [],
   "source": [
    "df[(df.v1>2.5)&(df.v0>-0.5)&(df.vn>10)&(df.alt<0.6)&(df.v0<0)]"
   ]
  },
  {
   "cell_type": "markdown",
   "id": "f9c5d5fa",
   "metadata": {},
   "source": [
    "# V1 低位放量"
   ]
  },
  {
   "cell_type": "code",
   "execution_count": null,
   "id": "dc1b8782",
   "metadata": {
    "scrolled": false
   },
   "outputs": [],
   "source": [
    "async def backtest_v1(start, end):\n",
    "    start = arrow.get(start).date()\n",
    "    end = arrow.get(end).date()\n",
    "    \n",
    "    signals = []\n",
    "    for code in Stock.choose([\"stock\"]):\n",
    "        sec = Stock(code)\n",
    "        try:\n",
    "            bars = await sec.load_bars(start, end, FrameType.DAY)\n",
    "\n",
    "            for i in range(120, len(bars) - 15):\n",
    "                xbars = bars[i-120:i]\n",
    "\n",
    "                signal = fire_long(code, xbars, pcr=0.2)\n",
    "                if signal is None:\n",
    "                    continue\n",
    "                else:\n",
    "                    frame, price, altitude, lb, to, pcr_0 = signal\n",
    "                    row = [sec.display_name, code, frame, price, altitude, lb, to, pcr_0]\n",
    "                    for j in [1, 3, 5, 10, 15]:\n",
    "                        ybars = bars[i:i+j]\n",
    "                        yclose = np.max(ybars[\"close\"])\n",
    "                        row.append(yclose/price-1)\n",
    "\n",
    "                    signals.append(row)\n",
    "        except Exception:\n",
    "            pass\n",
    "        \n",
    "    columns = [\"name\", \"code\", \"frame\", \"price\", \"altitude\", \"lb\", \"to\", \"pcr_0\", \n",
    "               \"pcr_1\", \"pcr_3\", \"pcr_5\", \"pcr_10\", \"pcr_15\"]\n",
    "    return pd.DataFrame(signals, columns=columns)\n",
    "        \n",
    "df = await backtest_v1(\"2021-01-04\", \"2021-09-30\")\n",
    "df"
   ]
  },
  {
   "cell_type": "code",
   "execution_count": null,
   "id": "94102167",
   "metadata": {
    "scrolled": false
   },
   "outputs": [],
   "source": [
    "df.describe()"
   ]
  },
  {
   "cell_type": "markdown",
   "id": "d5115bc3",
   "metadata": {},
   "source": [
    "# V2 加上次新股属性\n",
    "\n",
    "回测表明，次新股低位放量后，10交易日平均涨幅为12%；15日平均涨幅为15%。"
   ]
  },
  {
   "cell_type": "code",
   "execution_count": null,
   "id": "2e350f29",
   "metadata": {
    "scrolled": false
   },
   "outputs": [],
   "source": [
    "async def backtest_v2(start, end, **params):\n",
    "    end = arrow.get(end).date()\n",
    "    start = arrow.get(start).date()\n",
    "    \n",
    "    signals = []\n",
    "    for code in Stock.choose([\"stock\"]):\n",
    "        sec = Stock(code)\n",
    "        \n",
    "        if tf.day_shift(sec.ipo_date, 60) < start:\n",
    "            continue\n",
    "            \n",
    "        try:\n",
    "            bars = await sec.load_bars(sec.ipo_date, end, FrameType.DAY)\n",
    "\n",
    "            for i in range(60, min(250, len(bars) - 15)): #限制在一年内\n",
    "                xbars = bars[i-60:i]\n",
    "\n",
    "                signal = fire_long(code, xbars, **params)\n",
    "                if signal is None:\n",
    "                    continue\n",
    "                else:\n",
    "                    frame, price, altitude, lb, to, pcr_0 = signal\n",
    "                    row = [sec.display_name, code, frame, price, altitude, lb, to, pcr_0]\n",
    "                    for j in [1, 3, 5, 10, 15]:\n",
    "                        ybars = bars[i:i+j]\n",
    "                        yclose = np.max(ybars[\"close\"])\n",
    "                        row.append(yclose/price-1)\n",
    "\n",
    "                    signals.append(row)\n",
    "        except Exception:\n",
    "            pass\n",
    "        \n",
    "    columns = [\"name\", \"code\", \"frame\", \"price\", \"altitude\", \"lb\", \"to\", \"pcr_0\", \n",
    "               \"pcr_1\", \"pcr_3\", \"pcr_5\", \"pcr_10\", \"pcr_15\"]\n",
    "    return pd.DataFrame(signals, columns=columns)"
   ]
  },
  {
   "cell_type": "code",
   "execution_count": null,
   "id": "d79c6294",
   "metadata": {
    "scrolled": false
   },
   "outputs": [],
   "source": [
    "df = await backtest_v2(\"2015-01-04\", \"2021-09-30\", altitude=0.6, turnover=0.07, lb=3, pcr=0.05)\n",
    "df.describe()"
   ]
  },
  {
   "cell_type": "code",
   "execution_count": null,
   "id": "1b0a3596",
   "metadata": {
    "scrolled": false
   },
   "outputs": [],
   "source": [
    "report(\"低位放量v2次新股版回测结果\", {\"altitude\":0.6, \"turnover\":0.07, \"lb\":3, \"pcr\":0.05}, result_df=df)"
   ]
  },
  {
   "cell_type": "markdown",
   "id": "fb590a50",
   "metadata": {},
   "source": [
    "# v3\n",
    "放量后，缩量下跌至低于放量涨当日开盘价买入，计算持有1，3，5，10，15日，以收盘价卖出的利润。结果表明并无改进。"
   ]
  },
  {
   "cell_type": "code",
   "execution_count": null,
   "id": "b74e326f",
   "metadata": {
    "scrolled": false
   },
   "outputs": [],
   "source": [
    "async def backtest_v3(start, end):\n",
    "    start = arrow.get(start).date()\n",
    "    end = arrow.get(end).date()\n",
    "    \n",
    "    signals = []\n",
    "    \n",
    "    # 寻找发出放量信号的个股\n",
    "    for code in Stock.choose([\"stock\"]):\n",
    "        sec = Stock(code)\n",
    "        try:\n",
    "            bars = await sec.load_bars(start, end, FrameType.DAY)\n",
    "\n",
    "            for i in range(120, len(bars) - 30):\n",
    "                xbars = bars[i-120:i]\n",
    "\n",
    "                signal = fire_long(code, xbars, pcr=0.3, altitude=0.8, lb=2.5)\n",
    "                if signal is None:\n",
    "                    continue\n",
    "                else:\n",
    "                    frame, close, altitude, lb, to, pcr_0 = signal\n",
    "                    row = [code, frame, altitude, lb, to]\n",
    "                    signals.append(row)\n",
    "        except Exception:\n",
    "            pass\n",
    "        \n",
    "    # 如果股价回到放量日开盘价以下，则为买入点\n",
    "    results = []\n",
    "    for code, sig_start, altitude, lb, to in signals:\n",
    "        sig_end = tf.day_shift(sig_start, 15)\n",
    "        sec = Stock(code)\n",
    "        try:\n",
    "            bars = await sec.load_bars(sig_start, sig_end, FrameType.DAY)\n",
    "            open_price = bars[\"open\"][0]\n",
    "            \n",
    "            sig_bars = bars[1:]\n",
    "            pos = np.argwhere(sig_bars[\"low\"] <= open_price).flatten()\n",
    "            if len(pos) == 0:\n",
    "                continue\n",
    "                \n",
    "            order_day = sig_bars[pos[0]][\"frame\"]\n",
    "            ystart = tf.day_shift(order_day, 1)\n",
    "            yend = tf.day_shift(order_day, 16)\n",
    "            \n",
    "            ybars = await sec.load_bars(ystart, yend, FrameType.DAY)\n",
    "            \n",
    "            row = [sec.display_name, code, sig_start, order_day, open_price, altitude, lb, to]\n",
    "            for n in [1, 3, 5, 10, 15]:\n",
    "                c = ybars[n][\"close\"] / open_price - 1\n",
    "                row.append(c)\n",
    "            \n",
    "            results.append(row)\n",
    "        except Exception as e:\n",
    "            break\n",
    "        \n",
    "    columns = [\"name\", \"code\", \"fire_date\", \"oder_date\", \"order_price\", \"altitude\", \"lb\", \"to\",  \n",
    "               \"pcr_1\", \"pcr_3\", \"pcr_5\", \"pcr_10\", \"pcr_15\"]\n",
    "    return pd.DataFrame(results, columns=columns)\n",
    "        \n",
    "df = await backtest_v3(\"2021-01-04\", \"2021-09-30\")\n",
    "df"
   ]
  },
  {
   "cell_type": "markdown",
   "id": "03565ee3",
   "metadata": {},
   "source": [
    "# V4\n",
    "找出近10天日线放量最大超过4倍，或者换手率超过20%的标的，30分钟线出现rsi低于25%时发出提示。"
   ]
  },
  {
   "cell_type": "code",
   "execution_count": null,
   "id": "c90c3e70",
   "metadata": {},
   "outputs": [],
   "source": [
    "def daybars_trigger(name, code, bars, results, frame_type):\n",
    "    n = 10\n",
    "    last_n = bars[-n:]\n",
    "    volume = last_n[\"volume\"]\n",
    "    vr = max(volume)/min(volume)\n",
    "#     if vr < 4:\n",
    "#         return\n",
    "    \n",
    "    pos = np.argmax(volume)\n",
    "    flag = last_n[pos][\"close\"] < last_n[pos][\"open\"] #阴线放量\n",
    "    \n",
    "    results.append([name, code, vr, n-pos, flag])\n",
    "    \n",
    "result = await scan(daybars_trigger, 15, tm=\"2021-11-05\")"
   ]
  },
  {
   "cell_type": "code",
   "execution_count": null,
   "id": "2ca5cce4",
   "metadata": {
    "scrolled": false
   },
   "outputs": [],
   "source": [
    "df = pd.DataFrame(result, columns=[\"code\", \"name\", \"vr\", \"dist\", \"flag\"])\n",
    "pd.options.display.max_rows=999\n",
    "df.nlargest(10, \"vr\")"
   ]
  },
  {
   "cell_type": "markdown",
   "id": "808f6b96",
   "metadata": {},
   "source": [
    "# V5 周线版\n",
    "\n",
    "2021年11月05那周，合力科技（603917）周线放量拉升24%。此后一周持续"
   ]
  },
  {
   "cell_type": "code",
   "execution_count": null,
   "id": "93864ee4",
   "metadata": {},
   "outputs": [],
   "source": [
    "def features(name, code, bars, results, frame_type):\n",
    "    if len(bars) < 10:\n",
    "        return\n",
    "    \n",
    "    volume = bars[\"volume\"][-10:]\n",
    "    v1, v0 = np.sum(volume[:5]), np.sum(volume[5:])\n",
    "    \n",
    "    vr = v0/v1\n",
    "    \n",
    "    row = (name, code, vr)\n",
    "    results.append(row)\n",
    "    \n",
    "results = await scan(trigger, 5, frame_type = '1w', tm = '2021-10-15 15:00', nstocks=-1)\n",
    "df = pd.DataFrame(features, columns=[\"name\", \"code\", \"vr\"])"
   ]
  },
  {
   "cell_type": "code",
   "execution_count": null,
   "id": "270bc3c4",
   "metadata": {},
   "outputs": [],
   "source": [
    "df = df.nlargest(20, \"vr\")"
   ]
  },
  {
   "cell_type": "code",
   "execution_count": null,
   "id": "9767765b",
   "metadata": {},
   "outputs": [],
   "source": [
    "async def evaluate(df):\n",
    "    results = []\n",
    "    for code, name, vr in df.to_numpy():\n",
    "        bars = await get_bars(code, 22, end=\"2021-11-16 15:00\")\n",
    "        results.append((code, name, vr, *performance(bars)))\n",
    "        \n",
    "    columns = [\"code\", \"name\", \"vr\", \"max\", \"min\", \"1\", \"3\", \"5\", \"8\", \"13\", \"21\"]\n",
    "    return pd.DataFrame(results, columns=columns)"
   ]
  },
  {
   "cell_type": "code",
   "execution_count": null,
   "id": "aad5decb",
   "metadata": {},
   "outputs": [],
   "source": [
    "perf = await evaluate(df)"
   ]
  },
  {
   "cell_type": "markdown",
   "id": "c674d433",
   "metadata": {},
   "source": [
    "# 30分钟版\n",
    "\n",
    "寻找10：00放量，20日内涨幅不大的个股，在14：30分钟，如果保持上升（大于10：00收盘），则发出信号"
   ]
  },
  {
   "cell_type": "code",
   "execution_count": 3,
   "id": "bb893719",
   "metadata": {},
   "outputs": [],
   "source": [
    "async def pooling(tm=None, codes=None):\n",
    "    \"\"\"找出10:00时放量的个股前100名\"\"\"\n",
    "    day = arrow.get(tm).date() if tm else arrow.now().date()\n",
    "    end = datetime.datetime(day.year, day.month, day.day, 10)\n",
    "    \n",
    "    def find_vr(code, name, bars, results, ft):\n",
    "        # 早盘10点，30分钟放量\n",
    "        volume = bars[\"volume\"]\n",
    "        \n",
    "        c = bars[\"close\"]\n",
    "        o = bars[\"open\"]\n",
    "        h = bars[\"high\"]\n",
    "        \n",
    "        # 收阳且上涨, **冲击涨停**\n",
    "        if c[-1] >= c[-2] and c[-1] >= o[-1] and h[-1]/c[-2]-1 > 0.07:\n",
    "            vr = volume[-1]/np.mean(volume[:-1])\n",
    "            results.append((code, name, vr))\n",
    "        \n",
    "    if codes is None:\n",
    "        results = await scan(find_vr, 40, '30m', end, nstocks=-1)\n",
    "    else:\n",
    "        results = await scan(find_vr, 40, '30m', end, codes=codes)\n",
    "\n",
    "    results = sorted(results, key = lambda x: x[2], reverse=True)\n",
    "    \n",
    "    \n",
    "    # add RSI\n",
    "    final_result = []\n",
    "    for code, name, vr in results[:100]:\n",
    "        bars = await get_bars(code, 20, end=day)\n",
    "        if len(bars) < 20:\n",
    "            continue\n",
    "            \n",
    "        rsi = relative_strength_index(bars[\"close\"])\n",
    "        prsi = [rsiday.get_proba(code, r) for r in rsi[-2:]]\n",
    "        \n",
    "        if prsi[0] is None:\n",
    "            final_result.append((code, name, vr, round(max(rsi[-2:]),1)))\n",
    "        else:\n",
    "            final_result.append((code, name, vr, round(max(prsi[-2:]) * 100, 1)))\n",
    "         \n",
    "    return final_result"
   ]
  },
  {
   "cell_type": "code",
   "execution_count": 4,
   "id": "4ea418aa",
   "metadata": {},
   "outputs": [
    {
     "name": "stdout",
     "output_type": "stream",
     "text": [
      "auth success \n"
     ]
    }
   ],
   "source": [
    "init_jq()\n",
    "def check(pool, dec=0):\n",
    "    \"\"\"14:30分运行，按日线量比排序\"\"\"\n",
    "    def feature(code, name, bars):\n",
    "        volume = bars[\"volume\"]\n",
    "        close = bars[\"close\"]\n",
    "        open_ = bars[\"open\"]\n",
    "        \n",
    "        # 10:00以后下跌量小于0.5\n",
    "        vdown = 0\n",
    "        for i in range(1, len(bars)):\n",
    "            if volume[i] > volume[0] * 0.5 and (close[i] < open_[i] or close[i] < close[i-1]):\n",
    "                return None\n",
    "            else:\n",
    "                vdown = max(vdown, volume[i]/volume[0])\n",
    "           \n",
    "        if vdown < 0.5:\n",
    "            return vdown\n",
    "                \n",
    "    \n",
    "    results = []\n",
    "    now = arrow.now()\n",
    "    start = datetime.datetime(now.year, now.month, now.day, 10, 1)\n",
    "    end = now.datetime\n",
    "    \n",
    "    for (code, name, vr, rsi) in pool:\n",
    "        bars = jq.get_price(code, start_date = start, end_date=end, frequency='30m', panel=False)\n",
    "            \n",
    "        vdown = feature(code, name, bars)\n",
    "        if vdown is None:\n",
    "            continue\n",
    "        \n",
    "        day_bars_end = end\n",
    "        day_bars_start = tf.day_shift(end, -5)\n",
    "        \n",
    "        day_bars = jq.get_price(code, start_date = day_bars_start, end_date = day_bars_end, panel=False)\n",
    "        #print(day_bars)\n",
    "        # 计算涨幅\n",
    "        adv = round(day_bars[\"close\"][-1] / day_bars[\"close\"][-2] - 1,3)\n",
    "        if adv > 0.05:\n",
    "            continue\n",
    "        \n",
    "        # 计算日线量比\n",
    "        lb = day_bars[\"volume\"][-1] / np.average(day_bars[\"volume\"][:-1])\n",
    "            \n",
    "        results.append((code, name, vr, vdown, rsi, adv, lb))\n",
    "        \n",
    "    df = pd.DataFrame(results,columns=[\"code\", \"name\", \"vup\", \"vdown\", \"rsi\", \"adv\", \"day_lb\"])\n",
    "    return df.sort_values(by = 'vup', ascending=False)"
   ]
  },
  {
   "cell_type": "code",
   "execution_count": 5,
   "id": "f31fb794",
   "metadata": {},
   "outputs": [],
   "source": [
    "async def pooling_3_days(n=20):\n",
    "    pool = []\n",
    "    today = arrow.now()\n",
    "    for tm in tf.get_frames_by_count(today, 3, FrameType.DAY):\n",
    "        dt = tf.int2date(tm)\n",
    "        pool.extend(await pooling())\n",
    "        \n",
    "    added = set()\n",
    "    unique_pool = []\n",
    "    for p in pool:\n",
    "        if p[0] not in added:\n",
    "            added.add(p[0])\n",
    "            unique_pool.append(p)\n",
    "            \n",
    "    return sorted(unique_pool, key = lambda x: x[2], reverse=True)[:n]"
   ]
  },
  {
   "cell_type": "markdown",
   "id": "7ee5afd9",
   "metadata": {},
   "source": [
    "## 30分钟单日"
   ]
  },
  {
   "cell_type": "code",
   "execution_count": 6,
   "id": "e246ecf2",
   "metadata": {},
   "outputs": [
    {
     "data": {
      "text/plain": [
       "90"
      ]
     },
     "execution_count": 6,
     "metadata": {},
     "output_type": "execute_result"
    }
   ],
   "source": [
    "pool_today = await pooling()\n",
    "clear_output()\n",
    "len(pool_today)"
   ]
  },
  {
   "cell_type": "code",
   "execution_count": 7,
   "id": "840f0b6c",
   "metadata": {},
   "outputs": [
    {
     "data": {
      "text/html": [
       "<div>\n",
       "<style scoped>\n",
       "    .dataframe tbody tr th:only-of-type {\n",
       "        vertical-align: middle;\n",
       "    }\n",
       "\n",
       "    .dataframe tbody tr th {\n",
       "        vertical-align: top;\n",
       "    }\n",
       "\n",
       "    .dataframe thead th {\n",
       "        text-align: right;\n",
       "    }\n",
       "</style>\n",
       "<table border=\"1\" class=\"dataframe\">\n",
       "  <thead>\n",
       "    <tr style=\"text-align: right;\">\n",
       "      <th></th>\n",
       "      <th>code</th>\n",
       "      <th>name</th>\n",
       "      <th>vup</th>\n",
       "      <th>vdown</th>\n",
       "      <th>rsi</th>\n",
       "      <th>adv</th>\n",
       "      <th>day_lb</th>\n",
       "    </tr>\n",
       "  </thead>\n",
       "  <tbody>\n",
       "    <tr>\n",
       "      <th>0</th>\n",
       "      <td>002177.XSHE</td>\n",
       "      <td>御银股份</td>\n",
       "      <td>20.413422</td>\n",
       "      <td>0.487717</td>\n",
       "      <td>97.0</td>\n",
       "      <td>0.027</td>\n",
       "      <td>3.718243</td>\n",
       "    </tr>\n",
       "    <tr>\n",
       "      <th>1</th>\n",
       "      <td>603518.XSHG</td>\n",
       "      <td>锦泓集团</td>\n",
       "      <td>16.725758</td>\n",
       "      <td>0.342265</td>\n",
       "      <td>77.0</td>\n",
       "      <td>0.034</td>\n",
       "      <td>4.513750</td>\n",
       "    </tr>\n",
       "    <tr>\n",
       "      <th>2</th>\n",
       "      <td>002054.XSHE</td>\n",
       "      <td>德美化工</td>\n",
       "      <td>12.812697</td>\n",
       "      <td>0.334360</td>\n",
       "      <td>99.0</td>\n",
       "      <td>0.035</td>\n",
       "      <td>2.990742</td>\n",
       "    </tr>\n",
       "    <tr>\n",
       "      <th>3</th>\n",
       "      <td>002955.XSHE</td>\n",
       "      <td>鸿合科技</td>\n",
       "      <td>9.979736</td>\n",
       "      <td>0.361567</td>\n",
       "      <td>73.8</td>\n",
       "      <td>0.039</td>\n",
       "      <td>2.606626</td>\n",
       "    </tr>\n",
       "    <tr>\n",
       "      <th>4</th>\n",
       "      <td>002118.XSHE</td>\n",
       "      <td>紫鑫药业</td>\n",
       "      <td>9.937180</td>\n",
       "      <td>0.290281</td>\n",
       "      <td>99.0</td>\n",
       "      <td>0.034</td>\n",
       "      <td>3.109658</td>\n",
       "    </tr>\n",
       "    <tr>\n",
       "      <th>5</th>\n",
       "      <td>300045.XSHE</td>\n",
       "      <td>华力创通</td>\n",
       "      <td>8.591647</td>\n",
       "      <td>0.462491</td>\n",
       "      <td>82.0</td>\n",
       "      <td>0.031</td>\n",
       "      <td>1.780633</td>\n",
       "    </tr>\n",
       "    <tr>\n",
       "      <th>6</th>\n",
       "      <td>603138.XSHG</td>\n",
       "      <td>海量数据</td>\n",
       "      <td>8.154691</td>\n",
       "      <td>0.479126</td>\n",
       "      <td>94.0</td>\n",
       "      <td>0.035</td>\n",
       "      <td>1.868991</td>\n",
       "    </tr>\n",
       "    <tr>\n",
       "      <th>7</th>\n",
       "      <td>603439.XSHG</td>\n",
       "      <td>贵州三力</td>\n",
       "      <td>7.656188</td>\n",
       "      <td>0.402921</td>\n",
       "      <td>77.2</td>\n",
       "      <td>0.010</td>\n",
       "      <td>1.535921</td>\n",
       "    </tr>\n",
       "    <tr>\n",
       "      <th>8</th>\n",
       "      <td>600128.XSHG</td>\n",
       "      <td>弘业股份</td>\n",
       "      <td>6.770404</td>\n",
       "      <td>0.412817</td>\n",
       "      <td>90.0</td>\n",
       "      <td>-0.010</td>\n",
       "      <td>1.431375</td>\n",
       "    </tr>\n",
       "    <tr>\n",
       "      <th>9</th>\n",
       "      <td>600992.XSHG</td>\n",
       "      <td>贵绳股份</td>\n",
       "      <td>3.788667</td>\n",
       "      <td>0.270860</td>\n",
       "      <td>93.0</td>\n",
       "      <td>0.047</td>\n",
       "      <td>1.679758</td>\n",
       "    </tr>\n",
       "    <tr>\n",
       "      <th>10</th>\n",
       "      <td>300860.XSHE</td>\n",
       "      <td>锋尚文化</td>\n",
       "      <td>3.595577</td>\n",
       "      <td>0.463694</td>\n",
       "      <td>67.5</td>\n",
       "      <td>0.041</td>\n",
       "      <td>0.916035</td>\n",
       "    </tr>\n",
       "  </tbody>\n",
       "</table>\n",
       "</div>"
      ],
      "text/plain": [
       "           code  name        vup     vdown   rsi    adv    day_lb\n",
       "0   002177.XSHE  御银股份  20.413422  0.487717  97.0  0.027  3.718243\n",
       "1   603518.XSHG  锦泓集团  16.725758  0.342265  77.0  0.034  4.513750\n",
       "2   002054.XSHE  德美化工  12.812697  0.334360  99.0  0.035  2.990742\n",
       "3   002955.XSHE  鸿合科技   9.979736  0.361567  73.8  0.039  2.606626\n",
       "4   002118.XSHE  紫鑫药业   9.937180  0.290281  99.0  0.034  3.109658\n",
       "5   300045.XSHE  华力创通   8.591647  0.462491  82.0  0.031  1.780633\n",
       "6   603138.XSHG  海量数据   8.154691  0.479126  94.0  0.035  1.868991\n",
       "7   603439.XSHG  贵州三力   7.656188  0.402921  77.2  0.010  1.535921\n",
       "8   600128.XSHG  弘业股份   6.770404  0.412817  90.0 -0.010  1.431375\n",
       "9   600992.XSHG  贵绳股份   3.788667  0.270860  93.0  0.047  1.679758\n",
       "10  300860.XSHE  锋尚文化   3.595577  0.463694  67.5  0.041  0.916035"
      ]
     },
     "execution_count": 7,
     "metadata": {},
     "output_type": "execute_result"
    }
   ],
   "source": [
    "df = check(pool_today)\n",
    "df"
   ]
  },
  {
   "cell_type": "markdown",
   "id": "0c81d987",
   "metadata": {},
   "source": [
    "## 历史版"
   ]
  },
  {
   "cell_type": "code",
   "execution_count": 20,
   "id": "79b6e8d9",
   "metadata": {},
   "outputs": [
    {
     "name": "stdout",
     "output_type": "stream",
     "text": [
      "2021-12-20 10:00:00+08:00\n",
      "progress: 500/4033, results: 191, elapsed: 0, ETA: 0\n",
      "progress: 1000/4033, results: 354, elapsed: 1, ETA: 3\n",
      "progress: 1500/4033, results: 527, elapsed: 2, ETA: 3\n",
      "progress: 2000/4033, results: 668, elapsed: 3, ETA: 3\n",
      "progress: 2500/4033, results: 808, elapsed: 4, ETA: 2\n",
      "progress: 3000/4033, results: 999, elapsed: 5, ETA: 1\n",
      "progress: 3500/4033, results: 1155, elapsed: 6, ETA: 0\n",
      "progress: 4000/4033, results: 1300, elapsed: 7, ETA: 0\n"
     ]
    },
    {
     "data": {
      "text/plain": [
       "[('300878.XSHE', '维康药业', 44.40360766629087, -0.01343834400177002),\n",
       " ('002082.XSHE', '万邦德', 42.32667876588022, 0.0018956661224365234),\n",
       " ('300534.XSHE', '陇神戎发', 33.67501581277673, 0.03366994857788086),\n",
       " ('300560.XSHE', '中富通', 28.297591099316115, -0.007547199726104736),\n",
       " ('603918.XSHG', '金桥信息', 28.23875728862974, 0.01453089714050293),\n",
       " ('300519.XSHE', '新光药业', 27.496809138199175, -0.011543035507202148),\n",
       " ('603421.XSHG', '鼎信通讯', 27.153703649248683, 0.0506666898727417),\n",
       " ('003008.XSHE', '开普检测', 26.204700155092194, 0.11659348011016846),\n",
       " ('600605.XSHG', '汇通能源', 25.633416836035355, 0.13003456592559814),\n",
       " ('300683.XSHE', '海特生物', 25.13664596273292, -0.0014827251434326172),\n",
       " ('002644.XSHE', '佛慈制药', 24.284805735430158, -0.00539088249206543),\n",
       " ('002118.XSHE', '紫鑫药业', 21.65303624697881, 0.026119351387023926),\n",
       " ('603861.XSHG', '白云电器', 21.309404926728703, 0.1412104368209839),\n",
       " ('000965.XSHE', '天保基建', 20.855942091557207, 0.06276142597198486),\n",
       " ('300721.XSHE', '怡达股份', 20.844680943865313, -0.0007826685905456543),\n",
       " ('603439.XSHG', '贵州三力', 19.89570340826686, -0.04394048452377319),\n",
       " ('000042.XSHE', '中洲控股', 18.596093249963076, 0.05063295364379883),\n",
       " ('300622.XSHE', '博士眼镜', 18.156436884815424, -0.021904706954956055),\n",
       " ('002817.XSHE', '黄山胶囊', 17.93600935189543, 0.019729971885681152),\n",
       " ('603022.XSHG', '新通联', 17.47579103188799, -0.030716776847839355),\n",
       " ('002227.XSHE', '奥特迅', 17.172636927206494, 0.04649794101715088),\n",
       " ('600202.XSHG', '哈空调', 17.102857614057182, 0.0497736930847168),\n",
       " ('002173.XSHE', '创新医疗', 16.423982998828148, 0.08493590354919434),\n",
       " ('000700.XSHE', '模塑科技', 16.301822195776094, -0.004098355770111084),\n",
       " ('300108.XSHE', '吉药控股', 15.683477292586549, 0.026627182960510254),\n",
       " ('600839.XSHG', '四川长虹', 14.628896102688682, -0.006249964237213135),\n",
       " ('603967.XSHG', '中创物流', 14.087948286110562, 0.07090103626251221),\n",
       " ('603110.XSHG', '东方材料', 13.79851330203443, 0.02837836742401123),\n",
       " ('600993.XSHG', '马应龙', 13.64048104991828, -0.005225062370300293),\n",
       " ('603956.XSHG', '威派格', 13.536737381126555, -0.00728297233581543),\n",
       " ('600824.XSHG', '益民集团', 13.194329133841965, 0.01704549789428711),\n",
       " ('603566.XSHG', '普莱柯', 13.170273778845594, -0.01949101686477661),\n",
       " ('000557.XSHE', '西部创业', 13.076254103920338, 0.10027861595153809),\n",
       " ('002737.XSHE', '葵花药业', 13.05124152314493, -0.006752192974090576),\n",
       " ('300666.XSHE', '江丰电子', 12.989884018231, -0.0467759370803833),\n",
       " ('003038.XSHE', '鑫铂股份', 12.81625804413913, 0.05806112289428711),\n",
       " ('600285.XSHG', '羚锐制药', 12.269275425876467, 0.036036014556884766),\n",
       " ('002995.XSHE', '天地在线', 12.26135306493395, 0.10263073444366455),\n",
       " ('000990.XSHE', '诚志股份', 12.14161568806815, 0.0),\n",
       " ('603876.XSHG', '鼎胜新材', 12.022372562592238, -0.04130440950393677),\n",
       " ('603217.XSHG', '元利科技', 11.952191015366516, 0.11000478267669678),\n",
       " ('000757.XSHE', '浩物股份', 11.658514141555132, 0.045146822929382324),\n",
       " ('002728.XSHE', '特一药业', 11.631679608819745, 0.023125410079956055),\n",
       " ('300039.XSHE', '上海凯宝', 11.571913751843168, 0.008438944816589355),\n",
       " ('002910.XSHE', '庄园牧场', 11.18230200582139, 0.04744517803192139),\n",
       " ('000637.XSHE', '茂化实华', 10.844618527514598, 0.03712296485900879),\n",
       " ('600129.XSHG', '太极集团', 10.788706300509046, 0.02664971351623535),\n",
       " ('002750.XSHE', '龙津药业', 10.765379026398643, 0.015256524085998535),\n",
       " ('300774.XSHE', '倍杰特', 10.578971540915978, -0.050864219665527344),\n",
       " ('002069.XSHE', '獐子岛', 10.506542313858674, 0.006734013557434082),\n",
       " ('600220.XSHG', '江苏阳光', 10.50261996021542, 0.1391303539276123),\n",
       " ('002564.XSHE', '天沃科技', 10.244833216701656, 0.0967031717300415),\n",
       " ('603963.XSHG', '大理药业', 10.14804493349039, -0.0027893781661987305),\n",
       " ('603755.XSHG', '日辰股份', 10.140149730380609, 0.0174257755279541),\n",
       " ('300428.XSHE', '立中集团', 9.934175720195874, 0.05511438846588135),\n",
       " ('300026.XSHE', '红日药业', 9.915489026165051, 0.014051556587219238),\n",
       " ('000538.XSHE', '云南白药', 9.882761405898698, -0.02219831943511963),\n",
       " ('600371.XSHG', '万向德农', 9.694187234335605, 0.05283021926879883),\n",
       " ('300147.XSHE', '香雪制药', 9.635483522207917, 0.010920405387878418),\n",
       " ('000897.XSHE', '津滨发展', 9.565150833149321, 0.07083320617675781),\n",
       " ('000999.XSHE', '华润三九', 9.564204879963366, -0.007754981517791748),\n",
       " ('002252.XSHE', '上海莱士', 9.557937726707086, -0.009288012981414795),\n",
       " ('300199.XSHE', '翰宇药业', 9.546001543034722, -0.060212552547454834),\n",
       " ('000919.XSHE', '金陵药业', 9.501715516297406, -0.014326632022857666),\n",
       " ('601677.XSHG', '明泰铝业', 9.474281222258421, -0.026881694793701172),\n",
       " ('600332.XSHG', '白云山', 9.439615618002648, 0.0003342628479003906),\n",
       " ('601518.XSHG', '吉林高速', 9.295546671592735, 0.04838705062866211),\n",
       " ('300238.XSHE', '冠昊生物', 9.242513463047656, 0.005681872367858887),\n",
       " ('600439.XSHG', '瑞贝卡', 9.22216328786703, 0.013840794563293457),\n",
       " ('600844.XSHG', '丹化科技', 9.21183793450147, 0.10198307037353516),\n",
       " ('000566.XSHE', '海南海药', 9.194251504928227, 0.009302258491516113),\n",
       " ('002873.XSHE', '新天药业', 9.06376365896748, -0.015363097190856934),\n",
       " ('000718.XSHE', '苏宁环球', 8.995903629134002, 0.03478264808654785),\n",
       " ('600227.XSHG', '圣济堂', 8.994765902628206, 0.024390339851379395),\n",
       " ('600750.XSHG', '江中药业', 8.962911262678023, -0.005524814128875732),\n",
       " ('600604.XSHG', '市北高新', 8.906301901162585, 0.019305109977722168),\n",
       " ('002445.XSHE', '中南文化', 8.875157062294926, 0.009933710098266602),\n",
       " ('002550.XSHE', '千红制药', 8.809125219032214, 0.0),\n",
       " ('300401.XSHE', '花园生物', 8.766549688945606, -0.0036765336990356445),\n",
       " ('600077.XSHG', '宋都股份', 8.755149271337038, 0.09999990463256836),\n",
       " ('000151.XSHE', '中成股份', 8.728093677614936, 0.009876489639282227),\n",
       " ('300355.XSHE', '蒙草生态', 8.701959235811442, 0.06345736980438232),\n",
       " ('600775.XSHG', '南京熊猫', 8.674223352928035, -0.009195387363433838),\n",
       " ('002731.XSHE', '萃华珠宝', 8.649030589017437, -0.0802198052406311),\n",
       " ('300247.XSHE', '融捷健康', 8.578791119013866, -0.008426964282989502),\n",
       " ('002161.XSHE', '远望谷', 8.541906421373962, 0.0336841344833374),\n",
       " ('600650.XSHG', '锦江在线', 8.499174657343696, 0.020452022552490234),\n",
       " ('300110.XSHE', '华仁药业', 8.456164118443972, 0.002380967140197754),\n",
       " ('002603.XSHE', '以岭药业', 8.448715215419583, -0.0035820603370666504),\n",
       " ('000929.XSHE', '兰州黄河', 8.4109848210483, -0.019027531147003174),\n",
       " ('600791.XSHG', '京能置业', 8.373182273128378, 0.1403508186340332),\n",
       " ('600566.XSHG', '济川药业', 8.255662834726127, 0.10049998760223389),\n",
       " ('300160.XSHE', '秀强股份', 8.217637628389761, 0.034974098205566406),\n",
       " ('600689.XSHG', '上海三毛', 8.147344778133963, 0.014684319496154785),\n",
       " ('603869.XSHG', '新智认知', 8.126801313228283, 0.06559038162231445),\n",
       " ('600248.XSHG', '陕西建工', 8.088773652326815, 0.05417609214782715),\n",
       " ('002492.XSHE', '恒基达鑫', 8.056760709817258, 0.021582722663879395),\n",
       " ('002908.XSHE', '德生科技', 8.023570360680246, -0.009065687656402588),\n",
       " ('002951.XSHE', '金时科技', 7.960380246958849, 0.011156201362609863),\n",
       " ('002037.XSHE', '保利联合', 7.950317503976274, 0.04795479774475098)]"
      ]
     },
     "execution_count": 20,
     "metadata": {},
     "output_type": "execute_result"
    }
   ],
   "source": [
    "pool = await pooling()\n",
    "poo"
   ]
  }
 ],
 "metadata": {
  "kernelspec": {
   "display_name": "alpha",
   "language": "python",
   "name": "alpha"
  },
  "language_info": {
   "codemirror_mode": {
    "name": "ipython",
    "version": 3
   },
   "file_extension": ".py",
   "mimetype": "text/x-python",
   "name": "python",
   "nbconvert_exporter": "python",
   "pygments_lexer": "ipython3",
   "version": "3.9.7"
  },
  "toc": {
   "base_numbering": 1,
   "nav_menu": {},
   "number_sections": true,
   "sideBar": true,
   "skip_h1_title": false,
   "title_cell": "Table of Contents",
   "title_sidebar": "Contents",
   "toc_cell": false,
   "toc_position": {
    "height": "calc(100% - 180px)",
    "left": "10px",
    "top": "150px",
    "width": "235px"
   },
   "toc_section_display": true,
   "toc_window_display": true
  }
 },
 "nbformat": 4,
 "nbformat_minor": 5
}
