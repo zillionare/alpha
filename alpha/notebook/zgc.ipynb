{
 "cells": [
  {
   "cell_type": "code",
   "execution_count": 1,
   "id": "a533eaf3",
   "metadata": {},
   "outputs": [],
   "source": [
    "from alpha.notebook import init_notebook\n",
    "from alpha.strategies.zgc import ZGCStrategy\n",
    "\n",
    "await init_notebook()\n",
    "zgc = ZGCStrategy()"
   ]
  },
  {
   "cell_type": "code",
   "execution_count": null,
   "id": "8cfa642c",
   "metadata": {
    "scrolled": false
   },
   "outputs": [
    {
     "name": "stdout",
     "output_type": "stream",
     "text": [
      "东方盛虹    \t33%\t46\t14%\t84\n",
      "中银绒业    \t18%\t46\t6%\t47\n",
      "兴化股份    \t16%\t61\t8%\t85\n",
      "日发精机    \t25%\t61\t11%\t54\n",
      "沃特股份    \t27%\t30\t6%\t78\n",
      "创世纪     \t20%\t37\t6%\t41\n",
      "英唐智控    \t24%\t40\t5%\t45\n",
      "融捷健康    \t19%\t78\t6%\t84\n",
      "开元教育    \t16%\t41\t8%\t74\n",
      "康跃科技    \t33%\t66\t6%\t68\n",
      "正业科技    \t17%\t60\t6%\t52\n",
      "康斯特     \t16%\t55\t8%\t54\n",
      "深冷股份    \t15%\t43\t11%\t58\n",
      "熙菱信息    \t28%\t69\t7%\t28\n",
      "华瑞股份    \t21%\t56\t7%\t33\n",
      "聚灿光电    \t23%\t47\t5%\t26\n",
      "中辰股份    \t31%\t38\t10%\t81\n",
      "德必集团    \t16%\t21\t6%\t57\n",
      "五矿发展    \t18%\t66\t6%\t69\n",
      "陕鼓动力    \t19%\t52\t10%\t53\n"
     ]
    }
   ],
   "source": [
    "df = await zgc.scan(end=\"2021-09-08 15:00\")"
   ]
  },
  {
   "cell_type": "code",
   "execution_count": null,
   "id": "d388f48f",
   "metadata": {},
   "outputs": [],
   "source": []
  }
 ],
 "metadata": {
  "kernelspec": {
   "display_name": "alpha",
   "language": "python",
   "name": "alpha"
  },
  "language_info": {
   "codemirror_mode": {
    "name": "ipython",
    "version": 3
   },
   "file_extension": ".py",
   "mimetype": "text/x-python",
   "name": "python",
   "nbconvert_exporter": "python",
   "pygments_lexer": "ipython3",
   "version": "3.8.8"
  },
  "toc": {
   "base_numbering": 1,
   "nav_menu": {},
   "number_sections": true,
   "sideBar": true,
   "skip_h1_title": false,
   "title_cell": "Table of Contents",
   "title_sidebar": "Contents",
   "toc_cell": false,
   "toc_position": {},
   "toc_section_display": true,
   "toc_window_display": true
  }
 },
 "nbformat": 4,
 "nbformat_minor": 5
}
