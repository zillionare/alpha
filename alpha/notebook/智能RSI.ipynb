{
 "cells": [
  {
   "cell_type": "markdown",
   "id": "a7a89062",
   "metadata": {},
   "source": [
    "# 智能RSI参数\n",
    "\n",
    "根据个股一年来最低的RSI来判断当前股价是否处于最低位置"
   ]
  },
  {
   "cell_type": "code",
   "execution_count": 20,
   "id": "145bcc1b",
   "metadata": {
    "scrolled": true
   },
   "outputs": [],
   "source": [
    "from alpha.notebook import *\n",
    "import traceback\n",
    "\n",
    "from alpha.core.rsi_stats import RsiStats, rsiday, rsi30\n",
    "await init_notebook(use_omicron=True)"
   ]
  },
  {
   "cell_type": "code",
   "execution_count": null,
   "id": "a594d9e5",
   "metadata": {
    "scrolled": false
   },
   "outputs": [],
   "source": [
    "# rsi = RsiStats(FrameType.MIN30)\n",
    "# await rsi.calc(\"2021-09-30 15:00\")"
   ]
  },
  {
   "cell_type": "code",
   "execution_count": null,
   "id": "8e5983c4",
   "metadata": {
    "scrolled": true
   },
   "outputs": [],
   "source": [
    "# rsiday = RsiStats(FrameType.DAY)\n",
    "# await rsiday.calc(\"2021-09-30\")"
   ]
  },
  {
   "cell_type": "code",
   "execution_count": 21,
   "id": "b8dddd3d",
   "metadata": {},
   "outputs": [],
   "source": [
    "async def predict_xshg():\n",
    "    xshg = \"000001.XSHG\"\n",
    "    end = arrow.now()\n",
    "    start = tf.shift(tf.floor(end, FrameType.MIN30), -39, FrameType.MIN30)\n",
    "    \n",
    "    bars = await Security(xshg).load_bars(start, end, FrameType.MIN30)\n",
    "    rsi_now = relative_strength_index(bars[\"close\"], 6)[-1]\n",
    "    rsi_max = rsi30.get_rsi(xshg, 0.9)\n",
    "    rsi_min = rsi30.get_rsi(xshg, 0.1)\n",
    "    \n",
    "    if rsi_max - rsi_now < 5:\n",
    "        print(\"上证rsi距高位不足5个点\")\n",
    "        \n",
    "    if rsi_now - rsi_min < 5:\n",
    "        print(\"上证rsi距低位不足5个点\")"
   ]
  },
  {
   "cell_type": "code",
   "execution_count": 22,
   "id": "31bb502f",
   "metadata": {},
   "outputs": [],
   "source": [
    "await predict_xshg()"
   ]
  },
  {
   "cell_type": "code",
   "execution_count": 25,
   "id": "87b07ac4",
   "metadata": {},
   "outputs": [
    {
     "name": "stdout",
     "output_type": "stream",
     "text": [
      "8.70%\n"
     ]
    }
   ],
   "source": [
    "# 格林美\n",
    "print(f'{rsiday.get_proba(\"002340.XSHE\", 26.59):.2%}')"
   ]
  },
  {
   "cell_type": "code",
   "execution_count": 24,
   "id": "d0d8e032",
   "metadata": {},
   "outputs": [
    {
     "data": {
      "text/plain": [
       "0.09584584584584585"
      ]
     },
     "execution_count": 24,
     "metadata": {},
     "output_type": "execute_result"
    }
   ],
   "source": [
    "# 格林美\n",
    "rsi30.get_proba(\"002340.XSHE\", 24.25)"
   ]
  },
  {
   "cell_type": "code",
   "execution_count": null,
   "id": "763785f0",
   "metadata": {},
   "outputs": [],
   "source": []
  }
 ],
 "metadata": {
  "interpreter": {
   "hash": "e0991ae97f5ae595dff4e065820c67789f8a838b458f4df83a145fc0afc1ef34"
  },
  "kernelspec": {
   "display_name": "Python 3.8.12 64-bit ('alpha': conda)",
   "language": "python",
   "name": "python3812jvsc74a57bd0e0991ae97f5ae595dff4e065820c67789f8a838b458f4df83a145fc0afc1ef34"
  },
  "language_info": {
   "codemirror_mode": {
    "name": "ipython",
    "version": 3
   },
   "file_extension": ".py",
   "mimetype": "text/x-python",
   "name": "python",
   "nbconvert_exporter": "python",
   "pygments_lexer": "ipython3",
   "version": "3.9.7"
  },
  "toc": {
   "base_numbering": 1,
   "nav_menu": {},
   "number_sections": true,
   "sideBar": true,
   "skip_h1_title": false,
   "title_cell": "Table of Contents",
   "title_sidebar": "Contents",
   "toc_cell": false,
   "toc_position": {
    "height": "calc(100% - 180px)",
    "left": "10px",
    "top": "150px",
    "width": "248px"
   },
   "toc_section_display": true,
   "toc_window_display": true
  }
 },
 "nbformat": 4,
 "nbformat_minor": 5
}
