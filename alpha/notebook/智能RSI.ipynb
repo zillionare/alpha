{
 "cells": [
  {
   "cell_type": "markdown",
   "id": "a7a89062",
   "metadata": {},
   "source": [
    "# 智能RSI参数\n",
    "\n",
    "根据个股一年来最低的RSI来判断当前股价是否处于最低位置"
   ]
  },
  {
   "cell_type": "code",
   "execution_count": 1,
   "id": "145bcc1b",
   "metadata": {
    "scrolled": true
   },
   "outputs": [],
   "source": [
    "from alpha.notebook import *\n",
    "import traceback\n",
    "\n",
    "from alpha.core.rsi_stats import RsiStats, rsiday, rsi30\n",
    "await init_notebook()\n",
    "\n",
    "def day(code, value):\n",
    "    qualified(code)\n",
    "    return round(rsiday.get_proba(code, value), 2)\n",
    "\n",
    "def m30(code, value):\n",
    "    code = qualified(code)\n",
    "        \n",
    "    return round(rsi30.get_proba(code, value), 2)"
   ]
  },
  {
   "cell_type": "code",
   "execution_count": null,
   "id": "a594d9e5",
   "metadata": {
    "scrolled": false
   },
   "outputs": [],
   "source": [
    "# rsi = RsiStats(FrameType.MIN30)\n",
    "# await rsi.calc(\"2021-09-30 15:00\")"
   ]
  },
  {
   "cell_type": "code",
   "execution_count": null,
   "id": "8e5983c4",
   "metadata": {
    "scrolled": true
   },
   "outputs": [],
   "source": [
    "# rsiday = RsiStats(FrameType.DAY)\n",
    "# await rsiday.calc(\"2021-09-30\")"
   ]
  },
  {
   "cell_type": "code",
   "execution_count": null,
   "id": "5fe5b270",
   "metadata": {},
   "outputs": [],
   "source": [
    "async def check_rsi(names, tm=None):\n",
    "    codes = [name_to_code(name) for name in names]\n",
    "        \n",
    "    results = []\n",
    "    for code in codes:\n",
    "        sec = Security(code)\n",
    "        name = sec.display_name\n",
    "        \n",
    "        ft = FrameType.MIN30\n",
    "        end = arrow.get(tm) if tm else arrow.now()\n",
    "        if end.hour == 0:\n",
    "            end = tf.combine_time(end, hour = 15)\n",
    "            \n",
    "        start = tf.shift(tf.floor(end,ft), -39, ft)\n",
    "        bars = await sec.load_bars(start, end, ft)\n",
    "        bars = bars[np.isfinite(bars[\"close\"])]\n",
    "        \n",
    "        r30 = relative_strength_index(bars[\"close\"])[-3:]\n",
    "        r30 = np.round(r30, 2)\n",
    "        prsi30 = [rsi30.get_proba(code, r) for r in r30]\n",
    "        \n",
    "        ft = FrameType.DAY\n",
    "        end = end.date()\n",
    "        start = tf.day_shift(end, -39)\n",
    "        bars  = await sec.load_bars(start, end, ft)\n",
    "        bars = bars[np.isfinite(bars[\"close\"])]\n",
    "        \n",
    "        rday = relative_strength_index(bars[\"close\"])[-3:]\n",
    "        rday = np.round(rday, 2)\n",
    "        prday = [rsiday.get_proba(code, r) for r in rday]\n",
    "        \n",
    "        flag = \"\"\n",
    "            \n",
    "        try:\n",
    "            if min(prsi30) < 0.1:\n",
    "                print(f\"{name}\\t^\\t{prsi30}\\t30分钟\")\n",
    "            if min(prday) < 0.1:\n",
    "                print(f\"{name}\\t^^\\t{prday}\\t日线\")\n",
    "                \n",
    "            if max(prsi30) >= 0.9:\n",
    "                print(f\"{name}\\tv\\t{prsi30}\\t30分钟\")\n",
    "            if max(prday) >= 0.9:\n",
    "                print(f\"{name}\\tvv\\t{prday}\\t日线\")\n",
    "\n",
    "            if min(prsi30) < 0.1:\n",
    "                flag += \"^\" \n",
    "            elif max(prsi30) >= 0.9:\n",
    "                flag += \"v\"\n",
    "\n",
    "            if min(prday) < 0.1:\n",
    "                flag = \" | ^^\" \n",
    "            elif max(prday) >= 0.9:\n",
    "                flag = \" | vv\"\n",
    "        except Exception:\n",
    "            continue\n",
    "            \n",
    "        results.append([name, code, prday[-1], prsi30[-1], flag])\n",
    "        \n",
    "    return pd.DataFrame(results, columns=[\"name\", \"code\", \"day\", \"30m\", \"Flag\"])\n",
    "            "
   ]
  },
  {
   "cell_type": "markdown",
   "id": "e7a23e78",
   "metadata": {},
   "source": [
    "# 机构调研股"
   ]
  },
  {
   "cell_type": "code",
   "execution_count": null,
   "id": "df9478fb",
   "metadata": {},
   "outputs": [],
   "source": [
    "\n",
    "names = \"\"\"\n",
    "    英科医疗 泉峰汽车 晓鸣股份 宝通科技 合兴股份 新五丰 新亚电子 东南网架 味知香 日发精机 楚天科技 拓维信息 汤姆猫 拓邦股份 \n",
    "    华中数控 朗特智能 国林科技 科博达 瑞丰光电 润建股份 泰晶科技 聚飞光电 四川双马 国民技术 东方电热 云图控股 恒星科技 苏州固锝\n",
    "    金杯电工 伊戈尔 湘潭电化 鑫铂股份 运达股份 东方电气 联创电子\n",
    "\"\"\"\n",
    "\n",
    "df = await check_rsi(names)\n",
    "df"
   ]
  },
  {
   "cell_type": "markdown",
   "id": "ab117f67",
   "metadata": {},
   "source": [
    "# 持仓股和指数"
   ]
  },
  {
   "cell_type": "code",
   "execution_count": null,
   "id": "95c225ae",
   "metadata": {},
   "outputs": [],
   "source": [
    "names = [    \n",
    "    \"中国西电\", \n",
    "    \"格林美\", \n",
    "    \"锦盛新材\",\n",
    "    \"中国宝安\",\n",
    "    \"惠泉啤酒\",\n",
    "    \"方大集团\",\n",
    "    \"天齐锂业\",\n",
    "    \"晓鸣股份\",\n",
    "    \"长城科技\",\n",
    "    \"湖北宜化\",\n",
    "    \"上证指数\"\n",
    "]\n",
    "\n",
    "await check_rsi(names)"
   ]
  },
  {
   "cell_type": "code",
   "execution_count": null,
   "id": "93af6176",
   "metadata": {},
   "outputs": [],
   "source": [
    "m30(\"300967\", 89.98)"
   ]
  },
  {
   "cell_type": "code",
   "execution_count": null,
   "id": "d844b166",
   "metadata": {},
   "outputs": [],
   "source": [
    "day(\"605005\", 7.63)"
   ]
  },
  {
   "cell_type": "markdown",
   "id": "82f3d4a5",
   "metadata": {},
   "source": [
    "# RSI底背离\n",
    "\n",
    "2021年10月27日14：30，崇达技术（002815)出现30分钟底背离，同时日线RSI也处在低位（三个月前放量后，一直缩量阴跌）。此后连续放量，三个涨停。"
   ]
  },
  {
   "cell_type": "code",
   "execution_count": null,
   "id": "304add4b",
   "metadata": {},
   "outputs": [],
   "source": [
    "code = \"002815.XSHE\"\n",
    "mbars = await get_bars(code, 60, '30m', end='2021-10-27 15:00')\n",
    "\n",
    "mclose = mbars[\"close\"]\n",
    "mframe = mbars[\"frame\"]\n",
    "\n",
    "dbars = await get_bars(code, 90, '1d', end='2021-10-27 15:00')"
   ]
  },
  {
   "cell_type": "code",
   "execution_count": null,
   "id": "295c661b",
   "metadata": {},
   "outputs": [],
   "source": [
    "r30 = relative_strength_index(mclose)\n",
    "divergency(r30[-20:], mclose[-20:])"
   ]
  },
  {
   "cell_type": "code",
   "execution_count": null,
   "id": "e89e370a",
   "metadata": {},
   "outputs": [],
   "source": [
    "async def diagnose(code, frame_type):\n",
    "    \"\"\"提取个股的日线和30分钟线特征，并给出建议\"\"\"\n",
    "    bars = await get_bars(code, 250, '1d')\n",
    "    print(len(bars))\n",
    "    close = bars[\"close\"]\n",
    "\n",
    "    features = {}\n",
    "    \n",
    "    features[\"price_change\"] = {\n",
    "        \"max_year_gains\": close[-1] / min(close) - 1 if len(close) >= 250 else np.nan,\n",
    "        \"max_year_loss\": close[-1] / max(close) - 1 if len(close) >= 250 else np.nan,\n",
    "        \"max_quater_gains\": close[-1] / min(close[-60:]) - 1 if len(close) >= 60 else np.nan,\n",
    "        \"max_quater_loss\": close[-1] / max(close[-60:]) - 1 if len(close) >= 60 else np.nan,\n",
    "        \"max_mon_gains\": close[-1] / min(close[-20:]) - 1 if len(close) >= 20 else np.nan,\n",
    "        \"max_mon_loss\": close[-1] / max(close[-20:]) - 1 if len(close) >= 10 else np.nan,\n",
    "        \"max_week_gains\": close[-1] / min(close[-5:]) - 1 if len(close) >= 5 else np.nan,\n",
    "        \"max_week_loss\": close[-1] / max(close[-5:]) - 1 if len(close) >= 5 else np.nan\n",
    "    }\n",
    "\n",
    "    # 当前股价在一个季度以来的高度\n",
    "    if len(bars) >= 60:\n",
    "        features[\"altitude\"] = altitude(bars[-60:])\n",
    "    elif len(bars) >= 20:\n",
    "        features[\"alt_20\"] = altitude(bars[-20:])\n",
    "        \n",
    "    # 量能变化 over weeks\n",
    "    volume = bars[\"volume\"][-60:]\n",
    "    \n",
    "    weeks = len(volume) // 5\n",
    "    wvol = np.sum(volume[:weeks * 5].reshape((-1, 5)), axis=1)\n",
    "    \n",
    "    months = len(volume) // 20\n",
    "    mvol = np.sum(volume[:months * 20].reshape((-1, 20)), axis=1)\n",
    "    \n",
    "    features[\"vol_change\"] = {\n",
    "        \"months\": mvol[1:]/mvol[:-1] - 1,\n",
    "        \"weeks\": wvol[1:]/wvol[:-1] - 1\n",
    "    }\n",
    "    \n",
    "    # 反转特征\n",
    "    stats = rsi30 if frame_type == FrameType.MIN30 else rsiday\n",
    "    rsi = relative_strength_index(bars[\"close\"], 6)\n",
    "    features[\"rsi\"] = rsi[-2:]\n",
    "    features[\"prsi\"] = [stats.get_proba(code, r) for r in rsi[-2:]]\n",
    "    feattures[\"rsi_divergency\"] = divergency(rsi, close)\n",
    "    \n",
    "    return features"
   ]
  },
  {
   "cell_type": "code",
   "execution_count": null,
   "id": "dbfe8d4a",
   "metadata": {},
   "outputs": [],
   "source": [
    "await diagnose(\"002139.XSHE\")"
   ]
  },
  {
   "cell_type": "code",
   "execution_count": null,
   "id": "86cf4764",
   "metadata": {},
   "outputs": [],
   "source": [
    "# 东方电热\n",
    "\n",
    "Mbars = jq_get_bars(\"300217.XSHE\", 90, '1d')\n",
    "vol = Mbars[\"volume\"]\n",
    "weeks = len(vol) // 5\n",
    "vol = np.sum(vol[:weeks*5].reshape((-1, 5)), axis=1)\n",
    "plt.plot(vol[1:]/vol[:-1])"
   ]
  },
  {
   "cell_type": "code",
   "execution_count": null,
   "id": "f693b210",
   "metadata": {},
   "outputs": [],
   "source": [
    "close = np.array([3.07, 3.09, 3.21, 3.34, 3.38, 3.7 , 3.77, 3.62, 3.64, 3.5 , 3.46,\n",
    "       3.55, 3.77, 3.76, 3.87, 4.32, 4.1 , 4.11, 3.84, 3.76, 3.94, 4.08,\n",
    "       4.18, 4.03, 4.18, 4.28, 4.24, 4.08, 4.12, 4.16, 4.08, 4.18, 4.04,\n",
    "       3.78, 3.83, 3.76, 3.8 , 3.94, 3.89, 3.9 , 3.8 , 3.86, 4.04, 3.98,\n",
    "       4.1 , 4.17, 4.07, 4.07, 4.05, 4.13, 4.07, 4.3 , 4.42, 4.22, 4.41,\n",
    "       4.44, 4.35, 4.24, 4.65, 4.57, 4.35, 4.6 , 4.48, 4.61, 4.67, 4.55,\n",
    "       4.25, 4.09, 4.1 , 4.06, 4.36, 4.29, 4.31, 4.16, 4.06, 4.14, 3.91,\n",
    "       3.86, 3.78, 3.93, 4.38, 4.3 , 4.2 , 4.56, 4.4 , 4.71, 4.75, 4.7 ,\n",
    "       5.05, 6.06])\n",
    "\n",
    "plt.plot(9, close[-1], \".\")\n",
    "for w in [5, 10, 20, 30]:\n",
    "    ma = moving_average(close, w)[-10:]\n",
    "    plt.plot(ma)"
   ]
  },
  {
   "cell_type": "code",
   "execution_count": null,
   "id": "a490e5a8",
   "metadata": {},
   "outputs": [],
   "source": []
  }
 ],
 "metadata": {
  "interpreter": {
   "hash": "e0991ae97f5ae595dff4e065820c67789f8a838b458f4df83a145fc0afc1ef34"
  },
  "kernelspec": {
   "display_name": "alpha",
   "language": "python",
   "name": "alpha"
  },
  "language_info": {
   "codemirror_mode": {
    "name": "ipython",
    "version": 3
   },
   "file_extension": ".py",
   "mimetype": "text/x-python",
   "name": "python",
   "nbconvert_exporter": "python",
   "pygments_lexer": "ipython3",
   "version": "3.8.12"
  },
  "toc": {
   "base_numbering": 1,
   "nav_menu": {},
   "number_sections": true,
   "sideBar": true,
   "skip_h1_title": false,
   "title_cell": "Table of Contents",
   "title_sidebar": "Contents",
   "toc_cell": false,
   "toc_position": {
    "height": "calc(100% - 180px)",
    "left": "10px",
    "top": "150px",
    "width": "248px"
   },
   "toc_section_display": true,
   "toc_window_display": true
  }
 },
 "nbformat": 4,
 "nbformat_minor": 5
}
