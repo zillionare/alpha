{
 "cells": [
  {
   "cell_type": "markdown",
   "id": "a7a89062",
   "metadata": {},
   "source": [
    "# 智能RSI参数\n",
    "\n",
    "根据个股一年来最低的RSI来判断当前股价是否处于最低位置"
   ]
  },
  {
   "cell_type": "code",
   "execution_count": 1,
   "id": "145bcc1b",
   "metadata": {
    "scrolled": true
   },
   "outputs": [],
   "source": [
    "import traceback\n",
    "\n",
    "await init_notebook()\n",
    "\n",
    "def day(code, value):\n",
    "    return round(rsiday.get_proba(code, value), 2)\n",
    "\n",
    "def m30(code, value):        \n",
    "    return round(rsi30.get_proba(code, value), 2)"
   ]
  },
  {
   "cell_type": "code",
   "execution_count": 2,
   "id": "a594d9e5",
   "metadata": {
    "scrolled": false
   },
   "outputs": [],
   "source": [
    "# rsi = RsiStats(FrameType.MIN30)\n",
    "# await rsi.calc(\"2021-09-30 15:00\")"
   ]
  },
  {
   "cell_type": "code",
   "execution_count": null,
   "id": "8e5983c4",
   "metadata": {
    "scrolled": true
   },
   "outputs": [],
   "source": [
    "# rsiday = RsiStats(FrameType.DAY)\n",
    "# await rsiday.calc(\"2021-09-30\")"
   ]
  },
  {
   "cell_type": "code",
   "execution_count": 2,
   "id": "5fe5b270",
   "metadata": {},
   "outputs": [],
   "source": [
    "async def check_rsi(names, tm=None):\n",
    "    codes = [name_to_code(name) for name in names]\n",
    "        \n",
    "    results = []\n",
    "    for code in codes:\n",
    "        sec = Stock(code)\n",
    "        name = sec.display_name\n",
    "        \n",
    "        ft = FrameType.MIN30\n",
    "        end = arrow.get(tm) if tm else arrow.now()\n",
    "        if end.hour == 0:\n",
    "            end = tf.combine_time(end, hour = 15)\n",
    "            \n",
    "        start = tf.shift(tf.floor(end,ft), -39, ft)\n",
    "        bars = await sec.load_bars(start, end, ft)\n",
    "        bars = bars[np.isfinite(bars[\"close\"])]\n",
    "        \n",
    "        r30 = relative_strength_index(bars[\"close\"])[-3:]\n",
    "        r30 = np.round(r30, 2)\n",
    "        prsi30 = [rsi30.get_proba(code, r) for r in r30]\n",
    "        \n",
    "        ft = FrameType.DAY\n",
    "        end = end.date()\n",
    "        start = tf.day_shift(end, -39)\n",
    "        bars  = await sec.load_bars(start, end, ft)\n",
    "        bars = bars[np.isfinite(bars[\"close\"])]\n",
    "        \n",
    "        rday = relative_strength_index(bars[\"close\"])[-3:]\n",
    "        rday = np.round(rday, 2)\n",
    "        prday = [rsiday.get_proba(code, r) for r in rday]\n",
    "        \n",
    "        flag = \"\"\n",
    "            \n",
    "        try:\n",
    "            if min(prsi30) < 0.1:\n",
    "                print(f\"{name}\\t^\\t{prsi30}\\t30分钟\")\n",
    "            if min(prday) < 0.1:\n",
    "                print(f\"{name}\\t^^\\t{prday}\\t日线\")\n",
    "                \n",
    "            if max(prsi30) >= 0.9:\n",
    "                print(f\"{name}\\tv\\t{prsi30}\\t30分钟\")\n",
    "            if max(prday) >= 0.9:\n",
    "                print(f\"{name}\\tvv\\t{prday}\\t日线\")\n",
    "\n",
    "            if min(prsi30) < 0.1:\n",
    "                flag += \"^\" \n",
    "            elif max(prsi30) >= 0.9:\n",
    "                flag += \"v\"\n",
    "\n",
    "            if min(prday) < 0.1:\n",
    "                flag = \" | ^^\" \n",
    "            elif max(prday) >= 0.9:\n",
    "                flag = \" | vv\"\n",
    "        except Exception:\n",
    "            continue\n",
    "            \n",
    "        results.append([name, code, prday[-1], prsi30[-1], flag])\n",
    "        \n",
    "    return pd.DataFrame(results, columns=[\"name\", \"code\", \"day\", \"30m\", \"Flag\"])\n",
    "            "
   ]
  },
  {
   "cell_type": "markdown",
   "id": "e7a23e78",
   "metadata": {},
   "source": [
    "# 机构调研股"
   ]
  },
  {
   "cell_type": "code",
   "execution_count": null,
   "id": "df9478fb",
   "metadata": {},
   "outputs": [],
   "source": [
    "\n",
    "names = \"\"\"\n",
    "    英科医疗 泉峰汽车 晓鸣股份 宝通科技 合兴股份 新五丰 新亚电子 东南网架 味知香 日发精机 楚天科技 拓维信息 汤姆猫 拓邦股份 \n",
    "    华中数控 朗特智能 国林科技 科博达 瑞丰光电 润建股份 泰晶科技 聚飞光电 四川双马 国民技术 东方电热 云图控股 恒星科技 苏州固锝\n",
    "    金杯电工 伊戈尔 湘潭电化 鑫铂股份 运达股份 东方电气 联创电子\n",
    "\"\"\"\n",
    "\n",
    "df = await check_rsi(names)\n",
    "df"
   ]
  },
  {
   "cell_type": "markdown",
   "id": "ab117f67",
   "metadata": {},
   "source": [
    "# 持仓股和指数"
   ]
  },
  {
   "cell_type": "code",
   "execution_count": 3,
   "id": "95c225ae",
   "metadata": {},
   "outputs": [
    {
     "name": "stderr",
     "output_type": "stream",
     "text": [
      "2021-11-22 10:05:09,167 E 41896 omicron.client.quotes_fetcher:_quotes_server_get:29 | Cannot connect to host 127.0.0.1:3179 ssl:default [Connect call failed ('127.0.0.1', 3179)]\n",
      "Traceback (most recent call last):\n",
      "  File \"/Users/aaronyang/miniforge3/envs/alpha/lib/python3.9/site-packages/aiohttp/connector.py\", line 969, in _wrap_create_connection\n",
      "    return await self._loop.create_connection(*args, **kwargs)  # type: ignore  # noqa\n",
      "  File \"/Users/aaronyang/miniforge3/envs/alpha/lib/python3.9/asyncio/base_events.py\", line 1056, in create_connection\n",
      "    raise exceptions[0]\n",
      "  File \"/Users/aaronyang/miniforge3/envs/alpha/lib/python3.9/asyncio/base_events.py\", line 1041, in create_connection\n",
      "    sock = await self._connect_sock(\n",
      "  File \"/Users/aaronyang/miniforge3/envs/alpha/lib/python3.9/asyncio/base_events.py\", line 955, in _connect_sock\n",
      "    await self.sock_connect(sock, address)\n",
      "  File \"/Users/aaronyang/miniforge3/envs/alpha/lib/python3.9/asyncio/selector_events.py\", line 502, in sock_connect\n",
      "    return await fut\n",
      "  File \"/Users/aaronyang/miniforge3/envs/alpha/lib/python3.9/asyncio/selector_events.py\", line 537, in _sock_connect_cb\n",
      "    raise OSError(err, f'Connect call failed {address}')\n",
      "ConnectionRefusedError: [Errno 61] Connect call failed ('127.0.0.1', 3179)\n",
      "\n",
      "The above exception was the direct cause of the following exception:\n",
      "\n",
      "Traceback (most recent call last):\n",
      "  File \"/Users/aaronyang/miniforge3/envs/alpha/lib/python3.9/site-packages/omicron/client/quotes_fetcher.py\", line 24, in _quotes_server_get\n",
      "    async with client.get(url, json=params) as resp:\n",
      "  File \"/Users/aaronyang/miniforge3/envs/alpha/lib/python3.9/site-packages/aiohttp/client.py\", line 1117, in __aenter__\n",
      "    self._resp = await self._coro\n",
      "  File \"/Users/aaronyang/miniforge3/envs/alpha/lib/python3.9/site-packages/aiohttp/client.py\", line 520, in _request\n",
      "    conn = await self._connector.connect(\n",
      "  File \"/Users/aaronyang/miniforge3/envs/alpha/lib/python3.9/site-packages/aiohttp/connector.py\", line 535, in connect\n",
      "    proto = await self._create_connection(req, traces, timeout)\n",
      "  File \"/Users/aaronyang/miniforge3/envs/alpha/lib/python3.9/site-packages/aiohttp/connector.py\", line 892, in _create_connection\n",
      "    _, proto = await self._create_direct_connection(req, traces, timeout)\n",
      "  File \"/Users/aaronyang/miniforge3/envs/alpha/lib/python3.9/site-packages/aiohttp/connector.py\", line 1051, in _create_direct_connection\n",
      "    raise last_exc\n",
      "  File \"/Users/aaronyang/miniforge3/envs/alpha/lib/python3.9/site-packages/aiohttp/connector.py\", line 1020, in _create_direct_connection\n",
      "    transp, proto = await self._wrap_create_connection(\n",
      "  File \"/Users/aaronyang/miniforge3/envs/alpha/lib/python3.9/site-packages/aiohttp/connector.py\", line 975, in _wrap_create_connection\n",
      "    raise client_error(req.connection_key, exc) from exc\n",
      "aiohttp.client_exceptions.ClientConnectorError: Cannot connect to host 127.0.0.1:3179 ssl:default [Connect call failed ('127.0.0.1', 3179)]\n",
      "2021-11-22 10:05:09,173 W 41896 omicron.client.quotes_fetcher:_quotes_server_get:30 | failed to fetch bars with args: {'sec': '000009.XSHE', 'end': '2021-11-22T10:05:09.161702+08:00', 'n_bars': 2, 'frame_type': '30m', 'include_unclosed': True}\n"
     ]
    },
    {
     "ename": "TypeError",
     "evalue": "object of type 'NoneType' has no len()",
     "output_type": "error",
     "traceback": [
      "\u001b[0;31m---------------------------------------------------------------------------\u001b[0m",
      "\u001b[0;31mTypeError\u001b[0m                                 Traceback (most recent call last)",
      "\u001b[0;32m/var/folders/b5/73vzvtdn4pn_8wt6rpd2tb_w0000gn/T/ipykernel_41896/49405238.py\u001b[0m in \u001b[0;36m<module>\u001b[0;34m\u001b[0m\n\u001b[1;32m      8\u001b[0m ]\n\u001b[1;32m      9\u001b[0m \u001b[0;34m\u001b[0m\u001b[0m\n\u001b[0;32m---> 10\u001b[0;31m \u001b[0;32mawait\u001b[0m \u001b[0mcheck_rsi\u001b[0m\u001b[0;34m(\u001b[0m\u001b[0mnames\u001b[0m\u001b[0;34m)\u001b[0m\u001b[0;34m\u001b[0m\u001b[0;34m\u001b[0m\u001b[0m\n\u001b[0m",
      "\u001b[0;32m/var/folders/b5/73vzvtdn4pn_8wt6rpd2tb_w0000gn/T/ipykernel_41896/425228194.py\u001b[0m in \u001b[0;36mcheck_rsi\u001b[0;34m(names, tm)\u001b[0m\n\u001b[1;32m     13\u001b[0m \u001b[0;34m\u001b[0m\u001b[0m\n\u001b[1;32m     14\u001b[0m         \u001b[0mstart\u001b[0m \u001b[0;34m=\u001b[0m \u001b[0mtf\u001b[0m\u001b[0;34m.\u001b[0m\u001b[0mshift\u001b[0m\u001b[0;34m(\u001b[0m\u001b[0mtf\u001b[0m\u001b[0;34m.\u001b[0m\u001b[0mfloor\u001b[0m\u001b[0;34m(\u001b[0m\u001b[0mend\u001b[0m\u001b[0;34m,\u001b[0m\u001b[0mft\u001b[0m\u001b[0;34m)\u001b[0m\u001b[0;34m,\u001b[0m \u001b[0;34m-\u001b[0m\u001b[0;36m39\u001b[0m\u001b[0;34m,\u001b[0m \u001b[0mft\u001b[0m\u001b[0;34m)\u001b[0m\u001b[0;34m\u001b[0m\u001b[0;34m\u001b[0m\u001b[0m\n\u001b[0;32m---> 15\u001b[0;31m         \u001b[0mbars\u001b[0m \u001b[0;34m=\u001b[0m \u001b[0;32mawait\u001b[0m \u001b[0msec\u001b[0m\u001b[0;34m.\u001b[0m\u001b[0mload_bars\u001b[0m\u001b[0;34m(\u001b[0m\u001b[0mstart\u001b[0m\u001b[0;34m,\u001b[0m \u001b[0mend\u001b[0m\u001b[0;34m,\u001b[0m \u001b[0mft\u001b[0m\u001b[0;34m)\u001b[0m\u001b[0;34m\u001b[0m\u001b[0;34m\u001b[0m\u001b[0m\n\u001b[0m\u001b[1;32m     16\u001b[0m         \u001b[0mbars\u001b[0m \u001b[0;34m=\u001b[0m \u001b[0mbars\u001b[0m\u001b[0;34m[\u001b[0m\u001b[0mnp\u001b[0m\u001b[0;34m.\u001b[0m\u001b[0misfinite\u001b[0m\u001b[0;34m(\u001b[0m\u001b[0mbars\u001b[0m\u001b[0;34m[\u001b[0m\u001b[0;34m\"close\"\u001b[0m\u001b[0;34m]\u001b[0m\u001b[0;34m)\u001b[0m\u001b[0;34m]\u001b[0m\u001b[0;34m\u001b[0m\u001b[0;34m\u001b[0m\u001b[0m\n\u001b[1;32m     17\u001b[0m \u001b[0;34m\u001b[0m\u001b[0m\n",
      "\u001b[0;32m~/miniforge3/envs/alpha/lib/python3.9/site-packages/omicron/models/security.py\u001b[0m in \u001b[0;36mload_bars\u001b[0;34m(self, start, stop, frame_type, fq, turnover)\u001b[0m\n\u001b[1;32m    252\u001b[0m         \u001b[0;32mif\u001b[0m \u001b[0marrow\u001b[0m\u001b[0;34m.\u001b[0m\u001b[0mget\u001b[0m\u001b[0;34m(\u001b[0m\u001b[0mstop\u001b[0m\u001b[0;34m)\u001b[0m \u001b[0;34m>\u001b[0m \u001b[0marrow\u001b[0m\u001b[0;34m.\u001b[0m\u001b[0mget\u001b[0m\u001b[0;34m(\u001b[0m\u001b[0m_stop\u001b[0m\u001b[0;34m)\u001b[0m\u001b[0;34m:\u001b[0m\u001b[0;34m\u001b[0m\u001b[0;34m\u001b[0m\u001b[0m\n\u001b[1;32m    253\u001b[0m             \u001b[0mbars\u001b[0m \u001b[0;34m=\u001b[0m \u001b[0;32mawait\u001b[0m \u001b[0mget_bars\u001b[0m\u001b[0;34m(\u001b[0m\u001b[0mself\u001b[0m\u001b[0;34m.\u001b[0m\u001b[0mcode\u001b[0m\u001b[0;34m,\u001b[0m \u001b[0mstop\u001b[0m\u001b[0;34m,\u001b[0m \u001b[0;36m2\u001b[0m\u001b[0;34m,\u001b[0m \u001b[0mframe_type\u001b[0m\u001b[0;34m)\u001b[0m\u001b[0;34m\u001b[0m\u001b[0;34m\u001b[0m\u001b[0m\n\u001b[0;32m--> 254\u001b[0;31m             \u001b[0;32mif\u001b[0m \u001b[0mlen\u001b[0m\u001b[0;34m(\u001b[0m\u001b[0mbars\u001b[0m\u001b[0;34m)\u001b[0m \u001b[0;34m==\u001b[0m \u001b[0;36m2\u001b[0m \u001b[0;32mand\u001b[0m \u001b[0mbars\u001b[0m\u001b[0;34m[\u001b[0m\u001b[0;36m0\u001b[0m\u001b[0;34m]\u001b[0m\u001b[0;34m[\u001b[0m\u001b[0;34m\"frame\"\u001b[0m\u001b[0;34m]\u001b[0m \u001b[0;34m==\u001b[0m \u001b[0mself\u001b[0m\u001b[0;34m.\u001b[0m\u001b[0m_bars\u001b[0m\u001b[0;34m[\u001b[0m\u001b[0;34m-\u001b[0m\u001b[0;36m1\u001b[0m\u001b[0;34m]\u001b[0m\u001b[0;34m[\u001b[0m\u001b[0;34m\"frame\"\u001b[0m\u001b[0;34m]\u001b[0m\u001b[0;34m:\u001b[0m\u001b[0;34m\u001b[0m\u001b[0;34m\u001b[0m\u001b[0m\n\u001b[0m\u001b[1;32m    255\u001b[0m                 \u001b[0mself\u001b[0m\u001b[0;34m.\u001b[0m\u001b[0m_bars\u001b[0m \u001b[0;34m=\u001b[0m \u001b[0mnp\u001b[0m\u001b[0;34m.\u001b[0m\u001b[0mappend\u001b[0m\u001b[0;34m(\u001b[0m\u001b[0mself\u001b[0m\u001b[0;34m.\u001b[0m\u001b[0m_bars\u001b[0m\u001b[0;34m,\u001b[0m \u001b[0mbars\u001b[0m\u001b[0;34m[\u001b[0m\u001b[0;36m1\u001b[0m\u001b[0;34m]\u001b[0m\u001b[0;34m)\u001b[0m\u001b[0;34m\u001b[0m\u001b[0;34m\u001b[0m\u001b[0m\n\u001b[1;32m    256\u001b[0m \u001b[0;34m\u001b[0m\u001b[0m\n",
      "\u001b[0;31mTypeError\u001b[0m: object of type 'NoneType' has no len()"
     ]
    }
   ],
   "source": [
    "names = [    \n",
    "    \"中国宝安\",\n",
    "    \"方大集团\",\n",
    "    \"天齐锂业\",\n",
    "    \"利亚德\",\n",
    "    \"东方电气\",\n",
    "    \"上证指数\"\n",
    "]\n",
    "\n",
    "await check_rsi(names)"
   ]
  },
  {
   "cell_type": "code",
   "execution_count": 3,
   "id": "93af6176",
   "metadata": {},
   "outputs": [
    {
     "data": {
      "text/plain": [
       "0.94"
      ]
     },
     "execution_count": 3,
     "metadata": {},
     "output_type": "execute_result"
    },
    {
     "name": "stderr",
     "output_type": "stream",
     "text": [
      "Exception in thread Thread-8:\n",
      "Traceback (most recent call last):\n",
      "  File \"/Users/aaronyang/miniforge3/envs/alpha/lib/python3.9/site-packages/cfg4py/core.py\", line 357, in _load_from_local_file\n",
      "    ext = _guess_extension()\n",
      "  File \"/Users/aaronyang/miniforge3/envs/alpha/lib/python3.9/site-packages/cfg4py/core.py\", line 305, in _guess_extension\n",
      "    raise FileNotFoundError(msg)\n",
      "FileNotFoundError: No config files present, or file format is not yaml.\n",
      "\n",
      "During handling of the above exception, another exception occurred:\n",
      "\n",
      "Traceback (most recent call last):\n",
      "  File \"/Users/aaronyang/miniforge3/envs/alpha/lib/python3.9/threading.py\", line 973, in _bootstrap_inner\n",
      "    self.run()\n",
      "  File \"/Users/aaronyang/miniforge3/envs/alpha/lib/python3.9/site-packages/watchdog/observers/api.py\", line 199, in run\n",
      "    self.dispatch_events(self.event_queue, self.timeout)\n",
      "  File \"/Users/aaronyang/miniforge3/envs/alpha/lib/python3.9/site-packages/watchdog/observers/api.py\", line 372, in dispatch_events\n",
      "    handler.dispatch(event)\n",
      "  File \"/Users/aaronyang/miniforge3/envs/alpha/lib/python3.9/site-packages/cfg4py/core.py\", line 67, in dispatch\n",
      "    _load_from_local_file()\n",
      "  File \"/Users/aaronyang/miniforge3/envs/alpha/lib/python3.9/site-packages/cfg4py/core.py\", line 387, in _load_from_local_file\n",
      "    if e.filename.find(\"defaults\") != -1:\n",
      "AttributeError: 'NoneType' object has no attribute 'find'\n"
     ]
    }
   ],
   "source": [
    "m30(\"000001.XSHG\", 81.5)"
   ]
  },
  {
   "cell_type": "code",
   "execution_count": null,
   "id": "d844b166",
   "metadata": {},
   "outputs": [],
   "source": [
    "day(\"605005\", 7.63)"
   ]
  },
  {
   "cell_type": "markdown",
   "id": "82f3d4a5",
   "metadata": {},
   "source": [
    "# RSI底背离\n",
    "\n",
    "2021年10月27日14：30，崇达技术（002815)出现30分钟底背离，同时日线RSI也处在低位（三个月前放量后，一直缩量阴跌）。此后连续放量，三个涨停。"
   ]
  },
  {
   "cell_type": "code",
   "execution_count": null,
   "id": "304add4b",
   "metadata": {},
   "outputs": [],
   "source": [
    "code = \"002815.XSHE\"\n",
    "mbars = await get_bars(code, 60, '30m', end='2021-10-27 15:00')\n",
    "\n",
    "mclose = mbars[\"close\"]\n",
    "mframe = mbars[\"frame\"]\n",
    "\n",
    "dbars = await get_bars(code, 90, '1d', end='2021-10-27 15:00')"
   ]
  },
  {
   "cell_type": "code",
   "execution_count": null,
   "id": "295c661b",
   "metadata": {},
   "outputs": [],
   "source": [
    "r30 = relative_strength_index(mclose)\n",
    "divergency(r30[-20:], mclose[-20:])"
   ]
  },
  {
   "cell_type": "code",
   "execution_count": null,
   "id": "e89e370a",
   "metadata": {},
   "outputs": [],
   "source": [
    "async def diagnose(code, frame_type):\n",
    "    \"\"\"提取个股的日线和30分钟线特征，并给出建议\"\"\"\n",
    "    bars = await get_bars(code, 250, '1d')\n",
    "    print(len(bars))\n",
    "    close = bars[\"close\"]\n",
    "\n",
    "    features = {}\n",
    "    \n",
    "    features[\"price_change\"] = {\n",
    "        \"max_year_gains\": close[-1] / min(close) - 1 if len(close) >= 250 else np.nan,\n",
    "        \"max_year_loss\": close[-1] / max(close) - 1 if len(close) >= 250 else np.nan,\n",
    "        \"max_quater_gains\": close[-1] / min(close[-60:]) - 1 if len(close) >= 60 else np.nan,\n",
    "        \"max_quater_loss\": close[-1] / max(close[-60:]) - 1 if len(close) >= 60 else np.nan,\n",
    "        \"max_mon_gains\": close[-1] / min(close[-20:]) - 1 if len(close) >= 20 else np.nan,\n",
    "        \"max_mon_loss\": close[-1] / max(close[-20:]) - 1 if len(close) >= 10 else np.nan,\n",
    "        \"max_week_gains\": close[-1] / min(close[-5:]) - 1 if len(close) >= 5 else np.nan,\n",
    "        \"max_week_loss\": close[-1] / max(close[-5:]) - 1 if len(close) >= 5 else np.nan\n",
    "    }\n",
    "\n",
    "    # 当前股价在一个季度以来的高度\n",
    "    if len(bars) >= 60:\n",
    "        features[\"altitude\"] = altitude(bars[-60:])\n",
    "    elif len(bars) >= 20:\n",
    "        features[\"alt_20\"] = altitude(bars[-20:])\n",
    "        \n",
    "    # 量能变化 over weeks\n",
    "    volume = bars[\"volume\"][-60:]\n",
    "    \n",
    "    weeks = len(volume) // 5\n",
    "    wvol = np.sum(volume[:weeks * 5].reshape((-1, 5)), axis=1)\n",
    "    \n",
    "    months = len(volume) // 20\n",
    "    mvol = np.sum(volume[:months * 20].reshape((-1, 20)), axis=1)\n",
    "    \n",
    "    features[\"vol_change\"] = {\n",
    "        \"months\": mvol[1:]/mvol[:-1] - 1,\n",
    "        \"weeks\": wvol[1:]/wvol[:-1] - 1\n",
    "    }\n",
    "    \n",
    "    # 反转特征\n",
    "    stats = rsi30 if frame_type == FrameType.MIN30 else rsiday\n",
    "    rsi = relative_strength_index(bars[\"close\"], 6)\n",
    "    features[\"rsi\"] = rsi[-2:]\n",
    "    features[\"prsi\"] = [stats.get_proba(code, r) for r in rsi[-2:]]\n",
    "    feattures[\"rsi_divergency\"] = divergency(rsi, close)\n",
    "    \n",
    "    return features"
   ]
  },
  {
   "cell_type": "code",
   "execution_count": null,
   "id": "dbfe8d4a",
   "metadata": {},
   "outputs": [],
   "source": [
    "await diagnose(\"002139.XSHE\")"
   ]
  },
  {
   "cell_type": "code",
   "execution_count": null,
   "id": "86cf4764",
   "metadata": {},
   "outputs": [],
   "source": [
    "# 东方电热\n",
    "\n",
    "Mbars = jq_get_bars(\"300217.XSHE\", 90, '1d')\n",
    "vol = Mbars[\"volume\"]\n",
    "weeks = len(vol) // 5\n",
    "vol = np.sum(vol[:weeks*5].reshape((-1, 5)), axis=1)\n",
    "plt.plot(vol[1:]/vol[:-1])"
   ]
  },
  {
   "cell_type": "code",
   "execution_count": 5,
   "id": "66fd2311",
   "metadata": {},
   "outputs": [
    {
     "data": {
      "text/plain": [
       "0.16"
      ]
     },
     "execution_count": 5,
     "metadata": {},
     "output_type": "execute_result"
    }
   ],
   "source": [
    "day(\"000153.XSHE\", 31)"
   ]
  },
  {
   "cell_type": "code",
   "execution_count": null,
   "id": "c56cc26f",
   "metadata": {},
   "outputs": [],
   "source": []
  }
 ],
 "metadata": {
  "interpreter": {
   "hash": "e0991ae97f5ae595dff4e065820c67789f8a838b458f4df83a145fc0afc1ef34"
  },
  "kernelspec": {
   "display_name": "alpha",
   "language": "python",
   "name": "alpha"
  },
  "language_info": {
   "codemirror_mode": {
    "name": "ipython",
    "version": 3
   },
   "file_extension": ".py",
   "mimetype": "text/x-python",
   "name": "python",
   "nbconvert_exporter": "python",
   "pygments_lexer": "ipython3",
   "version": "3.9.7"
  },
  "toc": {
   "base_numbering": 1,
   "nav_menu": {},
   "number_sections": true,
   "sideBar": true,
   "skip_h1_title": false,
   "title_cell": "Table of Contents",
   "title_sidebar": "Contents",
   "toc_cell": false,
   "toc_position": {
    "height": "calc(100% - 180px)",
    "left": "10px",
    "top": "150px",
    "width": "248px"
   },
   "toc_section_display": true,
   "toc_window_display": true
  }
 },
 "nbformat": 4,
 "nbformat_minor": 5
}
