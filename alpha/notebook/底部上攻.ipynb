{
 "cells": [
  {
   "cell_type": "markdown",
   "id": "c5032997",
   "metadata": {},
   "source": [
    "# 上攻形态的研究"
   ]
  },
  {
   "cell_type": "code",
   "execution_count": 1,
   "id": "d6802064",
   "metadata": {},
   "outputs": [],
   "source": [
    "from alpha.notebook import *\n",
    "from alpha.core.rsi_stats import rsiday, rsi30\n",
    "import json\n",
    "\n",
    "await init_notebook(use_omicron=True)\n",
    "\n",
    "async def report(key:str, params:dict, result_df:pd.DataFrame):\n",
    "    \"\"\"key must be unique, contains a date\"\"\"\n",
    "    await omicron.cache.sys.hmset_dict(key, params)\n",
    "    \n",
    "    html = f\"\"\"\n",
    "    <html>\n",
    "    <head>\n",
    "        <style>\n",
    "            table, th, td {{\n",
    "                border-collapse: collapse;\n",
    "                border: 0px;\n",
    "                color: #666;\n",
    "            }}\n",
    "        </style>\n",
    "    </head>\n",
    "    <body>\n",
    "    <h2 style=\"color:#c21\">底部上攻</h2>\n",
    "    {build_table(result_df, \"grey_light\")}\n",
    "    </body>\n",
    "    </html>\n",
    "    \"\"\"\n",
    "    send_html_email(f\"底部上攻 {key}\", html)"
   ]
  },
  {
   "cell_type": "markdown",
   "id": "dbf70917",
   "metadata": {},
   "source": [
    "# 放量三连阳\n",
    "\n",
    "三连阳，且最大量超启动前倍量，prsi处于中位"
   ]
  },
  {
   "cell_type": "code",
   "execution_count": null,
   "id": "fa09009e",
   "metadata": {},
   "outputs": [],
   "source": [
    "async def scan(trigger, n, results, frame_type=FrameType.DAY, tm=None):\n",
    "    end = arrow.get(tm) if tm else arrow.now()\n",
    "    start = tf.shift(tf.floor(end, frame_type), -n+1, frame_type)\n",
    "    for code in Stock.choose([\"stock\"]):\n",
    "        sec = Stock(code)\n",
    "        try:\n",
    "            bars = await sec.load_bars(start, end, frame_type)\n",
    "            bars = bars[np.isfinite(bars[\"close\"])]\n",
    "\n",
    "            trigger(code, bars, results, frame_type)\n",
    "        except Exception:\n",
    "            continue\n",
    "    return results"
   ]
  },
  {
   "cell_type": "code",
   "execution_count": null,
   "id": "45c035e5",
   "metadata": {},
   "outputs": [],
   "source": [
    "def three_red_soldiers(code, bars, results, frame_type):\n",
    "    bullish = bars[\"close\"] >= bars[\"open\"]\n",
    "    if np.all(bullish[-3:]):\n",
    "        v3, v2, v1, v0 = bars[\"volume\"][-4:]\n",
    "        if np.mean([v2,v1,v0]) < 2 * v3:\n",
    "            return\n",
    "\n",
    "        vr = round(np.mean([v2, v1, v0]) / v3, 1)\n",
    "\n",
    "        rsi = relative_strength_index(bars[\"close\"], 6)[-3:]\n",
    "\n",
    "        stats = rsiday if frame_type == FrameType.DAY else rsi30\n",
    "        prsi = [stats.get_proba(code, r) for r in rsi]\n",
    "\n",
    "        name = Stock(code).display_name\n",
    "        results.append([name, code, vr, *rsi, *prsi])"
   ]
  },
  {
   "cell_type": "code",
   "execution_count": null,
   "id": "f13e46e6",
   "metadata": {},
   "outputs": [],
   "source": [
    "results = []\n",
    "await scan(three_red_soldiers, 40, results)\n",
    "df = pd.DataFrame(results, columns=[\"name\", \"code\", \"vr\", \"rsi2\", \"rsi1\", \"rsi0\", \"prsi2\", \"prsi1\", \"prsi0\"])"
   ]
  },
  {
   "cell_type": "code",
   "execution_count": null,
   "id": "ad71f2cb",
   "metadata": {},
   "outputs": [],
   "source": [
    "df[(df.prsi0<0.7)&(df.prsi0>0.5)]"
   ]
  },
  {
   "cell_type": "code",
   "execution_count": 2,
   "id": "dfec7727",
   "metadata": {},
   "outputs": [
    {
     "data": {
      "text/plain": [
       "array([0, 3, 2, 4, 1, 6, 5])"
      ]
     },
     "execution_count": 2,
     "metadata": {},
     "output_type": "execute_result"
    }
   ],
   "source": [
    "a = [1,4,3,5,2,7,6]\n",
    "rank(a)"
   ]
  },
  {
   "cell_type": "code",
   "execution_count": null,
   "id": "dad06e86",
   "metadata": {},
   "outputs": [],
   "source": []
  }
 ],
 "metadata": {
  "kernelspec": {
   "display_name": "Python 3.8.12 64-bit ('alpha': conda)",
   "language": "python",
   "name": "python3812jvsc74a57bd0e0991ae97f5ae595dff4e065820c67789f8a838b458f4df83a145fc0afc1ef34"
  },
  "language_info": {
   "codemirror_mode": {
    "name": "ipython",
    "version": 3
   },
   "file_extension": ".py",
   "mimetype": "text/x-python",
   "name": "python",
   "nbconvert_exporter": "python",
   "pygments_lexer": "ipython3",
   "version": "3.9.7"
  },
  "toc": {
   "base_numbering": 1,
   "nav_menu": {},
   "number_sections": true,
   "sideBar": true,
   "skip_h1_title": false,
   "title_cell": "Table of Contents",
   "title_sidebar": "Contents",
   "toc_cell": false,
   "toc_position": {},
   "toc_section_display": true,
   "toc_window_display": true
  }
 },
 "nbformat": 4,
 "nbformat_minor": 5
}
