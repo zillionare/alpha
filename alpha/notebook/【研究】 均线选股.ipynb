{
 "cells": [
  {
   "cell_type": "markdown",
   "id": "88016653",
   "metadata": {},
   "source": [
    "# 背景\n",
    "\n",
    "利用均线特征中的强势股特征进行选股。比如合力科技在2021年11月2日收盘时满足：\n",
    "\n",
    "| 多头(30 60 120)    | 10              |\n",
    "|------------------|-----------------|\n",
    "| 5x10             | 6日前死叉           |\n",
    "| 10x20            | 2日前死叉           |\n",
    "| 支撑线              | 20日均线           |\n",
    "| 支撑位              | 0.1%            |\n",
    "| 趋势线              | 沿30日线上行         |\n",
    "| 一阳穿多线            | 5 10 20日均线      |\n",
    "\n",
    "\n",
    "此后开启一波凌历上涨，13个交易日翻倍。此外，它还有以下特征：\n",
    "\n",
    "1. 7月8日连续2日放量\n",
    "2. 9月23日连续两日放量\n",
    "3. 上述两日均出现涨停"
   ]
  },
  {
   "cell_type": "code",
   "execution_count": 1,
   "id": "41cf613f",
   "metadata": {},
   "outputs": [],
   "source": [
    "from alpha.notebook import *\n",
    "from alpha.core.rsi_stats import rsi30, rsiday\n",
    "await init_notebook()"
   ]
  },
  {
   "cell_type": "code",
   "execution_count": 5,
   "id": "a57a637a",
   "metadata": {},
   "outputs": [],
   "source": [
    "def features(code, name, bars, results, frame_type):\n",
    "    try:\n",
    "        mafeatures = MaLineFeatures(bars)\n",
    "    except Exception:\n",
    "        return\n",
    "    \n",
    "    vec = mafeatures.as_vector()\n",
    "    \n",
    "    if frame_type == FrameType.MIN30:\n",
    "        stats = rsi30\n",
    "    else:\n",
    "        stats = rsiday\n",
    "        \n",
    "    rsi = relative_strength_index(bars[\"close\"][-30:])[-1]\n",
    "    prob = stats.get_proba(code, rsi)\n",
    "    \n",
    "    results.append((name, code, *vec, rsi, prob))\n",
    "    \n",
    "def features_and_label(code, name, bars, results, frame_type):\n",
    "    \"\"\"\n",
    "    从后10个bar中提取label\n",
    "    \"\"\"\n",
    "    print(len(bars))\n",
    "    xbars = bars[:-10]\n",
    "    ybars = bars[-10:]\n",
    "    xclose = xbars[\"close\"]\n",
    "    yclose = ybars[\"close\"]\n",
    "    \n",
    "    pmax = np.argmax(yclose)\n",
    "    pmin = np.argmin(yclose)\n",
    "\n",
    "    if pmax == 0: # 单边下跌\n",
    "        y = False\n",
    "\n",
    "\n",
    "    if pmin < pmax and yclose[pmin]/xclose[-1] - 1 <= -0.05:\n",
    "        y = False\n",
    "\n",
    "    y = (yclose[pmax]/xclose[-1] - 1) > 0.1\n",
    "    \n",
    "    mafeatures = MaLineFeatures(xbars)\n",
    "    \n",
    "    vec = mafeatures.as_vector()\n",
    "    \n",
    "    if frame_type == FrameType.MIN30:\n",
    "        stats = rsi30\n",
    "    else:\n",
    "        stats = rsiday\n",
    "        \n",
    "    # RSI反转特征\n",
    "    rsi = relative_strength_index(xclose[-30:])[-1]\n",
    "    prob = stats.get_proba(code, rsi)\n",
    "    \n",
    "    # 成交量特征\n",
    "    vol_features = top_volume_direction(xbars)\n",
    "    \n",
    "    results.append((name, code, xbars[-1][\"frame\"], *vec, *vol_features, rsi, prob, y))"
   ]
  },
  {
   "cell_type": "code",
   "execution_count": 12,
   "id": "ca5da98d",
   "metadata": {},
   "outputs": [
    {
     "name": "stderr",
     "output_type": "stream",
     "text": [
      "2021-11-21 15:53:56,084 E 8207 alpha.notebook:scan:255 | not enough bars, 129 required, 68 passed\n",
      "Traceback (most recent call last):\n",
      "  File \"/Users/aaronyang/miniforge3/envs/alpha/lib/python3.9/site-packages/alpha/notebook/__init__.py\", line 252, in scan\n",
      "    trigger(code, name, bars, results, frame_type)\n",
      "  File \"/var/folders/b5/73vzvtdn4pn_8wt6rpd2tb_w0000gn/T/ipykernel_8207/792456949.py\", line 41, in features_and_label\n",
      "    mafeatures = MaLineFeatures(xbars)\n",
      "  File \"/Users/aaronyang/miniforge3/envs/alpha/lib/python3.9/site-packages/alpha/features/maline.py\", line 30, in __init__\n",
      "    raise ValueError(f\"not enough bars, {min_bars} required, {len(bars)} passed\")\n",
      "ValueError: not enough bars, 129 required, 68 passed\n",
      "2021-11-21 15:53:56,090 E 8207 alpha.notebook:scan:255 | not enough bars, 129 required, 68 passed\n",
      "Traceback (most recent call last):\n",
      "  File \"/Users/aaronyang/miniforge3/envs/alpha/lib/python3.9/site-packages/alpha/notebook/__init__.py\", line 252, in scan\n",
      "    trigger(code, name, bars, results, frame_type)\n",
      "  File \"/var/folders/b5/73vzvtdn4pn_8wt6rpd2tb_w0000gn/T/ipykernel_8207/792456949.py\", line 41, in features_and_label\n",
      "    mafeatures = MaLineFeatures(xbars)\n",
      "  File \"/Users/aaronyang/miniforge3/envs/alpha/lib/python3.9/site-packages/alpha/features/maline.py\", line 30, in __init__\n",
      "    raise ValueError(f\"not enough bars, {min_bars} required, {len(bars)} passed\")\n",
      "ValueError: not enough bars, 129 required, 68 passed\n",
      "2021-11-21 15:53:56,096 E 8207 alpha.notebook:scan:255 | not enough bars, 129 required, 68 passed\n",
      "Traceback (most recent call last):\n",
      "  File \"/Users/aaronyang/miniforge3/envs/alpha/lib/python3.9/site-packages/alpha/notebook/__init__.py\", line 252, in scan\n",
      "    trigger(code, name, bars, results, frame_type)\n",
      "  File \"/var/folders/b5/73vzvtdn4pn_8wt6rpd2tb_w0000gn/T/ipykernel_8207/792456949.py\", line 41, in features_and_label\n",
      "    mafeatures = MaLineFeatures(xbars)\n",
      "  File \"/Users/aaronyang/miniforge3/envs/alpha/lib/python3.9/site-packages/alpha/features/maline.py\", line 30, in __init__\n",
      "    raise ValueError(f\"not enough bars, {min_bars} required, {len(bars)} passed\")\n",
      "ValueError: not enough bars, 129 required, 68 passed\n",
      "2021-11-21 15:53:56,101 E 8207 alpha.notebook:scan:255 | not enough bars, 129 required, 68 passed\n",
      "Traceback (most recent call last):\n",
      "  File \"/Users/aaronyang/miniforge3/envs/alpha/lib/python3.9/site-packages/alpha/notebook/__init__.py\", line 252, in scan\n",
      "    trigger(code, name, bars, results, frame_type)\n",
      "  File \"/var/folders/b5/73vzvtdn4pn_8wt6rpd2tb_w0000gn/T/ipykernel_8207/792456949.py\", line 41, in features_and_label\n",
      "    mafeatures = MaLineFeatures(xbars)\n",
      "  File \"/Users/aaronyang/miniforge3/envs/alpha/lib/python3.9/site-packages/alpha/features/maline.py\", line 30, in __init__\n",
      "    raise ValueError(f\"not enough bars, {min_bars} required, {len(bars)} passed\")\n",
      "ValueError: not enough bars, 129 required, 68 passed\n",
      "2021-11-21 15:53:56,107 E 8207 alpha.notebook:scan:255 | not enough bars, 129 required, 68 passed\n",
      "Traceback (most recent call last):\n",
      "  File \"/Users/aaronyang/miniforge3/envs/alpha/lib/python3.9/site-packages/alpha/notebook/__init__.py\", line 252, in scan\n",
      "    trigger(code, name, bars, results, frame_type)\n",
      "  File \"/var/folders/b5/73vzvtdn4pn_8wt6rpd2tb_w0000gn/T/ipykernel_8207/792456949.py\", line 41, in features_and_label\n",
      "    mafeatures = MaLineFeatures(xbars)\n",
      "  File \"/Users/aaronyang/miniforge3/envs/alpha/lib/python3.9/site-packages/alpha/features/maline.py\", line 30, in __init__\n",
      "    raise ValueError(f\"not enough bars, {min_bars} required, {len(bars)} passed\")\n",
      "ValueError: not enough bars, 129 required, 68 passed\n",
      "2021-11-21 15:53:56,113 E 8207 alpha.notebook:scan:255 | not enough bars, 129 required, 68 passed\n",
      "Traceback (most recent call last):\n",
      "  File \"/Users/aaronyang/miniforge3/envs/alpha/lib/python3.9/site-packages/alpha/notebook/__init__.py\", line 252, in scan\n",
      "    trigger(code, name, bars, results, frame_type)\n",
      "  File \"/var/folders/b5/73vzvtdn4pn_8wt6rpd2tb_w0000gn/T/ipykernel_8207/792456949.py\", line 41, in features_and_label\n",
      "    mafeatures = MaLineFeatures(xbars)\n",
      "  File \"/Users/aaronyang/miniforge3/envs/alpha/lib/python3.9/site-packages/alpha/features/maline.py\", line 30, in __init__\n",
      "    raise ValueError(f\"not enough bars, {min_bars} required, {len(bars)} passed\")\n",
      "ValueError: not enough bars, 129 required, 68 passed\n",
      "2021-11-21 15:53:56,117 E 8207 alpha.notebook:scan:255 | not enough bars, 129 required, 68 passed\n",
      "Traceback (most recent call last):\n",
      "  File \"/Users/aaronyang/miniforge3/envs/alpha/lib/python3.9/site-packages/alpha/notebook/__init__.py\", line 252, in scan\n",
      "    trigger(code, name, bars, results, frame_type)\n",
      "  File \"/var/folders/b5/73vzvtdn4pn_8wt6rpd2tb_w0000gn/T/ipykernel_8207/792456949.py\", line 41, in features_and_label\n",
      "    mafeatures = MaLineFeatures(xbars)\n",
      "  File \"/Users/aaronyang/miniforge3/envs/alpha/lib/python3.9/site-packages/alpha/features/maline.py\", line 30, in __init__\n",
      "    raise ValueError(f\"not enough bars, {min_bars} required, {len(bars)} passed\")\n",
      "ValueError: not enough bars, 129 required, 68 passed\n",
      "2021-11-21 15:53:56,123 E 8207 alpha.notebook:scan:255 | not enough bars, 129 required, 68 passed\n",
      "Traceback (most recent call last):\n",
      "  File \"/Users/aaronyang/miniforge3/envs/alpha/lib/python3.9/site-packages/alpha/notebook/__init__.py\", line 252, in scan\n",
      "    trigger(code, name, bars, results, frame_type)\n",
      "  File \"/var/folders/b5/73vzvtdn4pn_8wt6rpd2tb_w0000gn/T/ipykernel_8207/792456949.py\", line 41, in features_and_label\n",
      "    mafeatures = MaLineFeatures(xbars)\n",
      "  File \"/Users/aaronyang/miniforge3/envs/alpha/lib/python3.9/site-packages/alpha/features/maline.py\", line 30, in __init__\n",
      "    raise ValueError(f\"not enough bars, {min_bars} required, {len(bars)} passed\")\n",
      "ValueError: not enough bars, 129 required, 68 passed\n",
      "2021-11-21 15:53:56,128 E 8207 alpha.notebook:scan:255 | not enough bars, 129 required, 68 passed\n",
      "Traceback (most recent call last):\n",
      "  File \"/Users/aaronyang/miniforge3/envs/alpha/lib/python3.9/site-packages/alpha/notebook/__init__.py\", line 252, in scan\n",
      "    trigger(code, name, bars, results, frame_type)\n",
      "  File \"/var/folders/b5/73vzvtdn4pn_8wt6rpd2tb_w0000gn/T/ipykernel_8207/792456949.py\", line 41, in features_and_label\n",
      "    mafeatures = MaLineFeatures(xbars)\n",
      "  File \"/Users/aaronyang/miniforge3/envs/alpha/lib/python3.9/site-packages/alpha/features/maline.py\", line 30, in __init__\n",
      "    raise ValueError(f\"not enough bars, {min_bars} required, {len(bars)} passed\")\n",
      "ValueError: not enough bars, 129 required, 68 passed\n"
     ]
    },
    {
     "name": "stdout",
     "output_type": "stream",
     "text": [
      "78\n",
      "78\n",
      "78\n",
      "78\n",
      "78\n",
      "78\n",
      "78\n",
      "78\n",
      "78\n"
     ]
    },
    {
     "data": {
      "text/plain": [
       "0"
      ]
     },
     "execution_count": 12,
     "metadata": {},
     "output_type": "execute_result"
    }
   ],
   "source": [
    "results = await scan(features_and_label, 100, nstocks=10, silent=False)\n",
    "len(results)"
   ]
  },
  {
   "cell_type": "code",
   "execution_count": null,
   "id": "f9450698",
   "metadata": {},
   "outputs": [],
   "source": [
    "columns = [\"name\", \"code\",\"frame\", *mf.feature_names, \"v1\", \"v2\", \"rsi\", \"prsi\", \"y\"]\n",
    "df = pd.DataFrame(results, columns=columns)"
   ]
  },
  {
   "cell_type": "code",
   "execution_count": null,
   "id": "0c298b08",
   "metadata": {},
   "outputs": [],
   "source": [
    "pd.options.display.max_rows = 500\n",
    "df[(df[\"parallel(30,60,120)\"]>0)&(df.bull_strike>2) &(df.supress.isna()) & (df.trendline==30)]"
   ]
  },
  {
   "cell_type": "code",
   "execution_count": 21,
   "id": "8f10b432",
   "metadata": {},
   "outputs": [
    {
     "data": {
      "text/plain": [
       "15"
      ]
     },
     "execution_count": 21,
     "metadata": {},
     "output_type": "execute_result"
    }
   ],
   "source": [
    "day_bars = await get_bars('603917.XSHG', 160, '1d', end = '2021-11-03')\n",
    "mf = MaLineFeatures(day_bars)\n",
    "len(mf.feature_names)"
   ]
  },
  {
   "cell_type": "code",
   "execution_count": 13,
   "id": "a4cd0440",
   "metadata": {},
   "outputs": [],
   "source": [
    "zgba = await get_bars(\"000009.XSHE\", 180, \"1d\")"
   ]
  },
  {
   "cell_type": "code",
   "execution_count": null,
   "id": "88f0d521",
   "metadata": {},
   "outputs": [],
   "source": [
    "results = []\n",
    "features_and_label(\"000009.XSHE\", \"中国宝安\", zgba, results, FrameType.DAY)"
   ]
  },
  {
   "cell_type": "code",
   "execution_count": 17,
   "id": "89a4a62a",
   "metadata": {},
   "outputs": [
    {
     "data": {
      "text/plain": [
       "array([datetime.date(2021, 9, 1), datetime.date(2021, 9, 2),\n",
       "       datetime.date(2021, 9, 3), datetime.date(2021, 9, 6),\n",
       "       datetime.date(2021, 9, 7), datetime.date(2021, 9, 8),\n",
       "       datetime.date(2021, 9, 9), datetime.date(2021, 9, 10),\n",
       "       datetime.date(2021, 9, 13), datetime.date(2021, 9, 14),\n",
       "       datetime.date(2021, 9, 15), datetime.date(2021, 9, 16),\n",
       "       datetime.date(2021, 9, 17), datetime.date(2021, 9, 22),\n",
       "       datetime.date(2021, 9, 23), datetime.date(2021, 9, 24),\n",
       "       datetime.date(2021, 9, 27), datetime.date(2021, 9, 28),\n",
       "       datetime.date(2021, 9, 29), datetime.date(2021, 9, 30),\n",
       "       datetime.date(2021, 10, 8), datetime.date(2021, 10, 11),\n",
       "       datetime.date(2021, 10, 12), datetime.date(2021, 10, 13),\n",
       "       datetime.date(2021, 10, 14), datetime.date(2021, 10, 15),\n",
       "       datetime.date(2021, 10, 18), datetime.date(2021, 10, 19),\n",
       "       datetime.date(2021, 10, 20), datetime.date(2021, 10, 21),\n",
       "       datetime.date(2021, 10, 22), datetime.date(2021, 10, 25),\n",
       "       datetime.date(2021, 10, 26), datetime.date(2021, 10, 27),\n",
       "       datetime.date(2021, 10, 28), datetime.date(2021, 10, 29),\n",
       "       datetime.date(2021, 11, 1), datetime.date(2021, 11, 2),\n",
       "       datetime.date(2021, 11, 3), datetime.date(2021, 11, 4),\n",
       "       datetime.date(2021, 11, 5), datetime.date(2021, 11, 8),\n",
       "       datetime.date(2021, 11, 9), datetime.date(2021, 11, 10),\n",
       "       datetime.date(2021, 11, 11), datetime.date(2021, 11, 12),\n",
       "       datetime.date(2021, 11, 15), datetime.date(2021, 11, 16),\n",
       "       datetime.date(2021, 11, 17), datetime.date(2021, 11, 18),\n",
       "       datetime.date(2021, 11, 19)], dtype=object)"
      ]
     },
     "execution_count": 17,
     "metadata": {},
     "output_type": "execute_result"
    }
   ],
   "source": []
  },
  {
   "cell_type": "code",
   "execution_count": null,
   "id": "986541bd",
   "metadata": {},
   "outputs": [],
   "source": []
  }
 ],
 "metadata": {
  "kernelspec": {
   "display_name": "Python 3.8.12 64-bit ('alpha': conda)",
   "language": "python",
   "name": "python3812jvsc74a57bd0e0991ae97f5ae595dff4e065820c67789f8a838b458f4df83a145fc0afc1ef34"
  },
  "language_info": {
   "codemirror_mode": {
    "name": "ipython",
    "version": 3
   },
   "file_extension": ".py",
   "mimetype": "text/x-python",
   "name": "python",
   "nbconvert_exporter": "python",
   "pygments_lexer": "ipython3",
   "version": "3.9.7"
  },
  "toc": {
   "base_numbering": 1,
   "nav_menu": {},
   "number_sections": true,
   "sideBar": true,
   "skip_h1_title": false,
   "title_cell": "Table of Contents",
   "title_sidebar": "Contents",
   "toc_cell": false,
   "toc_position": {
    "height": "calc(100% - 180px)",
    "left": "10px",
    "top": "150px",
    "width": "308px"
   },
   "toc_section_display": true,
   "toc_window_display": false
  }
 },
 "nbformat": 4,
 "nbformat_minor": 5
}
