{
 "cells": [
  {
   "cell_type": "markdown",
   "id": "f3b17523",
   "metadata": {},
   "source": [
    "# 策略概述\n",
    "\n",
    "30日内存在放量（当天前10），经过一段时间整理后，股价突破放量时的收盘价。\n",
    "\n",
    "华森制药2021年12月28日"
   ]
  },
  {
   "cell_type": "code",
   "execution_count": 152,
   "id": "9504d075",
   "metadata": {},
   "outputs": [],
   "source": [
    "from alpha.notebook import *\n",
    "from alpha.core.rsi_stats import rsi30, rsiday\n",
    "from alpha.utils import math_round, buy_limit_price\n",
    "from numpy.lib.stride_tricks import sliding_window_view\n",
    "\n",
    "await init_notebook()\n",
    "init_jq()"
   ]
  },
  {
   "cell_type": "code",
   "execution_count": 153,
   "id": "6ead7683",
   "metadata": {},
   "outputs": [],
   "source": [
    "def jq_scan(secs, trigger, nbars, tm=None, frequency='daily'):\n",
    "    fields = [\"open\", \"close\", \"high\", \"low\", \"volume\", \"high_limit\"]\n",
    "    \n",
    "    rec_limit_per_req = 3000\n",
    "    sec_per_req = rec_limit_per_req // nbars\n",
    "    \n",
    "    batches = len(secs) // sec_per_req + 1\n",
    "    \n",
    "    tm = tm or arrow.now().date()\n",
    "    results = []\n",
    "    for i in range(batches):\n",
    "        codes = secs[i*sec_per_req:(i+1)*sec_per_req]\n",
    "        if len(codes) == 0:\n",
    "            break\n",
    "        bars = jq.get_price(codes, end_date=tm,frequency = frequency, count=nbars, fields=fields, panel=False, skip_paused=True)\n",
    "\n",
    "        for code in codes:\n",
    "            bar = bars[bars.code == code]\n",
    "                \n",
    "            name = Stock(code).display_name\n",
    "            trigger(code, name, bar, results)\n",
    "            \n",
    "    return results"
   ]
  },
  {
   "cell_type": "code",
   "execution_count": 154,
   "id": "31614d94",
   "metadata": {},
   "outputs": [],
   "source": [
    "def tp(code, name, bars, results):\n",
    "    vol = bars[\"volume\"].values\n",
    "    close = bars[\"close\"].values\n",
    "    frame = bars[\"time\"]\n",
    "    open_ = bars[\"open\"].values\n",
    "        \n",
    "    n = len(bars)\n",
    "    # 区间最大涨幅\n",
    "    adv = close[-1] / np.min(close) - 1\n",
    "    if adv < 0 or n < 30 or adv > 1:\n",
    "        return\n",
    "    \n",
    "    # 确定放量时间\n",
    "    i = np.argmax(vol)\n",
    "    if close[i] < open_[i]: #放量大阴，不吉\n",
    "        return\n",
    "    \n",
    "    vol_max = np.max(vol)\n",
    "    if i > 0:\n",
    "        vol_min = np.min(vol[:i])\n",
    "        lb = vol_max / vol_min\n",
    "    else:\n",
    "        vol_min = np.min(vol[1:])\n",
    "        lb = vol_max /vol_min\n",
    "        \n",
    "    # 确定是否有整理及上穿\n",
    "    hh = close[i]\n",
    "    \n",
    "    i_under = np.argwhere(close[i+1:] < hh).flatten()\n",
    "    if len(i_under) == 0:\n",
    "        return\n",
    "    \n",
    "    # 调整坐标\n",
    "    i_under += i + 1\n",
    "    \n",
    "    # 如果放量之后一直在整理，未突破，则整理天数应该比(n-i-1)少一天\n",
    "    if i_under[-1] == 29 or len(i_under) != n - i - 2:\n",
    "        return\n",
    "\n",
    "    results.append((code, name, int(lb), adv, len(i_under)))"
   ]
  },
  {
   "cell_type": "code",
   "execution_count": 155,
   "id": "8518b0d0",
   "metadata": {},
   "outputs": [
    {
     "name": "stderr",
     "output_type": "stream",
     "text": [
      "/var/folders/b5/73vzvtdn4pn_8wt6rpd2tb_w0000gn/T/ipykernel_90315/2313998961.py:24: RuntimeWarning: divide by zero encountered in double_scalars\n",
      "  lb = vol_max /vol_min\n"
     ]
    }
   ],
   "source": [
    "secs = Stock.choose(['stock'])\n",
    "results = jq_scan(secs, tp, nbars = 30)\n",
    "df = pd.DataFrame(results, columns=[\"code\", \"name\", \"lb\", \"adv\", \"collect_days\"])"
   ]
  },
  {
   "cell_type": "code",
   "execution_count": 151,
   "id": "6689f725",
   "metadata": {},
   "outputs": [
    {
     "data": {
      "text/html": [
       "<div>\n",
       "<style scoped>\n",
       "    .dataframe tbody tr th:only-of-type {\n",
       "        vertical-align: middle;\n",
       "    }\n",
       "\n",
       "    .dataframe tbody tr th {\n",
       "        vertical-align: top;\n",
       "    }\n",
       "\n",
       "    .dataframe thead th {\n",
       "        text-align: right;\n",
       "    }\n",
       "</style>\n",
       "<table border=\"1\" class=\"dataframe\">\n",
       "  <thead>\n",
       "    <tr style=\"text-align: right;\">\n",
       "      <th></th>\n",
       "      <th>code</th>\n",
       "      <th>name</th>\n",
       "      <th>lb</th>\n",
       "      <th>adv</th>\n",
       "      <th>collect_days</th>\n",
       "    </tr>\n",
       "  </thead>\n",
       "  <tbody>\n",
       "    <tr>\n",
       "      <th>47</th>\n",
       "      <td>603718.XSHG</td>\n",
       "      <td>海利生物</td>\n",
       "      <td>16</td>\n",
       "      <td>0.183507</td>\n",
       "      <td>3</td>\n",
       "    </tr>\n",
       "    <tr>\n",
       "      <th>7</th>\n",
       "      <td>002034.XSHE</td>\n",
       "      <td>旺能环境</td>\n",
       "      <td>12</td>\n",
       "      <td>0.241771</td>\n",
       "      <td>1</td>\n",
       "    </tr>\n",
       "    <tr>\n",
       "      <th>32</th>\n",
       "      <td>600202.XSHG</td>\n",
       "      <td>哈空调</td>\n",
       "      <td>12</td>\n",
       "      <td>0.357143</td>\n",
       "      <td>12</td>\n",
       "    </tr>\n",
       "    <tr>\n",
       "      <th>8</th>\n",
       "      <td>002059.XSHE</td>\n",
       "      <td>云南旅游</td>\n",
       "      <td>87</td>\n",
       "      <td>0.644068</td>\n",
       "      <td>1</td>\n",
       "    </tr>\n",
       "  </tbody>\n",
       "</table>\n",
       "</div>"
      ],
      "text/plain": [
       "           code  name  lb       adv  collect_days\n",
       "47  603718.XSHG  海利生物  16  0.183507             3\n",
       "7   002034.XSHE  旺能环境  12  0.241771             1\n",
       "32  600202.XSHG   哈空调  12  0.357143            12\n",
       "8   002059.XSHE  云南旅游  87  0.644068             1"
      ]
     },
     "execution_count": 151,
     "metadata": {},
     "output_type": "execute_result"
    }
   ],
   "source": [
    "df[(df.lb>10)].nsmallest(30, \"adv\")"
   ]
  },
  {
   "cell_type": "code",
   "execution_count": null,
   "id": "bff0868b",
   "metadata": {},
   "outputs": [],
   "source": []
  }
 ],
 "metadata": {
  "kernelspec": {
   "display_name": "Python 3.8.12 64-bit ('alpha': conda)",
   "language": "python",
   "name": "python3812jvsc74a57bd0e0991ae97f5ae595dff4e065820c67789f8a838b458f4df83a145fc0afc1ef34"
  },
  "language_info": {
   "codemirror_mode": {
    "name": "ipython",
    "version": 3
   },
   "file_extension": ".py",
   "mimetype": "text/x-python",
   "name": "python",
   "nbconvert_exporter": "python",
   "pygments_lexer": "ipython3",
   "version": "3.9.7"
  },
  "toc": {
   "base_numbering": 1,
   "nav_menu": {},
   "number_sections": true,
   "sideBar": true,
   "skip_h1_title": false,
   "title_cell": "Table of Contents",
   "title_sidebar": "Contents",
   "toc_cell": false,
   "toc_position": {},
   "toc_section_display": true,
   "toc_window_display": true
  }
 },
 "nbformat": 4,
 "nbformat_minor": 5
}
