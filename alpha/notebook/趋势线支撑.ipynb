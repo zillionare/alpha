{
 "cells": [
  {
   "cell_type": "markdown",
   "id": "0f5c1451",
   "metadata": {},
   "source": [
    "# 策略说明\n",
    "\n",
    "如果股价沿趋势线上升，那么当其回到支撑线或者RSI处于低位时，可以买入"
   ]
  },
  {
   "cell_type": "code",
   "execution_count": 2,
   "id": "52530069",
   "metadata": {},
   "outputs": [
    {
     "ename": "NameError",
     "evalue": "name 'init_notebook' is not defined",
     "output_type": "error",
     "traceback": [
      "\u001b[0;31m---------------------------------------------------------------------------\u001b[0m",
      "\u001b[0;31mNameError\u001b[0m                                 Traceback (most recent call last)",
      "Input \u001b[0;32mIn [2]\u001b[0m, in \u001b[0;36m<cell line: 1>\u001b[0;34m()\u001b[0m\n\u001b[0;32m----> 1\u001b[0m \u001b[38;5;28;01mawait\u001b[39;00m init_notebook()\n\u001b[1;32m      2\u001b[0m \u001b[38;5;28;01mdef\u001b[39;00m \u001b[38;5;21mfeature_trendline\u001b[39m(code, name, bars, results, ft):\n\u001b[1;32m      3\u001b[0m     alt \u001b[38;5;241m=\u001b[39m altitude(bars)\n",
      "\u001b[0;31mNameError\u001b[0m: name 'init_notebook' is not defined"
     ]
    }
   ],
   "source": [
    "await init_notebook()\n",
    "def feature_trendline(code, name, bars, results, ft):\n",
    "    alt = altitude(bars)\n",
    "    mf = MaLineFeatures()\n",
    "    \n",
    "    vec = mf.feature(bars[:-1], lines=6)\n",
    "    f = mf.to_dict(vec)\n",
    "    \n",
    "    close = bars[\"close\"]\n",
    "    roc = close[-2:]/close[-3:-1]-1\n",
    "    if f[\"trendline_slope\"] > 0 and np.all(roc > 0):\n",
    "        results.append((name, code, alt, f[\"trendline_slope\"], f[\"trendline\"], f[\"trendline_gap\"], bars[\"close\"][-1]))"
   ]
  },
  {
   "cell_type": "code",
   "execution_count": null,
   "id": "fe2f7b3a",
   "metadata": {},
   "outputs": [],
   "source": [
    "get_ipython().profile_dir.startup_dir"
   ]
  },
  {
   "cell_type": "code",
   "execution_count": null,
   "id": "ec209724",
   "metadata": {},
   "outputs": [],
   "source": [
    "def feature_parallel(code, name, bars, results, ft):\n",
    "    alt = altitude(bars)\n",
    "    mf = MaLineFeatures()\n",
    "    \n",
    "    vec = mf.feature(bars, lines=4)\n",
    "    f = mf.to_dict(vec)\n",
    "    \n",
    "    if f[\"parallel\"] > 0:\n",
    "        results.append((name, code, alt, f[\"parallel\"], bars[-1][\"close\"]))"
   ]
  },
  {
   "cell_type": "code",
   "execution_count": null,
   "id": "0f4b59f9",
   "metadata": {},
   "outputs": [],
   "source": [
    "results = await scan(feature_trendline, 139, nstocks=-1, silent=True)\n",
    "df = pd.DataFrame(results, columns=[\"naem\", \"code\", \"alt\", \"slope\", \"trendline\",\"gap\", \"price\"])"
   ]
  },
  {
   "cell_type": "code",
   "execution_count": null,
   "id": "d4d96e33",
   "metadata": {},
   "outputs": [],
   "source": [
    "df[(df.trendline==5)&(df.gap<0.05)].nlargest(10, \"slope\")"
   ]
  },
  {
   "cell_type": "code",
   "execution_count": null,
   "id": "74df86e3",
   "metadata": {},
   "outputs": [],
   "source": [
    "results = await scan(feature_parallel, 60, nstocks=-1, silent=True)\n",
    "df = pd.DataFrame(results, columns=[\"naem\", \"code\", \"alt\", \"parallel\", \"price\"])"
   ]
  },
  {
   "cell_type": "code",
   "execution_count": null,
   "id": "eae6da44",
   "metadata": {},
   "outputs": [],
   "source": [
    "df[(df.price<5)&(df.parallel<5)&(df.parallel>2)]"
   ]
  },
  {
   "cell_type": "code",
   "execution_count": null,
   "id": "3f891489",
   "metadata": {},
   "outputs": [],
   "source": [
    "results = await scan(feature_cross, 129, nstocks=-1, silent=True)\n",
    "df = pd.DataFrame(results, columns=[\"name\", \"code\", \"alt\", \"slope\", \"line\", \"price\"])"
   ]
  },
  {
   "cell_type": "markdown",
   "id": "cb657e66",
   "metadata": {},
   "source": [
    "# 均线黄金坑"
   ]
  },
  {
   "cell_type": "code",
   "execution_count": null,
   "id": "2b6db70a",
   "metadata": {},
   "outputs": [],
   "source": [
    "def ma(code, name, bars, results, ft):\n",
    "    alt = altitude(bars)\n",
    "    mf = MaLineFeatures()\n",
    "    \n",
    "    vec = mf.feature(bars, lines=5)\n",
    "    results.append((code, name, *vec))\n",
    "\n",
    "results = await scan(ma, 80, tm=\"2021-10-13\", nstocks=-1)\n"
   ]
  },
  {
   "cell_type": "code",
   "execution_count": null,
   "id": "f8eec7a9",
   "metadata": {},
   "outputs": [],
   "source": [
    "cols = [col[0] for col in MaLineFeatures().columns_60]\n",
    "df = pd.DataFrame(results, columns=[\"code\", \"name\", *cols])\n",
    "show_cols = [\"name\",\"trendline\", \"trendline_slope\", \"a5\", \"b5\", \"vx5\", \"a10\", \"b10\", \"vx10\", \"parallel_234\"]\n",
    "df[(df.trendline!=-1) & (df.trendline_slope>0) &(df.a5>5e-3) & (df.b5<-1e-2)&(df.parallel_234<21)][show_cols]"
   ]
  },
  {
   "cell_type": "markdown",
   "id": "7a2b9182",
   "metadata": {},
   "source": [
    "# 周均线支撑"
   ]
  },
  {
   "cell_type": "code",
   "execution_count": null,
   "id": "51e8aece",
   "metadata": {},
   "outputs": [],
   "source": [
    "bars = jq.get_bars(\"000875.XSHE\", 100, '1w', end_dt='2021-12-03',df=False, include_now=True)\n",
    "print(bars[\"close\"])"
   ]
  },
  {
   "cell_type": "code",
   "execution_count": null,
   "id": "43d11f23",
   "metadata": {},
   "outputs": [],
   "source": [
    "#def week_20_features(code, name, bars, results, ft):\n",
    "bars = await get_bars(\"000875.XSHE\", 100, '1w', '2021-12-03')\n",
    "print(np.round(bars[\"close\"],2)[19:])\n",
    "print(bars[\"frame\"][19:])\n",
    "ma = moving_average(bars[\"close\"], 20)\n",
    "print(np.round(ma,2))\n",
    "\n",
    "# align\n",
    "bars = bars[19:]\n",
    "\n",
    "close = bars[\"close\"]\n",
    "low = bars[\"close\"]\n",
    "frame = bars[\"frame\"]\n",
    "\n",
    "cross_points = np.argwhere((low*0.98 < ma) & (close > ma)).flatten()\n",
    "print(frame[cross_points])"
   ]
  },
  {
   "cell_type": "code",
   "execution_count": null,
   "id": "1750d214",
   "metadata": {},
   "outputs": [],
   "source": [
    "bars_om = await get_bars(\"000875.XSHE\", 24, '1w', '2021-12-03')\n",
    "print(len(bars_om), bars_om[\"close\"])\n",
    "print(bars_om[\"frame\"])"
   ]
  },
  {
   "cell_type": "code",
   "execution_count": null,
   "id": "3ef5e796",
   "metadata": {},
   "outputs": [],
   "source": [
    "bars_jq = jq.get_bars(\"000875.XSHE\", 24, '1w', end_dt='2021-12-03 15:00:00', include_now=True, df=False)\n",
    "print(bars_jq[\"date\"])\n",
    "np.round(moving_average(bars_jq[\"close\"],20),2)"
   ]
  },
  {
   "cell_type": "code",
   "execution_count": null,
   "id": "dddcb924",
   "metadata": {},
   "outputs": [],
   "source": [
    "standard = np.array([6.19, 6.29, 6.40, 6.51])"
   ]
  },
  {
   "cell_type": "code",
   "execution_count": null,
   "id": "28cbae83",
   "metadata": {},
   "outputs": [],
   "source": [
    "standard/ma[-4:]"
   ]
  },
  {
   "cell_type": "markdown",
   "id": "e43b385d",
   "metadata": {},
   "source": [
    "# 30分钟支撑线\n",
    "\n",
    "使用120支撑线，当RSI低位时买入"
   ]
  },
  {
   "cell_type": "code",
   "execution_count": null,
   "id": "ebed0aa4",
   "metadata": {},
   "outputs": [],
   "source": [
    "def feature_120_rsi(code, name, bars, results, ft):\n",
    "    if len(bars) < 130:\n",
    "        return\n",
    "    \n",
    "    close = bars[\"close\"]\n",
    "    \n",
    "    isup = close[-1]/close[-2] - 1 > 0\n",
    "    \n",
    "    if not isup:\n",
    "        return\n",
    "    \n",
    "    rsi = relative_strength_index(close, 6)[-3:]\n",
    "    prsi = np.array([rsi30.get_proba(code, r) for r in rsi])\n",
    "    \n",
    "    if (prsi[0] and any(prsi < 0.1)):\n",
    "        ma = moving_average(close, 120)[-7:]\n",
    "        \n",
    "        (a,b,_), pmae = polyfit(ma/ma[0])\n",
    "\n",
    "        if abs(a) < 3e-3 and b > 5e-4 and pmae < 3e-4:\n",
    "            results.append((code, name, bars[-1][\"frame\"], b, min(rsi), min(prsi)))\n",
    "    elif any(rsi < 10):\n",
    "        ma = moving_average(close, 120)[-7:]\n",
    "        \n",
    "        (a,b,_), pmae = polyfit(ma/ma[0])\n",
    "        if abs(a) < 3e-3 and b > 5e-4 and pmae < 3e-4:\n",
    "            results.append((code, name, bars[-1][\"frame\"], b, min(rsi), None))"
   ]
  },
  {
   "cell_type": "code",
   "execution_count": null,
   "id": "57c9f16f",
   "metadata": {},
   "outputs": [],
   "source": [
    "results = await scan(feature_120_rsi, 140, '30m', nstocks=-1, tm=\"2021-12-06 10:00\")"
   ]
  },
  {
   "cell_type": "code",
   "execution_count": null,
   "id": "eaf9e01f",
   "metadata": {},
   "outputs": [],
   "source": [
    "df = pd.DataFrame(results, columns=[\"code\", \"name\", \"frame\", \"b\", \"rsi\", \"prsi\"])\n",
    "df"
   ]
  },
  {
   "cell_type": "code",
   "execution_count": 3,
   "id": "46117f6e",
   "metadata": {},
   "outputs": [
    {
     "ename": "ModuleNotFoundError",
     "evalue": "No module named 'talib'",
     "output_type": "error",
     "traceback": [
      "\u001b[0;31m---------------------------------------------------------------------------\u001b[0m",
      "\u001b[0;31mModuleNotFoundError\u001b[0m                       Traceback (most recent call last)",
      "Input \u001b[0;32mIn [3]\u001b[0m, in \u001b[0;36m<cell line: 1>\u001b[0;34m()\u001b[0m\n\u001b[0;32m----> 1\u001b[0m \u001b[38;5;28;01mfrom\u001b[39;00m \u001b[38;5;21;01malpha\u001b[39;00m\u001b[38;5;21;01m.\u001b[39;00m\u001b[38;5;21;01mnotebook\u001b[39;00m \u001b[38;5;28;01mimport\u001b[39;00m init_notebook\n",
      "File \u001b[0;32m~/miniconda3/envs/alpha/lib/python3.8/site-packages/alpha/notebook/__init__.py:15\u001b[0m, in \u001b[0;36m<module>\u001b[0;34m\u001b[0m\n\u001b[1;32m     13\u001b[0m \u001b[38;5;28;01mfrom\u001b[39;00m \u001b[38;5;21;01momicron\u001b[39;00m\u001b[38;5;21;01m.\u001b[39;00m\u001b[38;5;21;01mmodels\u001b[39;00m\u001b[38;5;21;01m.\u001b[39;00m\u001b[38;5;21;01mstock\u001b[39;00m \u001b[38;5;28;01mimport\u001b[39;00m Stock\n\u001b[1;32m     14\u001b[0m \u001b[38;5;28;01mfrom\u001b[39;00m \u001b[38;5;21;01momicron\u001b[39;00m\u001b[38;5;21;01m.\u001b[39;00m\u001b[38;5;21;01mmodels\u001b[39;00m\u001b[38;5;21;01m.\u001b[39;00m\u001b[38;5;21;01mtimeframe\u001b[39;00m \u001b[38;5;28;01mimport\u001b[39;00m TimeFrame \u001b[38;5;28;01mas\u001b[39;00m tf\n\u001b[0;32m---> 15\u001b[0m \u001b[38;5;28;01mfrom\u001b[39;00m \u001b[38;5;21;01malpha\u001b[39;00m\u001b[38;5;21;01m.\u001b[39;00m\u001b[38;5;21;01mplotting\u001b[39;00m\u001b[38;5;21;01m.\u001b[39;00m\u001b[38;5;21;01mpatterns\u001b[39;00m \u001b[38;5;28;01mimport\u001b[39;00m \u001b[38;5;241m*\u001b[39m\n\u001b[1;32m     17\u001b[0m \u001b[38;5;28;01mfrom\u001b[39;00m \u001b[38;5;21;01malpha\u001b[39;00m\u001b[38;5;21;01m.\u001b[39;00m\u001b[38;5;21;01mconfig\u001b[39;00m \u001b[38;5;28;01mimport\u001b[39;00m get_config_dir\n\u001b[1;32m     18\u001b[0m \u001b[38;5;28;01mfrom\u001b[39;00m \u001b[38;5;21;01malpha\u001b[39;00m\u001b[38;5;21;01m.\u001b[39;00m\u001b[38;5;21;01mcore\u001b[39;00m \u001b[38;5;28;01mimport\u001b[39;00m Frame\n",
      "File \u001b[0;32m~/miniconda3/envs/alpha/lib/python3.8/site-packages/alpha/plotting/__init__.py:5\u001b[0m, in \u001b[0;36m<module>\u001b[0;34m\u001b[0m\n\u001b[1;32m      2\u001b[0m \u001b[38;5;28;01mimport\u001b[39;00m \u001b[38;5;21;01mmatplotlib\u001b[39;00m\u001b[38;5;21;01m.\u001b[39;00m\u001b[38;5;21;01mpyplot\u001b[39;00m \u001b[38;5;28;01mas\u001b[39;00m \u001b[38;5;21;01mplt\u001b[39;00m\n\u001b[1;32m      3\u001b[0m \u001b[38;5;28;01mimport\u001b[39;00m \u001b[38;5;21;01mnumpy\u001b[39;00m \u001b[38;5;28;01mas\u001b[39;00m \u001b[38;5;21;01mnp\u001b[39;00m\n\u001b[0;32m----> 5\u001b[0m \u001b[38;5;28;01mfrom\u001b[39;00m \u001b[38;5;21;01malpha\u001b[39;00m\u001b[38;5;21;01m.\u001b[39;00m\u001b[38;5;21;01mcore\u001b[39;00m\u001b[38;5;21;01m.\u001b[39;00m\u001b[38;5;21;01mfeatures\u001b[39;00m \u001b[38;5;28;01mimport\u001b[39;00m moving_average, predict_by_moving_average\n\u001b[1;32m      7\u001b[0m cm \u001b[38;5;241m=\u001b[39m {\u001b[38;5;241m5\u001b[39m: \u001b[38;5;124m\"\u001b[39m\u001b[38;5;124mb\u001b[39m\u001b[38;5;124m\"\u001b[39m, \u001b[38;5;241m10\u001b[39m: \u001b[38;5;124m\"\u001b[39m\u001b[38;5;124mg\u001b[39m\u001b[38;5;124m\"\u001b[39m, \u001b[38;5;241m20\u001b[39m: \u001b[38;5;124m\"\u001b[39m\u001b[38;5;124mc\u001b[39m\u001b[38;5;124m\"\u001b[39m, \u001b[38;5;241m60\u001b[39m: \u001b[38;5;124m\"\u001b[39m\u001b[38;5;124mm\u001b[39m\u001b[38;5;124m\"\u001b[39m, \u001b[38;5;241m120\u001b[39m: \u001b[38;5;124m\"\u001b[39m\u001b[38;5;124my\u001b[39m\u001b[38;5;124m\"\u001b[39m, \u001b[38;5;241m250\u001b[39m: \u001b[38;5;124m\"\u001b[39m\u001b[38;5;124mtab:orange\u001b[39m\u001b[38;5;124m\"\u001b[39m, \u001b[38;5;124m\"\u001b[39m\u001b[38;5;124mraw\u001b[39m\u001b[38;5;124m\"\u001b[39m: \u001b[38;5;124m\"\u001b[39m\u001b[38;5;124mtab:gray\u001b[39m\u001b[38;5;124m\"\u001b[39m}\n\u001b[1;32m     10\u001b[0m \u001b[38;5;28;01mdef\u001b[39;00m \u001b[38;5;21mformat_labels\u001b[39m(frames):\n",
      "File \u001b[0;32m~/miniconda3/envs/alpha/lib/python3.8/site-packages/alpha/core/features.py:7\u001b[0m, in \u001b[0;36m<module>\u001b[0;34m\u001b[0m\n\u001b[1;32m      5\u001b[0m \u001b[38;5;28;01mimport\u001b[39;00m \u001b[38;5;21;01mnumpy\u001b[39;00m \u001b[38;5;28;01mas\u001b[39;00m \u001b[38;5;21;01mnp\u001b[39;00m\n\u001b[1;32m      6\u001b[0m \u001b[38;5;28;01mimport\u001b[39;00m \u001b[38;5;21;01mpandas\u001b[39;00m \u001b[38;5;28;01mas\u001b[39;00m \u001b[38;5;21;01mpd\u001b[39;00m\n\u001b[0;32m----> 7\u001b[0m \u001b[38;5;28;01mimport\u001b[39;00m \u001b[38;5;21;01mtalib\u001b[39;00m \u001b[38;5;28;01mas\u001b[39;00m \u001b[38;5;21;01mta\u001b[39;00m\n\u001b[1;32m      8\u001b[0m \u001b[38;5;28;01mfrom\u001b[39;00m \u001b[38;5;21;01momicron\u001b[39;00m\u001b[38;5;21;01m.\u001b[39;00m\u001b[38;5;21;01mextensions\u001b[39;00m\u001b[38;5;21;01m.\u001b[39;00m\u001b[38;5;21;01mnp\u001b[39;00m \u001b[38;5;28;01mimport\u001b[39;00m polyfit\n\u001b[1;32m      9\u001b[0m \u001b[38;5;28;01mfrom\u001b[39;00m \u001b[38;5;21;01momicron\u001b[39;00m\u001b[38;5;21;01m.\u001b[39;00m\u001b[38;5;21;01mtalib\u001b[39;00m \u001b[38;5;28;01mimport\u001b[39;00m moving_average\n",
      "\u001b[0;31mModuleNotFoundError\u001b[0m: No module named 'talib'"
     ]
    }
   ],
   "source": [
    "from alpha.notebook import init_notebook"
   ]
  },
  {
   "cell_type": "code",
   "execution_count": null,
   "id": "df54a077",
   "metadata": {},
   "outputs": [],
   "source": []
  }
 ],
 "metadata": {
  "kernelspec": {
   "display_name": "alpha",
   "language": "python",
   "name": "alpha"
  },
  "language_info": {
   "codemirror_mode": {
    "name": "ipython",
    "version": 3
   },
   "file_extension": ".py",
   "mimetype": "text/x-python",
   "name": "python",
   "nbconvert_exporter": "python",
   "pygments_lexer": "ipython3",
   "version": "3.8.12"
  },
  "toc": {
   "base_numbering": 1,
   "nav_menu": {},
   "number_sections": true,
   "sideBar": true,
   "skip_h1_title": false,
   "title_cell": "Table of Contents",
   "title_sidebar": "Contents",
   "toc_cell": false,
   "toc_position": {
    "height": "calc(100% - 180px)",
    "left": "10px",
    "top": "150px",
    "width": "172px"
   },
   "toc_section_display": true,
   "toc_window_display": true
  },
  "varInspector": {
   "cols": {
    "lenName": 16,
    "lenType": 16,
    "lenVar": 40
   },
   "kernels_config": {
    "python": {
     "delete_cmd_postfix": "",
     "delete_cmd_prefix": "del ",
     "library": "var_list.py",
     "varRefreshCmd": "print(var_dic_list())"
    },
    "r": {
     "delete_cmd_postfix": ") ",
     "delete_cmd_prefix": "rm(",
     "library": "var_list.r",
     "varRefreshCmd": "cat(var_dic_list()) "
    }
   },
   "types_to_exclude": [
    "module",
    "function",
    "builtin_function_or_method",
    "instance",
    "_Feature"
   ],
   "window_display": false
  }
 },
 "nbformat": 4,
 "nbformat_minor": 5
}
