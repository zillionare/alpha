{
 "cells": [
  {
   "cell_type": "code",
   "execution_count": 1,
   "id": "ed5b1a03",
   "metadata": {},
   "outputs": [],
   "source": [
    "await init_notebook()"
   ]
  },
  {
   "cell_type": "code",
   "execution_count": 11,
   "id": "79dd792d",
   "metadata": {},
   "outputs": [],
   "source": [
    "def feature(code, name, bars, results, ft):\n",
    "    close = bars[\"close\"]\n",
    "    \n",
    "    if len(bars) < 5: # 新股\n",
    "        return\n",
    "    \n",
    "    zt_close = [buy_limit_price(code, c, bars[-1][\"frame\"]) for c in close[:-1]]\n",
    "    \n",
    "    if np.count_nonzero(zt_close - close[1:] < 1e-4) == 1:\n",
    "        results.append((code, name))"
   ]
  },
  {
   "cell_type": "code",
   "execution_count": 13,
   "id": "c71955e7",
   "metadata": {},
   "outputs": [
    {
     "name": "stdout",
     "output_type": "stream",
     "text": [
      "2021-12-09\n",
      "progress: 500/4021, results: 32, elapsed: 21, ETA: 147\n",
      "progress: 1000/4021, results: 60, elapsed: 80, ETA: 241\n",
      "progress: 1500/4021, results: 84, elapsed: 104, ETA: 174\n",
      "progress: 2000/4021, results: 91, elapsed: 129, ETA: 130\n"
     ]
    },
    {
     "name": "stderr",
     "output_type": "stream",
     "text": [
      "2021-12-09 21:02:57,975 E 7367 alpha.notebook:scan:267 | 'NoneType' object is not subscriptable\n",
      "Traceback (most recent call last):\n",
      "  File \"/Users/aaronyang/miniforge3/envs/alpha/lib/python3.9/site-packages/alpha/notebook/__init__.py\", line 264, in scan\n",
      "    trigger(code, name, bars, results, frame_type)\n",
      "  File \"/var/folders/b5/73vzvtdn4pn_8wt6rpd2tb_w0000gn/T/ipykernel_7367/1355694584.py\", line 2, in feature\n",
      "    close = bars[\"close\"]\n",
      "TypeError: 'NoneType' object is not subscriptable\n"
     ]
    },
    {
     "name": "stdout",
     "output_type": "stream",
     "text": [
      "progress: 2500/4021, results: 103, elapsed: 153, ETA: 93\n",
      "progress: 3000/4021, results: 129, elapsed: 180, ETA: 61\n",
      "progress: 3500/4021, results: 151, elapsed: 204, ETA: 30\n",
      "progress: 4000/4021, results: 186, elapsed: 229, ETA: 1\n"
     ]
    }
   ],
   "source": [
    "results = await scan(feature, 6, nstocks=-1, silent=False)"
   ]
  },
  {
   "cell_type": "code",
   "execution_count": 27,
   "id": "f58ff5ab",
   "metadata": {},
   "outputs": [],
   "source": [
    "async def check(pool):\n",
    "    for code, name in pool:\n",
    "        bars = await get_bars(code, 40, '30m')\n",
    "        if len(bars) < 40:\n",
    "            continue\n",
    "        \n",
    "        close = bars[\"close\"]\n",
    "        rsi = relative_strength_index(close)[-5:]\n",
    "        \n",
    "        prsi = np.array([rsi30.get_proba(code, r) for r in rsi])\n",
    "        if prsi[0]:\n",
    "            if np.any(prsi < 0.1):\n",
    "                print(code, name, f\"{np.min(prsi):.0%}\")\n",
    "        else:\n",
    "            if np.any(rsi < 10):\n",
    "                print(name, np.min(rsi))"
   ]
  },
  {
   "cell_type": "code",
   "execution_count": 28,
   "id": "fcc1e6a0",
   "metadata": {},
   "outputs": [
    {
     "name": "stdout",
     "output_type": "stream",
     "text": [
      "001205.XSHE 盛航股份 9%\n",
      "002011.XSHE 盾安环境 3%\n",
      "002015.XSHE 协鑫能科 3%\n",
      "002046.XSHE 国机精工 7%\n",
      "002529.XSHE 海源复材 9%\n",
      "002922.XSHE 伊戈尔 4%\n",
      "600117.XSHG 西宁特钢 5%\n",
      "600163.XSHG 中闽能源 6%\n",
      "600277.XSHG 亿利洁能 7%\n",
      "600348.XSHG 华阳股份 9%\n",
      "600516.XSHG 方大炭素 8%\n",
      "600742.XSHG 一汽富维 9%\n",
      "603031.XSHG 安德利 6%\n",
      "603063.XSHG 禾望电气 9%\n",
      "603616.XSHG 韩建河山 3%\n",
      "605399.XSHG 晨光新材 3%\n"
     ]
    }
   ],
   "source": [
    "await check(results)"
   ]
  },
  {
   "cell_type": "code",
   "execution_count": null,
   "id": "762a6277",
   "metadata": {},
   "outputs": [],
   "source": []
  }
 ],
 "metadata": {
  "kernelspec": {
   "display_name": "Python 3.9.7 64-bit ('alpha': conda)",
   "language": "python",
   "name": "python397jvsc74a57bd0d18ef5f0922447c7e347dcee66d0bd842520bf130f0f77b593b50d8b2a1062b0"
  },
  "language_info": {
   "codemirror_mode": {
    "name": "ipython",
    "version": 3
   },
   "file_extension": ".py",
   "mimetype": "text/x-python",
   "name": "python",
   "nbconvert_exporter": "python",
   "pygments_lexer": "ipython3",
   "version": "3.9.7"
  },
  "toc": {
   "base_numbering": 1,
   "nav_menu": {},
   "number_sections": true,
   "sideBar": true,
   "skip_h1_title": false,
   "title_cell": "Table of Contents",
   "title_sidebar": "Contents",
   "toc_cell": false,
   "toc_position": {},
   "toc_section_display": true,
   "toc_window_display": true
  }
 },
 "nbformat": 4,
 "nbformat_minor": 5
}
