{
 "cells": [
  {
   "cell_type": "code",
   "execution_count": 1,
   "id": "ed5b1a03",
   "metadata": {},
   "outputs": [],
   "source": [
    "await init_notebook()"
   ]
  },
  {
   "cell_type": "code",
   "execution_count": 2,
   "id": "79dd792d",
   "metadata": {},
   "outputs": [],
   "source": [
    "def feature(code, name, bars, results, ft):\n",
    "    close = bars[\"close\"]\n",
    "    \n",
    "    if len(bars) < 5: # 新股\n",
    "        return\n",
    "    \n",
    "    zt_close = [buy_limit_price(code, c, bars[-1][\"frame\"]) for c in close[:-1]]\n",
    "    \n",
    "    if np.count_nonzero(zt_close - close[1:] < 1e-4) == 1:\n",
    "        results.append((code, name))"
   ]
  },
  {
   "cell_type": "code",
   "execution_count": 3,
   "id": "c71955e7",
   "metadata": {},
   "outputs": [
    {
     "name": "stdout",
     "output_type": "stream",
     "text": [
      "2022-02-21\n",
      "progress: 500/4033, results: 28, elapsed: 29, ETA: 204\n",
      "progress: 1000/4033, results: 56, elapsed: 65, ETA: 197\n",
      "progress: 1500/4033, results: 89, elapsed: 94, ETA: 158\n",
      "progress: 2000/4033, results: 95, elapsed: 123, ETA: 125\n",
      "progress: 2500/4033, results: 105, elapsed: 152, ETA: 93\n",
      "progress: 3000/4033, results: 126, elapsed: 186, ETA: 64\n",
      "progress: 3500/4033, results: 140, elapsed: 240, ETA: 36\n",
      "progress: 4000/4033, results: 165, elapsed: 270, ETA: 2\n"
     ]
    }
   ],
   "source": [
    "results = await scan(feature, 6, nstocks=-1, silent=False)"
   ]
  },
  {
   "cell_type": "code",
   "execution_count": 4,
   "id": "f58ff5ab",
   "metadata": {},
   "outputs": [],
   "source": [
    "async def check(pool):\n",
    "    for code, name in pool:\n",
    "        bars = await get_bars(code, 40, '30m')\n",
    "        if len(bars) < 40:\n",
    "            continue\n",
    "        \n",
    "        close = bars[\"close\"]\n",
    "        rsi = relative_strength_index(close)[-5:]\n",
    "        \n",
    "        prsi = np.array([rsi30.get_proba(code, r) for r in rsi])\n",
    "        if prsi[0]:\n",
    "            if np.any(prsi < 0.1):\n",
    "                print(code, name, f\"{np.min(prsi):.0%}\")\n",
    "        else:\n",
    "            if np.any(rsi < 10):\n",
    "                print(name, np.min(rsi))"
   ]
  },
  {
   "cell_type": "code",
   "execution_count": 5,
   "id": "fcc1e6a0",
   "metadata": {},
   "outputs": [
    {
     "name": "stdout",
     "output_type": "stream",
     "text": [
      "000422.XSHE 湖北宜化 4%\n",
      "000622.XSHE 恒立实业 7%\n",
      "002068.XSHE 黑猫股份 5%\n",
      "002229.XSHE 鸿博股份 7%\n",
      "002431.XSHE 棕榈股份 8%\n",
      "002564.XSHE 天沃科技 7%\n",
      "002870.XSHE 香山股份 5%\n",
      "002873.XSHE 新天药业 9%\n",
      "600255.XSHG 鑫科材料 4%\n",
      "600283.XSHG 钱江水利 9%\n",
      "603127.XSHG 昭衍新药 8%\n",
      "603392.XSHG 万泰生物 7%\n"
     ]
    }
   ],
   "source": [
    "await check(results)"
   ]
  },
  {
   "cell_type": "code",
   "execution_count": null,
   "id": "6b44a34b",
   "metadata": {},
   "outputs": [],
   "source": []
  }
 ],
 "metadata": {
  "kernelspec": {
   "display_name": "Python 3.9.7 64-bit ('alpha': conda)",
   "language": "python",
   "name": "python397jvsc74a57bd0d18ef5f0922447c7e347dcee66d0bd842520bf130f0f77b593b50d8b2a1062b0"
  },
  "language_info": {
   "codemirror_mode": {
    "name": "ipython",
    "version": 3
   },
   "file_extension": ".py",
   "mimetype": "text/x-python",
   "name": "python",
   "nbconvert_exporter": "python",
   "pygments_lexer": "ipython3",
   "version": "3.9.7"
  },
  "toc": {
   "base_numbering": 1,
   "nav_menu": {},
   "number_sections": true,
   "sideBar": true,
   "skip_h1_title": false,
   "title_cell": "Table of Contents",
   "title_sidebar": "Contents",
   "toc_cell": false,
   "toc_position": {},
   "toc_section_display": true,
   "toc_window_display": true
  }
 },
 "nbformat": 4,
 "nbformat_minor": 5
}
