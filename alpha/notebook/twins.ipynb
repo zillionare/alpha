{
 "cells": [
  {
   "cell_type": "markdown",
   "id": "a2feaf73",
   "metadata": {},
   "source": [
    "# Init"
   ]
  },
  {
   "cell_type": "code",
   "execution_count": 3,
   "id": "99debd5f",
   "metadata": {},
   "outputs": [],
   "source": [
    "%matplotlib inline\n",
    "\n",
    "import os\n",
    "import arrow\n",
    "import pickle\n",
    "import pandas as pd\n",
    "from IPython.display import clear_output\n",
    "import matplotlib.pyplot as plt\n",
    "\n",
    "import cfg4py\n",
    "import omicron\n",
    "import numpy as np\n",
    "from omicron.core.types import FrameType\n",
    "from omicron.core.timeframe import tf\n",
    "from omicron.models.securities import Securities\n",
    "from omicron.models.security import Security\n",
    "\n",
    "from alpha.core.features import predict_by_moving_average, moving_average,fillna\n",
    "from alpha.plotting import draw_trendline\n",
    "from alpha.plotting.candlestick import Candlestick\n",
    "from alpha.config import get_config_dir\n",
    "from alpha.core.morph import MorphFeatures\n",
    "\n",
    "cfg4py.init(get_config_dir())\n",
    "await omicron.init()\n",
    "\n",
    "    \n",
    "clear_output()"
   ]
  },
  {
   "cell_type": "code",
   "execution_count": 4,
   "id": "300cab63",
   "metadata": {},
   "outputs": [],
   "source": [
    "async def get_bars(code:str, n:int, end:str=None, frame_type:str=\"1d\"):\n",
    "    if code.startswith(\"6\"):\n",
    "        code += \".XSHG\"\n",
    "    else:\n",
    "        code += \".XSHE\"\n",
    "    sec = Security(code)\n",
    "    frame_type = FrameType(frame_type)\n",
    "    end = arrow.now() if end is None else arrow.get(end)\n",
    "    end = tf.floor(end, frame_type)\n",
    "    \n",
    "    start = tf.shift(end, -n + 1, frame_type)\n",
    "    return await sec.load_bars(start, end, frame_type)"
   ]
  },
  {
   "cell_type": "markdown",
   "id": "000b1b19",
   "metadata": {},
   "source": [
    "# 加载数据"
   ]
  },
  {
   "cell_type": "code",
   "execution_count": null,
   "id": "4d9ad134",
   "metadata": {},
   "outputs": [],
   "source": [
    "with open(\"/data/stocks/ds_even_30m_300_5000.pkl\", \"rb\") as f:\n",
    "    ds = pickle.load(f)"
   ]
  },
  {
   "cell_type": "code",
   "execution_count": null,
   "id": "e5da8a0a",
   "metadata": {},
   "outputs": [],
   "source": [
    "df = pd.DataFrame(ds[\"data\"], columns=[\"code\", \"y\", \"bars\"])"
   ]
  },
  {
   "cell_type": "code",
   "execution_count": null,
   "id": "c4667d24",
   "metadata": {},
   "outputs": [],
   "source": [
    "def ylabel(bars):\n",
    "    ybars= bars[-5:]\n",
    "    yclose = ybars[\"close\"][-5:]\n",
    "    c0 = bars[\"close\"][-6]\n",
    "    \n",
    "    max_adv = max(yclose) / c0 - 1\n",
    "    max_dec = abs(min(yclose) / c0 - 1)\n",
    "    \n",
    "    agg = max if max_adv > max_dec else min\n",
    "    \n",
    "    return agg(yclose) / c0 - 1\n",
    "    \n",
    "df.y = df.bars.apply(lambda x: ylabel(x))"
   ]
  },
  {
   "cell_type": "code",
   "execution_count": null,
   "id": "2a23b909",
   "metadata": {},
   "outputs": [],
   "source": [
    "df[df.y>0.1]"
   ]
  },
  {
   "cell_type": "code",
   "execution_count": null,
   "id": "548cb1bf",
   "metadata": {},
   "outputs": [],
   "source": [
    "def draw(i):\n",
    "    code, y, bars = df.loc[i]\n",
    "    xend = bars[\"frame\"][-6]\n",
    "    desc = f\"{code.split('.')[0]} {str(xend).replace('+08:00', '')} {y:.0%}\"\n",
    "    draw_trendline(bars[\"close\"], 5, save_to = f\"/data/twins/{code}.jpg\", desc=desc)\n",
    "    \n",
    "for i in df[df.y>0.1].index:\n",
    "    draw(i)"
   ]
  },
  {
   "cell_type": "code",
   "execution_count": null,
   "id": "b80b8972",
   "metadata": {},
   "outputs": [],
   "source": [
    "code, y, bars = df.loc[625]\n",
    "close = bars[\"close\"]\n",
    "print(code, close[-6:])\n",
    "predict_by_moving_average(close[:-5], 10, 5)"
   ]
  },
  {
   "cell_type": "markdown",
   "id": "a609a1a9",
   "metadata": {},
   "source": [
    "# build morph库"
   ]
  },
  {
   "cell_type": "code",
   "execution_count": null,
   "id": "9d7c78e5",
   "metadata": {
    "code_folding": [
     2
    ]
   },
   "outputs": [],
   "source": [
    "m = MorphFeatures(FrameType.DAY)\n",
    "\n",
    "def add_pattern(bars):\n",
    "    for i in range(220):\n",
    "        close = bars[\"close\"][i:i+81]\n",
    "        if np.count_nonzero(np.isfinite(close)) < 81*0.9:\n",
    "            continue\n",
    "            \n",
    "        close = fillna(close.copy())\n",
    "        m.encode(close)\n",
    "\n",
    "df.bars.apply(add_pattern)\n",
    "m.dump()"
   ]
  },
  {
   "cell_type": "markdown",
   "id": "13b7a741",
   "metadata": {},
   "source": [
    "# 增加样本"
   ]
  },
  {
   "cell_type": "code",
   "execution_count": null,
   "id": "f251ba2c",
   "metadata": {},
   "outputs": [],
   "source": [
    "zgc_30 = await get_bars(\"000931\", 120, \"2021-08-30 11:00\", \"30m\")"
   ]
  },
  {
   "cell_type": "code",
   "execution_count": null,
   "id": "6fc2692d",
   "metadata": {},
   "outputs": [],
   "source": [
    "cs = Candlestick(row=2, fig_size=(12,8))\n",
    "cs.plot(zgc_30, [5, 10, 20])"
   ]
  },
  {
   "cell_type": "code",
   "execution_count": null,
   "id": "4c3e4cc3",
   "metadata": {},
   "outputs": [],
   "source": [
    "draw_trendline(zgc_30, 5)"
   ]
  },
  {
   "cell_type": "code",
   "execution_count": null,
   "id": "7d867268",
   "metadata": {},
   "outputs": [],
   "source": [
    "np.argsort([1,2,3])"
   ]
  },
  {
   "cell_type": "code",
   "execution_count": null,
   "id": "e8e2f86b",
   "metadata": {},
   "outputs": [],
   "source": []
  }
 ],
 "metadata": {
  "kernelspec": {
   "display_name": "alpha",
   "language": "python",
   "name": "alpha"
  },
  "language_info": {
   "codemirror_mode": {
    "name": "ipython",
    "version": 3
   },
   "file_extension": ".py",
   "mimetype": "text/x-python",
   "name": "python",
   "nbconvert_exporter": "python",
   "pygments_lexer": "ipython3",
   "version": "3.8.8"
  },
  "toc": {
   "base_numbering": 1,
   "nav_menu": {},
   "number_sections": true,
   "sideBar": true,
   "skip_h1_title": false,
   "title_cell": "Table of Contents",
   "title_sidebar": "Contents",
   "toc_cell": false,
   "toc_position": {
    "height": "calc(100% - 180px)",
    "left": "10px",
    "top": "150px",
    "width": "221.6px"
   },
   "toc_section_display": true,
   "toc_window_display": true
  }
 },
 "nbformat": 4,
 "nbformat_minor": 5
}
