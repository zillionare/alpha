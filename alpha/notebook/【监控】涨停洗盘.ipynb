{
 "cells": [
  {
   "cell_type": "markdown",
   "id": "f046a041",
   "metadata": {},
   "source": [
    "# 特征\n",
    "\n",
    "1. 近期（3日内）有涨停（涨停或者>10%)\n",
    "2. 上一周期30分钟RSI处于低位\n",
    "3. 本周期30分钟确认低位成立，如长下影阳线、触及某根均线、阳线等。\n",
    "\n",
    "<img src=\"https://images.jieyu.ai/images/202111/20211103225820.png\" width=\"450\"/>"
   ]
  },
  {
   "cell_type": "code",
   "execution_count": 4,
   "id": "4053b490",
   "metadata": {},
   "outputs": [],
   "source": [
    "from alpha.notebook import *\n",
    "from alpha.core.rsi_stats import rsi30, rsiday\n",
    "from alpha.utils import math_round, buy_limit_price\n",
    "from numpy.lib.stride_tricks import sliding_window_view\n",
    "\n",
    "await init_notebook()"
   ]
  },
  {
   "cell_type": "code",
   "execution_count": 2,
   "id": "6c37e6d4",
   "metadata": {},
   "outputs": [],
   "source": [
    "def buy_limit_trigger(code, name, bars, results, frame_type):\n",
    "    \"\"\"找到日线近期内出现涨停的股。时间由bars来控制\"\"\"\n",
    "    close = bars[\"close\"]\n",
    "    \n",
    "    blp = np.array([buy_limit_price(code, c0, bars[-1]['frame']) for c0 in close[:-1]])\n",
    "    \n",
    "    gaps = np.abs(blp - close[1:])\n",
    "    counts = np.count_nonzero(gaps < 0.01)\n",
    "    \n",
    "    if counts > 0:\n",
    "        results.append([name, code, counts])\n",
    "\n",
    "def rsi_trigger(code, name, bars, results, frame_type):\n",
    "    \"\"\"30分钟RSI低位信号\"\"\"\n",
    "    close = bars[\"close\"]\n",
    "    rsi = relative_strength_index(close, 6)\n",
    "    # 前一周期低位\n",
    "    prsi = rsi30.get_proba(code, rsi[-2])\n",
    "    # 最后一周期收阳\n",
    "    c0, o0, l0 = bars[-1][\"close\"], bars[-1][\"open\"], bars[-1][\"low\"]\n",
    "    isbull = c0 > o0\n",
    "    \n",
    "    # 实体高度,只有当收阳时才有意义\n",
    "    real_body = round(c0/o0 - 1, 3)\n",
    "    \n",
    "    # 下影线与实体之比，只有当收阳时才有意义\n",
    "    if real_body != 0:\n",
    "        shadow = round((o0/l0 - 1)/real_body, 3)\n",
    "    else:\n",
    "        shadow = 0\n",
    "\n",
    "    if prsi <= 0.1 and isbull:\n",
    "        results.append([name, code, bars[-1][\"frame\"], prsi, round(real_body,2), round(shadow,1)])\n",
    "        \n",
    "    return results"
   ]
  },
  {
   "cell_type": "code",
   "execution_count": 3,
   "id": "0ad48da8",
   "metadata": {},
   "outputs": [],
   "source": [
    "async def strategy():\n",
    "    r1 = await scan(buy_limit_trigger, 10)\n",
    "    codes = [item[1] for item in r1]\n",
    "    r2 = await scan(rsi_trigger, 40, '30m', codes=codes)\n",
    "    if len(r2):\n",
    "        df = pd.DataFrame(r2, columns=[\"name\", \"code\", \"frame\", \"RSI\", \"real_body\", \"shadow\"])\n",
    "        display(df)\n",
    "        await nb_say(\"涨停回调策略有新的信号.\")"
   ]
  },
  {
   "cell_type": "code",
   "execution_count": 4,
   "id": "23337722",
   "metadata": {},
   "outputs": [
    {
     "name": "stdout",
     "output_type": "stream",
     "text": [
      "=========== 13:15============\n",
      "=========== 13:30============\n",
      "=========== 13:45============\n",
      "=========== 14:00============\n",
      "=========== 14:15============\n",
      "=========== 14:30============\n",
      "=========== 14:45============\n"
     ]
    }
   ],
   "source": [
    "await scheduler(strategy)"
   ]
  },
  {
   "cell_type": "code",
   "execution_count": 10,
   "id": "f9db079c",
   "metadata": {},
   "outputs": [],
   "source": [
    "bars = await get_bars(\"000055.XSHE\", 10, '30m', \"2021-11-04 15:00\")"
   ]
  }
 ],
 "metadata": {
  "kernelspec": {
   "display_name": "alpha",
   "language": "python",
   "name": "alpha"
  },
  "language_info": {
   "codemirror_mode": {
    "name": "ipython",
    "version": 3
   },
   "file_extension": ".py",
   "mimetype": "text/x-python",
   "name": "python",
   "nbconvert_exporter": "python",
   "pygments_lexer": "ipython3",
   "version": "3.8.12"
  },
  "toc": {
   "base_numbering": 1,
   "nav_menu": {},
   "number_sections": true,
   "sideBar": true,
   "skip_h1_title": false,
   "title_cell": "Table of Contents",
   "title_sidebar": "Contents",
   "toc_cell": false,
   "toc_position": {
    "height": "calc(100% - 180px)",
    "left": "10px",
    "top": "150px",
    "width": "233px"
   },
   "toc_section_display": true,
   "toc_window_display": true
  }
 },
 "nbformat": 4,
 "nbformat_minor": 5
}
