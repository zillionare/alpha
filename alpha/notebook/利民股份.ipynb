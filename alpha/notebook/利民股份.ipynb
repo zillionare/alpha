{
 "cells": [
  {
   "cell_type": "markdown",
   "source": [
    "# 利民股份\n",
    "\n",
    "2021年11月11日以来开启凌历上涨。\n",
    "\n",
    "月线10月29日RSI22.78，上一月长上影（阳线，上影超10%）后极度缩量（24：6.4），当月下跌9.8%。\n",
    "\n",
    "周线前两周RSI 21.09，下影接小阳线。\n",
    "\n",
    "日线10月28 RSI 7，最低\n",
    "\n",
    "## 30分钟线\n",
    "    5，10，20，30，60粘合。11月10日 15：00，连续3周期收阳。股价位于上述均线之上。\n",
    "    60周期线： 3e-5, 5e-4，3e-4\n",
    "    \n",
    "## 结果\n",
    "\n",
    "```\n",
    "0 \t四环生物 \t000518.XSHE \t2021-11-10 15:00\n",
    "1 \t汉森制药 \t002412.XSHE \t2021-11-10 15:00\n",
    "2 \t贵州百灵 \t002424.XSHE \t2021-11-10 15:00\n",
    "3 \t利民股份 \t002734.XSHE \t2021-11-10 15:00\n",
    "4 \t奇信股份 \t002781.XSHE \t2021-11-10 15:00\n",
    "5 \t香雪制药 \t300147.XSHE \t2021-11-10 15:00\n",
    "6 \t长亮科技 \t300348.XSHE \t2021-11-10 15:00\n",
    "7 \t海辰药业 \t300584.XSHE \t2021-11-10 15:00\n",
    "8 \t欧亚集团 \t600697.XSHG \t2021-11-10 15:00\n",
    "9 \t大参林 \t603233.XSHG \t2021-11-10 15:00\n",
    "10 \t城地香江 \t603887.XSHG \t2021-11-10 15:00\n",
    "```\n",
    "除利民股份外,效果都一般\n"
   ],
   "metadata": {}
  },
  {
   "cell_type": "code",
   "execution_count": 1,
   "source": [
    "from alpha.notebook import *\n",
    "from alpha.core.rsi_stats import rsiday, rsi30\n",
    "import datetime\n",
    "import os\n",
    "from omicron.models.stock import Stock\n",
    "from coretypes import FrameType\n",
    "\n",
    "await init_notebook()"
   ],
   "outputs": [],
   "metadata": {}
  },
  {
   "cell_type": "code",
   "execution_count": null,
   "source": [
    "def ma30_group_trend(mas):\n",
    "    mn = np.mean(mas, axis=0)\n",
    "    (a, b, _), pmae = polyfit(mn)\n",
    "    \n",
    "    if pmae >= 3e-3:\n",
    "        return 0\n",
    "    \n",
    "    if abs(a) < 3e-5 and b >= 3e-4:\n",
    "        return 1\n",
    "    \n",
    "    if abs(a) < 3e-5 and b <= -5e-4:\n",
    "        return -1\n",
    "    \n",
    "    return 0\n",
    "def evaluate(code, month, week, day, m30):\n",
    "    # 月线最低\n",
    "    close = month[\"close\"]\n",
    "    rsi = relative_strength_index(close)\n",
    "    if not any(rsi[-2:] < 25):\n",
    "        return\n",
    "    \n",
    "    # 周线最低\n",
    "    close = week[\"close\"]\n",
    "    rsi = relative_strength_index(close)\n",
    "    if not any(rsi[-3:] < 25):\n",
    "        return\n",
    "\n",
    "    # 日线最低\n",
    "    close = day[\"close\"]\n",
    "    rsi = relative_strength_index(close)\n",
    "    if not any(rsi[-10:] < 10):\n",
    "        return\n",
    "    \n",
    "    close = m30[\"close\"]\n",
    "    mas = []\n",
    "    for win in [5, 10, 20, 30, 60]:\n",
    "        ma = moving_average(close, win)[-20:]\n",
    "        mas.append(ma/ma[0])\n",
    "    \n",
    "    mas = np.array(mas)\n",
    "    if ma30_group_trend(mas) != 1:\n",
    "        return\n",
    "    \n",
    "    bulls = close[-3:]/close[-4:-1] - 1\n",
    "    if np.all(bulls) and np.all(close[-1] > mas[:,-1]):\n",
    "        return True\n",
    "        \n",
    "    \n",
    "async def scan(codes=None, tm=None):\n",
    "    tm = arrow.get(tm) if tm else arrow.now()\n",
    "    \n",
    "    results = []\n",
    "    if codes is None:\n",
    "        codes = Stock.choose(['stock'])\n",
    "        \n",
    "    for code in codes:\n",
    "        month = await get_bars(code, 30, '1M', tf.floor(tm, FrameType.MONTH))\n",
    "        #print(month[-1]['frame'])\n",
    "        \n",
    "        week = await get_bars(code, 30, '1w', tf.floor(tm, FrameType.WEEK))\n",
    "        #print(week[-1]['frame'])\n",
    "        \n",
    "        day = await get_bars(code, 100, '1d', tf.floor(tm, FrameType.DAY))\n",
    "        #print(day[-1]['frame'])\n",
    "        \n",
    "        m30 = await get_bars(code, 100, '30m', tf.floor(tm, FrameType.MIN30))\n",
    "        #print(m30[-1]['frame'])\n",
    "        \n",
    "        try:\n",
    "            if evaluate(code, month, week, day, m30):\n",
    "                name = Stock(code).display_name\n",
    "                results.append((name, code, m30[-1]['frame'].strftime('%Y-%m-%d %H:%M')))\n",
    "        except Exception as e:\n",
    "            print(e)\n",
    "            pass\n",
    "            \n",
    "    return pd.DataFrame(results, columns=[\"name\", \"code\", \"frame\"])\n",
    "        \n",
    "df = await scan(tm = '2021-11-10 15:00')"
   ],
   "outputs": [],
   "metadata": {}
  },
  {
   "cell_type": "code",
   "execution_count": null,
   "source": [
    "async def strategy(tm):\n",
    "    tm = tf.day_shift(arrow.get(tm), 0)\n",
    "    results = await scan(feature, 20, nstocks=-1, silent=True, tm=tm)\n",
    "    #results = sorted(results, key=lambda x: x[-1])\n",
    "    \n",
    "    print(\"results:\", len(results))\n",
    "    print(results[0])\n",
    "    profits = []\n",
    "    end = tf.day_shift(tm, 21)\n",
    "    for name, code, dt, *_ in results:\n",
    "        bars = await get_bars(code, 23, end=end)\n",
    "        profits.append((name, code, dt, *performance(bars, [1,3,5,8,10,15],stop_loss=0.1)))\n",
    "        \n",
    "    return profits\n",
    "        \n",
    "profits = await strategy(\"2021-08-30\")\n",
    "df = pd.DataFrame(profits, columns=[\"name\", \"code\", \"dt\", \"max\", \"min\", \"1\", \"3\", \"5\", \"8\", \"10\", \"15\"])\n",
    "df"
   ],
   "outputs": [],
   "metadata": {}
  },
  {
   "cell_type": "code",
   "execution_count": null,
   "source": [
    "df.describe()"
   ],
   "outputs": [],
   "metadata": {}
  },
  {
   "cell_type": "markdown",
   "source": [
    "# 标本研究"
   ],
   "metadata": {}
  },
  {
   "cell_type": "code",
   "execution_count": 14,
   "source": [
    "lmgf = \"002734.XSHE\"\n",
    "lmgf_30 = await get_bars(lmgf, 100, '30m', '2021-11-10 15:00')"
   ],
   "outputs": [],
   "metadata": {}
  },
  {
   "cell_type": "code",
   "execution_count": 15,
   "source": [
    "lmgf_day = await get_bars(lmgf, 100, '1d', '2021-11-10')\n",
    "lmgf_week = await get_bars(lmgf, 30, '1w', '2021-11-10')\n",
    "lmgf_month = await get_bars(lmgf, 30, '1M', '2021-10-29')"
   ],
   "outputs": [],
   "metadata": {}
  },
  {
   "cell_type": "code",
   "execution_count": 16,
   "source": [
    "for bars in [lmgf_30, lmgf_day, lmgf_week, lmgf_month]:\n",
    "    close = bars[\"close\"]\n",
    "    rsi = relative_strength_index(close)\n",
    "    print(rsi[-10:])"
   ],
   "outputs": [
    {
     "output_type": "stream",
     "name": "stdout",
     "text": [
      "[71.38 85.34 53.84 46.91 42.53 42.53 37.49 51.33 66.78 73.88]\n",
      "[ 8.68 20.77 31.08 26.22 29.02 39.98 36.98 36.05 49.67 49.67]\n",
      "[  nan   nan 36.18 51.46 42.13 38.3  36.21 21.78 25.69 32.13]\n",
      "[43.37 42.95 52.54 49.96 42.85 44.23 35.46 26.94 29.58 22.24]\n"
     ]
    }
   ],
   "metadata": {}
  },
  {
   "cell_type": "code",
   "execution_count": 17,
   "source": [
    "close = lmgf_30[\"close\"]\n",
    "mas = []\n",
    "colors = {\n",
    "    5: 'r',\n",
    "    10:'g',\n",
    "    20:'b',\n",
    "    30:'cyan',\n",
    "    60:'wheat'\n",
    "}\n",
    "for win in [5, 10, 20, 30, 60]:\n",
    "    ma = moving_average(close, win)[-20:]\n",
    "    mas.append(np.round(ma/ma[0], 3))\n",
    "    plt.plot(ma, color = colors[win])\n",
    "    \n",
    "mas = np.array(mas)\n"
   ],
   "outputs": [
    {
     "output_type": "display_data",
     "data": {
      "image/png": "[encoded data removed]",
      "text/plain": [
       "<Figure size 432x288 with 1 Axes>"
      ]
     },
     "metadata": {
      "needs_background": "light"
     }
    }
   ],
   "metadata": {}
  },
  {
   "cell_type": "code",
   "execution_count": null,
   "source": [
    "polyfit(mas[4])"
   ],
   "outputs": [],
   "metadata": {}
  },
  {
   "cell_type": "code",
   "execution_count": null,
   "source": [
    "np.max(mas/mas[4]) - np.min(mas/mas[4])"
   ],
   "outputs": [],
   "metadata": {}
  },
  {
   "cell_type": "code",
   "execution_count": null,
   "source": [
    "polyfit(np.mean(mas, axis=0))"
   ],
   "outputs": [],
   "metadata": {}
  },
  {
   "cell_type": "code",
   "execution_count": null,
   "source": [
    "plt.plot(np.polyval([-7.758031442238378e-06, 0.0005021394395078156, 0.9992177922077918], np.arange(20)))\n",
    "plt.plot(np.mean(mas, axis=0))"
   ],
   "outputs": [],
   "metadata": {}
  },
  {
   "cell_type": "code",
   "execution_count": null,
   "source": [],
   "outputs": [],
   "metadata": {}
  }
 ],
 "metadata": {
  "kernelspec": {
   "display_name": "Python 3.8.12 64-bit ('alpha': conda)",
   "language": "python",
   "name": "python3812jvsc74a57bd0e0991ae97f5ae595dff4e065820c67789f8a838b458f4df83a145fc0afc1ef34"
  },
  "language_info": {
   "codemirror_mode": {
    "name": "ipython",
    "version": 3
   },
   "file_extension": ".py",
   "mimetype": "text/x-python",
   "name": "python",
   "nbconvert_exporter": "python",
   "pygments_lexer": "ipython3",
   "version": "3.9.7"
  },
  "toc": {
   "base_numbering": 1,
   "nav_menu": {},
   "number_sections": true,
   "sideBar": true,
   "skip_h1_title": false,
   "title_cell": "Table of Contents",
   "title_sidebar": "Contents",
   "toc_cell": false,
   "toc_position": {},
   "toc_section_display": true,
   "toc_window_display": true
  }
 },
 "nbformat": 4,
 "nbformat_minor": 5
}
