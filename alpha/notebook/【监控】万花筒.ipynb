{
 "cells": [
  {
   "cell_type": "markdown",
   "id": "6b26072a",
   "metadata": {},
   "source": [
    "# 背景\n",
    "\n",
    "监控各种手动或者其它策略选出来的个股。当某个信号发出时触发"
   ]
  },
  {
   "cell_type": "code",
   "execution_count": 1,
   "id": "11bc5f41",
   "metadata": {},
   "outputs": [],
   "source": [
    "await init_notebook()"
   ]
  },
  {
   "cell_type": "markdown",
   "id": "8b46bb66",
   "metadata": {},
   "source": [
    "# 丰原药业\n",
    "\n",
    "<img src=\"https://images.jieyu.ai/images/202111/20211202204316.png\" width=\"40%\" align=\"left\"/>丰原药业沿均线趋势上升比较明显。最初是触及30日线反弹（prsi 31%), 再后来触及60日线反弹（prsi 4%),再后来触及120日线反弹（prsi 11%)\n",
    "如果股价再次触及60日或者120日线，发出提示。是否买入要结合当前大盘。如果大盘较好，触及60日线可买，否则等120日线。"
   ]
  },
  {
   "cell_type": "code",
   "execution_count": 22,
   "id": "2cfdd404",
   "metadata": {},
   "outputs": [],
   "source": [
    "async def touch_line(code, bars, lines):\n",
    "    close = bars[\"close\"]\n",
    "    name = Stock(code).display_name\n",
    "\n",
    "    for n in lines:\n",
    "        ma = moving_average(close, n)[-7:]\n",
    "        (a,b,_), pmae = polyfit(ma/ma[0])\n",
    "        \n",
    "        if pmae > 3e-3 or b < 0:\n",
    "            print(f\"{name}的趋势线可能不再有支撑作用。\")\n",
    "            continue\n",
    "\n",
    "        ctoma = close[-1]/ma[-1] - 1\n",
    "        msg = f\"{name}触及{n}日线，请考虑是否下单\"\n",
    "        if np.any(ctoma > 0):\n",
    "            if bars[\"low\"][-1] / ma[-1] - 1 < 0.01 or ctoma < 0.02:\n",
    "                print(msg)\n",
    "                say(msg)"
   ]
  },
  {
   "cell_type": "code",
   "execution_count": 24,
   "id": "9a31f1e7",
   "metadata": {},
   "outputs": [
    {
     "name": "stdout",
     "output_type": "stream",
     "text": [
      "-0.07443221403183853 60\n",
      "0.006470687146126419 120\n",
      "丰原药业触及120日线，请考虑是否下单\n"
     ]
    }
   ],
   "source": [
    "bars = await get_bars(\"000153.XSHE\", 139, end=\"2021-11-8\")\n",
    "await touch_line(\"000153.XSHE\", bars, lines=[60, 120])"
   ]
  },
  {
   "cell_type": "code",
   "execution_count": null,
   "id": "746363d8",
   "metadata": {},
   "outputs": [],
   "source": []
  }
 ],
 "metadata": {
  "kernelspec": {
   "display_name": "Python 3.8.12 64-bit ('alpha': conda)",
   "language": "python",
   "name": "python3812jvsc74a57bd0e0991ae97f5ae595dff4e065820c67789f8a838b458f4df83a145fc0afc1ef34"
  },
  "language_info": {
   "codemirror_mode": {
    "name": "ipython",
    "version": 3
   },
   "file_extension": ".py",
   "mimetype": "text/x-python",
   "name": "python",
   "nbconvert_exporter": "python",
   "pygments_lexer": "ipython3",
   "version": "3.9.7"
  },
  "toc": {
   "base_numbering": 1,
   "nav_menu": {},
   "number_sections": true,
   "sideBar": true,
   "skip_h1_title": false,
   "title_cell": "Table of Contents",
   "title_sidebar": "Contents",
   "toc_cell": false,
   "toc_position": {},
   "toc_section_display": true,
   "toc_window_display": true
  }
 },
 "nbformat": 4,
 "nbformat_minor": 5
}
