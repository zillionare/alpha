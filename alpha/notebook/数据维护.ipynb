{
 "cells": [
  {
   "cell_type": "markdown",
   "id": "0b64f68a",
   "metadata": {},
   "source": [
    "# 重置当日数据"
   ]
  },
  {
   "cell_type": "code",
   "execution_count": 5,
   "id": "35e5d8bb",
   "metadata": {},
   "outputs": [],
   "source": [
    "from alpha.notebook import *\n",
    "from omicron import cache\n",
    "\n",
    "await init_notebook()"
   ]
  },
  {
   "cell_type": "code",
   "execution_count": 6,
   "id": "7ca869a6",
   "metadata": {},
   "outputs": [],
   "source": [
    "async def reset_tail(days=-1):\n",
    "    day = tf.day_shift(arrow.now(), days)\n",
    "    week = tf.shift(arrow.now(), days, FrameType.WEEK)\n",
    "    month = tf.shift(arrow.now(), days, FrameType.MONTH)\n",
    "\n",
    "    print(\"reset tail to[day, week, month] \", day, week, month)\n",
    "        \n",
    "    m30 = datetime.datetime(day.year, day.month, day.day, 15)\n",
    "    \n",
    "    for key in await cache.security.keys('*'):\n",
    "        if key.endswith('30m'):\n",
    "            await cache.security.hset(key, 'tail', tf.time2int(m30))\n",
    "        elif key.endswith('1d'):\n",
    "            await cache.security.hset(key, 'tail', tf.date2int(day))\n",
    "        elif key.endswith('1M'):\n",
    "            await cache.security.hset(key, 'tail',tf.date2int(month))\n",
    "        elif key.endswith('1w'):\n",
    "            await cache.security.hset(key, 'tail', tf.date2int(week))"
   ]
  },
  {
   "cell_type": "code",
   "execution_count": 10,
   "id": "3d6379ce",
   "metadata": {},
   "outputs": [
    {
     "name": "stdout",
     "output_type": "stream",
     "text": [
      "reset tail to[day, week, month]  2021-11-30 2021-08-27 2020-07-31\n"
     ]
    }
   ],
   "source": [
    "await reset_tail(-16)"
   ]
  },
  {
   "cell_type": "code",
   "execution_count": 12,
   "id": "9ce7682c",
   "metadata": {},
   "outputs": [],
   "source": [
    "import datetime"
   ]
  },
  {
   "cell_type": "code",
   "execution_count": 13,
   "id": "5c4a6e70",
   "metadata": {},
   "outputs": [],
   "source": [
    "now = datetime.datetime.now()"
   ]
  },
  {
   "cell_type": "code",
   "execution_count": 14,
   "id": "0785dea1",
   "metadata": {},
   "outputs": [
    {
     "data": {
      "text/plain": [
       "datetime.datetime(2021, 12, 22, 15, 39, 52, 909852)"
      ]
     },
     "execution_count": 14,
     "metadata": {},
     "output_type": "execute_result"
    }
   ],
   "source": [
    "now"
   ]
  },
  {
   "cell_type": "code",
   "execution_count": 18,
   "id": "451508a8",
   "metadata": {},
   "outputs": [
    {
     "data": {
      "text/plain": [
       "[4, 3, 2, 1]"
      ]
     },
     "execution_count": 18,
     "metadata": {},
     "output_type": "execute_result"
    }
   ],
   "source": [
    "sorted([1,2,3,4], reverse=True)"
   ]
  },
  {
   "cell_type": "code",
   "execution_count": null,
   "id": "77f7c1f5",
   "metadata": {},
   "outputs": [],
   "source": []
  }
 ],
 "metadata": {
  "kernelspec": {
   "display_name": "Python 3.8.12 64-bit ('alpha': conda)",
   "language": "python",
   "name": "python3812jvsc74a57bd0e0991ae97f5ae595dff4e065820c67789f8a838b458f4df83a145fc0afc1ef34"
  },
  "language_info": {
   "codemirror_mode": {
    "name": "ipython",
    "version": 3
   },
   "file_extension": ".py",
   "mimetype": "text/x-python",
   "name": "python",
   "nbconvert_exporter": "python",
   "pygments_lexer": "ipython3",
   "version": "3.9.7"
  },
  "toc": {
   "base_numbering": 1,
   "nav_menu": {},
   "number_sections": true,
   "sideBar": true,
   "skip_h1_title": false,
   "title_cell": "Table of Contents",
   "title_sidebar": "Contents",
   "toc_cell": false,
   "toc_position": {},
   "toc_section_display": true,
   "toc_window_display": true
  }
 },
 "nbformat": 4,
 "nbformat_minor": 5
}
