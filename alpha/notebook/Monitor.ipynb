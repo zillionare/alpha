{
 "cells": [
  {
   "cell_type": "markdown",
   "id": "c8225efe",
   "metadata": {},
   "source": [
    "# 背景\n",
    "\n",
    "对指定个股和指数进行30分钟级别的监控，包括趋势、反转指标等，并通过语音进行报告。\n",
    "\n",
    "本监控在数据上不依赖于zillionare-omega"
   ]
  },
  {
   "cell_type": "code",
   "execution_count": 1,
   "id": "cf7e9a12",
   "metadata": {},
   "outputs": [],
   "source": [
    "! export HTTPS_PROXY=\"\"\n",
    "from alpha.notebook import *\n",
    "import datetime\n",
    "await init_notebook(use_omicron=True)\n",
    "\n",
    "g = {\n",
    "    \"notified\": set(),\n",
    "    \"rsi\": RsiStats(FrameType.MIN30)\n",
    "}\n",
    "\n",
    "g[\"rsi\"].load()"
   ]
  },
  {
   "cell_type": "code",
   "execution_count": 2,
   "id": "5cacea00",
   "metadata": {},
   "outputs": [],
   "source": [
    "def get_pmae_threshold(code, frame_type, win):\n",
    "    if code in [\"000001.XSHG\"]:\n",
    "        return {\n",
    "            \"30m\": {\n",
    "                5: 1.51e-4,\n",
    "                10: 1.51e-4\n",
    "            }\n",
    "        }.get(frame_type, {}).get(win, 3e-4)\n",
    "    else: # 个股\n",
    "        return {\n",
    "            \"30m\": {\n",
    "                5: 3e-3,\n",
    "                10: 1e-3\n",
    "            }\n",
    "        }.get(frame_type, {}).get(win, 3e-3)\n",
    "    \n",
    "def pred_roc(close, win, pmae_threshold):\n",
    "    \"\"\"通过ma来预测2周期后的涨跌幅\"\"\"\n",
    "    preds, pmae = predict_by_moving_average(close, win, n_preds = 2, err_threshold = pmae_threshold, n = 7)\n",
    "    \n",
    "    if preds:\n",
    "        return preds[-1] / close[-1] - 1\n",
    "    else:\n",
    "        return None\n",
    "    \n",
    "def ma_swing(close, win, err_threshold, n=7):\n",
    "    ma = moving_average(close, win)[-n:]\n",
    "    ma_ = ma/ma[0]\n",
    "    (a,b,c), pmae = polyfit(ma_)\n",
    "    \n",
    "    if pmae > err_threshold:\n",
    "        return None\n",
    "    \n",
    "    # to check if last points matched\n",
    "    fit = np.polyval((a,b,c), np.arange(n))\n",
    "    \n",
    "    vx = round(-b/(2 * a))\n",
    "    return a, b, vx, n-vx\n",
    "    \n",
    "def notify(frame, text):\n",
    "    key = f\"{frame.hour:02d}:{frame.minute:02d} {text}\"\n",
    "    if key in g[\"notified\"]:\n",
    "        return\n",
    "    \n",
    "    print(key)\n",
    "    g[\"notified\"].add(key)\n",
    "    say(text)\n",
    "        \n",
    "def canonical_code(code):\n",
    "    if \".\" in code:\n",
    "        return code\n",
    "    \n",
    "    if code.startswith(\"6\"):\n",
    "        return code + \".XSHG\"\n",
    "    else:\n",
    "        return code + \".XSHE\"\n",
    "    \n",
    "def to_code(name):\n",
    "    secs = Securities()\n",
    "    return secs._secs[secs._secs['display_name']==name][\"code\"][0]"
   ]
  },
  {
   "cell_type": "code",
   "execution_count": 3,
   "id": "5d03b9a2",
   "metadata": {},
   "outputs": [],
   "source": [
    "async def do_check(holdings:list[str], check_at=None):\n",
    "    end = arrow.now() if check_at is None else arrow.get(check_at)\n",
    "    start = tf.shift(tf.floor(end, FrameType.MIN30), -39, FrameType.MIN30)\n",
    "    \n",
    "    clear_output()\n",
    "    \n",
    "    for code in holdings:\n",
    "        sec = Security(code)\n",
    "        bars = await sec.load_bars(start, end, FrameType.MIN30)\n",
    "        close = bars[\"close\"]\n",
    "        \n",
    "        rsi = relative_strength_index(close, period=6)[-1]\n",
    "        prsi = g[\"rsi\"].get_proba(code, rsi)\n",
    "        \n",
    "        if prsi >= 0.9:\n",
    "            notify(end, f\"相对强弱指标显示，{sec.display_name}即将高位反转，概率为{prsi:.0%}\")\n",
    "        if prsi <= 0.1:\n",
    "            notify(end, f\"相对强弱指标显示，{sec.display_name}即将低位反转，概率为{1-prsi:.0%}\")\n",
    "        \n",
    "        # check 30m 5日线摆动\n",
    "        params = ma_swing(close, 5, get_pmae_threshold(code, '30m', 5))\n",
    "        if params is None:\n",
    "            continue\n",
    "            \n",
    "        a, b, vx, dist = params\n",
    "        if code == \"000001.XSHG\" and abs(a) > 1e-3 and 2 < dist <=4:\n",
    "            text = \"向下拐头，请注意风险\" if a < 0 else \"向上拐头，可考虑加仓\"\n",
    "            notify(end, f\"沪指30分钟均线已经{text}\")\n",
    "            \n",
    "        if code != \"000001.XSHG\" and abs(a) > 3e-3 and 2 < dist <= 4:\n",
    "            text = \"向下拐头，请注意风险\" if a < 0 else \"向上拐头，可考虑加仓\"\n",
    "            notify(end, f\"{sec.display_name}30分钟均线已经{text}\")\n",
    "        \n",
    "async def mon(my_stocks, check_at=None):\n",
    "    import asyncio\n",
    "    \n",
    "    my_stocks = [to_code(name) for name in my_stocks]\n",
    "    my_stocks.append(\"000001.XSHG\")\n",
    "    \n",
    "    now = arrow.now()\n",
    "    wakeup_time = []\n",
    "    for tm in [\"09:59\", \"10:29\", \"10:59\", \"11:29\", \"13:29\", \"13:59\", \"14:29\", \"14:56\"]:\n",
    "        hour, minute = map(int, tm.split(\":\"))\n",
    "        wakeup_time.append(arrow.Arrow(now.year, now.month, now.day, hour, minute, tzinfo=\"Asia/Shanghai\"))\n",
    "        \n",
    "    if check_at:\n",
    "        wakeup_time.insert(0, arrow.now().shift(seconds=5))\n",
    "        \n",
    "    for tm in wakeup_time:\n",
    "        if arrow.now() > tm:\n",
    "            continue\n",
    "            \n",
    "        seconds = (tm.timestamp - arrow.now().timestamp)\n",
    "        await asyncio.sleep(seconds)\n",
    "        print(f\"awake at {arrow.now()}\")\n",
    "        await do_check(my_stocks, check_at)"
   ]
  },
  {
   "cell_type": "code",
   "execution_count": null,
   "id": "85025d76",
   "metadata": {
    "scrolled": false
   },
   "outputs": [
    {
     "name": "stdout",
     "output_type": "stream",
     "text": [
      "09:59 相对强弱指标显示，上证指数即将低位反转，概率为96%\n"
     ]
    }
   ],
   "source": [
    "await mon([\"中国西电\", \"格林美\", \"锦盛新材\", \"海信视像\", \"惠泉啤酒\", \"天齐锂业\"])\n",
    "say(\"finished\")"
   ]
  },
  {
   "cell_type": "code",
   "execution_count": null,
   "id": "4cf1db35",
   "metadata": {},
   "outputs": [],
   "source": []
  }
 ],
 "metadata": {
  "kernelspec": {
   "display_name": "Python 3.8.12 64-bit ('alpha': conda)",
   "language": "python",
   "name": "python3812jvsc74a57bd0e0991ae97f5ae595dff4e065820c67789f8a838b458f4df83a145fc0afc1ef34"
  },
  "language_info": {
   "codemirror_mode": {
    "name": "ipython",
    "version": 3
   },
   "file_extension": ".py",
   "mimetype": "text/x-python",
   "name": "python",
   "nbconvert_exporter": "python",
   "pygments_lexer": "ipython3",
   "version": "3.9.7"
  },
  "toc": {
   "base_numbering": 1,
   "nav_menu": {},
   "number_sections": true,
   "sideBar": true,
   "skip_h1_title": false,
   "title_cell": "Table of Contents",
   "title_sidebar": "Contents",
   "toc_cell": false,
   "toc_position": {
    "height": "calc(100% - 180px)",
    "left": "10px",
    "top": "150px",
    "width": "232px"
   },
   "toc_section_display": true,
   "toc_window_display": true
  }
 },
 "nbformat": 4,
 "nbformat_minor": 5
}
