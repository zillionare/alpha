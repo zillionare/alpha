{
 "cells": [
  {
   "cell_type": "markdown",
   "id": "ee4d3f7f",
   "metadata": {},
   "source": [
    "# 使用信号处理函数-argrelextrema"
   ]
  },
  {
   "cell_type": "code",
   "execution_count": null,
   "id": "150532e8",
   "metadata": {},
   "outputs": [],
   "source": [
    "import numpy as np\n",
    "from alpha.notebook import *\n",
    "from scipy.signal import argrelextrema\n",
    "import numpy as np\n",
    "pd.options.display.max_rows = 999\n",
    "from alpha.core.rsi_stats import rsi30, rsiday\n",
    "import talib\n",
    "\n",
    "await init_notebook()\n",
    "\n",
    "shday = await get_bars(\"000001.XSHG\", 100, '1d', '2021-11-5 15:00')\n",
    "shmin = await get_bars(\"000001.XSHG\", 220, '30m', '2021-11-05 15:00')"
   ]
  },
  {
   "cell_type": "code",
   "execution_count": null,
   "id": "6cb5649e",
   "metadata": {},
   "outputs": [],
   "source": [
    "def peak_and_valley(bars):\n",
    "    ma = moving_average(bars[\"close\"], 10)\n",
    "    \n",
    "    peak_indexes = argrelextrema(ma, np.greater)\n",
    "    peaks = peak_indexes[0]\n",
    "\n",
    "    # Find valleys(min).\n",
    "    valley_indexes = argrelextrema(ma, np.less)\n",
    "    valleys = valley_indexes[0]\n",
    "\n",
    "    assert abs(len(peaks) - len(valleys)) <= 1\n",
    "    \n",
    "    bars = bars[9:]\n",
    "    # Plot main graph.\n",
    "    (fig, ax) = plt.subplots()\n",
    "    ax.plot(np.arange(len(bars)), bars[\"close\"], color='c')\n",
    "    ax.plot(np.arange(len(bars)), ma, color='b')\n",
    "\n",
    "    # Plot peaks.\n",
    "    peak_x = peaks\n",
    "    peak_y = bars['close'][peak_x]\n",
    "    ax.plot(peak_x, peak_y, 'gv', label=\"Peaks\")\n",
    "\n",
    "    # Plot valleys.\n",
    "    valley_x = valleys\n",
    "    valley_y = bars['close'][valley_x]\n",
    "    ax.plot(valley_x, valley_y, 'r^', label=\"Valleys\")\n",
    "     \n",
    "    trades = []\n",
    "    gains = 1\n",
    "    order = None\n",
    "\n",
    "    vertex = sorted([*peaks, *valleys])\n",
    "    for x in vertex:\n",
    "        close = bars[\"close\"]\n",
    "        buy = x in valleys\n",
    "        sell = x in peaks\n",
    "        if buy and order is None:\n",
    "            order = {\n",
    "                \"buy\": close[x] * 0.5 + close[x+1] * 0.5,\n",
    "                \"buy_at\": bars[\"frame\"][x+1]\n",
    "            }\n",
    "\n",
    "        elif sell and order:\n",
    "            buy = order[\"buy\"]\n",
    "            sell = close[x+1] * 0.5 + close[x] * 0.5,\n",
    "            gain = sell / buy\n",
    "            order.update({\n",
    "                \"sell\": sell,\n",
    "                \"sell_at\": bars[\"frame\"][x+1],\n",
    "                \"gain\": gain\n",
    "            })\n",
    "\n",
    "            gains *= gain\n",
    "            trades.append(order)\n",
    "            order = None\n",
    "\n",
    "    return gains - 1, trades"
   ]
  },
  {
   "cell_type": "markdown",
   "id": "ff3ab22e",
   "metadata": {},
   "source": [
    "# 指数30分钟拐头报警"
   ]
  },
  {
   "cell_type": "code",
   "execution_count": null,
   "id": "f05a89ed",
   "metadata": {},
   "outputs": [],
   "source": [
    "minclose = shmin[\"close\"]\n",
    "minframe = shmin[\"frame\"]\n",
    "ma = moving_average(minclose, 5)\n",
    "\n",
    "# align frame with ma\n",
    "close = close[4:]\n",
    "frame = frame[4:]\n",
    "bars = sh[4:]\n",
    "\n",
    "\n",
    "local_ma = argrelextrema(ma, np.greater, order=5)[0]\n",
    "local_mi = argrelextrema(ma, np.less, order=5)[0]\n",
    "\n",
    "plt.plot(ma)\n",
    "plt.plot(local_ma, ma[local_ma], 'gv')\n",
    "plt.plot(local_mi, ma[local_mi], 'r^')\n",
    "for i in local_ma:\n",
    "    plt.text(i, ma[i], f\"{str(frame[i])[5:13]}_{i}\")    \n",
    "for i in local_mi:\n",
    "    plt.text(i, ma[i], f\"{str(frame[i])[5:13]}_{i}\")"
   ]
  },
  {
   "cell_type": "markdown",
   "id": "22ba1ceb",
   "metadata": {},
   "source": [
    "# 抛物线转向\n",
    "\n",
    "股票的均线形态常常会出现类似于抛物线的向下、向下转向，尤其以指数为甚。但研究表明，抛物线拟合中容易出现错误信号。准确率不高，看如何提升？\n",
    "\n",
    "如果连续几个周期出现a一致，而dist每次加1，则说明这个pattern比较稳定。"
   ]
  },
  {
   "cell_type": "code",
   "execution_count": null,
   "id": "d3bd0e7c",
   "metadata": {},
   "outputs": [],
   "source": [
    "def parabolic_features(ts, rng=7, ma_win=5, calc_ma=True):\n",
    "    \"\"\"检测`ts`代表的最后7个周期的均线中，是否存在抛物线特征。\n",
    "    \"\"\"\n",
    "    if calc_ma:\n",
    "        ts = moving_average(ts, ma_win)\n",
    "\n",
    "    ts_ = ts[-rng:]\n",
    "    (a, b, c), pmae = polyfit(ts_)\n",
    "\n",
    "    # predict till next frame\n",
    "    y_ = np.polyval((a,b,c), np.arange(rng + 1))\n",
    "\n",
    "    # uncomment this to draw the lines\n",
    "    # plt.plot(np.arange(len(ts)-rng, len(ts)), y_)\n",
    "    # plt.plot(ts)\n",
    "\n",
    "    vx = round(-b/(2*a),1)\n",
    "    \n",
    "    next_ts = reverse_moving_average(y_, rng, ma_win)\n",
    "    pred_roc = next_ts/ts[-1] - 1\n",
    "    \n",
    "    return np.sign(pred_roc), pred_roc, rng - vx, round(a, 4), round(pmae, 5)"
   ]
  },
  {
   "cell_type": "code",
   "execution_count": null,
   "id": "4a15695e",
   "metadata": {},
   "outputs": [],
   "source": [
    "for i in range(-10, -1):\n",
    "    print(minframe[i], parabolic_features(minclose[:i]))"
   ]
  },
  {
   "cell_type": "code",
   "execution_count": null,
   "id": "e4aabc2b",
   "metadata": {},
   "outputs": [],
   "source": [
    "\n",
    "\n",
    "def double_bottom(bars, win=10, gap=1e-3):\n",
    "    \"\"\"在`n`个周期里，是否存在两个底部\n",
    "\n",
    "\n",
    "    Args:\n",
    "        bars ([type]): [description]\n",
    "        win (int, optional): [description]. Defaults to 10.\n",
    "\n",
    "    Returns:\n",
    "        [type]: [description]\n",
    "    \"\"\"\n",
    "    low = bars[\"low\"][-win:]\n",
    "    pos = top_n_argpos(-low, 2)\n",
    "\n",
    "    l1, l2 = low[pos]\n",
    "    return abs(l1/l2 - 1) < gap\n",
    "\n",
    "double_bottom(shday)"
   ]
  },
  {
   "cell_type": "markdown",
   "id": "6fe0e6b2",
   "metadata": {},
   "source": [
    "# 综合判断\n",
    "\n",
    "目标： 需要能判断\n",
    "\n",
    "33 10-25 10:00 底\n",
    "\n",
    "10-26 10:30 顶 RSI\n",
    "\n",
    "10-29 10:00 底 RSI\n",
    "\n",
    "11-02 10:00 顶 抛物线转向？要求11：00能发出信号\n",
    "\n",
    "11-03 13:30 底\n",
    "\n",
    "11-03 14:30 底 RSI底背离\n",
    "\n",
    "11-04 15:00 顶 抛物线转向？"
   ]
  },
  {
   "cell_type": "code",
   "execution_count": null,
   "id": "1a398b44",
   "metadata": {},
   "outputs": [],
   "source": [
    "def reversal_features(code, bars, frame_type:FrameType, ma=None, wr_win=60, peak_altitude=1e-2):\n",
    "    # 顺序\n",
    "    # 0. WR\n",
    "    # 1. RSI\n",
    "    # 2. parabolic flip\n",
    "    # 3. stock pattern\n",
    "    # 4. local maximum/minimum\n",
    "    \n",
    "    assert frame_type in [FrameType.DAY, FrameType.MIN30]\n",
    "    features = []\n",
    "\n",
    "    open_, high, low, close = bars[\"open\"], bars[\"high\"], bars[\"low\"], bars[\"close\"]\n",
    "\n",
    "    hh = np.max(high[-wr_win:])\n",
    "    ll = np.min(low[-wr_win:])\n",
    "    \n",
    "    if ma is None:\n",
    "        ma = moving_average(bars[\"close\"], 5)\n",
    "        \n",
    "        bars = bars[4:]\n",
    "    \n",
    "    # wr\n",
    "    wr = (hh - close[-1])/(hh - ll)\n",
    "    \n",
    "    features.append(wr)\n",
    "        \n",
    "    # rsi and prsi\n",
    "    rsi = relative_strength_index(close, period=6)[-3:]\n",
    "    \n",
    "    rsistats = rsi30 if frame_type == FrameType.MIN30 else rsiday\n",
    "    prsi = [rsistats.get_proba(code, v) for v in rsi]\n",
    "    \n",
    "    features.extend(prsi)\n",
    "    features.extend(rsi)\n",
    "    \n",
    "    # parabolic features\n",
    "    features.extend(parabolic_features(close))\n",
    "    \n",
    "    # stock pattern\n",
    "    # double bottom | hammer | invert_hammer| long down shadow | long up shadow | double top | darkcloud cover \n",
    "    db = double_bottom(bars)\n",
    "    _, shadow = hammer(bars[-1])\n",
    "    \n",
    "    if len(shadow):\n",
    "        hm = shadow[0]\n",
    "    else:\n",
    "        hm = 0\n",
    "    _, shadow = inverted_hammer(bars[-1])\n",
    "    \n",
    "    if len(shadow):\n",
    "        ihm = shadow[0]\n",
    "    else:\n",
    "        ihm = 0\n",
    "        \n",
    "    ds = down_shadow(bars[-1])\n",
    "    us = up_shadow(bars[-1])\n",
    "    \n",
    "    dt = double_top(bars)\n",
    "    \n",
    "    dcc = dark_cloud_cover(bars[-2:])\n",
    "    dcc = False if dcc is None else True\n",
    "    \n",
    "    # local maximum/minimum\n",
    "    n = 10\n",
    "    peaks, valleys = peaks_and_valleys(close[-n:], min_altitude_ratio=peak_altitude)\n",
    "    peak = n - peaks[-1] if len(peaks) else None\n",
    "    valley = n - valleys[-1] if len(valleys) else None\n",
    "\n",
    "    features.extend([db, hm, ihm, ds, us, dt, dcc, peak, valley])\n",
    "    \n",
    "    columns = [\"wr\", \"prsi_2\", \"prsi_1\", \"prsi_0\", \"rsi_2\", \"rsi_1\", \"rsi_0\", \"parab_flag\", \"parab_pred_roc\",\n",
    "              \"parab_vx\", \"parab_a\", \"parab_pmae\", \"double_bottom\", \"hammer\", \"inverted_hammer\", \"down_shadow\",\n",
    "              \"upper_shadow\", \"double_top\", \"dark_cloud_cover\", \"peak\", \"valley\"]\n",
    "    return features, columns\n",
    "    \n",
    "    \n",
    "features, columns = reversal_features(\"000001.XSHG\", shday, FrameType.DAY)\n",
    "dict(zip(columns, features))"
   ]
  },
  {
   "cell_type": "code",
   "execution_count": null,
   "id": "901e6769",
   "metadata": {},
   "outputs": [],
   "source": [
    "df = pd.DataFrame(shmin)\n",
    "df.to_csv(\"/apps/alpha/tests/data/sh.30m.20111105.200.csv\", index=False, sep=\"\\t\")"
   ]
  },
  {
   "cell_type": "code",
   "execution_count": 3,
   "id": "2e7bbf93",
   "metadata": {},
   "outputs": [],
   "source": [
    "shmin_10000 = await get_bars(\"000001.XSHG\", 10000, '30m', end=\"2011-11-05 15:00\")"
   ]
  },
  {
   "cell_type": "code",
   "execution_count": 10,
   "id": "fa74bf18",
   "metadata": {},
   "outputs": [],
   "source": [
    "peaks, valleys = peaks_and_valleys(shmin_10000[\"close\"][-40:], min_altitude_ratio=1e-2)"
   ]
  },
  {
   "cell_type": "code",
   "execution_count": 11,
   "id": "df006755",
   "metadata": {},
   "outputs": [],
   "source": [
    "signals = [(p, 'v', 'r') for p in peaks]\n",
    "signals.extend([(p, '^', 'g') for p in valleys])"
   ]
  },
  {
   "cell_type": "code",
   "execution_count": 12,
   "id": "a3bbbdad",
   "metadata": {},
   "outputs": [
    {
     "data": {
      "image/png": "[encoded data removed]",
      "text/plain": [
       "<Figure size 400x240 with 2 Axes>"
      ]
     },
     "metadata": {
      "needs_background": "light"
     },
     "output_type": "display_data"
    }
   ],
   "source": [
    "cs = Candlestick({'30m': [5,10,20, 30]}, n_plot_bars=40)\n",
    "cs.plot_bars(shmin_10000[-40:], signals=signals)"
   ]
  },
  {
   "cell_type": "code",
   "execution_count": null,
   "id": "9dbdb599",
   "metadata": {},
   "outputs": [],
   "source": []
  }
 ],
 "metadata": {
  "kernelspec": {
   "display_name": "alpha",
   "language": "python",
   "name": "alpha"
  },
  "language_info": {
   "codemirror_mode": {
    "name": "ipython",
    "version": 3
   },
   "file_extension": ".py",
   "mimetype": "text/x-python",
   "name": "python",
   "nbconvert_exporter": "python",
   "pygments_lexer": "ipython3",
   "version": "3.8.12"
  },
  "toc": {
   "base_numbering": 1,
   "nav_menu": {},
   "number_sections": true,
   "sideBar": true,
   "skip_h1_title": false,
   "title_cell": "Table of Contents",
   "title_sidebar": "Contents",
   "toc_cell": false,
   "toc_position": {
    "height": "calc(100% - 180px)",
    "left": "10px",
    "top": "150px",
    "width": "224px"
   },
   "toc_section_display": true,
   "toc_window_display": true
  }
 },
 "nbformat": 4,
 "nbformat_minor": 5
}
