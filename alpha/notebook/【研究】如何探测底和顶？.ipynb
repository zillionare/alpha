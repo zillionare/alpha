{
 "cells": [
  {
   "cell_type": "markdown",
   "id": "ee4d3f7f",
   "metadata": {},
   "source": [
    "# 使用信号处理函数-argrelextrema"
   ]
  },
  {
   "cell_type": "code",
   "execution_count": 3,
   "id": "150532e8",
   "metadata": {},
   "outputs": [],
   "source": [
    "import numpy as np\n",
    "from alpha.notebook import *\n",
    "from scipy.signal import argrelextrema\n",
    "import numpy as np\n",
    "pd.options.display.max_rows = 999\n",
    "from alpha.core.rsi_stats import rsi30, rsiday\n",
    "from alpha.ml.index_sh_pv import IndexShPeakValleys\n",
    "\n",
    "await init_notebook()\n",
    "\n",
    "shday = await get_bars(\"000001.XSHG\", 100, '1d', '2021-11-5 15:00')\n",
    "shmin = await get_bars(\"000001.XSHG\", 220, '30m', '2021-11-05 15:00')"
   ]
  },
  {
   "cell_type": "markdown",
   "id": "ff3ab22e",
   "metadata": {},
   "source": [
    "# 指数30分钟拐头报警"
   ]
  },
  {
   "cell_type": "code",
   "execution_count": null,
   "id": "f05a89ed",
   "metadata": {},
   "outputs": [],
   "source": [
    "minclose = shmin[\"close\"]\n",
    "minframe = shmin[\"frame\"]\n",
    "ma = moving_average(minclose, 5)\n",
    "\n",
    "# align frame with ma\n",
    "close = close[4:]\n",
    "frame = frame[4:]\n",
    "bars = sh[4:]\n",
    "\n",
    "\n",
    "local_ma = argrelextrema(ma, np.greater, order=5)[0]\n",
    "local_mi = argrelextrema(ma, np.less, order=5)[0]\n",
    "\n",
    "plt.plot(ma)\n",
    "plt.plot(local_ma, ma[local_ma], 'gv')\n",
    "plt.plot(local_mi, ma[local_mi], 'r^')\n",
    "for i in local_ma:\n",
    "    plt.text(i, ma[i], f\"{str(frame[i])[5:13]}_{i}\")    \n",
    "for i in local_mi:\n",
    "    plt.text(i, ma[i], f\"{str(frame[i])[5:13]}_{i}\")"
   ]
  },
  {
   "cell_type": "markdown",
   "id": "6fe0e6b2",
   "metadata": {},
   "source": [
    "# 机器学习模型"
   ]
  },
  {
   "cell_type": "markdown",
   "id": "ecbb5dcd",
   "metadata": {},
   "source": [
    "## 数据标注"
   ]
  },
  {
   "cell_type": "code",
   "execution_count": null,
   "id": "d731146f",
   "metadata": {},
   "outputs": [],
   "source": [
    "sh = await get_bars(\"000001.XSHG\", 12000, '30m', end=\"2011-11-05 15:00\")\n",
    "\n",
    "fig = plt.figure(figsize=(20, 5))\n",
    "ax = fig.add_subplot()\n",
    "\n",
    "for i in range(100, len(sh)-1, 100):\n",
    "    bars = sh[i-100:i]\n",
    "    peaks, valleys = peaks_and_valleys(bars[\"close\"], 5e-3, width=8)\n",
    "        \n",
    "    ax.plot(bars[\"close\"])\n",
    "    ax.scatter(peaks, bars[\"close\"][peaks], color='blue')\n",
    "    ax.scatter(valleys, bars[\"close\"][valleys], color='red')\n",
    "\n",
    "    fig.savefig(f\"/tmp/pv/{i-100:04d}.png\")\n",
    "    ax.cla()"
   ]
  },
  {
   "cell_type": "markdown",
   "id": "32570bc8",
   "metadata": {},
   "source": [
    "## 训练"
   ]
  },
  {
   "cell_type": "code",
   "execution_count": null,
   "id": "84648b37",
   "metadata": {},
   "outputs": [],
   "source": [
    "import random\n",
    "features = []\n",
    "\n",
    "from sklearn.model_selection import train_test_split\n",
    "\n",
    "for i in peaks:\n",
    "    if i < 100 or i == 12000-1:\n",
    "        continue\n",
    "        \n",
    "    feature, desc = reversal_features(\"000001.XSHG\", shmin_12000[i-99:i+1], FrameType.MIN30, peak_altitude=1e-3)\n",
    "    features.append([*feature, 0, i])\n",
    "    \n",
    "for i in valleys:\n",
    "    if i < 100 or i == 12000-1:\n",
    "        continue\n",
    "        \n",
    "    feature, desc = reversal_features(\"000001.XSHG\", shmin_12000[i-99:i+1], FrameType.MIN30, peak_altitude=1e-3)\n",
    "    features.append([*feature, 1, i])\n",
    "    \n",
    "excluded = set(peaks)\n",
    "excluded.update(valleys)\n",
    "\n",
    "for i in random.sample(range(100, 9999), 1000):\n",
    "    if i not in excluded:\n",
    "        feature, desc = reversal_features(\"000001.XSHG\", shmin_12000[i-99:i+1], FrameType.MIN30, peak_altitude=1e-3)\n",
    "        features.append([*feature, 2, i])\n",
    "        \n",
    "features = np.array(features)\n",
    "total = len(features)\n",
    "train_indices = random.sample([i for i in range(total)], int(0.8 * total ))\n",
    "test_indices = list(set(np.arange(total)) - set(train_indices))\n",
    "\n",
    "X_train = features[train_indices][:,0:-2]\n",
    "y_train = features[train_indices][:,-2].astype('i4')\n",
    "meta_train = features[train_indices][:,-1].astype('i4')\n",
    "\n",
    "X_test = features[test_indices][:,0:-2]\n",
    "y_test = features[test_indices][:,-2].astype('i4')\n",
    "meta_test = features[test_indices][:,-1].astype('i4')\n",
    "print(X_train[0])\n",
    "print(y_train[0])"
   ]
  },
  {
   "cell_type": "code",
   "execution_count": null,
   "id": "d3768947",
   "metadata": {
    "scrolled": false
   },
   "outputs": [],
   "source": [
    "from xgboost import XGBClassifier\n",
    "from sklearn.model_selection import RandomizedSearchCV\n",
    "from scipy.stats import randint, uniform\n",
    "\n",
    "\n",
    "model = XGBClassifier(eval_metric='mlogloss',use_label_encoder=False)\n",
    "params = {\n",
    "    \"colsample_bytree\": uniform(0.7, 0.3),\n",
    "    \"gamma\": uniform(0, 0.5),\n",
    "    \"learning_rate\": uniform(0.01, 1),\n",
    "    \"max_depth\": randint(2, 6),\n",
    "    \"n_estimators\": randint(80, 150),\n",
    "    \"subsample\": uniform(0.6, 0.4),\n",
    "}\n",
    "\n",
    "search = RandomizedSearchCV(\n",
    "    model,\n",
    "    param_distributions=params,\n",
    "    random_state=78,\n",
    "    n_iter=100,\n",
    "    cv=3,\n",
    "    verbose=1,\n",
    "    n_jobs=4,\n",
    "    return_train_score=True,\n",
    "    refit=True,\n",
    ")\n",
    "\n",
    "search.fit(X_train, y_train)"
   ]
  },
  {
   "cell_type": "code",
   "execution_count": null,
   "id": "d758318f",
   "metadata": {
    "scrolled": false
   },
   "outputs": [],
   "source": [
    "from sklearn.metrics import classification_report\n",
    "model = search.best_estimator_\n",
    "preds = model.predict(X_test)\n",
    "report = classification_report(y_test, preds)\n",
    "print(report)\n",
    "\n",
    "for i in range(len(y_test)):\n",
    "    if i == 20:\n",
    "        break\n",
    "    if y_test[i] != preds[i]:\n",
    "        pos = int(meta_test[i])\n",
    "        \n",
    "        cs = Candlestick({'30m': [5, 10, 20, 30]}, n_plot_bars=60)\n",
    "        bars = shmin_12000[pos-50:pos+10]\n",
    "\n",
    "        vec, desc = reversal_features(\"000001.XSHG\", bars[:-9], FrameType.MIN30, peak_altitude=1e-3)\n",
    "        \n",
    "        features = [f\"{d}: {v:.2f}\" for d, v in zip(desc, vec)]\n",
    "        plt.text(0, 0, \"\\n\".join(features))\n",
    "        \n",
    "        cs.plot_bars(bars, title = f\"True: {y_test[i]}/ Pred: {preds[i]}\", signals=[(50, 'x', 'r')])\n"
   ]
  },
  {
   "cell_type": "markdown",
   "id": "3211c7e4",
   "metadata": {},
   "source": [
    "# revisions\n",
    "v1: \n",
    "              precision    recall  f1-score   support\n",
    "\n",
    "           0       0.70      0.81      0.75       158\n",
    "           1       0.68      0.76      0.72       134\n",
    "           2       0.57      0.44      0.50       177\n",
    "\n",
    "    accuracy                           0.66       469\n",
    "   macro avg       0.65      0.67      0.66       469\n",
    "weighted avg       0.65      0.66      0.65       469\n",
    "\n",
    "\n",
    "[x] v2: parab_vx 取值范围过宽，可能导致收敛困难，应该限制在-win:win之间。\n",
    "\n",
    "              precision    recall  f1-score   support\n",
    "\n",
    "           0       0.64      0.79      0.71       144\n",
    "           1       0.71      0.85      0.77       143\n",
    "           2       0.62      0.42      0.50       185\n",
    "\n",
    "    accuracy                           0.66       472\n",
    "   macro avg       0.66      0.68      0.66       472\n",
    "weighted avg       0.65      0.66      0.65       472\n"
   ]
  },
  {
   "cell_type": "markdown",
   "id": "c1da021f",
   "metadata": {},
   "source": [
    "# 模型实测"
   ]
  },
  {
   "cell_type": "code",
   "execution_count": null,
   "id": "48acc1cc",
   "metadata": {},
   "outputs": [],
   "source": [
    "from alpha.ml.index_sh_pv import IndexShPeakValleys\n",
    "shpv30m = IndexShPeakValleys(version=\"v1\", inference_mode=True)"
   ]
  },
  {
   "cell_type": "code",
   "execution_count": null,
   "id": "ee8e4c2a",
   "metadata": {},
   "outputs": [],
   "source": [
    "start = arrow.get(\"2021-11-09 10:00\")\n",
    "end = arrow.get(\"2021-11-22 15:00\")\n",
    "\n",
    "for tm in tf.get_frames(start, end, FrameType.MIN30):\n",
    "    tm = tf.int2time(tm)\n",
    "    \n",
    "    bars = await get_bars(\"000001.XSHG\", 100, '30m', tm)\n",
    "    print(tm, shpv30m.predict(bars))"
   ]
  },
  {
   "cell_type": "markdown",
   "id": "b1b34b16",
   "metadata": {},
   "source": [
    "# 手工规则（30分钟）\n",
    "1. 利亚德2021年11月25日15：00\n",
    "2. 沪指2021年11月25日15：00\n",
    "3. 万顺新材11月24日13：30 （5周期内收盘价未创新高，当前低于ma5?)\n",
    "4. 最近10周期内，均线空多头排列情况\n",
    "5. 最近股价与均线关系"
   ]
  },
  {
   "cell_type": "code",
   "execution_count": null,
   "id": "29e2df07",
   "metadata": {},
   "outputs": [],
   "source": [
    "shpv = IndexShPeakValleys(0.1)\n",
    "sh = await get_bars(\"000001.XSHG\", 12000, '30m', end=\"2011-11-05 15:00\")"
   ]
  },
  {
   "cell_type": "code",
   "execution_count": null,
   "id": "52e1896f",
   "metadata": {},
   "outputs": [],
   "source": [
    "def plot(i):\n",
    "    i = i * 100\n",
    "    bars = sh[i-100:i]\n",
    "    peaks, valleys = peaks_and_valleys(bars[\"close\"], 5e-3, width=8)\n",
    "\n",
    "\n",
    "    signals = []\n",
    "    for i in peaks:\n",
    "        signals.append((i, f\"{i}\", \"b\"))\n",
    "        \n",
    "    for i in valleys:\n",
    "        signals.append((i, f\"{i}\", \"b\"))\n",
    "        \n",
    "    cs = Candlestick({\"30m\":[5, 10, 20, 30]}, n_plot_bars=100, font_size=16)\n",
    "    cs.plot_bars(bars, signals=signals)"
   ]
  },
  {
   "cell_type": "code",
   "execution_count": null,
   "id": "8e48c34f",
   "metadata": {},
   "outputs": [],
   "source": [
    "plot(1)"
   ]
  },
  {
   "cell_type": "code",
   "execution_count": null,
   "id": "59187068",
   "metadata": {},
   "outputs": [],
   "source": [
    "magic_number(bars[0])"
   ]
  },
  {
   "cell_type": "code",
   "execution_count": 37,
   "id": "0f05452d",
   "metadata": {},
   "outputs": [],
   "source": [
    "bars = await get_bars(\"300057.XSHE\", 10, '30m', end='2021-11-29 10:30')"
   ]
  },
  {
   "cell_type": "code",
   "execution_count": 38,
   "id": "4e467517",
   "metadata": {},
   "outputs": [
    {
     "data": {
      "text/plain": [
       "[<matplotlib.lines.Line2D at 0x158745df0>]"
      ]
     },
     "execution_count": 38,
     "metadata": {},
     "output_type": "execute_result"
    },
    {
     "data": {
      "image/png": "[encoded data removed]",
      "text/plain": [
       "<Figure size 432x288 with 1 Axes>"
      ]
     },
     "metadata": {
      "needs_background": "light"
     },
     "output_type": "display_data"
    }
   ],
   "source": [
    "ma = moving_average(bars[\"close\"], 120)\n",
    "plt.plot(ma)"
   ]
  },
  {
   "cell_type": "code",
   "execution_count": 40,
   "id": "93a54162",
   "metadata": {},
   "outputs": [
    {
     "data": {
      "text/plain": [
       "array([(datetime.datetime(2021, 11, 26, 10, 0, tzinfo=tzfile('/usr/share/zoneinfo/Asia/Shanghai')), 9.21, 9.49, 9.05, 9.19, 7044814., 64994680.32, 2.62),\n",
       "       (datetime.datetime(2021, 11, 26, 10, 30, tzinfo=tzfile('/usr/share/zoneinfo/Asia/Shanghai')), 9.19, 9.49, 9.18, 9.28, 4372366., 40911452.16, 2.62),\n",
       "       (datetime.datetime(2021, 11, 26, 11, 0, tzinfo=tzfile('/usr/share/zoneinfo/Asia/Shanghai')), 9.28, 9.35, 9.23, 9.31, 1356980., 12590114.7 , 2.62),\n",
       "       (datetime.datetime(2021, 11, 26, 11, 30, tzinfo=tzfile('/usr/share/zoneinfo/Asia/Shanghai')), 9.31, 9.35, 9.28, 9.31,  778616.,  7256800.64, 2.62),\n",
       "       (datetime.datetime(2021, 11, 26, 13, 30, tzinfo=tzfile('/usr/share/zoneinfo/Asia/Shanghai')), 9.31, 9.34, 9.23, 9.23,  964491.,  8946507.39, 2.62),\n",
       "       (datetime.datetime(2021, 11, 26, 14, 0, tzinfo=tzfile('/usr/share/zoneinfo/Asia/Shanghai')), 9.23, 9.4 , 9.22, 9.33, 1650800., 15368956.  , 2.62),\n",
       "       (datetime.datetime(2021, 11, 26, 14, 30, tzinfo=tzfile('/usr/share/zoneinfo/Asia/Shanghai')), 9.32, 9.36, 9.31, 9.31,  956661.,  8930429.93, 2.62),\n",
       "       (datetime.datetime(2021, 11, 26, 15, 0, tzinfo=tzfile('/usr/share/zoneinfo/Asia/Shanghai')), 9.33, 9.33, 9.19, 9.24, 2376695., 21973505.58, 2.62),\n",
       "       (datetime.datetime(2021, 11, 29, 10, 0, tzinfo=tzfile('/usr/share/zoneinfo/Asia/Shanghai')), 9.09, 9.3 , 9.09, 9.18, 4627055., 42489403.5 , 2.62),\n",
       "       (datetime.datetime(2021, 11, 29, 10, 30, tzinfo=tzfile('/usr/share/zoneinfo/Asia/Shanghai')), 9.16, 9.18, 9.06, 9.16, 2956885., 26948012.05, 2.62)],\n",
       "      dtype=[('frame', 'O'), ('open', '<f4'), ('high', '<f4'), ('low', '<f4'), ('close', '<f4'), ('volume', '<f8'), ('amount', '<f8'), ('factor', '<f4')])"
      ]
     },
     "execution_count": 40,
     "metadata": {},
     "output_type": "execute_result"
    }
   ],
   "source": [
    "bars"
   ]
  },
  {
   "cell_type": "code",
   "execution_count": 42,
   "id": "0d217fa9",
   "metadata": {},
   "outputs": [
    {
     "name": "stdout",
     "output_type": "stream",
     "text": [
      "auth success \n"
     ]
    },
    {
     "data": {
      "text/plain": [
       "array([(datetime.datetime(2021, 11, 26, 10, 0), 9.21, 9.49, 9.05, 9.19, 7044900.),\n",
       "       (datetime.datetime(2021, 11, 26, 10, 30), 9.19, 9.49, 9.18, 9.28, 4372400.),\n",
       "       (datetime.datetime(2021, 11, 26, 11, 0), 9.28, 9.35, 9.23, 9.31, 1357000.),\n",
       "       (datetime.datetime(2021, 11, 26, 11, 30), 9.31, 9.35, 9.28, 9.31,  778600.),\n",
       "       (datetime.datetime(2021, 11, 26, 13, 30), 9.31, 9.34, 9.23, 9.23,  964500.),\n",
       "       (datetime.datetime(2021, 11, 26, 14, 0), 9.23, 9.4 , 9.22, 9.33, 1650800.),\n",
       "       (datetime.datetime(2021, 11, 26, 14, 30), 9.32, 9.36, 9.31, 9.31,  956700.),\n",
       "       (datetime.datetime(2021, 11, 26, 15, 0), 9.33, 9.33, 9.19, 9.24, 2376700.),\n",
       "       (datetime.datetime(2021, 11, 29, 10, 0), 9.09, 9.32, 9.09, 9.16, 4629655.),\n",
       "       (datetime.datetime(2021, 11, 29, 10, 30), 9.16, 9.18, 9.06, 9.16, 2954285.)],\n",
       "      dtype=(numpy.record, [('frame', 'O'), ('open', '<f8'), ('high', '<f8'), ('low', '<f8'), ('close', '<f8'), ('volume', '<f8')]))"
      ]
     },
     "execution_count": 42,
     "metadata": {},
     "output_type": "execute_result"
    }
   ],
   "source": [
    "init_jq()\n",
    "jq_get_bars(\"300057.XSHE\", 10, '30m', end='2021-11-29 10:30')"
   ]
  },
  {
   "cell_type": "code",
   "execution_count": null,
   "id": "ab6535c3",
   "metadata": {},
   "outputs": [],
   "source": []
  }
 ],
 "metadata": {
  "kernelspec": {
   "display_name": "alpha",
   "language": "python",
   "name": "alpha"
  },
  "language_info": {
   "codemirror_mode": {
    "name": "ipython",
    "version": 3
   },
   "file_extension": ".py",
   "mimetype": "text/x-python",
   "name": "python",
   "nbconvert_exporter": "python",
   "pygments_lexer": "ipython3",
   "version": "3.9.7"
  },
  "toc": {
   "base_numbering": 1,
   "nav_menu": {},
   "number_sections": true,
   "sideBar": true,
   "skip_h1_title": false,
   "title_cell": "Table of Contents",
   "title_sidebar": "Contents",
   "toc_cell": false,
   "toc_position": {
    "height": "calc(100% - 180px)",
    "left": "10px",
    "top": "150px",
    "width": "224px"
   },
   "toc_section_display": true,
   "toc_window_display": true
  }
 },
 "nbformat": 4,
 "nbformat_minor": 5
}
