{
 "cells": [
  {
   "cell_type": "markdown",
   "id": "a3d1cba6",
   "metadata": {},
   "source": [
    "# 策略\n",
    "\n",
    "找到30天内涨幅在80%以上的牛股，当其30日WR回落到0.7以下，发出信号"
   ]
  },
  {
   "cell_type": "code",
   "execution_count": 1,
   "id": "b34cea89",
   "metadata": {},
   "outputs": [
    {
     "ename": "NameError",
     "evalue": "name 'Stats' is not defined",
     "output_type": "error",
     "traceback": [
      "\u001b[0;31m---------------------------------------------------------------------------\u001b[0m",
      "\u001b[0;31mNameError\u001b[0m                                 Traceback (most recent call last)",
      "\u001b[0;32m/var/folders/b5/73vzvtdn4pn_8wt6rpd2tb_w0000gn/T/ipykernel_22073/2214004966.py\u001b[0m in \u001b[0;36m<module>\u001b[0;34m\u001b[0m\n\u001b[1;32m      1\u001b[0m \u001b[0;32mfrom\u001b[0m \u001b[0malpha\u001b[0m\u001b[0;34m.\u001b[0m\u001b[0mnotebook\u001b[0m \u001b[0;32mimport\u001b[0m \u001b[0;34m*\u001b[0m\u001b[0;34m\u001b[0m\u001b[0;34m\u001b[0m\u001b[0m\n\u001b[1;32m      2\u001b[0m \u001b[0;32mawait\u001b[0m \u001b[0minit_notebook\u001b[0m\u001b[0;34m(\u001b[0m\u001b[0muse_omicron\u001b[0m\u001b[0;34m=\u001b[0m\u001b[0;32mTrue\u001b[0m\u001b[0;34m)\u001b[0m\u001b[0;34m\u001b[0m\u001b[0;34m\u001b[0m\u001b[0m\n\u001b[0;32m----> 3\u001b[0;31m \u001b[0mstats\u001b[0m \u001b[0;34m=\u001b[0m \u001b[0mStats\u001b[0m\u001b[0;34m(\u001b[0m\u001b[0;34m\"rsi\"\u001b[0m\u001b[0;34m)\u001b[0m\u001b[0;34m\u001b[0m\u001b[0;34m\u001b[0m\u001b[0m\n\u001b[0m\u001b[1;32m      4\u001b[0m \u001b[0mstats\u001b[0m\u001b[0;34m.\u001b[0m\u001b[0mload\u001b[0m\u001b[0;34m(\u001b[0m\u001b[0;34m\"/Users/aaronyang/data/rsi_1d_20190104_20210601.hist\"\u001b[0m\u001b[0;34m)\u001b[0m\u001b[0;34m\u001b[0m\u001b[0;34m\u001b[0m\u001b[0m\n",
      "\u001b[0;31mNameError\u001b[0m: name 'Stats' is not defined"
     ]
    }
   ],
   "source": [
    "from alpha.notebook import *\n",
    "await init_notebook(use_omicron=True)\n",
    "stats = Stats(\"rsi\")\n",
    "stats.load(\"/Users/aaronyang/data/rsi_1d_20190104_20210601.hist\")"
   ]
  },
  {
   "cell_type": "code",
   "execution_count": null,
   "id": "e055bcbd",
   "metadata": {
    "scrolled": true
   },
   "outputs": [],
   "source": [
    "async def check(code, close, adv=0.8, rsi_threshold=30):\n",
    "    cmax = np.max(close)\n",
    "    cmin = np.min(close)\n",
    "\n",
    "    # 忽略一路下降的走势\n",
    "    if np.argmax(close) < np.argmin(close):\n",
    "        return None\n",
    "\n",
    "    max_adv = cmax / cmin - 1\n",
    "    wr = (close[-1] - cmin) / (cmax - cmin)\n",
    "    rsi = relative_strength_index(close, 6)[-1]\n",
    "\n",
    "    if max_adv > adv and rsi < 30:\n",
    "        prob = stats.query(code, rsi)\n",
    "        return max_adv, wr, rsi, prob\n",
    "    \n",
    "    return None\n",
    "\n",
    "async def scan(tm, adv=0.8, n=30, df=True):\n",
    "    end = arrow.get(tm).date()\n",
    "    start = tf.day_shift(end, -n+1)\n",
    "    results = []\n",
    "    for code in Securities().choose([\"stock\"]):\n",
    "        sec = Security(code)\n",
    "        try:\n",
    "            bars = await sec.load_bars(start, end, FrameType.DAY)\n",
    "            close = bars[\"close\"]\n",
    "\n",
    "            if len(close) != n or np.count_nonzero(np.isfinite(close)) < n * 0.9:\n",
    "                continue\n",
    "\n",
    "            close = fillna(close.copy())\n",
    "            result = await check(code, close, adv)\n",
    "            if result is None:\n",
    "                continue\n",
    "\n",
    "\n",
    "            results.append([sec.display_name, code, end, *result])\n",
    "        except Exception:\n",
    "            pass\n",
    "    if df:\n",
    "        return pd.DataFrame(results, columns=[\"name\", \"code\", \"date\", \"adv\", \"wr\", \"rsi\", \"prob\"])\n",
    "    else:\n",
    "        return results"
   ]
  },
  {
   "cell_type": "code",
   "execution_count": null,
   "id": "5b2bcb79",
   "metadata": {},
   "outputs": [],
   "source": [
    "async def backtest(start, end):\n",
    "    start = arrow.get(start).date()\n",
    "    end = arrow.get(end).date()\n",
    "    results = []\n",
    "    \n",
    "    if tf.count_day_frames(end, arrow.now()) < 10:\n",
    "        end = tf.day_shift(arrow.now(), -10)\n",
    "        \n",
    "    for dt in tf.get_frames(start, end, FrameType.DAY):\n",
    "        signals = await scan(tf.int2date(dt), df=False)\n",
    "        for name, code, fire_date, adv, wr, rsi, prob in signals:\n",
    "            tail = tf.day_shift(fire_date, 10)\n",
    "            try:\n",
    "                ybars = await Security(code).load_bars(fire_date, tail, FrameType.DAY)\n",
    "            except Exception:\n",
    "                continue\n",
    "\n",
    "            profit, ind = sell_on_stop_lose(ybars[\"close\"])\n",
    "            sell_date = ybars[\"frame\"][ind]\n",
    "            duration = tf.count_day_frames(fire_date, sell_date)\n",
    "            result = [name, code, fire_date, sell_date, duration, profit, adv, wr, rsi, prob]\n",
    "            results.append(result)\n",
    "    return results\n",
    "\n",
    "results = await backtest(\"2021-09-01\", \"2021-09-30\")"
   ]
  },
  {
   "cell_type": "code",
   "execution_count": null,
   "id": "7269b9be",
   "metadata": {},
   "outputs": [],
   "source": [
    "columns = [\"name\", \"code\", \"fire_date\",\"sell_date\", \"duration\", \"profit\", \"adv\", \"wr\", \"rsi\", \"prob\"]\n",
    "df = pd.DataFrame(results, columns=columns)"
   ]
  },
  {
   "cell_type": "code",
   "execution_count": 31,
   "id": "07e3715e",
   "metadata": {},
   "outputs": [],
   "source": [
    "bars = jq_get_bars(\"301051.XSHE\", 12, '1d', '2021-10-21')\n",
    "close = bars[\"close\"]"
   ]
  },
  {
   "cell_type": "code",
   "execution_count": 33,
   "id": "d4b7dec8",
   "metadata": {},
   "outputs": [],
   "source": [
    "d1 = close[1:] / close[:-1] - 1\n",
    "d2 = np.diff(d1)\n",
    "\n",
    "dma2 = moving_average(d2, 5)"
   ]
  },
  {
   "cell_type": "code",
   "execution_count": 34,
   "id": "9064b0d7",
   "metadata": {},
   "outputs": [
    {
     "data": {
      "text/plain": [
       "array([ 0.00989181, -0.0028264 , -0.0003779 ,  0.00540355,  0.02031308,\n",
       "       -0.00398905])"
      ]
     },
     "execution_count": 34,
     "metadata": {},
     "output_type": "execute_result"
    }
   ],
   "source": [
    "dma2"
   ]
  },
  {
   "cell_type": "code",
   "execution_count": 37,
   "id": "e588025a",
   "metadata": {},
   "outputs": [
    {
     "data": {
      "text/plain": [
       "array([-2.98646757,  0.5964406 , -0.37295591,  0.2015742 , -2.2224351 ,\n",
       "        1.9594396 , -0.81675795, -0.56190661,  2.90335152,  7.93410339,\n",
       "       -0.03508772])"
      ]
     },
     "execution_count": 37,
     "metadata": {},
     "output_type": "execute_result"
    }
   ],
   "source": [
    "d1*100"
   ]
  },
  {
   "cell_type": "code",
   "execution_count": 39,
   "id": "261130dd",
   "metadata": {},
   "outputs": [
    {
     "data": {
      "text/plain": [
       "array([ 0.03582908, -0.00969397,  0.0057453 , -0.02424009,  0.04181875,\n",
       "       -0.02776198,  0.00254851,  0.03465258,  0.05030752, -0.07969191])"
      ]
     },
     "execution_count": 39,
     "metadata": {},
     "output_type": "execute_result"
    }
   ],
   "source": [
    "d2"
   ]
  },
  {
   "cell_type": "code",
   "execution_count": 40,
   "id": "f29b742f",
   "metadata": {},
   "outputs": [
    {
     "data": {
      "text/plain": [
       "array([-0.00956769,  0.00032413, -0.00250227, -0.00288017,  0.00252338,\n",
       "        0.02283646,  0.01884741])"
      ]
     },
     "execution_count": 40,
     "metadata": {},
     "output_type": "execute_result"
    }
   ],
   "source": [
    "moving_average(d1, 5)"
   ]
  },
  {
   "cell_type": "code",
   "execution_count": 42,
   "id": "9d341fef",
   "metadata": {},
   "outputs": [
    {
     "data": {
      "text/plain": [
       "array([20211021])"
      ]
     },
     "execution_count": 42,
     "metadata": {},
     "output_type": "execute_result"
    }
   ],
   "source": [
    "start = arrow.get(\"2021-10-21\")\n",
    "end = arrow.get(\"2021-10-21\")\n",
    "\n",
    "tf.get_frames(start, end, FrameType.DAY)"
   ]
  },
  {
   "cell_type": "code",
   "execution_count": null,
   "id": "6b81ec2f",
   "metadata": {},
   "outputs": [],
   "source": []
  }
 ],
 "metadata": {
  "kernelspec": {
   "display_name": "Python 3.8.12 64-bit ('alpha': conda)",
   "language": "python",
   "name": "python3812jvsc74a57bd0e0991ae97f5ae595dff4e065820c67789f8a838b458f4df83a145fc0afc1ef34"
  },
  "language_info": {
   "codemirror_mode": {
    "name": "ipython",
    "version": 3
   },
   "file_extension": ".py",
   "mimetype": "text/x-python",
   "name": "python",
   "nbconvert_exporter": "python",
   "pygments_lexer": "ipython3",
   "version": "3.9.7"
  },
  "toc": {
   "base_numbering": 1,
   "nav_menu": {},
   "number_sections": true,
   "sideBar": true,
   "skip_h1_title": false,
   "title_cell": "Table of Contents",
   "title_sidebar": "Contents",
   "toc_cell": false,
   "toc_position": {
    "height": "calc(100% - 180px)",
    "left": "10px",
    "top": "150px",
    "width": "247px"
   },
   "toc_section_display": true,
   "toc_window_display": true
  }
 },
 "nbformat": 4,
 "nbformat_minor": 5
}
