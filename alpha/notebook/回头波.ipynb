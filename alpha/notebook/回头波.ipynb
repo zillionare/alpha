{
 "cells": [
  {
   "cell_type": "markdown",
   "id": "42eee072",
   "metadata": {},
   "source": [
    "# 策略\n",
    "\n",
    "找到30天内涨幅在80%以上的牛股，当其日线rsi回到10%以下低位时，发出买入信号"
   ]
  },
  {
   "cell_type": "code",
   "execution_count": 9,
   "id": "b5f7cd3f",
   "metadata": {},
   "outputs": [],
   "source": [
    "from alpha.notebook import *\n",
    "from alpha.core.rsi_stats import rsiday, rsi30\n",
    "await init_notebook()"
   ]
  },
  {
   "cell_type": "code",
   "execution_count": 82,
   "id": "dca92d81",
   "metadata": {
    "scrolled": true
   },
   "outputs": [],
   "source": [
    "def day_features(code, name, bars, results, ft):\n",
    "    \"\"\"7日内出现放量涨停\"\"\"\n",
    "    bars = bars[-20:]\n",
    "    close = bars[\"close\"]\n",
    "    limits = [buy_limit_price(code, bar[\"close\"], bar[\"frame\"]) for bar in bars[:-1]]\n",
    "    if np.count_nonzero(limits/close[1:] - 1 <= 1e-4) == 1:\n",
    "        pos = np.argwhere(limits/close[1:] - 1 <= 1e-4)[0][0]\n",
    "        if pos < 13:\n",
    "            return\n",
    "        \n",
    "        results.append((name, code, bars[pos+1][\"frame\"]))"
   ]
  },
  {
   "cell_type": "code",
   "execution_count": 44,
   "id": "3eca5fd8",
   "metadata": {},
   "outputs": [],
   "source": [
    "def m30_triggers(code, name, bars, results, ft):\n",
    "    \"\"\"30分钟RSI低位买入\"\"\"\n",
    "    print(bars[0][\"frame\"])\n",
    "    rsi = relative_strength_index(bars[\"close\"])[-1]\n",
    "    prsi = rsi30.get_proba(code, rsi)\n",
    "    \n",
    "    if (prsi and prsi < 0.1) or rsi < 10:\n",
    "        results.append((name, code, bars[-1][\"frame\"], bars[-1][\"close\"], prsi, rsi))"
   ]
  },
  {
   "cell_type": "code",
   "execution_count": 109,
   "id": "70755475",
   "metadata": {},
   "outputs": [
    {
     "name": "stdout",
     "output_type": "stream",
     "text": [
      "2021-11-22\n",
      "progress: 500/4012, elapsed: 0, ETA: 0\n",
      "progress: 1000/4012, elapsed: 1, ETA: 3\n",
      "progress: 1500/4012, elapsed: 1, ETA: 1\n",
      "progress: 2000/4012, elapsed: 2, ETA: 2\n",
      "progress: 2500/4012, elapsed: 3, ETA: 1\n",
      "progress: 3000/4012, elapsed: 3, ETA: 1\n",
      "progress: 3500/4012, elapsed: 4, ETA: 0\n",
      "progress: 4000/4012, elapsed: 5, ETA: 0\n"
     ]
    }
   ],
   "source": [
    "async def strategy(tm=None):\n",
    "    tm = arrow.get(tm) if tm else arrow.now()\n",
    "    signals = await scan(day_features, 20, nstocks=-1, tm=tm)\n",
    "    results = []\n",
    "    for name, code, frame in signals:\n",
    "        try:\n",
    "            #print(name, code, frame)\n",
    "            end = tf.day_shift(frame, 7)\n",
    "            end = min(end, arrow.now().date())\n",
    "            end = tf.combine_time(end, hour=15)\n",
    "            start = tf.combine_time(frame, hour=15)\n",
    "            n = tf.count_frames(start, end, FrameType.MIN30)\n",
    "\n",
    "            bars = await get_bars(code, 18 + n, '30m', end)\n",
    "            #print(bars[0][\"frame\"], bars[-1][\"frame\"], bars[-n+1][\"frame\"], n)\n",
    "\n",
    "            close = bars[\"close\"]\n",
    "\n",
    "            bars_ = bars[-n+1:]\n",
    "            rsi = relative_strength_index(close)[-n+1:]\n",
    "            prsi = np.array([rsi30.get_proba(code, r) for r in rsi])\n",
    "\n",
    "            if prsi[0] is not None:\n",
    "                positions = np.argwhere(prsi < 0.11).flatten()\n",
    "            else:\n",
    "                positions = np.argwhere(rsi < 20).flatten()\n",
    "\n",
    "            #print(positions)\n",
    "\n",
    "            if len(positions):\n",
    "                pos = positions[0]\n",
    "\n",
    "                #buy_at = str(bars_[pos][\"frame\"])[5:16]\n",
    "                buy_at = bars_[pos][\"frame\"]\n",
    "                price = bars_[pos][\"close\"]\n",
    "\n",
    "                profit = bars_[-1][\"close\"]/price - 1\n",
    "                results.append((name, code, buy_at, price, round(100 * profit, 2)))\n",
    "        except Exception as e:\n",
    "            pass\n",
    "            \n",
    "    return pd.DataFrame(results, columns=[\"name\", \"code\", \"buy_at\", \"price\", \"profit\"])\n",
    "        \n",
    "df = await strategy('2021-11-22')"
   ]
  },
  {
   "cell_type": "code",
   "execution_count": 110,
   "id": "69bcbc25",
   "metadata": {},
   "outputs": [
    {
     "data": {
      "text/html": [
       "<div>\n",
       "<style scoped>\n",
       "    .dataframe tbody tr th:only-of-type {\n",
       "        vertical-align: middle;\n",
       "    }\n",
       "\n",
       "    .dataframe tbody tr th {\n",
       "        vertical-align: top;\n",
       "    }\n",
       "\n",
       "    .dataframe thead th {\n",
       "        text-align: right;\n",
       "    }\n",
       "</style>\n",
       "<table border=\"1\" class=\"dataframe\">\n",
       "  <thead>\n",
       "    <tr style=\"text-align: right;\">\n",
       "      <th></th>\n",
       "      <th>price</th>\n",
       "      <th>profit</th>\n",
       "    </tr>\n",
       "  </thead>\n",
       "  <tbody>\n",
       "    <tr>\n",
       "      <th>count</th>\n",
       "      <td>73.000000</td>\n",
       "      <td>73.000000</td>\n",
       "    </tr>\n",
       "    <tr>\n",
       "      <th>mean</th>\n",
       "      <td>23.759041</td>\n",
       "      <td>2.297671</td>\n",
       "    </tr>\n",
       "    <tr>\n",
       "      <th>std</th>\n",
       "      <td>34.428154</td>\n",
       "      <td>6.622106</td>\n",
       "    </tr>\n",
       "    <tr>\n",
       "      <th>min</th>\n",
       "      <td>2.980000</td>\n",
       "      <td>-11.070000</td>\n",
       "    </tr>\n",
       "    <tr>\n",
       "      <th>25%</th>\n",
       "      <td>7.250000</td>\n",
       "      <td>-1.390000</td>\n",
       "    </tr>\n",
       "    <tr>\n",
       "      <th>50%</th>\n",
       "      <td>13.630000</td>\n",
       "      <td>1.000000</td>\n",
       "    </tr>\n",
       "    <tr>\n",
       "      <th>75%</th>\n",
       "      <td>25.440002</td>\n",
       "      <td>4.030000</td>\n",
       "    </tr>\n",
       "    <tr>\n",
       "      <th>max</th>\n",
       "      <td>247.199997</td>\n",
       "      <td>28.980000</td>\n",
       "    </tr>\n",
       "  </tbody>\n",
       "</table>\n",
       "</div>"
      ],
      "text/plain": [
       "            price     profit\n",
       "count   73.000000  73.000000\n",
       "mean    23.759041   2.297671\n",
       "std     34.428154   6.622106\n",
       "min      2.980000 -11.070000\n",
       "25%      7.250000  -1.390000\n",
       "50%     13.630000   1.000000\n",
       "75%     25.440002   4.030000\n",
       "max    247.199997  28.980000"
      ]
     },
     "execution_count": 110,
     "metadata": {},
     "output_type": "execute_result"
    }
   ],
   "source": [
    "df[df.buy_at<arrow.get('2021-11-25 10:00', tzinfo='Asia/Shanghai').datetime].describe()"
   ]
  },
  {
   "cell_type": "code",
   "execution_count": null,
   "id": "2070057b",
   "metadata": {},
   "outputs": [],
   "source": []
  }
 ],
 "metadata": {
  "kernelspec": {
   "display_name": "Python 3.8.12 64-bit ('alpha': conda)",
   "language": "python",
   "name": "python3812jvsc74a57bd0e0991ae97f5ae595dff4e065820c67789f8a838b458f4df83a145fc0afc1ef34"
  },
  "language_info": {
   "codemirror_mode": {
    "name": "ipython",
    "version": 3
   },
   "file_extension": ".py",
   "mimetype": "text/x-python",
   "name": "python",
   "nbconvert_exporter": "python",
   "pygments_lexer": "ipython3",
   "version": "3.9.7"
  },
  "toc": {
   "base_numbering": 1,
   "nav_menu": {},
   "number_sections": true,
   "sideBar": true,
   "skip_h1_title": false,
   "title_cell": "Table of Contents",
   "title_sidebar": "Contents",
   "toc_cell": false,
   "toc_position": {
    "height": "calc(100% - 180px)",
    "left": "10px",
    "top": "150px",
    "width": "247px"
   },
   "toc_section_display": true,
   "toc_window_display": true
  }
 },
 "nbformat": 4,
 "nbformat_minor": 5
}
