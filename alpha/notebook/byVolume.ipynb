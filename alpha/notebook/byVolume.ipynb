{
 "cells": [
  {
   "cell_type": "code",
   "execution_count": null,
   "id": "bda6a53f",
   "metadata": {
    "scrolled": true
   },
   "outputs": [],
   "source": [
    "from alpha.notebook import *\n",
    "\n",
    "await init_notebook()"
   ]
  },
  {
   "cell_type": "code",
   "execution_count": 2,
   "id": "35a3d6cf",
   "metadata": {
    "scrolled": true
   },
   "outputs": [],
   "source": [
    "async def scan(end):\n",
    "    results = []\n",
    "    for code in Securities().choose([\"stock\"]):\n",
    "        sec = Security(code)\n",
    "        end = tf.floor(arrow.get(end), FrameType.MIN30)\n",
    "        start = tf.shift(end, -40, FrameType.MIN30)\n",
    "        bars = await sec.load_bars(start, end, FrameType.MIN30)\n",
    "        if len(bars) <40 or np.count_nonzero(np.isfinite(bars[\"close\"])) < 0.9 < len(bars):\n",
    "            continue\n",
    "\n",
    "        vf = top_volume_direction(bars, n= 40)\n",
    "\n",
    "        day_end = end.date()\n",
    "        day_start = tf.day_shift(day_end, -1)   \n",
    "        try:\n",
    "            day_bars = await sec.load_bars(day_start, day_end, FrameType.DAY)\n",
    "            c1, c0 = day_bars[\"close\"]\n",
    "        except Exception:\n",
    "            pass\n",
    "        row = [sec.display_name, code, c0/c1-1]\n",
    "        row.extend(vf)\n",
    "\n",
    "        results.append(row)\n",
    "\n",
    "    df = pd.DataFrame(results, columns=[\"name\", \"code\", \"adv\", \"vf1\", \"vf2\", \"vf3\"])\n",
    "    df[\"vsum\"] = df.vf1 + df.vf2 + df.vf3\n",
    "    \n",
    "    return df"
   ]
  },
  {
   "cell_type": "code",
   "execution_count": 3,
   "id": "961b87e2",
   "metadata": {
    "scrolled": true
   },
   "outputs": [],
   "source": [
    "def query(df, adv=0.1, vsum=6, up_ratio = 10, down_ratio = -3):\n",
    "    df_ = df\n",
    "    df_ = df_[df_.vsum>vsum]\n",
    "    df_ = df_[(df_.vf1 > down_ratio) & (df_.vf2 > down_ratio) & (df_.vf3 > down_ratio)]\n",
    "    df_ = df_[(df_.vf1 > up_ratio) | (df_.vf2 > up_ratio) | (df_.vf3 > up_ratio)]\n",
    "    df_ = df_[df_.adv < adv]\n",
    "    df_ = df_.sort_values(\"adv\")\n",
    "    \n",
    "    df_[\"adv\"] = df_.adv.apply(lambda x: f\"{x:.1%}\")\n",
    "    return df_"
   ]
  },
  {
   "cell_type": "code",
   "execution_count": 4,
   "id": "43ca6a64",
   "metadata": {
    "scrolled": true
   },
   "outputs": [],
   "source": [
    "df = await scan(\"2021-09-16 15:00\")"
   ]
  },
  {
   "cell_type": "code",
   "execution_count": 6,
   "id": "40c2db6a",
   "metadata": {},
   "outputs": [
    {
     "data": {
      "text/html": [
       "<div>\n",
       "<style scoped>\n",
       "    .dataframe tbody tr th:only-of-type {\n",
       "        vertical-align: middle;\n",
       "    }\n",
       "\n",
       "    .dataframe tbody tr th {\n",
       "        vertical-align: top;\n",
       "    }\n",
       "\n",
       "    .dataframe thead th {\n",
       "        text-align: right;\n",
       "    }\n",
       "</style>\n",
       "<table border=\"1\" class=\"dataframe\">\n",
       "  <thead>\n",
       "    <tr style=\"text-align: right;\">\n",
       "      <th></th>\n",
       "      <th>name</th>\n",
       "      <th>code</th>\n",
       "      <th>adv</th>\n",
       "      <th>vf1</th>\n",
       "      <th>vf2</th>\n",
       "      <th>vf3</th>\n",
       "      <th>vsum</th>\n",
       "    </tr>\n",
       "  </thead>\n",
       "  <tbody>\n",
       "    <tr>\n",
       "      <th>1647</th>\n",
       "      <td>金明精机</td>\n",
       "      <td>300281.XSHE</td>\n",
       "      <td>1.3%</td>\n",
       "      <td>2.864361</td>\n",
       "      <td>-1.690417</td>\n",
       "      <td>10.085858</td>\n",
       "      <td>11.259802</td>\n",
       "    </tr>\n",
       "    <tr>\n",
       "      <th>2186</th>\n",
       "      <td>锦盛新材</td>\n",
       "      <td>300849.XSHE</td>\n",
       "      <td>3.0%</td>\n",
       "      <td>-2.253884</td>\n",
       "      <td>2.329375</td>\n",
       "      <td>10.046038</td>\n",
       "      <td>10.121529</td>\n",
       "    </tr>\n",
       "    <tr>\n",
       "      <th>216</th>\n",
       "      <td>亚太实业</td>\n",
       "      <td>000691.XSHE</td>\n",
       "      <td>3.9%</td>\n",
       "      <td>2.655571</td>\n",
       "      <td>10.449416</td>\n",
       "      <td>-2.133926</td>\n",
       "      <td>10.971061</td>\n",
       "    </tr>\n",
       "    <tr>\n",
       "      <th>2343</th>\n",
       "      <td>漱玉平民</td>\n",
       "      <td>301017.XSHE</td>\n",
       "      <td>6.4%</td>\n",
       "      <td>12.969839</td>\n",
       "      <td>-1.899223</td>\n",
       "      <td>-2.131899</td>\n",
       "      <td>8.938718</td>\n",
       "    </tr>\n",
       "    <tr>\n",
       "      <th>1941</th>\n",
       "      <td>万里马</td>\n",
       "      <td>300591.XSHE</td>\n",
       "      <td>7.1%</td>\n",
       "      <td>13.258433</td>\n",
       "      <td>-1.991539</td>\n",
       "      <td>-1.785818</td>\n",
       "      <td>9.481076</td>\n",
       "    </tr>\n",
       "  </tbody>\n",
       "</table>\n",
       "</div>"
      ],
      "text/plain": [
       "      name         code   adv        vf1        vf2        vf3       vsum\n",
       "1647  金明精机  300281.XSHE  1.3%   2.864361  -1.690417  10.085858  11.259802\n",
       "2186  锦盛新材  300849.XSHE  3.0%  -2.253884   2.329375  10.046038  10.121529\n",
       "216   亚太实业  000691.XSHE  3.9%   2.655571  10.449416  -2.133926  10.971061\n",
       "2343  漱玉平民  301017.XSHE  6.4%  12.969839  -1.899223  -2.131899   8.938718\n",
       "1941   万里马  300591.XSHE  7.1%  13.258433  -1.991539  -1.785818   9.481076"
      ]
     },
     "execution_count": 6,
     "metadata": {},
     "output_type": "execute_result"
    }
   ],
   "source": [
    "query(df)"
   ]
  },
  {
   "cell_type": "code",
   "execution_count": null,
   "id": "1718e006",
   "metadata": {
    "scrolled": false
   },
   "outputs": [],
   "source": [
    "import os\n",
    "os.makedirs(\"/tmp/byVolume/0914\")\n",
    "for row in query(df).to_records():\n",
    "    code = row[\"code\"]\n",
    "    cs = Candlestick()\n",
    "    await cs.plot(code, \"2021-09-15 15:00\", save_to=\"/tmp/byVolume\")"
   ]
  },
  {
   "cell_type": "code",
   "execution_count": null,
   "id": "8e818c18",
   "metadata": {
    "scrolled": false
   },
   "outputs": [],
   "source": [
    "df = await scan(\"2021-09-15 14:30\")\n",
    "os.makedirs(\"/tmp/byVolume/0915\")\n",
    "for row in query(df).to_records():\n",
    "    code = row[\"code\"]\n",
    "    cs = Candlestick()\n",
    "    await cs.plot(code, \"2021-09-16 15:00\", save_to=\"/tmp/byVolume/0915\")"
   ]
  },
  {
   "cell_type": "code",
   "execution_count": null,
   "id": "ca0348ab",
   "metadata": {
    "scrolled": true
   },
   "outputs": [],
   "source": []
  }
 ],
 "metadata": {
  "kernelspec": {
   "display_name": "alpha",
   "language": "python",
   "name": "alpha"
  },
  "language_info": {
   "codemirror_mode": {
    "name": "ipython",
    "version": 3
   },
   "file_extension": ".py",
   "mimetype": "text/x-python",
   "name": "python",
   "nbconvert_exporter": "python",
   "pygments_lexer": "ipython3",
   "version": "3.8.8"
  },
  "toc": {
   "base_numbering": 1,
   "nav_menu": {},
   "number_sections": true,
   "sideBar": true,
   "skip_h1_title": false,
   "title_cell": "Table of Contents",
   "title_sidebar": "Contents",
   "toc_cell": false,
   "toc_position": {},
   "toc_section_display": true,
   "toc_window_display": true
  }
 },
 "nbformat": 4,
 "nbformat_minor": 5
}
