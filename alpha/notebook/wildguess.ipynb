{
 "cells": [
  {
   "cell_type": "code",
   "execution_count": 1,
   "id": "feffbc25",
   "metadata": {
    "scrolled": false
   },
   "outputs": [],
   "source": [
    "%matplotlib inline\n",
    "\n",
    "import os\n",
    "import arrow\n",
    "import pickle\n",
    "import pandas as pd\n",
    "from IPython.display import clear_output\n",
    "\n",
    "import cfg4py\n",
    "import omicron\n",
    "import numpy as np\n",
    "from omicron.core.types import FrameType\n",
    "from omicron.core.timeframe import tf\n",
    "from omicron.models.securities import Securities\n",
    "from omicron.models.security import Security\n",
    "\n",
    "from alpha.core.features import predict_by_moving_average, moving_average,fillna\n",
    "from alpha.plotting import draw_trendline\n",
    "from alpha.config import get_config_dir\n",
    "from alpha.strategies.wildguess import WildGuess\n",
    "from alpha.core.morph import MorphFeatures\n",
    "from alpha.strategies.zgc import ZGCStrategy\n",
    "\n",
    "cfg4py.init(get_config_dir())\n",
    "await omicron.init()\n",
    "    \n",
    "clear_output()"
   ]
  },
  {
   "cell_type": "code",
   "execution_count": null,
   "id": "32b65683",
   "metadata": {
    "scrolled": false
   },
   "outputs": [],
   "source": [
    "guess = WildGuess()\n",
    "df = await guess.scan(\"1d\", profit=0.2)"
   ]
  },
  {
   "cell_type": "code",
   "execution_count": null,
   "id": "fc075e3d",
   "metadata": {
    "scrolled": false
   },
   "outputs": [],
   "source": [
    "df[(df.pred_profit<0.3) & (df.vf_2 < 0)]"
   ]
  },
  {
   "cell_type": "code",
   "execution_count": 2,
   "id": "1e51fcbb",
   "metadata": {},
   "outputs": [
    {
     "name": "stdout",
     "output_type": "stream",
     "text": [
      "泛海控股 25%\n",
      "罗牛山 19%\n"
     ]
    },
    {
     "name": "stderr",
     "output_type": "stream",
     "text": [
      "2021-09-07 22:54:36,700 E 37581 alpha.strategies.zgc:scan:73 | invalid literal for int() with base 10: 'null'\n",
      "Traceback (most recent call last):\n",
      "  File \"/conda/envs/alpha/lib/python3.8/site-packages/alpha/strategies/zgc.py\", line 55, in scan\n",
      "    bars = await sec.load_bars(start, end, frame_type)\n",
      "  File \"/conda/envs/alpha/lib/python3.8/site-packages/omicron/models/security.py\", line 217, in load_bars\n",
      "    head, tail = await cache.get_bars_range(self.code, frame_type)\n",
      "  File \"/conda/envs/alpha/lib/python3.8/site-packages/omicron/dal/cache.py\", line 79, in get_bars_range\n",
      "    return converter(head) if head else None, converter(tail) if tail else None\n",
      "  File \"/conda/envs/alpha/lib/python3.8/site-packages/omicron/core/timeframe.py\", line 146, in int2date\n",
      "    return datetime.date(int(s[:4]), int(s[4:6]), int(s[6:]))\n",
      "ValueError: invalid literal for int() with base 10: 'null'\n"
     ]
    },
    {
     "name": "stdout",
     "output_type": "stream",
     "text": [
      "金龙羽 29%\n",
      "京泉华 34%\n",
      "运达科技 29%\n",
      "双杰电气 54%\n",
      "思特奇 41%\n",
      "汉嘉设计 37%\n",
      "运达股份 58%\n",
      "晓鸣股份 21%\n",
      "华绿生物 45%\n",
      "空港股份 16%\n",
      "林洋能源 41%\n",
      "汇嘉时代 48%\n"
     ]
    }
   ],
   "source": [
    "zgc = ZGCStrategy()\n",
    "df = await zgc.scan(\"1d\")"
   ]
  },
  {
   "cell_type": "code",
   "execution_count": 5,
   "id": "5f5dbf21",
   "metadata": {},
   "outputs": [
    {
     "data": {
      "text/html": [
       "<div>\n",
       "<style scoped>\n",
       "    .dataframe tbody tr th:only-of-type {\n",
       "        vertical-align: middle;\n",
       "    }\n",
       "\n",
       "    .dataframe tbody tr th {\n",
       "        vertical-align: top;\n",
       "    }\n",
       "\n",
       "    .dataframe thead th {\n",
       "        text-align: right;\n",
       "    }\n",
       "</style>\n",
       "<table border=\"1\" class=\"dataframe\">\n",
       "  <thead>\n",
       "    <tr style=\"text-align: right;\">\n",
       "      <th></th>\n",
       "      <th>name</th>\n",
       "      <th>profit</th>\n",
       "    </tr>\n",
       "  </thead>\n",
       "  <tbody>\n",
       "    <tr>\n",
       "      <th>0</th>\n",
       "      <td>泛海控股</td>\n",
       "      <td>0.249893</td>\n",
       "    </tr>\n",
       "    <tr>\n",
       "      <th>1</th>\n",
       "      <td>罗牛山</td>\n",
       "      <td>0.194103</td>\n",
       "    </tr>\n",
       "    <tr>\n",
       "      <th>2</th>\n",
       "      <td>金龙羽</td>\n",
       "      <td>0.286617</td>\n",
       "    </tr>\n",
       "    <tr>\n",
       "      <th>3</th>\n",
       "      <td>京泉华</td>\n",
       "      <td>0.337837</td>\n",
       "    </tr>\n",
       "    <tr>\n",
       "      <th>4</th>\n",
       "      <td>运达科技</td>\n",
       "      <td>0.292199</td>\n",
       "    </tr>\n",
       "    <tr>\n",
       "      <th>5</th>\n",
       "      <td>双杰电气</td>\n",
       "      <td>0.536969</td>\n",
       "    </tr>\n",
       "    <tr>\n",
       "      <th>6</th>\n",
       "      <td>思特奇</td>\n",
       "      <td>0.407355</td>\n",
       "    </tr>\n",
       "    <tr>\n",
       "      <th>7</th>\n",
       "      <td>汉嘉设计</td>\n",
       "      <td>0.374261</td>\n",
       "    </tr>\n",
       "    <tr>\n",
       "      <th>8</th>\n",
       "      <td>运达股份</td>\n",
       "      <td>0.582142</td>\n",
       "    </tr>\n",
       "    <tr>\n",
       "      <th>9</th>\n",
       "      <td>晓鸣股份</td>\n",
       "      <td>0.210886</td>\n",
       "    </tr>\n",
       "    <tr>\n",
       "      <th>10</th>\n",
       "      <td>华绿生物</td>\n",
       "      <td>0.453386</td>\n",
       "    </tr>\n",
       "    <tr>\n",
       "      <th>11</th>\n",
       "      <td>空港股份</td>\n",
       "      <td>0.161459</td>\n",
       "    </tr>\n",
       "    <tr>\n",
       "      <th>12</th>\n",
       "      <td>林洋能源</td>\n",
       "      <td>0.407341</td>\n",
       "    </tr>\n",
       "    <tr>\n",
       "      <th>13</th>\n",
       "      <td>汇嘉时代</td>\n",
       "      <td>0.480277</td>\n",
       "    </tr>\n",
       "  </tbody>\n",
       "</table>\n",
       "</div>"
      ],
      "text/plain": [
       "    name    profit\n",
       "0   泛海控股  0.249893\n",
       "1    罗牛山  0.194103\n",
       "2    金龙羽  0.286617\n",
       "3    京泉华  0.337837\n",
       "4   运达科技  0.292199\n",
       "5   双杰电气  0.536969\n",
       "6    思特奇  0.407355\n",
       "7   汉嘉设计  0.374261\n",
       "8   运达股份  0.582142\n",
       "9   晓鸣股份  0.210886\n",
       "10  华绿生物  0.453386\n",
       "11  空港股份  0.161459\n",
       "12  林洋能源  0.407341\n",
       "13  汇嘉时代  0.480277"
      ]
     },
     "execution_count": 5,
     "metadata": {},
     "output_type": "execute_result"
    }
   ],
   "source": [
    "df"
   ]
  },
  {
   "cell_type": "code",
   "execution_count": null,
   "id": "b448df55",
   "metadata": {},
   "outputs": [],
   "source": []
  }
 ],
 "metadata": {
  "kernelspec": {
   "display_name": "alpha",
   "language": "python",
   "name": "alpha"
  },
  "language_info": {
   "codemirror_mode": {
    "name": "ipython",
    "version": 3
   },
   "file_extension": ".py",
   "mimetype": "text/x-python",
   "name": "python",
   "nbconvert_exporter": "python",
   "pygments_lexer": "ipython3",
   "version": "3.8.8"
  },
  "toc": {
   "base_numbering": 1,
   "nav_menu": {},
   "number_sections": true,
   "sideBar": true,
   "skip_h1_title": false,
   "title_cell": "Table of Contents",
   "title_sidebar": "Contents",
   "toc_cell": false,
   "toc_position": {},
   "toc_section_display": true,
   "toc_window_display": false
  }
 },
 "nbformat": 4,
 "nbformat_minor": 5
}
