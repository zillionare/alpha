{
 "cells": [
  {
   "cell_type": "code",
   "execution_count": 1,
   "id": "feffbc25",
   "metadata": {
    "scrolled": false
   },
   "outputs": [],
   "source": [
    "%matplotlib inline\n",
    "\n",
    "import os\n",
    "import arrow\n",
    "import pickle\n",
    "import pandas as pd\n",
    "from IPython.display import clear_output\n",
    "\n",
    "import cfg4py\n",
    "import omicron\n",
    "import numpy as np\n",
    "from omicron.core.types import FrameType\n",
    "from omicron.core.timeframe import tf\n",
    "from omicron.models.securities import Securities\n",
    "from omicron.models.security import Security\n",
    "\n",
    "from alpha.core.features import predict_by_moving_average, moving_average,fillna\n",
    "from alpha.plotting import draw_trendline\n",
    "from alpha.config import get_config_dir\n",
    "from alpha.strategies.wildguess import WildGuess\n",
    "from alpha.core.morph import MorphFeatures\n",
    "\n",
    "cfg4py.init(get_config_dir())\n",
    "await omicron.init()\n",
    "    \n",
    "clear_output()"
   ]
  },
  {
   "cell_type": "code",
   "execution_count": 4,
   "id": "32b65683",
   "metadata": {
    "scrolled": true
   },
   "outputs": [],
   "source": [
    "guess = WildGuess()\n",
    "df = await guess.scan(\"1d\")"
   ]
  },
  {
   "cell_type": "code",
   "execution_count": 6,
   "id": "fc075e3d",
   "metadata": {
    "scrolled": false
   },
   "outputs": [
    {
     "data": {
      "text/html": [
       "<div>\n",
       "<style scoped>\n",
       "    .dataframe tbody tr th:only-of-type {\n",
       "        vertical-align: middle;\n",
       "    }\n",
       "\n",
       "    .dataframe tbody tr th {\n",
       "        vertical-align: top;\n",
       "    }\n",
       "\n",
       "    .dataframe thead th {\n",
       "        text-align: right;\n",
       "    }\n",
       "</style>\n",
       "<table border=\"1\" class=\"dataframe\">\n",
       "  <thead>\n",
       "    <tr style=\"text-align: right;\">\n",
       "      <th></th>\n",
       "      <th>code</th>\n",
       "      <th>pred_profit</th>\n",
       "      <th>ypred</th>\n",
       "      <th>pred_credits</th>\n",
       "    </tr>\n",
       "  </thead>\n",
       "  <tbody>\n",
       "    <tr>\n",
       "      <th>35</th>\n",
       "      <td>002608.XSHE</td>\n",
       "      <td>0.178098</td>\n",
       "      <td>7.940380</td>\n",
       "      <td>3</td>\n",
       "    </tr>\n",
       "    <tr>\n",
       "      <th>37</th>\n",
       "      <td>002650.XSHE</td>\n",
       "      <td>0.199341</td>\n",
       "      <td>5.888763</td>\n",
       "      <td>3</td>\n",
       "    </tr>\n",
       "    <tr>\n",
       "      <th>50</th>\n",
       "      <td>003011.XSHE</td>\n",
       "      <td>0.158426</td>\n",
       "      <td>34.219907</td>\n",
       "      <td>3</td>\n",
       "    </tr>\n",
       "    <tr>\n",
       "      <th>51</th>\n",
       "      <td>003816.XSHE</td>\n",
       "      <td>0.176409</td>\n",
       "      <td>3.329238</td>\n",
       "      <td>3</td>\n",
       "    </tr>\n",
       "    <tr>\n",
       "      <th>109</th>\n",
       "      <td>600153.XSHG</td>\n",
       "      <td>0.168036</td>\n",
       "      <td>9.858224</td>\n",
       "      <td>3</td>\n",
       "    </tr>\n",
       "    <tr>\n",
       "      <th>114</th>\n",
       "      <td>600461.XSHG</td>\n",
       "      <td>0.200089</td>\n",
       "      <td>10.308763</td>\n",
       "      <td>4</td>\n",
       "    </tr>\n",
       "    <tr>\n",
       "      <th>121</th>\n",
       "      <td>600674.XSHG</td>\n",
       "      <td>0.155297</td>\n",
       "      <td>14.071523</td>\n",
       "      <td>3</td>\n",
       "    </tr>\n",
       "    <tr>\n",
       "      <th>126</th>\n",
       "      <td>600909.XSHG</td>\n",
       "      <td>0.152364</td>\n",
       "      <td>6.614570</td>\n",
       "      <td>3</td>\n",
       "    </tr>\n",
       "    <tr>\n",
       "      <th>156</th>\n",
       "      <td>605122.XSHG</td>\n",
       "      <td>0.189854</td>\n",
       "      <td>27.330948</td>\n",
       "      <td>3</td>\n",
       "    </tr>\n",
       "  </tbody>\n",
       "</table>\n",
       "</div>"
      ],
      "text/plain": [
       "            code  pred_profit      ypred  pred_credits\n",
       "35   002608.XSHE     0.178098   7.940380             3\n",
       "37   002650.XSHE     0.199341   5.888763             3\n",
       "50   003011.XSHE     0.158426  34.219907             3\n",
       "51   003816.XSHE     0.176409   3.329238             3\n",
       "109  600153.XSHG     0.168036   9.858224             3\n",
       "114  600461.XSHG     0.200089  10.308763             4\n",
       "121  600674.XSHG     0.155297  14.071523             3\n",
       "126  600909.XSHG     0.152364   6.614570             3\n",
       "156  605122.XSHG     0.189854  27.330948             3"
      ]
     },
     "execution_count": 6,
     "metadata": {},
     "output_type": "execute_result"
    }
   ],
   "source": [
    "df[df.pred_credits>=3]"
   ]
  },
  {
   "cell_type": "code",
   "execution_count": null,
   "id": "b4649dbc",
   "metadata": {
    "scrolled": true
   },
   "outputs": [],
   "source": []
  }
 ],
 "metadata": {
  "kernelspec": {
   "display_name": "alpha",
   "language": "python",
   "name": "alpha"
  },
  "language_info": {
   "codemirror_mode": {
    "name": "ipython",
    "version": 3
   },
   "file_extension": ".py",
   "mimetype": "text/x-python",
   "name": "python",
   "nbconvert_exporter": "python",
   "pygments_lexer": "ipython3",
   "version": "3.8.11"
  },
  "toc": {
   "base_numbering": 1,
   "nav_menu": {},
   "number_sections": true,
   "sideBar": true,
   "skip_h1_title": false,
   "title_cell": "Table of Contents",
   "title_sidebar": "Contents",
   "toc_cell": false,
   "toc_position": {},
   "toc_section_display": true,
   "toc_window_display": false
  }
 },
 "nbformat": 4,
 "nbformat_minor": 5
}
