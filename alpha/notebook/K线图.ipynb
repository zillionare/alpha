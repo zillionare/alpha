{
 "cells": [
  {
   "cell_type": "code",
   "execution_count": 1,
   "id": "0f045026",
   "metadata": {},
   "outputs": [],
   "source": [
    "from alpha.notebook import *\n",
    "await init_notebook(use_omicron=False)"
   ]
  },
  {
   "cell_type": "code",
   "execution_count": null,
   "id": "d2d8b69f",
   "metadata": {},
   "outputs": [],
   "source": [
    "def show(code, end, n, frame_type):\n",
    "    if not \".\" in code:\n",
    "        if code.startswith(\"6\"):\n",
    "            code += \".XSHG\"\n",
    "        else:\n",
    "            code += \".XSHE\"\n",
    "            \n",
    "    bars = jq_get_bars(code, n, frame_type=frame_type, end=end)\n",
    "    cs = Candlestick({\"1d\": [5, 10, 20, 30, 60]})\n",
    "    cs.plot_bars(bars)"
   ]
  },
  {
   "cell_type": "code",
   "execution_count": null,
   "id": "ec9c80c2",
   "metadata": {},
   "outputs": [],
   "source": [
    "show(\"600163\", \"2021-09-01 15:00:00\", 79, \"1d\")"
   ]
  },
  {
   "cell_type": "code",
   "execution_count": 25,
   "id": "efe51c34",
   "metadata": {},
   "outputs": [],
   "source": [
    "bars = jq_get_bars(\"002165.XSHE\", 11, frame_type=\"1d\", end=\"2021-9-15\")"
   ]
  },
  {
   "cell_type": "code",
   "execution_count": 30,
   "id": "8a9e7129",
   "metadata": {},
   "outputs": [
    {
     "data": {
      "text/plain": [
       "([0.008595238095238208, 0.12564285714285717, 4.957904761904762],\n",
       " 0.003404750663838967)"
      ]
     },
     "execution_count": 30,
     "metadata": {},
     "output_type": "execute_result"
    }
   ],
   "source": [
    "ma = moving_average(bars[\"close\"], 5)\n",
    "polyfit(ma)"
   ]
  },
  {
   "cell_type": "code",
   "execution_count": 27,
   "id": "bdc6c020",
   "metadata": {},
   "outputs": [
    {
     "data": {
      "text/plain": [
       "([6.802095238095252], 0.003404750663838967)"
      ]
     },
     "execution_count": 27,
     "metadata": {},
     "output_type": "execute_result"
    }
   ],
   "source": [
    "predict_by_moving_average(bars[\"close\"], 5)"
   ]
  },
  {
   "cell_type": "code",
   "execution_count": 28,
   "id": "c198156e",
   "metadata": {},
   "outputs": [
    {
     "data": {
      "text/plain": [
       "array([4.97, 4.84, 4.94, 5.06, 5.03, 5.53, 5.65, 5.8 , 5.85, 6.44, 6.24])"
      ]
     },
     "execution_count": 28,
     "metadata": {},
     "output_type": "execute_result"
    }
   ],
   "source": [
    "bars[\"close\"]"
   ]
  },
  {
   "cell_type": "code",
   "execution_count": 34,
   "id": "f2d92163",
   "metadata": {},
   "outputs": [
    {
     "data": {
      "text/plain": [
       "[<matplotlib.lines.Line2D at 0x14ed66bb0>]"
      ]
     },
     "execution_count": 34,
     "metadata": {},
     "output_type": "execute_result"
    },
    {
     "data": {
      "image/png": "[encoded data removed]",
      "text/plain": [
       "<Figure size 432x288 with 1 Axes>"
      ]
     },
     "metadata": {
      "needs_background": "light"
     },
     "output_type": "display_data"
    }
   ],
   "source": [
    "plt.plot(bars[\"close\"][-7:])\n",
    "plt.plot(ma)\n",
    "plt.plot(np.polyval((0.008595238095238208, 0.12564285714285717, 4.957904761904762), np.arange(7)))"
   ]
  },
  {
   "cell_type": "code",
   "execution_count": 42,
   "id": "f49ea0d8",
   "metadata": {},
   "outputs": [
    {
     "data": {
      "text/plain": [
       "240"
      ]
     },
     "execution_count": 42,
     "metadata": {},
     "output_type": "execute_result"
    }
   ],
   "source": [
    "bars = jq_get_bars(\"000001.XSHE\", 240, '1m')\n",
    "len(bars)"
   ]
  },
  {
   "cell_type": "code",
   "execution_count": 49,
   "id": "480695dc",
   "metadata": {},
   "outputs": [],
   "source": [
    "import pickle\n",
    "import os\n",
    "with open(os.path.expanduser(\"~/1m.pkl\"), \"wb\") as f:\n",
    "    pickle.dump(bars, f)"
   ]
  },
  {
   "cell_type": "code",
   "execution_count": null,
   "id": "05c0ee13",
   "metadata": {},
   "outputs": [],
   "source": []
  }
 ],
 "metadata": {
  "kernelspec": {
   "display_name": "Python 3.8.12 64-bit ('alpha': conda)",
   "language": "python",
   "name": "python3812jvsc74a57bd0e0991ae97f5ae595dff4e065820c67789f8a838b458f4df83a145fc0afc1ef34"
  },
  "language_info": {
   "codemirror_mode": {
    "name": "ipython",
    "version": 3
   },
   "file_extension": ".py",
   "mimetype": "text/x-python",
   "name": "python",
   "nbconvert_exporter": "python",
   "pygments_lexer": "ipython3",
   "version": "3.9.7"
  },
  "toc": {
   "base_numbering": 1,
   "nav_menu": {},
   "number_sections": true,
   "sideBar": true,
   "skip_h1_title": false,
   "title_cell": "Table of Contents",
   "title_sidebar": "Contents",
   "toc_cell": false,
   "toc_position": {
    "height": "calc(100% - 180px)",
    "left": "10px",
    "top": "150px",
    "width": "165px"
   },
   "toc_section_display": true,
   "toc_window_display": false
  }
 },
 "nbformat": 4,
 "nbformat_minor": 5
}
