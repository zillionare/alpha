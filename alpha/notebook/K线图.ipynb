{
 "cells": [
  {
   "cell_type": "code",
   "execution_count": 3,
   "id": "0f045026",
   "metadata": {},
   "outputs": [],
   "source": [
    "await init_notebook()"
   ]
  },
  {
   "cell_type": "code",
   "execution_count": null,
   "id": "ec9c80c2",
   "metadata": {},
   "outputs": [],
   "source": [
    "show(\"600163\", \"2021-09-01 15:00:00\", 79, \"1d\")"
   ]
  },
  {
   "cell_type": "code",
   "execution_count": null,
   "id": "efe51c34",
   "metadata": {},
   "outputs": [],
   "source": [
    "bars = jq_get_bars(\"002165.XSHE\", 11, frame_type=\"1d\", end=\"2021-9-15\")"
   ]
  },
  {
   "cell_type": "code",
   "execution_count": null,
   "id": "8a9e7129",
   "metadata": {},
   "outputs": [],
   "source": [
    "ma = moving_average(bars[\"close\"], 5)\n",
    "polyfit(ma)"
   ]
  },
  {
   "cell_type": "code",
   "execution_count": null,
   "id": "bdc6c020",
   "metadata": {},
   "outputs": [],
   "source": [
    "predict_by_moving_average(bars[\"close\"], 5)"
   ]
  },
  {
   "cell_type": "code",
   "execution_count": null,
   "id": "c198156e",
   "metadata": {},
   "outputs": [],
   "source": [
    "bars[\"close\"]"
   ]
  },
  {
   "cell_type": "code",
   "execution_count": null,
   "id": "f2d92163",
   "metadata": {},
   "outputs": [],
   "source": [
    "plt.plot(bars[\"close\"][-7:])\n",
    "plt.plot(ma)\n",
    "plt.plot(np.polyval((0.008595238095238208, 0.12564285714285717, 4.957904761904762), np.arange(7)))"
   ]
  },
  {
   "cell_type": "code",
   "execution_count": null,
   "id": "05c0ee13",
   "metadata": {},
   "outputs": [],
   "source": [
    "cs = Candlestick({\"30m\": [5, 10, 20, 30], \"1d\": [5, 10, 20, 30, 60, 120]})\n",
    "await cs.plot(\"003020.XSHE\", \"2021-11-25 15:00\")"
   ]
  },
  {
   "cell_type": "code",
   "execution_count": null,
   "id": "7673b3fe",
   "metadata": {},
   "outputs": [],
   "source": [
    "bars = await get_bars(\"301062.XSHE\", 40, '1d', \"2021-11-3\")\n",
    "#bars[[\"high\",\"low\",\"close\"]]\n",
    "bars[-1][\"frame\"]"
   ]
  },
  {
   "cell_type": "code",
   "execution_count": 2,
   "id": "23fb7de6",
   "metadata": {},
   "outputs": [],
   "source": [
    "from alpha.ml.index_sh_pv import IndexShPeakValleys\n",
    "shpv = IndexShPeakValleys(0.1)\n",
    "sh = await get_bars(\"000001.XSHG\", 12000, '30m', end=\"2011-11-05 15:00\")"
   ]
  },
  {
   "cell_type": "code",
   "execution_count": 3,
   "id": "43cd9058",
   "metadata": {},
   "outputs": [
    {
     "name": "stdout",
     "output_type": "stream",
     "text": [
      "2005-09-27 10:00:00+08:00 1156.69\n",
      "2005-09-27 10:30:00+08:00 1149.5\n",
      "roc: 0.1%                     roc: -0.6%\n",
      "altitude: 12%                 altitude: 3%\n",
      "rsi_5: 36.6                   rsi_5: 39.7\n",
      "rsi_4: 39.7                   rsi_4: 36.5\n",
      "rsi_3: 36.5                   rsi_3: 55.1\n",
      "rsi_2: 55.1                   rsi_2: 59.5\n",
      "rsi_1: 59.5                   rsi_1: 39.5\n",
      "up: 0.1%                      up: 0.0%\n",
      "down: 0.2%                    down: 0.0%\n",
      "body: 0.1%                    body: -0.6%\n",
      "up_shadow: False              up_shadow: False\n",
      "down_shadow: True             down_shadow: False\n",
      "double_top: 0                 double_top: 1\n",
      "double_bottom: 0              double_bottom: 1\n",
      "dark_cloud_cover: False       dark_cloud_cover: False\n",
      "piercing_line: False          piercing_line: False\n",
      "three_crows: False            three_crows: False\n",
      "three_red_soldiers: False     three_red_soldiers: False\n",
      "top1_vol: 1.3                 top1_vol: 1.3\n",
      "reverse_vol: -0.6             reverse_vol: -0.8\n",
      "mobv: 0.6                     mobv: 0.6\n",
      "magic_number: False           magic_number: False\n",
      "trendline_slope: -0.002       trendline_slope: -0.002\n",
      "trendline: 3                  trendline: 3\n",
      "support: 2                    support: -1\n",
      "support_gap: 0.2%             support_gap: 0.0%\n",
      "supress: 3                    supress: 1\n",
      "supress_gap: -0.6%            supress_gap: -0.2%\n",
      "parallel: 0                   parallel: 0\n",
      "ma5_relation: 0.20            ma5_relation: -0.10\n",
      "dma5_1: 0.00                  dma5_1: 0.00\n",
      "dma5_2: 0.00                  dma5_2: -0.00\n",
      "a5: 0.01%                     a5: 0.00%\n",
      "b5: -0.01%                    b5: -0.01%\n",
      "pmae5: 0.01%                  pmae5: 0.02%\n",
      "vx5: 5.8                      vx5: 6.1\n",
      "a10: 0.00%                    a10: 0.01%\n",
      "b10: -0.06%                   b10: -0.08%\n",
      "pmae10: 0.02%                 pmae10: 0.02%\n",
      "vx10: -3.5                    vx10: 1.6\n",
      "a20: 0.01%                    a20: 0.01%\n",
      "b20: -0.21%                   b20: -0.19%\n",
      "pmae20: 0.01%                 pmae20: 0.01%\n",
      "vx20: -1.1                    vx20: 0.3\n",
      "a30: 0.00%                    a30: 0.00%\n",
      "b30: -0.18%                   b30: -0.18%\n",
      "pmae30: 0.01%                 pmae30: 0.01%\n",
      "vx30: -19.3                   vx30: -14.5\n",
      "cross_5x10: 3                 cross_5x10: 4\n",
      "cross_10x20: 0                cross_10x20: 0\n",
      "cross_20x30: 0                cross_20x30: 0\n",
      "bull_strike_5: 0              bull_strike_5: 0\n",
      "bull_strike_10: 0             bull_strike_10: 0\n",
      "bull_strike_20: 0             bull_strike_20: 0\n",
      "bull_strike_30: 0             bull_strike_30: 0\n",
      "bear_strike_5: 0              bear_strike_5: 1\n",
      "bear_strike_10: 0             bear_strike_10: 1\n",
      "bear_strike_20: 0             bear_strike_20: 1\n",
      "bear_strike_30: 0             bear_strike_30: 0\n"
     ]
    },
    {
     "name": "stderr",
     "output_type": "stream",
     "text": [
      "Exception in thread Thread-8:\n",
      "Traceback (most recent call last):\n",
      "  File \"/Users/aaronyang/miniforge3/envs/alpha/lib/python3.9/site-packages/cfg4py/core.py\", line 357, in _load_from_local_file\n",
      "    ext = _guess_extension()\n",
      "  File \"/Users/aaronyang/miniforge3/envs/alpha/lib/python3.9/site-packages/cfg4py/core.py\", line 305, in _guess_extension\n",
      "    raise FileNotFoundError(msg)\n",
      "FileNotFoundError: No config files present, or file format is not yaml.\n",
      "\n",
      "During handling of the above exception, another exception occurred:\n",
      "\n",
      "Traceback (most recent call last):\n",
      "  File \"/Users/aaronyang/miniforge3/envs/alpha/lib/python3.9/threading.py\", line 973, in _bootstrap_inner\n",
      "    self.run()\n",
      "  File \"/Users/aaronyang/miniforge3/envs/alpha/lib/python3.9/site-packages/watchdog/observers/api.py\", line 199, in run\n",
      "    self.dispatch_events(self.event_queue, self.timeout)\n",
      "  File \"/Users/aaronyang/miniforge3/envs/alpha/lib/python3.9/site-packages/watchdog/observers/api.py\", line 372, in dispatch_events\n",
      "    handler.dispatch(event)\n",
      "  File \"/Users/aaronyang/miniforge3/envs/alpha/lib/python3.9/site-packages/cfg4py/core.py\", line 67, in dispatch\n",
      "    _load_from_local_file()\n",
      "  File \"/Users/aaronyang/miniforge3/envs/alpha/lib/python3.9/site-packages/cfg4py/core.py\", line 387, in _load_from_local_file\n",
      "    if e.filename.find(\"defaults\") != -1:\n",
      "AttributeError: 'NoneType' object has no attribute 'find'\n"
     ]
    }
   ],
   "source": [
    "def show_features(batch, i):\n",
    "    end = 100 * (batch - 1) + i + 1\n",
    "    start = max(0, end - 100)\n",
    "    bars = sh[start:end]\n",
    "    print(bars[0][\"frame\"], bars[-1][\"frame\"])\n",
    "    print(bars[-1][\"close\"])\n",
    "    print(\"\\n\")\n",
    "    \n",
    "    vec = shpv.features(bars)\n",
    "    print(\"\\n\".join(shpv.explain(vec)))\n",
    "    \n",
    "def compare_feature(batch, i1, i2):\n",
    "    vectors = []\n",
    "    for i in [i1, i2]:\n",
    "        end = 100 * (batch - 1) + i + 1\n",
    "        start = max(0, end - 100)\n",
    "        bars = sh[start:end]\n",
    "        print(bars[-1][\"frame\"], bars[-1][\"close\"])\n",
    "        vectors.append(shpv.explain(shpv.features(bars)))\n",
    "        \n",
    "    \n",
    "    v1 = vectors[0]\n",
    "    v2 = vectors[1]\n",
    "    for i in range(len(v1)):\n",
    "        print(f\"{v1[i]:<30}{v2[i]}\")\n",
    "    \n",
    "compare_feature(2, 36, 37)"
   ]
  },
  {
   "cell_type": "code",
   "execution_count": 5,
   "id": "220403de",
   "metadata": {},
   "outputs": [
    {
     "data": {
      "text/plain": [
       "array([(datetime.datetime(2021, 11, 25, 15, 0, tzinfo=tzfile('/usr/share/zoneinfo/Asia/Shanghai')), 20.09, 20.17, 19.91, 20.12,  9507300., 1.90805792e+08, 3.13),\n",
       "       (datetime.datetime(2021, 11, 26, 10, 0, tzinfo=tzfile('/usr/share/zoneinfo/Asia/Shanghai')), 19.9 , 20.13, 19.57, 20.07, 16827500., 3.33758993e+08, 3.13),\n",
       "       (datetime.datetime(2021, 11, 26, 10, 30, tzinfo=tzfile('/usr/share/zoneinfo/Asia/Shanghai')), 20.08, 20.24, 19.92, 20.03,  8403800., 1.68697768e+08, 3.13),\n",
       "       (datetime.datetime(2021, 11, 26, 11, 0, tzinfo=tzfile('/usr/share/zoneinfo/Asia/Shanghai')), 20.02, 20.08, 19.82, 19.89,  5509400., 1.09913129e+08, 3.13),\n",
       "       (datetime.datetime(2021, 11, 26, 11, 30, tzinfo=tzfile('/usr/share/zoneinfo/Asia/Shanghai')), 19.89, 20.  , 19.79, 19.83,  3207800., 6.37319380e+07, 3.13),\n",
       "       (datetime.datetime(2021, 11, 26, 13, 30, tzinfo=tzfile('/usr/share/zoneinfo/Asia/Shanghai')), 19.83, 19.86, 19.68, 19.75,  3414900., 6.74744090e+07, 3.13),\n",
       "       (datetime.datetime(2021, 11, 26, 14, 0, tzinfo=tzfile('/usr/share/zoneinfo/Asia/Shanghai')), 19.76, 20.08, 19.75, 19.95,  3706500., 7.39406290e+07, 3.13),\n",
       "       (datetime.datetime(2021, 11, 26, 14, 30, tzinfo=tzfile('/usr/share/zoneinfo/Asia/Shanghai')), 19.95, 20.33, 19.94, 20.18,  8362000., 1.68712224e+08, 3.13),\n",
       "       (datetime.datetime(2021, 11, 26, 15, 0, tzinfo=tzfile('/usr/share/zoneinfo/Asia/Shanghai')), 20.18, 20.29, 20.08, 20.2 ,  8680600., 1.75219811e+08, 3.13),\n",
       "       (datetime.datetime(2021, 11, 29, 10, 0, tzinfo=tzfile('/usr/share/zoneinfo/Asia/Shanghai')), 19.79, 20.79, 19.7 , 20.49, 24892400., 5.06885440e+08, 3.13),\n",
       "       (datetime.datetime(2021, 11, 29, 10, 30, tzinfo=tzfile('/usr/share/zoneinfo/Asia/Shanghai')), 20.5 , 21.2 , 20.5 , 21.08, 19049800., 3.97954899e+08, 3.13),\n",
       "       (datetime.datetime(2021, 11, 29, 11, 0, tzinfo=tzfile('/usr/share/zoneinfo/Asia/Shanghai')), 21.06, 21.38, 20.88, 20.99, 11505800., 2.43259625e+08, 3.13),\n",
       "       (datetime.datetime(2021, 11, 29, 11, 30, tzinfo=tzfile('/usr/share/zoneinfo/Asia/Shanghai')), 21.  , 21.03, 20.82, 20.99,  6084600., 1.27321942e+08, 3.13),\n",
       "       (datetime.datetime(2021, 11, 29, 13, 30, tzinfo=tzfile('/usr/share/zoneinfo/Asia/Shanghai')), 21.04, 21.08, 20.66, 20.67,  6567100., 1.36808887e+08, 3.13),\n",
       "       (datetime.datetime(2021, 11, 29, 14, 0, tzinfo=tzfile('/usr/share/zoneinfo/Asia/Shanghai')), 20.66, 20.98, 20.64, 20.83,  5661400., 1.17826449e+08, 3.13),\n",
       "       (datetime.datetime(2021, 11, 29, 14, 30, tzinfo=tzfile('/usr/share/zoneinfo/Asia/Shanghai')), 20.85, 20.96, 20.72, 20.8 ,  3749300., 7.82021750e+07, 3.13),\n",
       "       (datetime.datetime(2021, 11, 29, 15, 0, tzinfo=tzfile('/usr/share/zoneinfo/Asia/Shanghai')), 20.8 , 21.1 , 20.72, 20.99, 10165200., 2.13046416e+08, 3.13),\n",
       "       (datetime.datetime(2021, 11, 30, 10, 0, tzinfo=tzfile('/usr/share/zoneinfo/Asia/Shanghai')), 21.  , 21.35, 20.63, 21.01, 22713700., 4.76791048e+08, 3.13),\n",
       "       (datetime.datetime(2021, 11, 30, 10, 30, tzinfo=tzfile('/usr/share/zoneinfo/Asia/Shanghai')), 21.01, 21.01, 20.59, 20.59, 10701200., 2.22196577e+08, 3.13),\n",
       "       (datetime.datetime(2021, 11, 30, 11, 0, tzinfo=tzfile('/usr/share/zoneinfo/Asia/Shanghai')), 20.58, 20.68, 20.32, 20.45,  9817500., 2.01122354e+08, 3.13),\n",
       "       (datetime.datetime(2021, 11, 30, 11, 30, tzinfo=tzfile('/usr/share/zoneinfo/Asia/Shanghai')), 20.48, 20.59, 20.4 , 20.51,  3928700., 8.05381630e+07, 3.13),\n",
       "       (datetime.datetime(2021, 11, 30, 13, 30, tzinfo=tzfile('/usr/share/zoneinfo/Asia/Shanghai')), 20.5 , 20.71, 20.4 , 20.69,  5210200., 1.06916273e+08, 3.13),\n",
       "       (datetime.datetime(2021, 11, 30, 14, 0, tzinfo=tzfile('/usr/share/zoneinfo/Asia/Shanghai')), 20.65, 20.66, 20.44, 20.46,  3698000., 7.58906080e+07, 3.13),\n",
       "       (datetime.datetime(2021, 11, 30, 14, 30, tzinfo=tzfile('/usr/share/zoneinfo/Asia/Shanghai')), 20.46, 20.46, 20.28, 20.35,  7009000., 1.42688483e+08, 3.13),\n",
       "       (datetime.datetime(2021, 11, 30, 15, 0, tzinfo=tzfile('/usr/share/zoneinfo/Asia/Shanghai')), 20.36, 20.4 , 20.2 , 20.4 ,  9642900., 1.95521211e+08, 3.13),\n",
       "       (datetime.datetime(2021, 12, 1, 10, 0, tzinfo=tzfile('/usr/share/zoneinfo/Asia/Shanghai')), 20.31, 20.74, 19.95, 19.99, 15009400., 3.04349537e+08, 3.13),\n",
       "       (datetime.datetime(2021, 12, 1, 10, 30, tzinfo=tzfile('/usr/share/zoneinfo/Asia/Shanghai')), 19.98, 20.58, 19.8 , 20.38, 11198300., 2.26260578e+08, 3.13),\n",
       "       (datetime.datetime(2021, 12, 1, 11, 0, tzinfo=tzfile('/usr/share/zoneinfo/Asia/Shanghai')), 20.4 , 20.54, 20.11, 20.11,  3996300., 8.13398200e+07, 3.13),\n",
       "       (datetime.datetime(2021, 12, 1, 11, 30, tzinfo=tzfile('/usr/share/zoneinfo/Asia/Shanghai')), 20.11, 20.21, 20.  , 20.21,  3360100., 6.74044350e+07, 3.13),\n",
       "       (datetime.datetime(2021, 12, 1, 13, 30, tzinfo=tzfile('/usr/share/zoneinfo/Asia/Shanghai')), 20.25, 20.25, 20.04, 20.14,  2746800., 5.52960410e+07, 3.13),\n",
       "       (datetime.datetime(2021, 12, 1, 14, 0, tzinfo=tzfile('/usr/share/zoneinfo/Asia/Shanghai')), 20.14, 20.27, 20.02, 20.18,  2671800., 5.38185070e+07, 3.13),\n",
       "       (datetime.datetime(2021, 12, 1, 14, 30, tzinfo=tzfile('/usr/share/zoneinfo/Asia/Shanghai')), 20.19, 20.3 , 20.1 , 20.15,  3020600., 6.09443920e+07, 3.13),\n",
       "       (datetime.datetime(2021, 12, 1, 15, 0, tzinfo=tzfile('/usr/share/zoneinfo/Asia/Shanghai')), 20.16, 20.3 , 20.16, 20.19,  7700600., 1.55604793e+08, 3.13),\n",
       "       (datetime.datetime(2021, 12, 2, 10, 0, tzinfo=tzfile('/usr/share/zoneinfo/Asia/Shanghai')), 20.19, 20.51, 20.11, 20.38, 12227800., 2.48683419e+08, 3.13),\n",
       "       (datetime.datetime(2021, 12, 2, 10, 30, tzinfo=tzfile('/usr/share/zoneinfo/Asia/Shanghai')), 20.38, 20.38, 19.96, 19.96,  7350400., 1.47681515e+08, 3.13),\n",
       "       (datetime.datetime(2021, 12, 2, 11, 0, tzinfo=tzfile('/usr/share/zoneinfo/Asia/Shanghai')), 19.95, 20.1 , 19.85, 20.05,  5203500., 1.03642506e+08, 3.13),\n",
       "       (datetime.datetime(2021, 12, 2, 11, 30, tzinfo=tzfile('/usr/share/zoneinfo/Asia/Shanghai')), 20.06, 20.94, 20.  , 20.73, 14559500., 2.99435414e+08, 3.13),\n",
       "       (datetime.datetime(2021, 12, 2, 13, 30, tzinfo=tzfile('/usr/share/zoneinfo/Asia/Shanghai')), 20.72, 20.72, 20.41, 20.68,  5717700., 1.17591093e+08, 3.13),\n",
       "       (datetime.datetime(2021, 12, 2, 14, 0, tzinfo=tzfile('/usr/share/zoneinfo/Asia/Shanghai')), 20.68, 21.23, 20.61, 20.97, 11043200., 2.31683671e+08, 3.13),\n",
       "       (datetime.datetime(2021, 12, 2, 14, 30, tzinfo=tzfile('/usr/share/zoneinfo/Asia/Shanghai')), 20.97, 20.97, 20.67, 20.78,  3448700., 7.17888150e+07, 3.13)],\n",
       "      dtype=[('frame', 'O'), ('open', '<f4'), ('high', '<f4'), ('low', '<f4'), ('close', '<f4'), ('volume', '<f8'), ('amount', '<f8'), ('factor', '<f4')])"
      ]
     },
     "execution_count": 5,
     "metadata": {},
     "output_type": "execute_result"
    }
   ],
   "source": [
    "bars = await get_bars(\"600875.XSHG\", 40, '30m', end=\"2021-12-02 14:30\")\n",
    "bars"
   ]
  },
  {
   "cell_type": "code",
   "execution_count": null,
   "id": "58609448",
   "metadata": {},
   "outputs": [],
   "source": []
  }
 ],
 "metadata": {
  "kernelspec": {
   "display_name": "Python 3.8.12 64-bit ('alpha': conda)",
   "language": "python",
   "name": "python3812jvsc74a57bd0e0991ae97f5ae595dff4e065820c67789f8a838b458f4df83a145fc0afc1ef34"
  },
  "language_info": {
   "codemirror_mode": {
    "name": "ipython",
    "version": 3
   },
   "file_extension": ".py",
   "mimetype": "text/x-python",
   "name": "python",
   "nbconvert_exporter": "python",
   "pygments_lexer": "ipython3",
   "version": "3.9.7"
  },
  "toc": {
   "base_numbering": 1,
   "nav_menu": {},
   "number_sections": true,
   "sideBar": true,
   "skip_h1_title": false,
   "title_cell": "Table of Contents",
   "title_sidebar": "Contents",
   "toc_cell": false,
   "toc_position": {
    "height": "calc(100% - 180px)",
    "left": "10px",
    "top": "150px",
    "width": "165px"
   },
   "toc_section_display": true,
   "toc_window_display": false
  }
 },
 "nbformat": 4,
 "nbformat_minor": 5
}
