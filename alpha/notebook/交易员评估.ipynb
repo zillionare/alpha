{
 "cells": [
  {
   "cell_type": "markdown",
   "id": "4624d1d7",
   "metadata": {},
   "source": [
    "# common lib"
   ]
  },
  {
   "cell_type": "code",
   "execution_count": 3,
   "id": "1f6d25cf",
   "metadata": {
    "code_folding": []
   },
   "outputs": [],
   "source": [
    "import datetime\n",
    "import logging\n",
    "from typing import Callable, Dict, List, Tuple, Union\n",
    "\n",
    "import numpy as np\n",
    "import pandas as pd\n",
    "from dateutil import parser\n",
    "#from omicron.models.timeframe import TimeFrame as tf\n",
    "\n",
    "logger = logging.getLogger(__name__)\n",
    "\n",
    "APPROX_BDAYS_PER_YEAR = 252\n",
    "\n",
    "cols = \"成交日期 证券代码 证券名称 操作 成交均价 成交数量 成交金额 fee\".split(\" \")\n",
    "\n",
    "home = \"/data/traders/\"\n",
    "\n",
    "def int2date(x):\n",
    "    if isinstance(x, float):\n",
    "        x = int(x)\n",
    "\n",
    "    return parser.parse(str(x)).date()\n",
    "\n",
    "\n",
    "class NoOpenTradesError(Exception):\n",
    "    pass\n",
    "\n",
    "\n",
    "from collections import defaultdict\n",
    "\n",
    "from dateutil import parser\n",
    "\n",
    "def peek(name):\n",
    "    _dir = os.path.join(home, name)\n",
    "    \n",
    "    for file in os.listdir(_dir):\n",
    "        path = os.path.join(_dir, file)\n",
    "    \n",
    "        for encoding in [\"gbk\", \"utf-8\"]:\n",
    "            try:\n",
    "                df = pd.read_csv(path, encoding=encoding)\n",
    "                print(df[:5])\n",
    "                print( file, \"csv\", encoding, list(set(cols) - set(df.columns)))\n",
    "            except Exception:\n",
    "                pass\n",
    "                \n",
    "        try:\n",
    "            df = pd.read_excel(path)\n",
    "            print(df[:5])\n",
    "            print(path, \"excel\", list(set(cols) - set(df.columns)))\n",
    "        except Exception as e:\n",
    "            pass\n",
    "        \n",
    "        \n",
    "class Trade:\n",
    "    LONG = 1\n",
    "    INTEREST = 2\n",
    "    SHORT = -1\n",
    "    DEDUCT = -2\n",
    "    OTHER = 0\n",
    "\n",
    "    OPENED = 0\n",
    "    CLOSED = 1\n",
    "\n",
    "    def __init__(self, row, i):\n",
    "        self.seq = i\n",
    "        self.shares = abs(row[\"成交数量\"])\n",
    "\n",
    "        self.name = row[\"证券名称\"]\n",
    "        self.code = row[\"证券代码\"]\n",
    "\n",
    "        self.price = row[\"成交均价\"]\n",
    "        self.money = row[\"成交金额\"]\n",
    "        self.fee = row[\"fee\"]\n",
    "        self.date = row[\"成交日期\"]\n",
    "\n",
    "        self.status = self.OPENED\n",
    "        self.op = row[\"操作\"]\n",
    "\n",
    "        if self.op.find(\"卖出\") != -1:\n",
    "            self.flag = self.SHORT\n",
    "        elif self.op.find(\"买入\") != -1:\n",
    "            self.flag = self.LONG\n",
    "        elif self.op in (\"红股派息\", \"债券兑息\"):\n",
    "            self.flag = self.INTEREST\n",
    "            self.status = self.CLOSED\n",
    "        elif self.op.find(\"扣款\") != -1:\n",
    "            self.flag = self.DEDUCT\n",
    "            self.status = self.CLOSED\n",
    "        else:\n",
    "            self.flag = self.OTHER\n",
    "\n",
    "        # only for LONG trades\n",
    "        if self.flag == self.LONG:\n",
    "            self.unsell = self.shares\n",
    "\n",
    "            self._profit = 0\n",
    "            self.holding_days = 0\n",
    "\n",
    "    def sell(self, shares, price, fee, close_dt):\n",
    "        \"\"\"从当前未售出股中售出。\n",
    "\n",
    "        计算时将根据售出的股数，分摊买入和卖的交易成本。返回未售出的股份和未分摊的成本。\n",
    "        \"\"\"\n",
    "        assert self.flag == self.LONG\n",
    "\n",
    "        if self.status != self.CLOSED:\n",
    "            assert (\n",
    "                self.unsell > 0\n",
    "            ), f\"{self.name}, {self.unsell}, {self.status}, {self.shares}\"\n",
    "\n",
    "            sellable = min(shares, self.unsell)\n",
    "\n",
    "            # 计算本次交易的收益，并分摊交易成本\n",
    "            amortized_buy_fee = self.fee * sellable / self.shares\n",
    "            amortized_sell_fee = fee * sellable / shares\n",
    "\n",
    "            self._profit += (\n",
    "                sellable * (price - self.price) - amortized_buy_fee - amortized_sell_fee\n",
    "            )\n",
    "\n",
    "            # 持仓日期, 可转债交易和做T会出现持仓日期为0的情况。持仓日期为零为使得年化收益成为\n",
    "            # 正负无穷。为简单起见，设置最低持仓天数为1\n",
    "            holding_days = max(1, (close_dt - self.date).days)\n",
    "            #holding_days = max(1, tf.count_day_frames(self.date, close_dt))\n",
    "            self.holding_days += holding_days * sellable / self.shares\n",
    "\n",
    "            # 调整可卖股数\n",
    "            self.unsell -= sellable\n",
    "            if self.unsell == 0:\n",
    "                self.status = self.CLOSED\n",
    "\n",
    "            return shares - sellable, fee - amortized_sell_fee\n",
    "\n",
    "    @property\n",
    "    def profit(self):\n",
    "        assert self.flag == self.LONG\n",
    "        return self._profit\n",
    "\n",
    "    @property\n",
    "    def percentage_profit(self):\n",
    "        assert self.flag == self.LONG\n",
    "        return self._profit / (self.shares * self.price)\n",
    "\n",
    "    @property\n",
    "    def closed(self):\n",
    "        return self.status == self.CLOSED\n",
    "\n",
    "    @closed.setter\n",
    "    def closed(self, value):\n",
    "        self.status = self.CLOSED if value else self.OPENED\n",
    "\n",
    "    def __str__(self):\n",
    "        return f\"{self.name}[{self.code}]: {self.op}\\n成交股数：{self.shares}\\n成交均价：{self.price}\\n成交金额：{self.money}\\n成交日期：{self.date}\\n\"\n",
    "\n",
    "    def __repr__(self) -> str:\n",
    "        return self.__str__()\n",
    "\n",
    "\n",
    "class Evaluator:\n",
    "    def __init__(self,name: str, file: str, preprocessor: Callable) -> None:\n",
    "        self.name = name\n",
    "        self.file = os.path.join(home, name, file)\n",
    "        self.preprocessor = preprocessor\n",
    "        self.range = None\n",
    "        self.df = None\n",
    "        self.returns = None\n",
    "\n",
    "        self.unpaired_long = []\n",
    "        self.unpaired_short = []\n",
    "\n",
    "    def read_bill(self):\n",
    "        df = self.preprocessor(self.file)\n",
    "        \n",
    "        missed_fields = set(cols) - set(df.columns)\n",
    "        if len(missed_fields):\n",
    "            raise AssertionError(f\"缺少这些字段:{missed_fields}\")\n",
    "        \n",
    "        try:\n",
    "            df[\"证券代码\"] = [\n",
    "                f\"{int(code):06}\" if not np.isnan(code) else \"\" for code in df[\"证券代码\"]\n",
    "            ]\n",
    "        except:\n",
    "            pass\n",
    "\n",
    "        self.df = df.sort_values(\"成交日期\", ascending=True)\n",
    "        self.df.reset_index(inplace=True)\n",
    "        self.range = (self.df.iloc[0][\"成交日期\"].date(), self.df.iloc[-1][\"成交日期\"].date())\n",
    "        \n",
    "        long = defaultdict(list)\n",
    "        short = defaultdict(list)\n",
    "\n",
    "        skipped = []\n",
    "        for index, row in self.df.iterrows():\n",
    "            trade = Trade(row, index)\n",
    "\n",
    "            if trade.flag == Trade.LONG:\n",
    "                long[trade.code].append(trade)\n",
    "            elif trade.flag == Trade.SHORT:\n",
    "                short[trade.code].append(trade)\n",
    "            else:\n",
    "                skipped.append(index)\n",
    "        return long, short, self.df, skipped\n",
    "\n",
    "    def close_transactions(self, long_trades, short_trades):\n",
    "        for code, _long_trades in long_trades.items():\n",
    "            i = 0\n",
    "            if short_trades.get(code) is None:\n",
    "                continue\n",
    "\n",
    "            try:\n",
    "                for short in short_trades.get(code):\n",
    "                    sellable, price, fee, close_dt = (\n",
    "                        short.shares,\n",
    "                        short.price,\n",
    "                        short.fee,\n",
    "                        short.date,\n",
    "                    )\n",
    "\n",
    "                    while sellable > 0:\n",
    "                        while _long_trades[i].closed:\n",
    "                            i += 1\n",
    "                            if i >= len(_long_trades):\n",
    "                                raise NoOpenTradesError\n",
    "\n",
    "                        long = _long_trades[i]\n",
    "                        sellable, fee = long.sell(sellable, price, fee, close_dt)\n",
    "                    \n",
    "                    short.closed = True\n",
    "            except NoOpenTradesError:\n",
    "                pass\n",
    "\n",
    "        returns = []\n",
    "        for code, trades in long_trades.items():\n",
    "            for t in trades:\n",
    "                if t.profit != 0:\n",
    "                    returns.append((t.date, t.name, t.profit, t.percentage_profit, t.holding_days))\n",
    "                if not t.closed:\n",
    "                    self.unpaired_long.append(t)\n",
    "\n",
    "        for code, trades in short_trades.items():\n",
    "            for t in trades:\n",
    "                if not t.closed:\n",
    "                    self.unpaired_short.append(t)\n",
    "\n",
    "        returns = pd.DataFrame(\n",
    "            returns, columns=[\"date\", \"name\", \"profit\", \"pprofit\", \"days\"]\n",
    "        )\n",
    "        returns[\"daily_pprofit\"] = returns[\"pprofit\"] / returns[\"days\"]\n",
    "\n",
    "        self.returns = returns.sort_values(\"date\")\n",
    "        \n",
    "    def report(self):\n",
    "        total_profit = sum(self.returns.profit.values)\n",
    "        average_holding_days = np.mean(self.returns.days)\n",
    "\n",
    "        print(f\"\\n====== {self.name} 交易评估报告 ======\")\n",
    "        print(\"交易次数\", len(self.returns))\n",
    "        print(\"操作区间\", self.range[0], '-', self.range[-1])\n",
    "        print(\"总利润:\", round(total_profit, 2))\n",
    "        print(\"持仓天数:\", round(average_holding_days, 2))\n",
    "        print(\"\\n亏损最多:\\n\", self.returns.nsmallest(3, \"pprofit\"))\n",
    "        print(\"盈利最多:\\n\", self.returns.nlargest(3, \"pprofit\"))\n",
    "        print(f\"笔均利润: {self.returns.pprofit.mean():.1%}\")\n",
    "        print(f\"利润中位数: {self.returns.pprofit.median():.1%}\")\n",
    "\n",
    "        wr = len(self.returns[self.returns.profit > 0]) / len(self.returns)\n",
    "        print(f\"交易胜率: {wr:.2%}\")\n",
    "\n",
    "        print(\" ------ \")\n",
    "        print(\"未配对交易:\")\n",
    "        data = []\n",
    "        for t in self.unpaired_long:\n",
    "            data.append((\"买入\", t.date, t.name, t.code, t.shares, t.price, t.fee))\n",
    "\n",
    "        for t in self.unpaired_short:\n",
    "            data.append((\"卖出\", t.date, t.name, t.code, t.shares, t.price, t.fee))\n",
    "\n",
    "        print(pd.DataFrame(data, columns=[\"操作\", \"日期\", \"名称\", \"代码\", \"股数\", \"价格\", \"手续费\"]))\n",
    "\n",
    "        plt.figure(figsize=(12, 6), dpi=80)\n",
    "        plt.plot(self.returns[\"date\"], np.cumsum(self.returns.profit.values))\n",
    "        plt.title(\"资产收益曲线\")\n",
    "\n",
    "    def check(self):\n",
    "        long_trades, short_trades, df, skipped = self.read_bill()\n",
    "\n",
    "        print(\"操作区间：\", df.iloc[0][\"成交日期\"].date(), \"~\", df.iloc[-1][\"成交日期\"].date())\n",
    "\n",
    "        skipped_df = df.iloc[skipped]\n",
    "\n",
    "        print(\"未处理交易笔数：\", len(skipped_df))\n",
    "        print(\"未处理交易类型：\", \" \".join(skipped_df[\"操作\"].unique()))\n",
    "        \n",
    "        llong = sum([len(trades) for trades in long_trades.values()])\n",
    "        lshort = sum([len(trades) for trades in short_trades.values()])\n",
    "        \n",
    "        print(\"\\n买入笔数:\", llong)\n",
    "        print(\"卖出笔数:\", lshort)\n",
    "\n",
    "        print(\"\\n交易记录摘要:\")\n",
    "        print(df[:10])\n",
    "\n",
    "    def run(self):\n",
    "        long, short, _, _ = self.read_bill()\n",
    "\n",
    "        self.close_transactions(long, short)\n",
    "        self.report()\n",
    "\n",
    "    def preprocessor(self, file: str) -> pd.DataFrame:\n",
    "        pass\n",
    "\n",
    "\n",
    "def get_file(name, filename):\n",
    "    return os.path.join(home, name, filename)"
   ]
  },
  {
   "cell_type": "markdown",
   "id": "dab44e24",
   "metadata": {},
   "source": [
    "# 黄芬"
   ]
  },
  {
   "cell_type": "code",
   "execution_count": null,
   "id": "910e25cf",
   "metadata": {},
   "outputs": [],
   "source": [
    "def preprocess_hf(f)->pd.DataFrame:\n",
    "    return pd.read_excel(f, parse_dates=[\"成交日期\"])\n",
    "\n",
    "name = \"黄芬\"\n",
    "file = os.path.join(home, name, \"交易数据黄芬.xlsx\")\n",
    "e = Evaluator(name, file, preprocess_hf)\n",
    "e.run()"
   ]
  },
  {
   "cell_type": "markdown",
   "id": "50f8c757",
   "metadata": {},
   "source": [
    "# 张恒"
   ]
  },
  {
   "cell_type": "code",
   "execution_count": null,
   "id": "3b57661d",
   "metadata": {},
   "outputs": [],
   "source": [
    "df = pd.read_csv(\"/tmp/zh.xls\", encoding=\"gbk\", sep=\"\\t\")"
   ]
  },
  {
   "cell_type": "code",
   "execution_count": null,
   "id": "2258708a",
   "metadata": {},
   "outputs": [],
   "source": [
    "def preprocess_zh(f)->pd.DataFrame:\n",
    "    df = pd.read_csv(f, sep=\"\\t\", encoding=\"gbk\")\n",
    "    data = []\n",
    "    \n",
    "    for _, r in df.iterrows():\n",
    "        buy_fields = \"买入日期 证券代码 证券名称 操作 成交均价 成交数量 成交金额 手续费\"\n",
    "        values = [r[k] for k in buy_fields.split(\" \")]\n",
    "        # 印花税 手续费\n",
    "        values.extend([0, 0])\n",
    "        \n",
    "        data.append(values)\n",
    "        sell_fields = \"卖出日期 证券代码.1 证券名称.1 操作.1 成交均价.1 成交数量.1 成交金额.1 手续费.1 印花税 过户费\"\n",
    "        values = [r[k] for k in sell_fields.split(\" \")]\n",
    "        if np.isnan(values[0]):\n",
    "            continue\n",
    "        data.append(values)\n",
    "        \n",
    "    cols = \"成交日期 证券代码 证券名称 操作 成交均价 成交数量 成交金额 手续费 印花税 过户费\"\n",
    "    df = pd.DataFrame(data, columns=cols.split(\" \"))\n",
    "    df[\"成交日期\"] = [int2date(x) for x in df[\"成交日期\"].values]\n",
    "    \n",
    "    return df\n",
    "\n",
    "file = os.path.join(home, \"张恒\", \"zh.xls\")\n",
    "e = Evaluator(\"张恒\", file, preprocess_zh)\n",
    "e.run()"
   ]
  },
  {
   "cell_type": "markdown",
   "id": "0d4ccc36",
   "metadata": {},
   "source": [
    "# 向光华"
   ]
  },
  {
   "cell_type": "code",
   "execution_count": null,
   "id": "0dbc8860",
   "metadata": {},
   "outputs": [],
   "source": [
    "def preprocess_xgh(file):\n",
    "    print(\"file: \", file)\n",
    "    df = pd.read_csv(file, encoding='gbk', sep=\"\\t\", parse_dates=[\"成交日期\"])\n",
    "\n",
    "    return df\n",
    "\n",
    "name = \"向光华\"\n",
    "file = get_file(name)\n",
    "e = Evaluator(name, file, preprocess_xgh)\n",
    "e.run()"
   ]
  },
  {
   "cell_type": "markdown",
   "id": "42ab9fa2",
   "metadata": {},
   "source": [
    "# 程武"
   ]
  },
  {
   "cell_type": "code",
   "execution_count": null,
   "id": "94e3fe3e",
   "metadata": {},
   "outputs": [],
   "source": [
    "def preprocess_cw(file):\n",
    "    with open(file) as f:\n",
    "        lines = f.readlines()\n",
    "    \n",
    "    data = []\n",
    "    for line in lines:\n",
    "        line = line.strip()\n",
    "        if len(line) == 0:\n",
    "            continue\n",
    "        line = line.replace(\"   = \", \" \").replace(\"   \", \" \")\n",
    "        data.append(\",\".join(line.split(\" \")))\n",
    "        \n",
    "    import io\n",
    "    stream = io.StringIO(\"\\n\".join(data))\n",
    "    df = pd.read_csv(stream, parse_dates=[\"成交日期\"])\n",
    "    \n",
    "    df.rename({\n",
    "        \"委托方向\": \"操作\",\n",
    "        \"交易规费\": \"其它杂费\"\n",
    "    }, inplace=True, axis=\"columns\")\n",
    "    \n",
    "    return df"
   ]
  },
  {
   "cell_type": "code",
   "execution_count": null,
   "id": "2377e58d",
   "metadata": {},
   "outputs": [],
   "source": [
    "name = \"程武\"\n",
    "file = get_file(name)\n",
    "e = Evaluator(name, file, preprocess_cw)\n",
    "e.run()"
   ]
  },
  {
   "cell_type": "markdown",
   "id": "d097e863",
   "metadata": {},
   "source": [
    "# 高述彪"
   ]
  },
  {
   "cell_type": "code",
   "execution_count": null,
   "id": "5e0aa8f0",
   "metadata": {},
   "outputs": [],
   "source": [
    "def preprocess_gxb(file):\n",
    "    df = pd.read_csv(file, encoding=\"gbk\", sep=\"\\t\", parse_dates=[\"建仓日期\"])\n",
    "    df.rename({\n",
    "        \"持股天数\":\"days\", \n",
    "        \"盈亏比例(%)\":\"pprofit\",\n",
    "        \"建仓日期\":\"date\",\n",
    "        \"总盈亏\":\"profit\",\n",
    "    },axis=\"columns\", inplace=True)\n",
    "    \n",
    "    df[\"daily_pprofit\"] = df[\"pprofit\"]/df[\"days\"]/100\n",
    "    return df"
   ]
  },
  {
   "cell_type": "code",
   "execution_count": null,
   "id": "aa1404f1",
   "metadata": {},
   "outputs": [],
   "source": [
    "file = f\"/tmp/table-1.xls\"\n",
    "returns = preprocess_gxb(file)\n",
    "df = report(returns[[\"date\", \"days\", \"profit\", \"pprofit\", \"daily_pprofit\"]])"
   ]
  },
  {
   "cell_type": "markdown",
   "id": "01f8a6b1",
   "metadata": {},
   "source": [
    "# 王聪"
   ]
  },
  {
   "cell_type": "code",
   "execution_count": null,
   "id": "e88c2f69",
   "metadata": {},
   "outputs": [],
   "source": [
    "等待交割单。截屏已有"
   ]
  },
  {
   "cell_type": "markdown",
   "id": "1cd62e9f",
   "metadata": {},
   "source": [
    "# 毛西凉"
   ]
  },
  {
   "cell_type": "code",
   "execution_count": null,
   "id": "c3887b3d",
   "metadata": {},
   "outputs": [],
   "source": [
    "pd.read_excel(\"/tmp/mxl.xlsx\")[:5]"
   ]
  },
  {
   "cell_type": "code",
   "execution_count": null,
   "id": "e45fcb74",
   "metadata": {},
   "outputs": [],
   "source": [
    "def preprocessor_mxl(file):\n",
    "    df = pd.read_excel(file)\n",
    "    df[\"成交日期\"] = df[\"成交日期\"].apply(lambda x: parser.parse(str(x)))\n",
    "    return df\n",
    "\n",
    "df = evaluate(\"/tmp/mxl.xlsx\", preprocessor_mxl)"
   ]
  },
  {
   "cell_type": "markdown",
   "id": "a72374ca",
   "metadata": {},
   "source": [
    "# 刘彬"
   ]
  },
  {
   "cell_type": "code",
   "execution_count": null,
   "id": "912c866e",
   "metadata": {},
   "outputs": [],
   "source": [
    "cols = \"成交日期 证券代码 证券名称 操作 成交均价 成交数量 成交金额 手续费 印花税 过户费 其它杂费\"\n",
    "def preprocess_lb(file):\n",
    "    from io import StringIO\n",
    "    with open(file, encoding=\"gbk\") as f:\n",
    "        data = []\n",
    "        for line in f.readlines():\n",
    "            fields = line.strip().replace(\"=\",\"\").replace('\"', \"\").split(\"\\t\")\n",
    "            data.append(\"\\t\".join(fields))\n",
    "            \n",
    "    data = \"\\n\".join(data)\n",
    "    df = pd.read_csv(StringIO(data), sep=\"\\t\", parse_dates=[\"发生日期\"])\n",
    "    df = df[(df['业务名称'] == \"证券买入\") | (df['业务名称'] == \"证券卖出\")]\n",
    "    \n",
    "    df.rename({\"发生日期\":\"成交日期\", \"买卖标志\": \"操作\", \"成交价格\": \"成交均价\"}, axis=\"columns\", inplace=True)\n",
    "    fee = []\n",
    "    for i in range(len(df)):\n",
    "        if df.iloc[i][\"业务名称\"] == \"证券买入\":\n",
    "            fee.append((df.iloc[i][\"清算金额\"] + df.iloc[i][\"成交金额\"]) *-1)\n",
    "        else:\n",
    "            fee.append(df.iloc[i][\"清算金额\"] - df.iloc[i][\"成交金额\"])\n",
    "            \n",
    "    df[\"手续费\"] = np.abs(fee)\n",
    "    df[\"成交数量\"] = np.abs(df[\"成交数量\"])\n",
    "    return df\n",
    "\n",
    "evaluate(\"/tmp/lb.xls\", preprocess_lb)\n"
   ]
  },
  {
   "cell_type": "code",
   "execution_count": null,
   "id": "64f1cac2",
   "metadata": {},
   "outputs": [],
   "source": [
    "preprocess_lb(\"/tmp/lb.xls\")"
   ]
  },
  {
   "cell_type": "code",
   "execution_count": null,
   "id": "c58102f7",
   "metadata": {},
   "outputs": [],
   "source": [
    "df = preprocess_lb(\"/tmp/lb.xls\")\n",
    "df"
   ]
  },
  {
   "cell_type": "markdown",
   "id": "da51e0cb",
   "metadata": {},
   "source": [
    "# 陶陶"
   ]
  },
  {
   "cell_type": "code",
   "execution_count": null,
   "id": "4d214741",
   "metadata": {},
   "outputs": [],
   "source": [
    "def preprocess_500(file):\n",
    "    df = pd.read_csv(file, encoding=\"gbk\", sep=\"\\t\", parse_dates=[\"发生日期\"])\n",
    "    df.rename({\"发生日期\":\"成交日期\", \"交易类别\":\"操作\"}, inplace=True, axis=\"columns\")\n",
    "    df[\"证券代码\"] = df[\"证券代码\"].str.replace(\"= \", \"\")\n",
    "    return df\n",
    "\n",
    "e = Evaluator(\"陶陶\", \"/tmp/5002.xls\", preprocess_500)"
   ]
  },
  {
   "cell_type": "code",
   "execution_count": null,
   "id": "43de03d8",
   "metadata": {},
   "outputs": [],
   "source": [
    "e.run()"
   ]
  },
  {
   "cell_type": "markdown",
   "id": "355d7bf2",
   "metadata": {},
   "source": [
    "# 赵波"
   ]
  },
  {
   "cell_type": "code",
   "execution_count": null,
   "id": "715ac2dc",
   "metadata": {},
   "outputs": [],
   "source": [
    "def preprocess_zb(file) -> pd.DataFrame:\n",
    "    df = pd.read_csv(file, encoding=\"gbk\", sep=\"\\t\", parse_dates=[\"成交日期\"])\n",
    "    df.rename({\"成交价格\": \"成交均价\", \"委托类别\": \"操作\"}, axis=\"columns\", inplace=True)\n",
    "    return df\n",
    "\n",
    "def preprocess_zb02(file) -> pd.DataFrame:\n",
    "    df = pd.read_csv(file, encoding=\"gbk\", sep=\"\\t\", parse_dates=[\"交割日期\"])\n",
    "    df.rename(\n",
    "        {\"成交价格\": \"成交均价\", \"业务类型\": \"操作\", \"交割日期\": \"成交日期\"}, axis=\"columns\", inplace=True\n",
    "    )\n",
    "\n",
    "# e = Evaluator(\"赵波\", \"/tmp/zb.txt\", preprocess_zb)\n",
    "# e.run()\n",
    "\n",
    "# e = Evaluator(\"赵波\", \"/tmp/zb2.txt\", preprocess_zb2)\n",
    "# e.run()\n",
    "\n",
    "# e = Evaluator(\"赵波\", \"/tmp/zb3.txt\", preprocess_zb2)\n",
    "# e.run()\n",
    "\n",
    "preprocess_zb(home + \"/赵波/交割单查询.txt\")"
   ]
  },
  {
   "cell_type": "markdown",
   "id": "73d495fd",
   "metadata": {},
   "source": [
    "# 赵成勇"
   ]
  },
  {
   "cell_type": "code",
   "execution_count": null,
   "id": "6cd08249",
   "metadata": {},
   "outputs": [],
   "source": [
    "def preprocess_zcy(file):\n",
    "    df = pd.read_csv(file, encoding=\"gbk\", sep=\"\\t\", parse_dates=[\"成交日期\"])\n",
    "    \n",
    "    df[\"fee\"] = df[\"佣金\"] + df[\"过户费\"] + df[\"经手费\"] + df[\"证管费\"] + df[\"印花税\"] + df[\"其他杂费\"]\n",
    "    return df\n",
    "\n",
    "file = get_file(\"赵成勇\", \"zcy.xls\")\n",
    "e = Evaluator(\"赵成勇\", file, preprocess_zcy)\n",
    "#e.check()\n",
    "e.run()"
   ]
  },
  {
   "cell_type": "code",
   "execution_count": null,
   "id": "6758eeaa",
   "metadata": {},
   "outputs": [],
   "source": [
    "df = preprocess_zcy(file)"
   ]
  },
  {
   "cell_type": "code",
   "execution_count": null,
   "id": "532d909c",
   "metadata": {},
   "outputs": [],
   "source": [
    "df.rename({\n",
    "    \"成交日期\":\"date\",\n",
    "    \"证券代码\":\"code\",\n",
    "    \"证券名称\":\"name\",\n",
    "    \"操作\":\"side\",\n",
    "    \"成交数量\":\"volume\",\n",
    "    \"成交均价\":\"price\",\n",
    "    \"成交金额\":\"amount\",\n",
    "}, axis='columns', inplace=True)"
   ]
  },
  {
   "cell_type": "code",
   "execution_count": null,
   "id": "ef85445c",
   "metadata": {},
   "outputs": [],
   "source": [
    "cols = [\"date\", \"code\", \"name\", \"side\", \"volume\", \"amount\", \"fee\"]\n",
    "df2 = df[(df[\"side\"] == \"证券买入\") | (df[\"side\"] == \"证券卖出\")][cols]"
   ]
  },
  {
   "cell_type": "code",
   "execution_count": null,
   "id": "0e686453",
   "metadata": {},
   "outputs": [],
   "source": [
    "df2[\"side\"] = df2.side.map(lambda x: 1 if x == \"证券买入\" else -1)"
   ]
  },
  {
   "cell_type": "code",
   "execution_count": null,
   "id": "9740f155",
   "metadata": {},
   "outputs": [],
   "source": [
    "df2[2:8]"
   ]
  },
  {
   "cell_type": "markdown",
   "id": "a139606a",
   "metadata": {},
   "source": [
    "# 柴寅"
   ]
  },
  {
   "cell_type": "code",
   "execution_count": null,
   "id": "162089bf",
   "metadata": {},
   "outputs": [],
   "source": [
    "file = \"/Users/aaronyang/Documents/business/格物致知/团队/简历/柴寅/20.9.1-20.11.1.xls\"\n",
    "\n",
    "files = [\"20.9.1-20.11.1.xls\", \"20.11.1-21.2.1.xls\",\n",
    " \"21.2.1-21.5.1.xls\", \"21.5.1-21.8.1.xls\", \"21.8.1-21.11.1.xls\",\"21.11.1-22.2.1.xls\"]\n",
    "\n",
    "#files = [\"21.2.1-21.5.1.xls\"]\n",
    "\n",
    "def preprocess_cy(files):\n",
    "    if isinstance(files, str):\n",
    "        files = [files]\n",
    "    dfs = []\n",
    "    for file in files:\n",
    "        f = os.path.join(home, \"柴寅\", file)\n",
    "        df = pd.read_csv(f, encoding=\"gbk\", sep=\"\\t\", parse_dates=[\"发生日期\"])\n",
    "\n",
    "        df[\"fee\"] = df[\"佣金\"] + df[\"印花税\"]\n",
    "        df[\"证券代码\"] = df[\"证券代码\"].str.replace(\" =\", \"\")\n",
    "        df.rename({\"交易类别\":\"操作\", \"发生日期\": \"成交日期\"}, inplace=True, axis=\"columns\")\n",
    "        \n",
    "        dfs.append(df)\n",
    "        \n",
    "    return pd.concat(dfs)\n",
    "\n",
    "e = Evaluator(\"柴寅\", files, preprocess_cy)\n",
    "e.run()"
   ]
  },
  {
   "cell_type": "code",
   "execution_count": null,
   "id": "6a16cf96",
   "metadata": {},
   "outputs": [],
   "source": [
    "股票      买入价       卖出价        盈亏比\n",
    "\n",
    "益民集团   5.03/4.79   4.46(现价)   -9%\n",
    "江丰电子   63.61       63.96       0.6%\n",
    "建工修复   34.06       35.98       5%\n",
    "迪威迅     7.77        6.98        -10%\n",
    "真视通     13.8/14.25  14.14       0.8%\n",
    "中国海诚   11.5        10.06       -12%\n",
    "诚邦股份   10.64       9.53        -10%\n",
    "浙农股份   16.22/16.15 18.68       15%\n",
    "奥维通信   6.96        7.26        4%\n",
    "恒宝股份   16.21       17.12       5.6%"
   ]
  },
  {
   "cell_type": "markdown",
   "id": "89bdaab4",
   "metadata": {},
   "source": [
    "# 朱明鑫 - 淘汰"
   ]
  },
  {
   "cell_type": "code",
   "execution_count": null,
   "id": "73cafc36",
   "metadata": {},
   "outputs": [],
   "source": [
    "name = \"朱明鑫\"\n",
    "file = get_file(name, \"zmx.xlsx\")"
   ]
  },
  {
   "cell_type": "code",
   "execution_count": null,
   "id": "1a47befa",
   "metadata": {},
   "outputs": [],
   "source": [
    "file"
   ]
  },
  {
   "cell_type": "code",
   "execution_count": null,
   "id": "6c4b3490",
   "metadata": {},
   "outputs": [],
   "source": [
    "def preprocess_zmx(file):\n",
    "    from omicron.models.timeframe import TimeFrame\n",
    "    import arrow\n",
    "    df = pd.read_excel(file)\n",
    "\n",
    "    valid = []\n",
    "    dates = []\n",
    "    for index , row in df.iterrows():\n",
    "        dt = row[\"成交日期\"]\n",
    "        if isinstance(dt, int):\n",
    "            valid.append(index)\n",
    "            dates.append(arrow.get(TimeFrame.int2date(dt)).datetime)\n",
    "                \n",
    "    df = df.iloc[valid]\n",
    "    df[\"成交日期\"] = dates\n",
    "    df[\"fee\"] = 0\n",
    "    return df"
   ]
  },
  {
   "cell_type": "code",
   "execution_count": null,
   "id": "8e4110f3",
   "metadata": {},
   "outputs": [],
   "source": [
    "e = Evaluator(name, file, preprocess_zmx)\n",
    "e.run()"
   ]
  },
  {
   "cell_type": "code",
   "execution_count": null,
   "id": "a637d38a",
   "metadata": {},
   "outputs": [],
   "source": [
    "df = preprocess_zmx(file)\n",
    "df"
   ]
  },
  {
   "cell_type": "markdown",
   "id": "cc9202d7",
   "metadata": {},
   "source": [
    "# 李亮亮 - 淘汰"
   ]
  },
  {
   "cell_type": "code",
   "execution_count": null,
   "id": "2ab86ec5",
   "metadata": {},
   "outputs": [],
   "source": [
    "name = \"李亮亮\"\n",
    "file = get_file(name, \"lll.xls\")\n",
    "file"
   ]
  },
  {
   "cell_type": "code",
   "execution_count": null,
   "id": "ab06b94c",
   "metadata": {},
   "outputs": [],
   "source": [
    "def preprocess_lll(file):\n",
    "    df = pd.read_csv(file, encoding=\"gbk\", sep=\"\\t\", parse_dates=[\"成交日期\"])\n",
    "    \n",
    "    df.rename({\"买卖标志\": \"操作\", \"成交价格\":\"成交均价\"}, axis=\"columns\", inplace=True)\n",
    "    df[\"fee\"]=0\n",
    "    return df"
   ]
  },
  {
   "cell_type": "code",
   "execution_count": null,
   "id": "eb904db5",
   "metadata": {},
   "outputs": [],
   "source": [
    "e = Evaluator(name, file, preprocess_lll)\n",
    "e.run()"
   ]
  },
  {
   "cell_type": "code",
   "execution_count": null,
   "id": "ecaa5660",
   "metadata": {},
   "outputs": [],
   "source": [
    "preprocess_lll(file)"
   ]
  },
  {
   "cell_type": "code",
   "execution_count": null,
   "id": "4a55506f",
   "metadata": {},
   "outputs": [],
   "source": [
    "import jqdatasdk as jq"
   ]
  },
  {
   "cell_type": "code",
   "execution_count": null,
   "id": "2c3d2ab8",
   "metadata": {},
   "outputs": [],
   "source": [
    "import os\n",
    "account = os.getenv(\"JQ_ACCOUNT\")\n",
    "password = os.getenv(\"JQ_PASSWORD\")\n",
    "\n",
    "jq.auth(account, password)"
   ]
  },
  {
   "cell_type": "code",
   "execution_count": null,
   "id": "8096009f",
   "metadata": {},
   "outputs": [],
   "source": [
    "fields = ['high_limit', 'low_limit']\n",
    "bars = jq.get_price(\"002537.XSHE\", end_date='2022-3-10', count=2, fields=fields)"
   ]
  },
  {
   "cell_type": "code",
   "execution_count": null,
   "id": "b5be1813",
   "metadata": {},
   "outputs": [],
   "source": [
    "bars.to_records()"
   ]
  },
  {
   "cell_type": "code",
   "execution_count": null,
   "id": "51fde597",
   "metadata": {},
   "outputs": [],
   "source": [
    "fields = ['date','close','volume']\n",
    "bars = jq.get_bars(\"603717.XSHG\", 960, '1m', end_dt='2022-3-10 15:00:00', fields=fields, df=False, include_now=True)\n",
    "bars"
   ]
  },
  {
   "cell_type": "markdown",
   "id": "5f13ae77",
   "metadata": {},
   "source": [
    "# 瞿洲"
   ]
  },
  {
   "cell_type": "code",
   "execution_count": null,
   "id": "fce96ab3",
   "metadata": {},
   "outputs": [],
   "source": [
    "cols = \"成交日期 证券代码 证券名称 操作 成交均价 成交数量 成交金额 fee\".split(\" \")\n",
    "\n",
    "def preprocess_qz0(file):\n",
    "    df = pd.read_excel(file, sheet_name=0, parse_dates=[\"交易日期\"])\n",
    "    df.rename({\"交易日期\":\"成交日期\", \"买卖标志\":\"操作\", \"成交价格\":\"成交均价\"}, axis=\"columns\", inplace=True)\n",
    "    df[\"fee\"] = df[\"佣金\"] + df[\"印花税\"] + df[\"过户费\"]+df[\"其他费\"]\n",
    "    return df\n",
    "\n",
    "#print(preprocess_qz(\"jyy/jgd.xlsx\"))\n",
    "e = Evaluator(\"瞿洲\", \"jyy/jgd.xlsx\", preprocess_qz)\n",
    "e.run()"
   ]
  },
  {
   "cell_type": "code",
   "execution_count": null,
   "id": "40273517",
   "metadata": {},
   "outputs": [],
   "source": [
    "def preprocess_qz1(file):\n",
    "    df = pd.read_excel(file, sheet_name=1, parse_dates=[\"发生日期\"])\n",
    "    df.rename({\"发生日期\":\"成交日期\", \"交易类别\":\"操作\"}, axis=\"columns\", inplace=True)\n",
    "    df[\"fee\"] = 0\n",
    "    return df\n",
    "\n",
    "#print(preprocess_qz1(\"jyy/jgd.xlsx\"))\n",
    "e = Evaluator(\"瞿洲\", \"jyy/jgd.xlsx\", preprocess_qz1)\n",
    "e.run()"
   ]
  },
  {
   "cell_type": "markdown",
   "id": "abcaacd5",
   "metadata": {},
   "source": [
    "# 郑方军"
   ]
  },
  {
   "cell_type": "code",
   "execution_count": null,
   "id": "ccca4b81",
   "metadata": {},
   "outputs": [],
   "source": [
    "def pre_process_zfj(file):\n",
    "    df = pd.read_csv(file, encoding=\"gbk\", sep=\"\\t\", parse_dates=[\"成交日期\"])\n",
    "    df[\"fee\"] = 0\n",
    "    return df\n",
    "\n",
    "name = \"郑方军\"\n",
    "file = \"table1.xls\"\n",
    "\n",
    "e = Evaluator(name, file, pre_process_zfj)\n",
    "e.run()"
   ]
  },
  {
   "cell_type": "markdown",
   "id": "d8d7b7ff",
   "metadata": {},
   "source": [
    "# 张洁"
   ]
  },
  {
   "cell_type": "code",
   "execution_count": null,
   "id": "50b28a82",
   "metadata": {},
   "outputs": [],
   "source": [
    "def pre_process_zj(file):\n",
    "    df = pd.read_csv(file, encoding=\"gbk\", sep=\"\\t\", parse_dates=[\"成交日期\"])\n",
    "    df[\"fee\"] = df[\"手续费\"] + df[\"印花税\"] + df[\"其他杂费\"]\n",
    "    return df\n",
    "\n",
    "name = \"张洁\"\n",
    "file = \"交割单.xls\"\n",
    "e = Evaluator(name, file, pre_process_zj)\n",
    "e.run()"
   ]
  },
  {
   "cell_type": "markdown",
   "id": "96c0aa8f",
   "metadata": {},
   "source": [
    "# 刘伟"
   ]
  },
  {
   "cell_type": "code",
   "execution_count": null,
   "id": "b9229f54",
   "metadata": {},
   "outputs": [],
   "source": [
    "def pre_process_lw(file):\n",
    "    df = pd.read_excel(file, parse_dates=[\"成交日期\"])\n",
    "    df.rename({\"成交价格\":\"成交均价\", \"买卖标志\":\"操作\", \"印花税\":\"fee\"}, axis=\"columns\", inplace=True)\n",
    "    return df\n",
    "\n",
    "name = \"刘伟\"\n",
    "e = Evaluator(name, \"lw.XLSX\", pre_process_lw)\n",
    "e.run()"
   ]
  },
  {
   "cell_type": "markdown",
   "id": "6fdba0e3",
   "metadata": {},
   "source": [
    "# 邓春来"
   ]
  },
  {
   "cell_type": "code",
   "execution_count": 9,
   "id": "f5a521b8",
   "metadata": {},
   "outputs": [
    {
     "name": "stdout",
     "output_type": "stream",
     "text": [
      "  成交日期\\t成交时间\\t证券代码\\t证券名称\\t操作\\t成交数量\\t成交编号\\t成交均价\\t成交金额\\t余额\\t发生金额\\t手续费\\t印花税\\t本次金额\\t合同编号\\t过户费\\t交易市场\n",
      "0  20210601\\t9:52:49\\t603121\\t华培动力\\t证券卖出\\t1100\\t6...                                           \n",
      "1  20210601\\t9:54:11\\t2235\\t安妮股份\\t证券买入\\t1900\\t102...                                           \n",
      "2  20210602\\t9:51:10\\t2235\\t安妮股份\\t证券卖出\\t6500\\t104...                                           \n",
      "3  20210602\\t9:51:09\\t2235\\t安妮股份\\t证券卖出\\t6600\\t104...                                           \n",
      "4  20210602\\t10:17:20\\t2045\\t国光电器\\t证券买入\\t2300\\t10...                                           \n",
      "交割单.xls csv gbk ['操作', '证券代码', 'fee', '成交数量', '成交金额', '证券名称', '成交日期', '成交均价']\n"
     ]
    }
   ],
   "source": [
    "name = \"邓春来\"\n",
    "\n",
    "peek(name)"
   ]
  },
  {
   "cell_type": "code",
   "execution_count": 10,
   "id": "f6112c3d",
   "metadata": {},
   "outputs": [],
   "source": [
    "def preprocess_dcl(file):\n",
    "    df = pd.read_csv(file, encoding=\"gbk\", parse_dates=[\"成交日期\"], sep=\"\\t\")\n",
    "    df.rename({\"发生金额\":\"成交金额\", \"印花税\": \"fee\"}, inplace=True,axis=\"columns\")\n",
    "    return df"
   ]
  },
  {
   "cell_type": "code",
   "execution_count": 11,
   "id": "97144fcc",
   "metadata": {},
   "outputs": [
    {
     "name": "stdout",
     "output_type": "stream",
     "text": [
      "\n",
      "====== 邓春来 交易评估报告 ======\n",
      "交易次数 160\n",
      "操作区间 2021-06-01 - 2022-03-23\n",
      "总利润: 61859.38\n",
      "持仓天数: 14.31\n",
      "\n",
      "亏损最多:\n",
      "          date  name       profit   pprofit  days  daily_pprofit\n",
      "68 2021-12-22  汉缆股份 -2278.443243 -0.260811  86.0      -0.003033\n",
      "69 2021-12-23  汉缆股份 -2648.651351 -0.256727  85.0      -0.003020\n",
      "93 2021-09-16  永东股份 -5462.477949 -0.253833  13.0      -0.019526\n",
      "盈利最多:\n",
      "           date  name        profit   pprofit  days  daily_pprofit\n",
      "145 2022-01-20  中岩大地  11994.920000  0.386459  20.0       0.019323\n",
      "28  2021-07-07  南方轴承   5363.834211  0.339913  16.0       0.021245\n",
      "53  2021-08-19   太阳能   4161.262941  0.306878  14.3       0.021460\n",
      "笔均利润: 2.0%\n",
      "利润中位数: 1.8%\n",
      "交易胜率: 60.62%\n",
      " ------ \n",
      "未配对交易:\n",
      "    操作         日期    名称      代码    股数     价格    手续费\n",
      "0   买入 2022-01-05  汉缆股份  002498  1900   5.03   0.00\n",
      "1   买入 2022-01-20  汉缆股份  002498  2900   4.73   0.00\n",
      "2   买入 2022-02-08  汉缆股份  002498  2900   4.62   0.00\n",
      "3   买入 2021-12-20  申通快递  002468  1900   9.21   0.00\n",
      "4   买入 2021-12-24  中创物流  603967   900  13.63   0.00\n",
      "5   买入 2022-02-07  建设机械  600984  1200  10.61   0.00\n",
      "6   买入 2022-02-07  建设机械  600984  1200  11.19   0.00\n",
      "7   买入 2022-03-09  建设机械  600984  1500   9.11   0.00\n",
      "8   买入 2022-03-21  青龙管业  002457  1000  10.01   0.00\n",
      "9   买入 2022-02-25   迪生力  603335  4500   6.57   0.00\n",
      "10  买入 2022-03-21  赛隆药业  002898   500  13.11   0.00\n",
      "11  买入 2022-03-22  赛隆药业  002898  1000  13.06   0.00\n",
      "12  买入 2022-03-23  赛隆药业  002898  1300  13.70   0.00\n",
      "13  买入 2022-03-18  红墙股份  002809   800  11.40   0.00\n",
      "14  买入 2022-03-21  红墙股份  002809   900  11.56   0.00\n",
      "15  买入 2022-03-21  红墙股份  002809   800  11.63   0.00\n",
      "16  买入 2022-03-22  中恒电气  002364  1500  10.06   0.00\n",
      "17  卖出 2021-06-01  华培动力  603121  1100  10.19  11.21\n",
      "18  卖出 2021-06-02  安妮股份  002235  6500   5.66  36.79\n",
      "19  卖出 2021-06-02  安妮股份  002235  6600   5.61  37.03\n",
      "20  卖出 2021-06-02  模塑科技  000700  6600   5.84  38.54\n",
      "21  卖出 2021-06-03  模塑科技  000700  4300   5.67  24.38\n",
      "22  卖出 2021-07-22  模塑科技  000700  4600   5.57  25.63\n",
      "23  卖出 2021-08-20   N电信  601728  1000   6.51   6.51\n"
     ]
    },
    {
     "data": {
      "image/png": "[encoded data removed]",
      "text/plain": [
       "<Figure size 960x480 with 1 Axes>"
      ]
     },
     "metadata": {
      "needs_background": "light"
     },
     "output_type": "display_data"
    }
   ],
   "source": [
    "file = \"交割单.xls\"\n",
    "e = Evaluator(name, file, preprocess_dcl)\n",
    "e.run()\n"
   ]
  },
  {
   "cell_type": "markdown",
   "id": "f33dc525",
   "metadata": {},
   "source": [
    "# 杨其旭"
   ]
  },
  {
   "cell_type": "code",
   "execution_count": 4,
   "id": "b4b28f86",
   "metadata": {},
   "outputs": [],
   "source": [
    "name = \"杨其旭\"\n",
    "\n",
    "def preprocess_yqx(file):\n",
    "    df = pd.read_excel(file, parse_dates=[\"成交日期\"], header=1)\n",
    "    print(df)"
   ]
  },
  {
   "cell_type": "code",
   "execution_count": 5,
   "id": "d9d8c511",
   "metadata": {},
   "outputs": [
    {
     "ename": "ValueError",
     "evalue": "Missing column provided to 'parse_dates': '成交日期'",
     "output_type": "error",
     "traceback": [
      "\u001b[0;31m---------------------------------------------------------------------------\u001b[0m",
      "\u001b[0;31mValueError\u001b[0m                                Traceback (most recent call last)",
      "Input \u001b[0;32mIn [5]\u001b[0m, in \u001b[0;36m<cell line: 1>\u001b[0;34m()\u001b[0m\n\u001b[0;32m----> 1\u001b[0m \u001b[43mpreprocess_yqx\u001b[49m\u001b[43m(\u001b[49m\u001b[38;5;124;43m\"\u001b[39;49m\u001b[38;5;124;43m/data/traders/杨其旭/2021.xls\u001b[39;49m\u001b[38;5;124;43m\"\u001b[39;49m\u001b[43m)\u001b[49m\n",
      "Input \u001b[0;32mIn [4]\u001b[0m, in \u001b[0;36mpreprocess_yqx\u001b[0;34m(file)\u001b[0m\n\u001b[1;32m      3\u001b[0m \u001b[38;5;28;01mdef\u001b[39;00m \u001b[38;5;21mpreprocess_yqx\u001b[39m(file):\n\u001b[0;32m----> 4\u001b[0m     df \u001b[38;5;241m=\u001b[39m \u001b[43mpd\u001b[49m\u001b[38;5;241;43m.\u001b[39;49m\u001b[43mread_excel\u001b[49m\u001b[43m(\u001b[49m\u001b[43mfile\u001b[49m\u001b[43m,\u001b[49m\u001b[43m \u001b[49m\u001b[43mparse_dates\u001b[49m\u001b[38;5;241;43m=\u001b[39;49m\u001b[43m[\u001b[49m\u001b[38;5;124;43m\"\u001b[39;49m\u001b[38;5;124;43m成交日期\u001b[39;49m\u001b[38;5;124;43m\"\u001b[39;49m\u001b[43m]\u001b[49m\u001b[43m,\u001b[49m\u001b[43m \u001b[49m\u001b[43mheader\u001b[49m\u001b[38;5;241;43m=\u001b[39;49m\u001b[38;5;241;43m1\u001b[39;49m\u001b[43m)\u001b[49m\n\u001b[1;32m      5\u001b[0m     \u001b[38;5;28mprint\u001b[39m(df)\n",
      "File \u001b[0;32m~/miniconda3/envs/alpha/lib/python3.8/site-packages/pandas/util/_decorators.py:311\u001b[0m, in \u001b[0;36mdeprecate_nonkeyword_arguments.<locals>.decorate.<locals>.wrapper\u001b[0;34m(*args, **kwargs)\u001b[0m\n\u001b[1;32m    305\u001b[0m \u001b[38;5;28;01mif\u001b[39;00m \u001b[38;5;28mlen\u001b[39m(args) \u001b[38;5;241m>\u001b[39m num_allow_args:\n\u001b[1;32m    306\u001b[0m     warnings\u001b[38;5;241m.\u001b[39mwarn(\n\u001b[1;32m    307\u001b[0m         msg\u001b[38;5;241m.\u001b[39mformat(arguments\u001b[38;5;241m=\u001b[39marguments),\n\u001b[1;32m    308\u001b[0m         \u001b[38;5;167;01mFutureWarning\u001b[39;00m,\n\u001b[1;32m    309\u001b[0m         stacklevel\u001b[38;5;241m=\u001b[39mstacklevel,\n\u001b[1;32m    310\u001b[0m     )\n\u001b[0;32m--> 311\u001b[0m \u001b[38;5;28;01mreturn\u001b[39;00m \u001b[43mfunc\u001b[49m\u001b[43m(\u001b[49m\u001b[38;5;241;43m*\u001b[39;49m\u001b[43margs\u001b[49m\u001b[43m,\u001b[49m\u001b[43m \u001b[49m\u001b[38;5;241;43m*\u001b[39;49m\u001b[38;5;241;43m*\u001b[39;49m\u001b[43mkwargs\u001b[49m\u001b[43m)\u001b[49m\n",
      "File \u001b[0;32m~/miniconda3/envs/alpha/lib/python3.8/site-packages/pandas/io/excel/_base.py:465\u001b[0m, in \u001b[0;36mread_excel\u001b[0;34m(io, sheet_name, header, names, index_col, usecols, squeeze, dtype, engine, converters, true_values, false_values, skiprows, nrows, na_values, keep_default_na, na_filter, verbose, parse_dates, date_parser, thousands, decimal, comment, skipfooter, convert_float, mangle_dupe_cols, storage_options)\u001b[0m\n\u001b[1;32m    459\u001b[0m     \u001b[38;5;28;01mraise\u001b[39;00m \u001b[38;5;167;01mValueError\u001b[39;00m(\n\u001b[1;32m    460\u001b[0m         \u001b[38;5;124m\"\u001b[39m\u001b[38;5;124mEngine should not be specified when passing \u001b[39m\u001b[38;5;124m\"\u001b[39m\n\u001b[1;32m    461\u001b[0m         \u001b[38;5;124m\"\u001b[39m\u001b[38;5;124man ExcelFile - ExcelFile already has the engine set\u001b[39m\u001b[38;5;124m\"\u001b[39m\n\u001b[1;32m    462\u001b[0m     )\n\u001b[1;32m    464\u001b[0m \u001b[38;5;28;01mtry\u001b[39;00m:\n\u001b[0;32m--> 465\u001b[0m     data \u001b[38;5;241m=\u001b[39m \u001b[43mio\u001b[49m\u001b[38;5;241;43m.\u001b[39;49m\u001b[43mparse\u001b[49m\u001b[43m(\u001b[49m\n\u001b[1;32m    466\u001b[0m \u001b[43m        \u001b[49m\u001b[43msheet_name\u001b[49m\u001b[38;5;241;43m=\u001b[39;49m\u001b[43msheet_name\u001b[49m\u001b[43m,\u001b[49m\n\u001b[1;32m    467\u001b[0m \u001b[43m        \u001b[49m\u001b[43mheader\u001b[49m\u001b[38;5;241;43m=\u001b[39;49m\u001b[43mheader\u001b[49m\u001b[43m,\u001b[49m\n\u001b[1;32m    468\u001b[0m \u001b[43m        \u001b[49m\u001b[43mnames\u001b[49m\u001b[38;5;241;43m=\u001b[39;49m\u001b[43mnames\u001b[49m\u001b[43m,\u001b[49m\n\u001b[1;32m    469\u001b[0m \u001b[43m        \u001b[49m\u001b[43mindex_col\u001b[49m\u001b[38;5;241;43m=\u001b[39;49m\u001b[43mindex_col\u001b[49m\u001b[43m,\u001b[49m\n\u001b[1;32m    470\u001b[0m \u001b[43m        \u001b[49m\u001b[43musecols\u001b[49m\u001b[38;5;241;43m=\u001b[39;49m\u001b[43musecols\u001b[49m\u001b[43m,\u001b[49m\n\u001b[1;32m    471\u001b[0m \u001b[43m        \u001b[49m\u001b[43msqueeze\u001b[49m\u001b[38;5;241;43m=\u001b[39;49m\u001b[43msqueeze\u001b[49m\u001b[43m,\u001b[49m\n\u001b[1;32m    472\u001b[0m \u001b[43m        \u001b[49m\u001b[43mdtype\u001b[49m\u001b[38;5;241;43m=\u001b[39;49m\u001b[43mdtype\u001b[49m\u001b[43m,\u001b[49m\n\u001b[1;32m    473\u001b[0m \u001b[43m        \u001b[49m\u001b[43mconverters\u001b[49m\u001b[38;5;241;43m=\u001b[39;49m\u001b[43mconverters\u001b[49m\u001b[43m,\u001b[49m\n\u001b[1;32m    474\u001b[0m \u001b[43m        \u001b[49m\u001b[43mtrue_values\u001b[49m\u001b[38;5;241;43m=\u001b[39;49m\u001b[43mtrue_values\u001b[49m\u001b[43m,\u001b[49m\n\u001b[1;32m    475\u001b[0m \u001b[43m        \u001b[49m\u001b[43mfalse_values\u001b[49m\u001b[38;5;241;43m=\u001b[39;49m\u001b[43mfalse_values\u001b[49m\u001b[43m,\u001b[49m\n\u001b[1;32m    476\u001b[0m \u001b[43m        \u001b[49m\u001b[43mskiprows\u001b[49m\u001b[38;5;241;43m=\u001b[39;49m\u001b[43mskiprows\u001b[49m\u001b[43m,\u001b[49m\n\u001b[1;32m    477\u001b[0m \u001b[43m        \u001b[49m\u001b[43mnrows\u001b[49m\u001b[38;5;241;43m=\u001b[39;49m\u001b[43mnrows\u001b[49m\u001b[43m,\u001b[49m\n\u001b[1;32m    478\u001b[0m \u001b[43m        \u001b[49m\u001b[43mna_values\u001b[49m\u001b[38;5;241;43m=\u001b[39;49m\u001b[43mna_values\u001b[49m\u001b[43m,\u001b[49m\n\u001b[1;32m    479\u001b[0m \u001b[43m        \u001b[49m\u001b[43mkeep_default_na\u001b[49m\u001b[38;5;241;43m=\u001b[39;49m\u001b[43mkeep_default_na\u001b[49m\u001b[43m,\u001b[49m\n\u001b[1;32m    480\u001b[0m \u001b[43m        \u001b[49m\u001b[43mna_filter\u001b[49m\u001b[38;5;241;43m=\u001b[39;49m\u001b[43mna_filter\u001b[49m\u001b[43m,\u001b[49m\n\u001b[1;32m    481\u001b[0m \u001b[43m        \u001b[49m\u001b[43mverbose\u001b[49m\u001b[38;5;241;43m=\u001b[39;49m\u001b[43mverbose\u001b[49m\u001b[43m,\u001b[49m\n\u001b[1;32m    482\u001b[0m \u001b[43m        \u001b[49m\u001b[43mparse_dates\u001b[49m\u001b[38;5;241;43m=\u001b[39;49m\u001b[43mparse_dates\u001b[49m\u001b[43m,\u001b[49m\n\u001b[1;32m    483\u001b[0m \u001b[43m        \u001b[49m\u001b[43mdate_parser\u001b[49m\u001b[38;5;241;43m=\u001b[39;49m\u001b[43mdate_parser\u001b[49m\u001b[43m,\u001b[49m\n\u001b[1;32m    484\u001b[0m \u001b[43m        \u001b[49m\u001b[43mthousands\u001b[49m\u001b[38;5;241;43m=\u001b[39;49m\u001b[43mthousands\u001b[49m\u001b[43m,\u001b[49m\n\u001b[1;32m    485\u001b[0m \u001b[43m        \u001b[49m\u001b[43mdecimal\u001b[49m\u001b[38;5;241;43m=\u001b[39;49m\u001b[43mdecimal\u001b[49m\u001b[43m,\u001b[49m\n\u001b[1;32m    486\u001b[0m \u001b[43m        \u001b[49m\u001b[43mcomment\u001b[49m\u001b[38;5;241;43m=\u001b[39;49m\u001b[43mcomment\u001b[49m\u001b[43m,\u001b[49m\n\u001b[1;32m    487\u001b[0m \u001b[43m        \u001b[49m\u001b[43mskipfooter\u001b[49m\u001b[38;5;241;43m=\u001b[39;49m\u001b[43mskipfooter\u001b[49m\u001b[43m,\u001b[49m\n\u001b[1;32m    488\u001b[0m \u001b[43m        \u001b[49m\u001b[43mconvert_float\u001b[49m\u001b[38;5;241;43m=\u001b[39;49m\u001b[43mconvert_float\u001b[49m\u001b[43m,\u001b[49m\n\u001b[1;32m    489\u001b[0m \u001b[43m        \u001b[49m\u001b[43mmangle_dupe_cols\u001b[49m\u001b[38;5;241;43m=\u001b[39;49m\u001b[43mmangle_dupe_cols\u001b[49m\u001b[43m,\u001b[49m\n\u001b[1;32m    490\u001b[0m \u001b[43m    \u001b[49m\u001b[43m)\u001b[49m\n\u001b[1;32m    491\u001b[0m \u001b[38;5;28;01mfinally\u001b[39;00m:\n\u001b[1;32m    492\u001b[0m     \u001b[38;5;66;03m# make sure to close opened file handles\u001b[39;00m\n\u001b[1;32m    493\u001b[0m     \u001b[38;5;28;01mif\u001b[39;00m should_close:\n",
      "File \u001b[0;32m~/miniconda3/envs/alpha/lib/python3.8/site-packages/pandas/io/excel/_base.py:1458\u001b[0m, in \u001b[0;36mExcelFile.parse\u001b[0;34m(self, sheet_name, header, names, index_col, usecols, squeeze, converters, true_values, false_values, skiprows, nrows, na_values, parse_dates, date_parser, thousands, comment, skipfooter, convert_float, mangle_dupe_cols, **kwds)\u001b[0m\n\u001b[1;32m   1424\u001b[0m \u001b[38;5;28;01mdef\u001b[39;00m \u001b[38;5;21mparse\u001b[39m(\n\u001b[1;32m   1425\u001b[0m     \u001b[38;5;28mself\u001b[39m,\n\u001b[1;32m   1426\u001b[0m     sheet_name: \u001b[38;5;28mstr\u001b[39m \u001b[38;5;241m|\u001b[39m \u001b[38;5;28mint\u001b[39m \u001b[38;5;241m|\u001b[39m \u001b[38;5;28mlist\u001b[39m[\u001b[38;5;28mint\u001b[39m] \u001b[38;5;241m|\u001b[39m \u001b[38;5;28mlist\u001b[39m[\u001b[38;5;28mstr\u001b[39m] \u001b[38;5;241m|\u001b[39m \u001b[38;5;28;01mNone\u001b[39;00m \u001b[38;5;241m=\u001b[39m \u001b[38;5;241m0\u001b[39m,\n\u001b[0;32m   (...)\u001b[0m\n\u001b[1;32m   1445\u001b[0m     \u001b[38;5;241m*\u001b[39m\u001b[38;5;241m*\u001b[39mkwds,\n\u001b[1;32m   1446\u001b[0m ) \u001b[38;5;241m-\u001b[39m\u001b[38;5;241m>\u001b[39m DataFrame \u001b[38;5;241m|\u001b[39m \u001b[38;5;28mdict\u001b[39m[\u001b[38;5;28mstr\u001b[39m, DataFrame] \u001b[38;5;241m|\u001b[39m \u001b[38;5;28mdict\u001b[39m[\u001b[38;5;28mint\u001b[39m, DataFrame]:\n\u001b[1;32m   1447\u001b[0m     \u001b[38;5;124;03m\"\"\"\u001b[39;00m\n\u001b[1;32m   1448\u001b[0m \u001b[38;5;124;03m    Parse specified sheet(s) into a DataFrame.\u001b[39;00m\n\u001b[1;32m   1449\u001b[0m \n\u001b[0;32m   (...)\u001b[0m\n\u001b[1;32m   1456\u001b[0m \u001b[38;5;124;03m        DataFrame from the passed in Excel file.\u001b[39;00m\n\u001b[1;32m   1457\u001b[0m \u001b[38;5;124;03m    \"\"\"\u001b[39;00m\n\u001b[0;32m-> 1458\u001b[0m     \u001b[38;5;28;01mreturn\u001b[39;00m \u001b[38;5;28;43mself\u001b[39;49m\u001b[38;5;241;43m.\u001b[39;49m\u001b[43m_reader\u001b[49m\u001b[38;5;241;43m.\u001b[39;49m\u001b[43mparse\u001b[49m\u001b[43m(\u001b[49m\n\u001b[1;32m   1459\u001b[0m \u001b[43m        \u001b[49m\u001b[43msheet_name\u001b[49m\u001b[38;5;241;43m=\u001b[39;49m\u001b[43msheet_name\u001b[49m\u001b[43m,\u001b[49m\n\u001b[1;32m   1460\u001b[0m \u001b[43m        \u001b[49m\u001b[43mheader\u001b[49m\u001b[38;5;241;43m=\u001b[39;49m\u001b[43mheader\u001b[49m\u001b[43m,\u001b[49m\n\u001b[1;32m   1461\u001b[0m \u001b[43m        \u001b[49m\u001b[43mnames\u001b[49m\u001b[38;5;241;43m=\u001b[39;49m\u001b[43mnames\u001b[49m\u001b[43m,\u001b[49m\n\u001b[1;32m   1462\u001b[0m \u001b[43m        \u001b[49m\u001b[43mindex_col\u001b[49m\u001b[38;5;241;43m=\u001b[39;49m\u001b[43mindex_col\u001b[49m\u001b[43m,\u001b[49m\n\u001b[1;32m   1463\u001b[0m \u001b[43m        \u001b[49m\u001b[43musecols\u001b[49m\u001b[38;5;241;43m=\u001b[39;49m\u001b[43musecols\u001b[49m\u001b[43m,\u001b[49m\n\u001b[1;32m   1464\u001b[0m \u001b[43m        \u001b[49m\u001b[43msqueeze\u001b[49m\u001b[38;5;241;43m=\u001b[39;49m\u001b[43msqueeze\u001b[49m\u001b[43m,\u001b[49m\n\u001b[1;32m   1465\u001b[0m \u001b[43m        \u001b[49m\u001b[43mconverters\u001b[49m\u001b[38;5;241;43m=\u001b[39;49m\u001b[43mconverters\u001b[49m\u001b[43m,\u001b[49m\n\u001b[1;32m   1466\u001b[0m \u001b[43m        \u001b[49m\u001b[43mtrue_values\u001b[49m\u001b[38;5;241;43m=\u001b[39;49m\u001b[43mtrue_values\u001b[49m\u001b[43m,\u001b[49m\n\u001b[1;32m   1467\u001b[0m \u001b[43m        \u001b[49m\u001b[43mfalse_values\u001b[49m\u001b[38;5;241;43m=\u001b[39;49m\u001b[43mfalse_values\u001b[49m\u001b[43m,\u001b[49m\n\u001b[1;32m   1468\u001b[0m \u001b[43m        \u001b[49m\u001b[43mskiprows\u001b[49m\u001b[38;5;241;43m=\u001b[39;49m\u001b[43mskiprows\u001b[49m\u001b[43m,\u001b[49m\n\u001b[1;32m   1469\u001b[0m \u001b[43m        \u001b[49m\u001b[43mnrows\u001b[49m\u001b[38;5;241;43m=\u001b[39;49m\u001b[43mnrows\u001b[49m\u001b[43m,\u001b[49m\n\u001b[1;32m   1470\u001b[0m \u001b[43m        \u001b[49m\u001b[43mna_values\u001b[49m\u001b[38;5;241;43m=\u001b[39;49m\u001b[43mna_values\u001b[49m\u001b[43m,\u001b[49m\n\u001b[1;32m   1471\u001b[0m \u001b[43m        \u001b[49m\u001b[43mparse_dates\u001b[49m\u001b[38;5;241;43m=\u001b[39;49m\u001b[43mparse_dates\u001b[49m\u001b[43m,\u001b[49m\n\u001b[1;32m   1472\u001b[0m \u001b[43m        \u001b[49m\u001b[43mdate_parser\u001b[49m\u001b[38;5;241;43m=\u001b[39;49m\u001b[43mdate_parser\u001b[49m\u001b[43m,\u001b[49m\n\u001b[1;32m   1473\u001b[0m \u001b[43m        \u001b[49m\u001b[43mthousands\u001b[49m\u001b[38;5;241;43m=\u001b[39;49m\u001b[43mthousands\u001b[49m\u001b[43m,\u001b[49m\n\u001b[1;32m   1474\u001b[0m \u001b[43m        \u001b[49m\u001b[43mcomment\u001b[49m\u001b[38;5;241;43m=\u001b[39;49m\u001b[43mcomment\u001b[49m\u001b[43m,\u001b[49m\n\u001b[1;32m   1475\u001b[0m \u001b[43m        \u001b[49m\u001b[43mskipfooter\u001b[49m\u001b[38;5;241;43m=\u001b[39;49m\u001b[43mskipfooter\u001b[49m\u001b[43m,\u001b[49m\n\u001b[1;32m   1476\u001b[0m \u001b[43m        \u001b[49m\u001b[43mconvert_float\u001b[49m\u001b[38;5;241;43m=\u001b[39;49m\u001b[43mconvert_float\u001b[49m\u001b[43m,\u001b[49m\n\u001b[1;32m   1477\u001b[0m \u001b[43m        \u001b[49m\u001b[43mmangle_dupe_cols\u001b[49m\u001b[38;5;241;43m=\u001b[39;49m\u001b[43mmangle_dupe_cols\u001b[49m\u001b[43m,\u001b[49m\n\u001b[1;32m   1478\u001b[0m \u001b[43m        \u001b[49m\u001b[38;5;241;43m*\u001b[39;49m\u001b[38;5;241;43m*\u001b[39;49m\u001b[43mkwds\u001b[49m\u001b[43m,\u001b[49m\n\u001b[1;32m   1479\u001b[0m \u001b[43m    \u001b[49m\u001b[43m)\u001b[49m\n",
      "File \u001b[0;32m~/miniconda3/envs/alpha/lib/python3.8/site-packages/pandas/io/excel/_base.py:715\u001b[0m, in \u001b[0;36mBaseExcelReader.parse\u001b[0;34m(self, sheet_name, header, names, index_col, usecols, squeeze, dtype, true_values, false_values, skiprows, nrows, na_values, verbose, parse_dates, date_parser, thousands, decimal, comment, skipfooter, convert_float, mangle_dupe_cols, **kwds)\u001b[0m\n\u001b[1;32m    713\u001b[0m \u001b[38;5;66;03m# GH 12292 : error when read one empty column from excel file\u001b[39;00m\n\u001b[1;32m    714\u001b[0m \u001b[38;5;28;01mtry\u001b[39;00m:\n\u001b[0;32m--> 715\u001b[0m     parser \u001b[38;5;241m=\u001b[39m \u001b[43mTextParser\u001b[49m\u001b[43m(\u001b[49m\n\u001b[1;32m    716\u001b[0m \u001b[43m        \u001b[49m\u001b[43mdata\u001b[49m\u001b[43m,\u001b[49m\n\u001b[1;32m    717\u001b[0m \u001b[43m        \u001b[49m\u001b[43mnames\u001b[49m\u001b[38;5;241;43m=\u001b[39;49m\u001b[43mnames\u001b[49m\u001b[43m,\u001b[49m\n\u001b[1;32m    718\u001b[0m \u001b[43m        \u001b[49m\u001b[43mheader\u001b[49m\u001b[38;5;241;43m=\u001b[39;49m\u001b[43mheader\u001b[49m\u001b[43m,\u001b[49m\n\u001b[1;32m    719\u001b[0m \u001b[43m        \u001b[49m\u001b[43mindex_col\u001b[49m\u001b[38;5;241;43m=\u001b[39;49m\u001b[43mindex_col\u001b[49m\u001b[43m,\u001b[49m\n\u001b[1;32m    720\u001b[0m \u001b[43m        \u001b[49m\u001b[43mhas_index_names\u001b[49m\u001b[38;5;241;43m=\u001b[39;49m\u001b[43mhas_index_names\u001b[49m\u001b[43m,\u001b[49m\n\u001b[1;32m    721\u001b[0m \u001b[43m        \u001b[49m\u001b[43msqueeze\u001b[49m\u001b[38;5;241;43m=\u001b[39;49m\u001b[43msqueeze\u001b[49m\u001b[43m,\u001b[49m\n\u001b[1;32m    722\u001b[0m \u001b[43m        \u001b[49m\u001b[43mdtype\u001b[49m\u001b[38;5;241;43m=\u001b[39;49m\u001b[43mdtype\u001b[49m\u001b[43m,\u001b[49m\n\u001b[1;32m    723\u001b[0m \u001b[43m        \u001b[49m\u001b[43mtrue_values\u001b[49m\u001b[38;5;241;43m=\u001b[39;49m\u001b[43mtrue_values\u001b[49m\u001b[43m,\u001b[49m\n\u001b[1;32m    724\u001b[0m \u001b[43m        \u001b[49m\u001b[43mfalse_values\u001b[49m\u001b[38;5;241;43m=\u001b[39;49m\u001b[43mfalse_values\u001b[49m\u001b[43m,\u001b[49m\n\u001b[1;32m    725\u001b[0m \u001b[43m        \u001b[49m\u001b[43mskiprows\u001b[49m\u001b[38;5;241;43m=\u001b[39;49m\u001b[43mskiprows\u001b[49m\u001b[43m,\u001b[49m\n\u001b[1;32m    726\u001b[0m \u001b[43m        \u001b[49m\u001b[43mnrows\u001b[49m\u001b[38;5;241;43m=\u001b[39;49m\u001b[43mnrows\u001b[49m\u001b[43m,\u001b[49m\n\u001b[1;32m    727\u001b[0m \u001b[43m        \u001b[49m\u001b[43mna_values\u001b[49m\u001b[38;5;241;43m=\u001b[39;49m\u001b[43mna_values\u001b[49m\u001b[43m,\u001b[49m\n\u001b[1;32m    728\u001b[0m \u001b[43m        \u001b[49m\u001b[43mskip_blank_lines\u001b[49m\u001b[38;5;241;43m=\u001b[39;49m\u001b[38;5;28;43;01mFalse\u001b[39;49;00m\u001b[43m,\u001b[49m\u001b[43m  \u001b[49m\u001b[38;5;66;43;03m# GH 39808\u001b[39;49;00m\n\u001b[1;32m    729\u001b[0m \u001b[43m        \u001b[49m\u001b[43mparse_dates\u001b[49m\u001b[38;5;241;43m=\u001b[39;49m\u001b[43mparse_dates\u001b[49m\u001b[43m,\u001b[49m\n\u001b[1;32m    730\u001b[0m \u001b[43m        \u001b[49m\u001b[43mdate_parser\u001b[49m\u001b[38;5;241;43m=\u001b[39;49m\u001b[43mdate_parser\u001b[49m\u001b[43m,\u001b[49m\n\u001b[1;32m    731\u001b[0m \u001b[43m        \u001b[49m\u001b[43mthousands\u001b[49m\u001b[38;5;241;43m=\u001b[39;49m\u001b[43mthousands\u001b[49m\u001b[43m,\u001b[49m\n\u001b[1;32m    732\u001b[0m \u001b[43m        \u001b[49m\u001b[43mdecimal\u001b[49m\u001b[38;5;241;43m=\u001b[39;49m\u001b[43mdecimal\u001b[49m\u001b[43m,\u001b[49m\n\u001b[1;32m    733\u001b[0m \u001b[43m        \u001b[49m\u001b[43mcomment\u001b[49m\u001b[38;5;241;43m=\u001b[39;49m\u001b[43mcomment\u001b[49m\u001b[43m,\u001b[49m\n\u001b[1;32m    734\u001b[0m \u001b[43m        \u001b[49m\u001b[43mskipfooter\u001b[49m\u001b[38;5;241;43m=\u001b[39;49m\u001b[43mskipfooter\u001b[49m\u001b[43m,\u001b[49m\n\u001b[1;32m    735\u001b[0m \u001b[43m        \u001b[49m\u001b[43musecols\u001b[49m\u001b[38;5;241;43m=\u001b[39;49m\u001b[43musecols\u001b[49m\u001b[43m,\u001b[49m\n\u001b[1;32m    736\u001b[0m \u001b[43m        \u001b[49m\u001b[43mmangle_dupe_cols\u001b[49m\u001b[38;5;241;43m=\u001b[39;49m\u001b[43mmangle_dupe_cols\u001b[49m\u001b[43m,\u001b[49m\n\u001b[1;32m    737\u001b[0m \u001b[43m        \u001b[49m\u001b[38;5;241;43m*\u001b[39;49m\u001b[38;5;241;43m*\u001b[39;49m\u001b[43mkwds\u001b[49m\u001b[43m,\u001b[49m\n\u001b[1;32m    738\u001b[0m \u001b[43m    \u001b[49m\u001b[43m)\u001b[49m\n\u001b[1;32m    740\u001b[0m     output[asheetname] \u001b[38;5;241m=\u001b[39m parser\u001b[38;5;241m.\u001b[39mread(nrows\u001b[38;5;241m=\u001b[39mnrows)\n\u001b[1;32m    742\u001b[0m     \u001b[38;5;28;01mif\u001b[39;00m \u001b[38;5;129;01mnot\u001b[39;00m squeeze \u001b[38;5;129;01mor\u001b[39;00m \u001b[38;5;28misinstance\u001b[39m(output[asheetname], DataFrame):\n",
      "File \u001b[0;32m~/miniconda3/envs/alpha/lib/python3.8/site-packages/pandas/io/parsers/readers.py:1346\u001b[0m, in \u001b[0;36mTextParser\u001b[0;34m(*args, **kwds)\u001b[0m\n\u001b[1;32m   1290\u001b[0m \u001b[38;5;124;03m\"\"\"\u001b[39;00m\n\u001b[1;32m   1291\u001b[0m \u001b[38;5;124;03mConverts lists of lists/tuples into DataFrames with proper type inference\u001b[39;00m\n\u001b[1;32m   1292\u001b[0m \u001b[38;5;124;03mand optional (e.g. string to datetime) conversion. Also enables iterating\u001b[39;00m\n\u001b[0;32m   (...)\u001b[0m\n\u001b[1;32m   1343\u001b[0m \u001b[38;5;124;03m    .. versionchanged:: 1.2\u001b[39;00m\n\u001b[1;32m   1344\u001b[0m \u001b[38;5;124;03m\"\"\"\u001b[39;00m\n\u001b[1;32m   1345\u001b[0m kwds[\u001b[38;5;124m\"\u001b[39m\u001b[38;5;124mengine\u001b[39m\u001b[38;5;124m\"\u001b[39m] \u001b[38;5;241m=\u001b[39m \u001b[38;5;124m\"\u001b[39m\u001b[38;5;124mpython\u001b[39m\u001b[38;5;124m\"\u001b[39m\n\u001b[0;32m-> 1346\u001b[0m \u001b[38;5;28;01mreturn\u001b[39;00m \u001b[43mTextFileReader\u001b[49m\u001b[43m(\u001b[49m\u001b[38;5;241;43m*\u001b[39;49m\u001b[43margs\u001b[49m\u001b[43m,\u001b[49m\u001b[43m \u001b[49m\u001b[38;5;241;43m*\u001b[39;49m\u001b[38;5;241;43m*\u001b[39;49m\u001b[43mkwds\u001b[49m\u001b[43m)\u001b[49m\n",
      "File \u001b[0;32m~/miniconda3/envs/alpha/lib/python3.8/site-packages/pandas/io/parsers/readers.py:933\u001b[0m, in \u001b[0;36mTextFileReader.__init__\u001b[0;34m(self, f, engine, **kwds)\u001b[0m\n\u001b[1;32m    930\u001b[0m     \u001b[38;5;28mself\u001b[39m\u001b[38;5;241m.\u001b[39moptions[\u001b[38;5;124m\"\u001b[39m\u001b[38;5;124mhas_index_names\u001b[39m\u001b[38;5;124m\"\u001b[39m] \u001b[38;5;241m=\u001b[39m kwds[\u001b[38;5;124m\"\u001b[39m\u001b[38;5;124mhas_index_names\u001b[39m\u001b[38;5;124m\"\u001b[39m]\n\u001b[1;32m    932\u001b[0m \u001b[38;5;28mself\u001b[39m\u001b[38;5;241m.\u001b[39mhandles: IOHandles \u001b[38;5;241m|\u001b[39m \u001b[38;5;28;01mNone\u001b[39;00m \u001b[38;5;241m=\u001b[39m \u001b[38;5;28;01mNone\u001b[39;00m\n\u001b[0;32m--> 933\u001b[0m \u001b[38;5;28mself\u001b[39m\u001b[38;5;241m.\u001b[39m_engine \u001b[38;5;241m=\u001b[39m \u001b[38;5;28;43mself\u001b[39;49m\u001b[38;5;241;43m.\u001b[39;49m\u001b[43m_make_engine\u001b[49m\u001b[43m(\u001b[49m\u001b[43mf\u001b[49m\u001b[43m,\u001b[49m\u001b[43m \u001b[49m\u001b[38;5;28;43mself\u001b[39;49m\u001b[38;5;241;43m.\u001b[39;49m\u001b[43mengine\u001b[49m\u001b[43m)\u001b[49m\n",
      "File \u001b[0;32m~/miniconda3/envs/alpha/lib/python3.8/site-packages/pandas/io/parsers/readers.py:1231\u001b[0m, in \u001b[0;36mTextFileReader._make_engine\u001b[0;34m(self, f, engine)\u001b[0m\n\u001b[1;32m   1228\u001b[0m     f \u001b[38;5;241m=\u001b[39m \u001b[38;5;28mself\u001b[39m\u001b[38;5;241m.\u001b[39mhandles\u001b[38;5;241m.\u001b[39mhandle\n\u001b[1;32m   1230\u001b[0m \u001b[38;5;28;01mtry\u001b[39;00m:\n\u001b[0;32m-> 1231\u001b[0m     \u001b[38;5;28;01mreturn\u001b[39;00m \u001b[43mmapping\u001b[49m\u001b[43m[\u001b[49m\u001b[43mengine\u001b[49m\u001b[43m]\u001b[49m\u001b[43m(\u001b[49m\u001b[43mf\u001b[49m\u001b[43m,\u001b[49m\u001b[43m \u001b[49m\u001b[38;5;241;43m*\u001b[39;49m\u001b[38;5;241;43m*\u001b[39;49m\u001b[38;5;28;43mself\u001b[39;49m\u001b[38;5;241;43m.\u001b[39;49m\u001b[43moptions\u001b[49m\u001b[43m)\u001b[49m\n\u001b[1;32m   1232\u001b[0m \u001b[38;5;28;01mexcept\u001b[39;00m \u001b[38;5;167;01mException\u001b[39;00m:\n\u001b[1;32m   1233\u001b[0m     \u001b[38;5;28;01mif\u001b[39;00m \u001b[38;5;28mself\u001b[39m\u001b[38;5;241m.\u001b[39mhandles \u001b[38;5;129;01mis\u001b[39;00m \u001b[38;5;129;01mnot\u001b[39;00m \u001b[38;5;28;01mNone\u001b[39;00m:\n",
      "File \u001b[0;32m~/miniconda3/envs/alpha/lib/python3.8/site-packages/pandas/io/parsers/python_parser.py:148\u001b[0m, in \u001b[0;36mPythonParser.__init__\u001b[0;34m(self, f, **kwds)\u001b[0m\n\u001b[1;32m    145\u001b[0m \u001b[38;5;28;01mif\u001b[39;00m \u001b[38;5;28mself\u001b[39m\u001b[38;5;241m.\u001b[39m_col_indices \u001b[38;5;129;01mis\u001b[39;00m \u001b[38;5;28;01mNone\u001b[39;00m:\n\u001b[1;32m    146\u001b[0m     \u001b[38;5;28mself\u001b[39m\u001b[38;5;241m.\u001b[39m_col_indices \u001b[38;5;241m=\u001b[39m \u001b[38;5;28mlist\u001b[39m(\u001b[38;5;28mrange\u001b[39m(\u001b[38;5;28mlen\u001b[39m(\u001b[38;5;28mself\u001b[39m\u001b[38;5;241m.\u001b[39mcolumns)))\n\u001b[0;32m--> 148\u001b[0m \u001b[38;5;28mself\u001b[39m\u001b[38;5;241m.\u001b[39m_parse_date_cols \u001b[38;5;241m=\u001b[39m \u001b[38;5;28;43mself\u001b[39;49m\u001b[38;5;241;43m.\u001b[39;49m\u001b[43m_validate_parse_dates_presence\u001b[49m\u001b[43m(\u001b[49m\u001b[38;5;28;43mself\u001b[39;49m\u001b[38;5;241;43m.\u001b[39;49m\u001b[43mcolumns\u001b[49m\u001b[43m)\u001b[49m\n\u001b[1;32m    149\u001b[0m no_thousands_columns: \u001b[38;5;28mset\u001b[39m[\u001b[38;5;28mint\u001b[39m] \u001b[38;5;241m|\u001b[39m \u001b[38;5;28;01mNone\u001b[39;00m \u001b[38;5;241m=\u001b[39m \u001b[38;5;28;01mNone\u001b[39;00m\n\u001b[1;32m    150\u001b[0m \u001b[38;5;28;01mif\u001b[39;00m \u001b[38;5;28mself\u001b[39m\u001b[38;5;241m.\u001b[39mparse_dates:\n",
      "File \u001b[0;32m~/miniconda3/envs/alpha/lib/python3.8/site-packages/pandas/io/parsers/base_parser.py:228\u001b[0m, in \u001b[0;36mParserBase._validate_parse_dates_presence\u001b[0;34m(self, columns)\u001b[0m\n\u001b[1;32m    218\u001b[0m missing_cols \u001b[38;5;241m=\u001b[39m \u001b[38;5;124m\"\u001b[39m\u001b[38;5;124m, \u001b[39m\u001b[38;5;124m\"\u001b[39m\u001b[38;5;241m.\u001b[39mjoin(\n\u001b[1;32m    219\u001b[0m     \u001b[38;5;28msorted\u001b[39m(\n\u001b[1;32m    220\u001b[0m         {\n\u001b[0;32m   (...)\u001b[0m\n\u001b[1;32m    225\u001b[0m     )\n\u001b[1;32m    226\u001b[0m )\n\u001b[1;32m    227\u001b[0m \u001b[38;5;28;01mif\u001b[39;00m missing_cols:\n\u001b[0;32m--> 228\u001b[0m     \u001b[38;5;28;01mraise\u001b[39;00m \u001b[38;5;167;01mValueError\u001b[39;00m(\n\u001b[1;32m    229\u001b[0m         \u001b[38;5;124mf\u001b[39m\u001b[38;5;124m\"\u001b[39m\u001b[38;5;124mMissing column provided to \u001b[39m\u001b[38;5;124m'\u001b[39m\u001b[38;5;124mparse_dates\u001b[39m\u001b[38;5;124m'\u001b[39m\u001b[38;5;124m: \u001b[39m\u001b[38;5;124m'\u001b[39m\u001b[38;5;132;01m{\u001b[39;00mmissing_cols\u001b[38;5;132;01m}\u001b[39;00m\u001b[38;5;124m'\u001b[39m\u001b[38;5;124m\"\u001b[39m\n\u001b[1;32m    230\u001b[0m     )\n\u001b[1;32m    231\u001b[0m \u001b[38;5;66;03m# Convert positions to actual column names\u001b[39;00m\n\u001b[1;32m    232\u001b[0m \u001b[38;5;28;01mreturn\u001b[39;00m [\n\u001b[1;32m    233\u001b[0m     col \u001b[38;5;28;01mif\u001b[39;00m (\u001b[38;5;28misinstance\u001b[39m(col, \u001b[38;5;28mstr\u001b[39m) \u001b[38;5;129;01mor\u001b[39;00m col \u001b[38;5;129;01min\u001b[39;00m columns) \u001b[38;5;28;01melse\u001b[39;00m columns[col]\n\u001b[1;32m    234\u001b[0m     \u001b[38;5;28;01mfor\u001b[39;00m col \u001b[38;5;129;01min\u001b[39;00m cols_needed\n\u001b[1;32m    235\u001b[0m ]\n",
      "\u001b[0;31mValueError\u001b[0m: Missing column provided to 'parse_dates': '成交日期'"
     ]
    }
   ],
   "source": [
    "preprocess_yqx(\"/data/traders/杨其旭/2021.xls\")"
   ]
  },
  {
   "cell_type": "code",
   "execution_count": null,
   "id": "82b039da",
   "metadata": {},
   "outputs": [],
   "source": []
  }
 ],
 "metadata": {
  "kernelspec": {
   "display_name": "alpha",
   "language": "python",
   "name": "alpha"
  },
  "language_info": {
   "codemirror_mode": {
    "name": "ipython",
    "version": 3
   },
   "file_extension": ".py",
   "mimetype": "text/x-python",
   "name": "python",
   "nbconvert_exporter": "python",
   "pygments_lexer": "ipython3",
   "version": "3.8.12"
  },
  "toc": {
   "base_numbering": 1,
   "nav_menu": {},
   "number_sections": true,
   "sideBar": true,
   "skip_h1_title": false,
   "title_cell": "Table of Contents",
   "title_sidebar": "Contents",
   "toc_cell": false,
   "toc_position": {
    "height": "calc(100% - 180px)",
    "left": "10px",
    "top": "150px",
    "width": "228px"
   },
   "toc_section_display": true,
   "toc_window_display": true
  },
  "varInspector": {
   "cols": {
    "lenName": 16,
    "lenType": 16,
    "lenVar": 40
   },
   "kernels_config": {
    "python": {
     "delete_cmd_postfix": "",
     "delete_cmd_prefix": "del ",
     "library": "var_list.py",
     "varRefreshCmd": "print(var_dic_list())"
    },
    "r": {
     "delete_cmd_postfix": ") ",
     "delete_cmd_prefix": "rm(",
     "library": "var_list.r",
     "varRefreshCmd": "cat(var_dic_list()) "
    }
   },
   "types_to_exclude": [
    "module",
    "function",
    "builtin_function_or_method",
    "instance",
    "_Feature"
   ],
   "window_display": false
  }
 },
 "nbformat": 4,
 "nbformat_minor": 5
}
