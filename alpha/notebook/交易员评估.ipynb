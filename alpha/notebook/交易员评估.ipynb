{
 "cells": [
  {
   "cell_type": "markdown",
   "source": [
    "# common lib"
   ],
   "metadata": {}
  },
  {
   "cell_type": "code",
   "execution_count": 29,
   "source": [
    "import datetime\n",
    "import logging\n",
    "from typing import Callable, Dict, List, Tuple, Union\n",
    "\n",
    "import numpy as np\n",
    "import pandas as pd\n",
    "from dateutil import parser\n",
    "#from omicron.models.timeframe import TimeFrame as tf\n",
    "\n",
    "logger = logging.getLogger(__name__)\n",
    "\n",
    "APPROX_BDAYS_PER_YEAR = 252\n",
    "\n",
    "cols = \"成交日期 证券代码 证券名称 操作 成交均价 成交数量 成交金额 fee\".split(\" \")\n",
    "\n",
    "home = \"/data/traders/\"\n",
    "\n",
    "def int2date(x):\n",
    "    if isinstance(x, float):\n",
    "        x = int(x)\n",
    "\n",
    "    return parser.parse(str(x)).date()\n",
    "\n",
    "\n",
    "class NoOpenTradesError(Exception):\n",
    "    pass\n",
    "\n",
    "\n",
    "from collections import defaultdict\n",
    "\n",
    "from dateutil import parser\n",
    "\n",
    "def peek(name):\n",
    "    _dir = os.path.join(home, name)\n",
    "    \n",
    "    print(_dir)\n",
    "    for file in os.listdir(_dir):\n",
    "        path = os.path.join(_dir, file)\n",
    "    \n",
    "        if file != \"lw.XLSX\":\n",
    "            continue\n",
    "            \n",
    "        for encoding in [\"gbk\", \"utf-8\"]:\n",
    "            try:\n",
    "                df = pd.read_csv(path, encoding=encoding)\n",
    "                print(df[:5])\n",
    "                return file, func.__name__, encoding, set(cols) - set(df.columns)\n",
    "            except Exception:\n",
    "                pass\n",
    "                \n",
    "        df = pd.read_excel(path)\n",
    "        print(df[:5])\n",
    "        return path, \"excel\", set(cols) - set(df.columns)\n",
    "        \n",
    "class Trade:\n",
    "    LONG = 1\n",
    "    INTEREST = 2\n",
    "    SHORT = -1\n",
    "    DEDUCT = -2\n",
    "    OTHER = 0\n",
    "\n",
    "    OPENED = 0\n",
    "    CLOSED = 1\n",
    "\n",
    "    def __init__(self, row, i):\n",
    "        self.seq = i\n",
    "        self.shares = abs(row[\"成交数量\"])\n",
    "\n",
    "        self.name = row[\"证券名称\"]\n",
    "        self.code = row[\"证券代码\"]\n",
    "\n",
    "        self.price = row[\"成交均价\"]\n",
    "        self.money = row[\"成交金额\"]\n",
    "        self.fee = row[\"fee\"]\n",
    "        self.date = row[\"成交日期\"]\n",
    "\n",
    "        self.status = self.OPENED\n",
    "        self.op = row[\"操作\"]\n",
    "\n",
    "        if self.op.find(\"卖出\") != -1:\n",
    "            self.flag = self.SHORT\n",
    "        elif self.op.find(\"买入\") != -1:\n",
    "            self.flag = self.LONG\n",
    "        elif self.op in (\"红股派息\", \"债券兑息\"):\n",
    "            self.flag = self.INTEREST\n",
    "            self.status = self.CLOSED\n",
    "        elif self.op.find(\"扣款\") != -1:\n",
    "            self.flag = self.DEDUCT\n",
    "            self.status = self.CLOSED\n",
    "        else:\n",
    "            self.flag = self.OTHER\n",
    "\n",
    "        # only for LONG trades\n",
    "        if self.flag == self.LONG:\n",
    "            self.unsell = self.shares\n",
    "\n",
    "            self._profit = 0\n",
    "            self.holding_days = 0\n",
    "\n",
    "    def sell(self, shares, price, fee, close_dt):\n",
    "        \"\"\"从当前未售出股中售出。\n",
    "\n",
    "        计算时将根据售出的股数，分摊买入和卖的交易成本。返回未售出的股份和未分摊的成本。\n",
    "        \"\"\"\n",
    "        assert self.flag == self.LONG\n",
    "\n",
    "        if self.status != self.CLOSED:\n",
    "            assert (\n",
    "                self.unsell > 0\n",
    "            ), f\"{self.name}, {self.unsell}, {self.status}, {self.shares}\"\n",
    "\n",
    "            sellable = min(shares, self.unsell)\n",
    "\n",
    "            # 计算本次交易的收益，并分摊交易成本\n",
    "            amortized_buy_fee = self.fee * sellable / self.shares\n",
    "            amortized_sell_fee = fee * sellable / shares\n",
    "\n",
    "            self._profit += (\n",
    "                sellable * (price - self.price) - amortized_buy_fee - amortized_sell_fee\n",
    "            )\n",
    "\n",
    "            # 持仓日期, 可转债交易和做T会出现持仓日期为0的情况。持仓日期为零为使得年化收益成为\n",
    "            # 正负无穷。为简单起见，设置最低持仓天数为1\n",
    "            holding_days = max(1, (close_dt - self.date).days)\n",
    "            #holding_days = max(1, tf.count_day_frames(self.date, close_dt))\n",
    "            self.holding_days += holding_days * sellable / self.shares\n",
    "\n",
    "            # 调整可卖股数\n",
    "            self.unsell -= sellable\n",
    "            if self.unsell == 0:\n",
    "                self.status = self.CLOSED\n",
    "\n",
    "            return shares - sellable, fee - amortized_sell_fee\n",
    "\n",
    "    @property\n",
    "    def profit(self):\n",
    "        assert self.flag == self.LONG\n",
    "        return self._profit\n",
    "\n",
    "    @property\n",
    "    def percentage_profit(self):\n",
    "        assert self.flag == self.LONG\n",
    "        return self._profit / (self.shares * self.price)\n",
    "\n",
    "    @property\n",
    "    def closed(self):\n",
    "        return self.status == self.CLOSED\n",
    "\n",
    "    @closed.setter\n",
    "    def closed(self, value):\n",
    "        self.status = self.CLOSED if value else self.OPENED\n",
    "\n",
    "    def __str__(self):\n",
    "        return f\"{self.name}[{self.code}]: {self.op}\\n成交股数：{self.shares}\\n成交均价：{self.price}\\n成交金额：{self.money}\\n成交日期：{self.date}\\n\"\n",
    "\n",
    "    def __repr__(self) -> str:\n",
    "        return self.__str__()\n",
    "\n",
    "\n",
    "class Evaluator:\n",
    "    def __init__(self,name: str, file: str, preprocessor: Callable) -> None:\n",
    "        self.name = name\n",
    "        self.file = os.path.join(home, name, file)\n",
    "        self.preprocessor = preprocessor\n",
    "        self.range = None\n",
    "        self.df = None\n",
    "        self.returns = None\n",
    "\n",
    "        self.unpaired_long = []\n",
    "        self.unpaired_short = []\n",
    "\n",
    "    def read_bill(self):\n",
    "        df = self.preprocessor(self.file)\n",
    "        \n",
    "        missed_fields = set(cols) - set(df.columns)\n",
    "        if len(missed_fields):\n",
    "            raise AssertionError(f\"缺少这些字段:{missed_fields}\")\n",
    "        \n",
    "        try:\n",
    "            df[\"证券代码\"] = [\n",
    "                f\"{int(code):06}\" if not np.isnan(code) else \"\" for code in df[\"证券代码\"]\n",
    "            ]\n",
    "        except:\n",
    "            pass\n",
    "\n",
    "        self.df = df.sort_values(\"成交日期\", ascending=True)\n",
    "        self.df.reset_index(inplace=True)\n",
    "        self.range = (self.df.iloc[0][\"成交日期\"].date(), self.df.iloc[-1][\"成交日期\"].date())\n",
    "        \n",
    "        long = defaultdict(list)\n",
    "        short = defaultdict(list)\n",
    "\n",
    "        skipped = []\n",
    "        for index, row in self.df.iterrows():\n",
    "            trade = Trade(row, index)\n",
    "\n",
    "            if trade.flag == Trade.LONG:\n",
    "                long[trade.code].append(trade)\n",
    "            elif trade.flag == Trade.SHORT:\n",
    "                short[trade.code].append(trade)\n",
    "            else:\n",
    "                skipped.append(index)\n",
    "        return long, short, self.df, skipped\n",
    "\n",
    "    def close_transactions(self, long_trades, short_trades):\n",
    "        for code, _long_trades in long_trades.items():\n",
    "            i = 0\n",
    "            if short_trades.get(code) is None:\n",
    "                continue\n",
    "\n",
    "            try:\n",
    "                for short in short_trades.get(code):\n",
    "                    sellable, price, fee, close_dt = (\n",
    "                        short.shares,\n",
    "                        short.price,\n",
    "                        short.fee,\n",
    "                        short.date,\n",
    "                    )\n",
    "\n",
    "                    while sellable > 0:\n",
    "                        while _long_trades[i].closed:\n",
    "                            i += 1\n",
    "                            if i >= len(_long_trades):\n",
    "                                raise NoOpenTradesError\n",
    "\n",
    "                        long = _long_trades[i]\n",
    "                        sellable, fee = long.sell(sellable, price, fee, close_dt)\n",
    "                    \n",
    "                    short.closed = True\n",
    "            except NoOpenTradesError:\n",
    "                pass\n",
    "\n",
    "        returns = []\n",
    "        for code, trades in long_trades.items():\n",
    "            for t in trades:\n",
    "                if t.profit != 0:\n",
    "                    returns.append((t.date, t.name, t.profit, t.percentage_profit, t.holding_days))\n",
    "                if not t.closed:\n",
    "                    self.unpaired_long.append(t)\n",
    "\n",
    "        for code, trades in short_trades.items():\n",
    "            for t in trades:\n",
    "                if not t.closed:\n",
    "                    self.unpaired_short.append(t)\n",
    "\n",
    "        returns = pd.DataFrame(\n",
    "            returns, columns=[\"date\", \"name\", \"profit\", \"pprofit\", \"days\"]\n",
    "        )\n",
    "        returns[\"daily_pprofit\"] = returns[\"pprofit\"] / returns[\"days\"]\n",
    "\n",
    "        self.returns = returns.sort_values(\"date\")\n",
    "        \n",
    "    def report(self):\n",
    "        total_profit = sum(self.returns.profit.values)\n",
    "        average_holding_days = np.mean(self.returns.days)\n",
    "\n",
    "        print(f\"\\n====== {self.name} 交易评估报告 ======\")\n",
    "        print(\"交易次数\", len(self.returns))\n",
    "        print(\"操作区间\", self.range[0], '-', self.range[-1])\n",
    "        print(\"总利润:\", round(total_profit, 2))\n",
    "        print(\"持仓天数:\", round(average_holding_days, 2))\n",
    "        print(\"\\n亏损最多:\\n\", self.returns.nsmallest(3, \"pprofit\"))\n",
    "        print(\"盈利最多:\\n\", self.returns.nlargest(3, \"pprofit\"))\n",
    "        print(f\"笔均利润: {self.returns.pprofit.mean():.1%}\")\n",
    "        print(f\"利润中位数: {self.returns.pprofit.median():.1%}\")\n",
    "\n",
    "        wr = len(self.returns[self.returns.profit > 0]) / len(self.returns)\n",
    "        print(f\"交易胜率: {wr:.2%}\")\n",
    "\n",
    "        print(\" ------ \")\n",
    "        print(\"未配对交易:\")\n",
    "        data = []\n",
    "        for t in self.unpaired_long:\n",
    "            data.append((\"买入\", t.date, t.name, t.code, t.shares, t.price, t.fee))\n",
    "\n",
    "        for t in self.unpaired_short:\n",
    "            data.append((\"卖出\", t.date, t.name, t.code, t.shares, t.price, t.fee))\n",
    "\n",
    "        print(pd.DataFrame(data, columns=[\"操作\", \"日期\", \"名称\", \"代码\", \"股数\", \"价格\", \"手续费\"]))\n",
    "\n",
    "        plt.figure(figsize=(12, 6), dpi=80)\n",
    "        plt.plot(self.returns[\"date\"], np.cumsum(self.returns.profit.values))\n",
    "        plt.title(\"资产收益曲线\")\n",
    "\n",
    "    def check(self):\n",
    "        long_trades, short_trades, df, skipped = self.read_bill()\n",
    "\n",
    "        print(\"操作区间：\", df.iloc[0][\"成交日期\"].date(), \"~\", df.iloc[-1][\"成交日期\"].date())\n",
    "\n",
    "        skipped_df = df.iloc[skipped]\n",
    "\n",
    "        print(\"未处理交易笔数：\", len(skipped_df))\n",
    "        print(\"未处理交易类型：\", \" \".join(skipped_df[\"操作\"].unique()))\n",
    "        \n",
    "        llong = sum([len(trades) for trades in long_trades.values()])\n",
    "        lshort = sum([len(trades) for trades in short_trades.values()])\n",
    "        \n",
    "        print(\"\\n买入笔数:\", llong)\n",
    "        print(\"卖出笔数:\", lshort)\n",
    "\n",
    "        print(\"\\n交易记录摘要:\")\n",
    "        print(df[:10])\n",
    "\n",
    "    def run(self):\n",
    "        long, short, _, _ = self.read_bill()\n",
    "\n",
    "        self.close_transactions(long, short)\n",
    "        self.report()\n",
    "\n",
    "    def preprocessor(self, file: str) -> pd.DataFrame:\n",
    "        pass\n",
    "\n",
    "\n",
    "def get_file(name, filename):\n",
    "    return os.path.join(home, name, filename)"
   ],
   "outputs": [],
   "metadata": {
    "code_folding": [
     32
    ]
   }
  },
  {
   "cell_type": "markdown",
   "source": [
    "# 黄芬"
   ],
   "metadata": {}
  },
  {
   "cell_type": "code",
   "execution_count": null,
   "source": [
    "def preprocess_hf(f)->pd.DataFrame:\n",
    "    return pd.read_excel(f, parse_dates=[\"成交日期\"])\n",
    "\n",
    "name = \"黄芬\"\n",
    "file = os.path.join(home, name, \"交易数据黄芬.xlsx\")\n",
    "e = Evaluator(name, file, preprocess_hf)\n",
    "e.run()"
   ],
   "outputs": [],
   "metadata": {}
  },
  {
   "cell_type": "markdown",
   "source": [
    "# 张恒"
   ],
   "metadata": {}
  },
  {
   "cell_type": "code",
   "execution_count": null,
   "source": [
    "df = pd.read_csv(\"/tmp/zh.xls\", encoding=\"gbk\", sep=\"\\t\")"
   ],
   "outputs": [],
   "metadata": {}
  },
  {
   "cell_type": "code",
   "execution_count": null,
   "source": [
    "def preprocess_zh(f)->pd.DataFrame:\n",
    "    df = pd.read_csv(f, sep=\"\\t\", encoding=\"gbk\")\n",
    "    data = []\n",
    "    \n",
    "    for _, r in df.iterrows():\n",
    "        buy_fields = \"买入日期 证券代码 证券名称 操作 成交均价 成交数量 成交金额 手续费\"\n",
    "        values = [r[k] for k in buy_fields.split(\" \")]\n",
    "        # 印花税 手续费\n",
    "        values.extend([0, 0])\n",
    "        \n",
    "        data.append(values)\n",
    "        sell_fields = \"卖出日期 证券代码.1 证券名称.1 操作.1 成交均价.1 成交数量.1 成交金额.1 手续费.1 印花税 过户费\"\n",
    "        values = [r[k] for k in sell_fields.split(\" \")]\n",
    "        if np.isnan(values[0]):\n",
    "            continue\n",
    "        data.append(values)\n",
    "        \n",
    "    cols = \"成交日期 证券代码 证券名称 操作 成交均价 成交数量 成交金额 手续费 印花税 过户费\"\n",
    "    df = pd.DataFrame(data, columns=cols.split(\" \"))\n",
    "    df[\"成交日期\"] = [int2date(x) for x in df[\"成交日期\"].values]\n",
    "    \n",
    "    return df\n",
    "\n",
    "file = os.path.join(home, \"张恒\", \"zh.xls\")\n",
    "e = Evaluator(\"张恒\", file, preprocess_zh)\n",
    "e.run()"
   ],
   "outputs": [],
   "metadata": {}
  },
  {
   "cell_type": "markdown",
   "source": [
    "# 向光华"
   ],
   "metadata": {}
  },
  {
   "cell_type": "code",
   "execution_count": null,
   "source": [
    "def preprocess_xgh(file):\n",
    "    print(\"file: \", file)\n",
    "    df = pd.read_csv(file, encoding='gbk', sep=\"\\t\", parse_dates=[\"成交日期\"])\n",
    "\n",
    "    return df\n",
    "\n",
    "name = \"向光华\"\n",
    "file = get_file(name)\n",
    "e = Evaluator(name, file, preprocess_xgh)\n",
    "e.run()"
   ],
   "outputs": [],
   "metadata": {}
  },
  {
   "cell_type": "markdown",
   "source": [
    "# 程武"
   ],
   "metadata": {}
  },
  {
   "cell_type": "code",
   "execution_count": null,
   "source": [
    "def preprocess_cw(file):\n",
    "    with open(file) as f:\n",
    "        lines = f.readlines()\n",
    "    \n",
    "    data = []\n",
    "    for line in lines:\n",
    "        line = line.strip()\n",
    "        if len(line) == 0:\n",
    "            continue\n",
    "        line = line.replace(\"   = \", \" \").replace(\"   \", \" \")\n",
    "        data.append(\",\".join(line.split(\" \")))\n",
    "        \n",
    "    import io\n",
    "    stream = io.StringIO(\"\\n\".join(data))\n",
    "    df = pd.read_csv(stream, parse_dates=[\"成交日期\"])\n",
    "    \n",
    "    df.rename({\n",
    "        \"委托方向\": \"操作\",\n",
    "        \"交易规费\": \"其它杂费\"\n",
    "    }, inplace=True, axis=\"columns\")\n",
    "    \n",
    "    return df"
   ],
   "outputs": [],
   "metadata": {}
  },
  {
   "cell_type": "code",
   "execution_count": null,
   "source": [
    "name = \"程武\"\n",
    "file = get_file(name)\n",
    "e = Evaluator(name, file, preprocess_cw)\n",
    "e.run()"
   ],
   "outputs": [],
   "metadata": {}
  },
  {
   "cell_type": "markdown",
   "source": [
    "# 高述彪"
   ],
   "metadata": {}
  },
  {
   "cell_type": "code",
   "execution_count": null,
   "source": [
    "def preprocess_gxb(file):\n",
    "    df = pd.read_csv(file, encoding=\"gbk\", sep=\"\\t\", parse_dates=[\"建仓日期\"])\n",
    "    df.rename({\n",
    "        \"持股天数\":\"days\", \n",
    "        \"盈亏比例(%)\":\"pprofit\",\n",
    "        \"建仓日期\":\"date\",\n",
    "        \"总盈亏\":\"profit\",\n",
    "    },axis=\"columns\", inplace=True)\n",
    "    \n",
    "    df[\"daily_pprofit\"] = df[\"pprofit\"]/df[\"days\"]/100\n",
    "    return df"
   ],
   "outputs": [],
   "metadata": {}
  },
  {
   "cell_type": "code",
   "execution_count": null,
   "source": [
    "file = f\"/tmp/table-1.xls\"\n",
    "returns = preprocess_gxb(file)\n",
    "df = report(returns[[\"date\", \"days\", \"profit\", \"pprofit\", \"daily_pprofit\"]])"
   ],
   "outputs": [],
   "metadata": {}
  },
  {
   "cell_type": "markdown",
   "source": [
    "# 王聪"
   ],
   "metadata": {}
  },
  {
   "cell_type": "code",
   "execution_count": null,
   "source": [
    "等待交割单。截屏已有"
   ],
   "outputs": [],
   "metadata": {}
  },
  {
   "cell_type": "markdown",
   "source": [
    "# 毛西凉"
   ],
   "metadata": {}
  },
  {
   "cell_type": "code",
   "execution_count": null,
   "source": [
    "pd.read_excel(\"/tmp/mxl.xlsx\")[:5]"
   ],
   "outputs": [],
   "metadata": {}
  },
  {
   "cell_type": "code",
   "execution_count": null,
   "source": [
    "def preprocessor_mxl(file):\n",
    "    df = pd.read_excel(file)\n",
    "    df[\"成交日期\"] = df[\"成交日期\"].apply(lambda x: parser.parse(str(x)))\n",
    "    return df\n",
    "\n",
    "df = evaluate(\"/tmp/mxl.xlsx\", preprocessor_mxl)"
   ],
   "outputs": [],
   "metadata": {}
  },
  {
   "cell_type": "markdown",
   "source": [
    "# 刘彬"
   ],
   "metadata": {}
  },
  {
   "cell_type": "code",
   "execution_count": null,
   "source": [
    "cols = \"成交日期 证券代码 证券名称 操作 成交均价 成交数量 成交金额 手续费 印花税 过户费 其它杂费\"\n",
    "def preprocess_lb(file):\n",
    "    from io import StringIO\n",
    "    with open(file, encoding=\"gbk\") as f:\n",
    "        data = []\n",
    "        for line in f.readlines():\n",
    "            fields = line.strip().replace(\"=\",\"\").replace('\"', \"\").split(\"\\t\")\n",
    "            data.append(\"\\t\".join(fields))\n",
    "            \n",
    "    data = \"\\n\".join(data)\n",
    "    df = pd.read_csv(StringIO(data), sep=\"\\t\", parse_dates=[\"发生日期\"])\n",
    "    df = df[(df['业务名称'] == \"证券买入\") | (df['业务名称'] == \"证券卖出\")]\n",
    "    \n",
    "    df.rename({\"发生日期\":\"成交日期\", \"买卖标志\": \"操作\", \"成交价格\": \"成交均价\"}, axis=\"columns\", inplace=True)\n",
    "    fee = []\n",
    "    for i in range(len(df)):\n",
    "        if df.iloc[i][\"业务名称\"] == \"证券买入\":\n",
    "            fee.append((df.iloc[i][\"清算金额\"] + df.iloc[i][\"成交金额\"]) *-1)\n",
    "        else:\n",
    "            fee.append(df.iloc[i][\"清算金额\"] - df.iloc[i][\"成交金额\"])\n",
    "            \n",
    "    df[\"手续费\"] = np.abs(fee)\n",
    "    df[\"成交数量\"] = np.abs(df[\"成交数量\"])\n",
    "    return df\n",
    "\n",
    "evaluate(\"/tmp/lb.xls\", preprocess_lb)\n"
   ],
   "outputs": [],
   "metadata": {}
  },
  {
   "cell_type": "code",
   "execution_count": null,
   "source": [
    "preprocess_lb(\"/tmp/lb.xls\")"
   ],
   "outputs": [],
   "metadata": {}
  },
  {
   "cell_type": "code",
   "execution_count": null,
   "source": [
    "df = preprocess_lb(\"/tmp/lb.xls\")\n",
    "df"
   ],
   "outputs": [],
   "metadata": {}
  },
  {
   "cell_type": "markdown",
   "source": [
    "# 陶陶"
   ],
   "metadata": {}
  },
  {
   "cell_type": "code",
   "execution_count": null,
   "source": [
    "def preprocess_500(file):\n",
    "    df = pd.read_csv(file, encoding=\"gbk\", sep=\"\\t\", parse_dates=[\"发生日期\"])\n",
    "    df.rename({\"发生日期\":\"成交日期\", \"交易类别\":\"操作\"}, inplace=True, axis=\"columns\")\n",
    "    df[\"证券代码\"] = df[\"证券代码\"].str.replace(\"= \", \"\")\n",
    "    return df\n",
    "\n",
    "e = Evaluator(\"陶陶\", \"/tmp/5002.xls\", preprocess_500)"
   ],
   "outputs": [],
   "metadata": {}
  },
  {
   "cell_type": "code",
   "execution_count": null,
   "source": [
    "e.run()"
   ],
   "outputs": [],
   "metadata": {}
  },
  {
   "cell_type": "markdown",
   "source": [
    "# 赵波"
   ],
   "metadata": {}
  },
  {
   "cell_type": "code",
   "execution_count": null,
   "source": [
    "def preprocess_zb(file) -> pd.DataFrame:\n",
    "    df = pd.read_csv(file, encoding=\"gbk\", sep=\"\\t\", parse_dates=[\"成交日期\"])\n",
    "    df.rename({\"成交价格\": \"成交均价\", \"委托类别\": \"操作\"}, axis=\"columns\", inplace=True)\n",
    "    return df\n",
    "\n",
    "def preprocess_zb02(file) -> pd.DataFrame:\n",
    "    df = pd.read_csv(file, encoding=\"gbk\", sep=\"\\t\", parse_dates=[\"交割日期\"])\n",
    "    df.rename(\n",
    "        {\"成交价格\": \"成交均价\", \"业务类型\": \"操作\", \"交割日期\": \"成交日期\"}, axis=\"columns\", inplace=True\n",
    "    )\n",
    "\n",
    "# e = Evaluator(\"赵波\", \"/tmp/zb.txt\", preprocess_zb)\n",
    "# e.run()\n",
    "\n",
    "# e = Evaluator(\"赵波\", \"/tmp/zb2.txt\", preprocess_zb2)\n",
    "# e.run()\n",
    "\n",
    "# e = Evaluator(\"赵波\", \"/tmp/zb3.txt\", preprocess_zb2)\n",
    "# e.run()\n",
    "\n",
    "preprocess_zb(home + \"/赵波/交割单查询.txt\")"
   ],
   "outputs": [],
   "metadata": {}
  },
  {
   "cell_type": "markdown",
   "source": [
    "# 赵成勇"
   ],
   "metadata": {}
  },
  {
   "cell_type": "code",
   "execution_count": null,
   "source": [
    "def preprocess_zcy(file):\n",
    "    df = pd.read_csv(file, encoding=\"gbk\", sep=\"\\t\", parse_dates=[\"成交日期\"])\n",
    "    \n",
    "    df[\"fee\"] = df[\"佣金\"] + df[\"过户费\"] + df[\"经手费\"] + df[\"证管费\"] + df[\"印花税\"] + df[\"其他杂费\"]\n",
    "    return df\n",
    "\n",
    "file = get_file(\"赵成勇\", \"zcy.xls\")\n",
    "e = Evaluator(\"赵成勇\", file, preprocess_zcy)\n",
    "#e.check()\n",
    "e.run()"
   ],
   "outputs": [],
   "metadata": {}
  },
  {
   "cell_type": "code",
   "execution_count": null,
   "source": [
    "df = preprocess_zcy(file)"
   ],
   "outputs": [],
   "metadata": {}
  },
  {
   "cell_type": "code",
   "execution_count": null,
   "source": [
    "df.rename({\n",
    "    \"成交日期\":\"date\",\n",
    "    \"证券代码\":\"code\",\n",
    "    \"证券名称\":\"name\",\n",
    "    \"操作\":\"side\",\n",
    "    \"成交数量\":\"volume\",\n",
    "    \"成交均价\":\"price\",\n",
    "    \"成交金额\":\"amount\",\n",
    "}, axis='columns', inplace=True)"
   ],
   "outputs": [],
   "metadata": {}
  },
  {
   "cell_type": "code",
   "execution_count": null,
   "source": [
    "cols = [\"date\", \"code\", \"name\", \"side\", \"volume\", \"amount\", \"fee\"]\n",
    "df2 = df[(df[\"side\"] == \"证券买入\") | (df[\"side\"] == \"证券卖出\")][cols]"
   ],
   "outputs": [],
   "metadata": {}
  },
  {
   "cell_type": "code",
   "execution_count": null,
   "source": [
    "df2[\"side\"] = df2.side.map(lambda x: 1 if x == \"证券买入\" else -1)"
   ],
   "outputs": [],
   "metadata": {}
  },
  {
   "cell_type": "code",
   "execution_count": null,
   "source": [
    "df2[2:8]"
   ],
   "outputs": [],
   "metadata": {}
  },
  {
   "cell_type": "markdown",
   "source": [
    "# 柴寅"
   ],
   "metadata": {}
  },
  {
   "cell_type": "code",
   "execution_count": null,
   "source": [
    "file = \"/Users/aaronyang/Documents/business/格物致知/团队/简历/柴寅/20.9.1-20.11.1.xls\"\n",
    "\n",
    "files = [\"20.9.1-20.11.1.xls\", \"20.11.1-21.2.1.xls\",\n",
    " \"21.2.1-21.5.1.xls\", \"21.5.1-21.8.1.xls\", \"21.8.1-21.11.1.xls\",\"21.11.1-22.2.1.xls\"]\n",
    "\n",
    "#files = [\"21.2.1-21.5.1.xls\"]\n",
    "\n",
    "def preprocess_cy(files):\n",
    "    if isinstance(files, str):\n",
    "        files = [files]\n",
    "    dfs = []\n",
    "    for file in files:\n",
    "        f = os.path.join(home, \"柴寅\", file)\n",
    "        df = pd.read_csv(f, encoding=\"gbk\", sep=\"\\t\", parse_dates=[\"发生日期\"])\n",
    "\n",
    "        df[\"fee\"] = df[\"佣金\"] + df[\"印花税\"]\n",
    "        df[\"证券代码\"] = df[\"证券代码\"].str.replace(\" =\", \"\")\n",
    "        df.rename({\"交易类别\":\"操作\", \"发生日期\": \"成交日期\"}, inplace=True, axis=\"columns\")\n",
    "        \n",
    "        dfs.append(df)\n",
    "        \n",
    "    return pd.concat(dfs)\n",
    "\n",
    "e = Evaluator(\"柴寅\", files, preprocess_cy)\n",
    "e.run()"
   ],
   "outputs": [],
   "metadata": {}
  },
  {
   "cell_type": "code",
   "execution_count": null,
   "source": [
    "股票      买入价       卖出价        盈亏比\n",
    "\n",
    "益民集团   5.03/4.79   4.46(现价)   -9%\n",
    "江丰电子   63.61       63.96       0.6%\n",
    "建工修复   34.06       35.98       5%\n",
    "迪威迅     7.77        6.98        -10%\n",
    "真视通     13.8/14.25  14.14       0.8%\n",
    "中国海诚   11.5        10.06       -12%\n",
    "诚邦股份   10.64       9.53        -10%\n",
    "浙农股份   16.22/16.15 18.68       15%\n",
    "奥维通信   6.96        7.26        4%\n",
    "恒宝股份   16.21       17.12       5.6%"
   ],
   "outputs": [],
   "metadata": {}
  },
  {
   "cell_type": "markdown",
   "source": [
    "# 朱明鑫 - 淘汰"
   ],
   "metadata": {}
  },
  {
   "cell_type": "code",
   "execution_count": null,
   "source": [
    "name = \"朱明鑫\"\n",
    "file = get_file(name, \"zmx.xlsx\")"
   ],
   "outputs": [],
   "metadata": {}
  },
  {
   "cell_type": "code",
   "execution_count": null,
   "source": [
    "file"
   ],
   "outputs": [],
   "metadata": {}
  },
  {
   "cell_type": "code",
   "execution_count": null,
   "source": [
    "def preprocess_zmx(file):\n",
    "    from omicron.models.timeframe import TimeFrame\n",
    "    import arrow\n",
    "    df = pd.read_excel(file)\n",
    "\n",
    "    valid = []\n",
    "    dates = []\n",
    "    for index , row in df.iterrows():\n",
    "        dt = row[\"成交日期\"]\n",
    "        if isinstance(dt, int):\n",
    "            valid.append(index)\n",
    "            dates.append(arrow.get(TimeFrame.int2date(dt)).datetime)\n",
    "                \n",
    "    df = df.iloc[valid]\n",
    "    df[\"成交日期\"] = dates\n",
    "    df[\"fee\"] = 0\n",
    "    return df"
   ],
   "outputs": [],
   "metadata": {}
  },
  {
   "cell_type": "code",
   "execution_count": null,
   "source": [
    "e = Evaluator(name, file, preprocess_zmx)\n",
    "e.run()"
   ],
   "outputs": [],
   "metadata": {}
  },
  {
   "cell_type": "code",
   "execution_count": null,
   "source": [
    "df = preprocess_zmx(file)\n",
    "df"
   ],
   "outputs": [],
   "metadata": {}
  },
  {
   "cell_type": "markdown",
   "source": [
    "# 李亮亮 - 淘汰"
   ],
   "metadata": {}
  },
  {
   "cell_type": "code",
   "execution_count": null,
   "source": [
    "name = \"李亮亮\"\n",
    "file = get_file(name, \"lll.xls\")\n",
    "file"
   ],
   "outputs": [],
   "metadata": {}
  },
  {
   "cell_type": "code",
   "execution_count": null,
   "source": [
    "def preprocess_lll(file):\n",
    "    df = pd.read_csv(file, encoding=\"gbk\", sep=\"\\t\", parse_dates=[\"成交日期\"])\n",
    "    \n",
    "    df.rename({\"买卖标志\": \"操作\", \"成交价格\":\"成交均价\"}, axis=\"columns\", inplace=True)\n",
    "    df[\"fee\"]=0\n",
    "    return df"
   ],
   "outputs": [],
   "metadata": {}
  },
  {
   "cell_type": "code",
   "execution_count": null,
   "source": [
    "e = Evaluator(name, file, preprocess_lll)\n",
    "e.run()"
   ],
   "outputs": [],
   "metadata": {}
  },
  {
   "cell_type": "code",
   "execution_count": null,
   "source": [
    "preprocess_lll(file)"
   ],
   "outputs": [],
   "metadata": {}
  },
  {
   "cell_type": "code",
   "execution_count": null,
   "source": [
    "import jqdatasdk as jq"
   ],
   "outputs": [],
   "metadata": {}
  },
  {
   "cell_type": "code",
   "execution_count": null,
   "source": [
    "import os\n",
    "account = os.getenv(\"JQ_ACCOUNT\")\n",
    "password = os.getenv(\"JQ_PASSWORD\")\n",
    "\n",
    "jq.auth(account, password)"
   ],
   "outputs": [],
   "metadata": {}
  },
  {
   "cell_type": "code",
   "execution_count": null,
   "source": [
    "fields = ['high_limit', 'low_limit']\n",
    "bars = jq.get_price(\"002537.XSHE\", end_date='2022-3-10', count=2, fields=fields)"
   ],
   "outputs": [],
   "metadata": {}
  },
  {
   "cell_type": "code",
   "execution_count": null,
   "source": [
    "bars.to_records()"
   ],
   "outputs": [],
   "metadata": {}
  },
  {
   "cell_type": "code",
   "execution_count": null,
   "source": [
    "fields = ['date','close','volume']\n",
    "bars = jq.get_bars(\"603717.XSHG\", 960, '1m', end_dt='2022-3-10 15:00:00', fields=fields, df=False, include_now=True)\n",
    "bars"
   ],
   "outputs": [],
   "metadata": {}
  },
  {
   "cell_type": "markdown",
   "source": [
    "# 瞿洲"
   ],
   "metadata": {}
  },
  {
   "cell_type": "code",
   "execution_count": null,
   "source": [
    "cols = \"成交日期 证券代码 证券名称 操作 成交均价 成交数量 成交金额 fee\".split(\" \")\n",
    "\n",
    "def preprocess_qz0(file):\n",
    "    df = pd.read_excel(file, sheet_name=0, parse_dates=[\"交易日期\"])\n",
    "    df.rename({\"交易日期\":\"成交日期\", \"买卖标志\":\"操作\", \"成交价格\":\"成交均价\"}, axis=\"columns\", inplace=True)\n",
    "    df[\"fee\"] = df[\"佣金\"] + df[\"印花税\"] + df[\"过户费\"]+df[\"其他费\"]\n",
    "    return df\n",
    "\n",
    "#print(preprocess_qz(\"jyy/jgd.xlsx\"))\n",
    "e = Evaluator(\"瞿洲\", \"jyy/jgd.xlsx\", preprocess_qz)\n",
    "e.run()"
   ],
   "outputs": [],
   "metadata": {}
  },
  {
   "cell_type": "code",
   "execution_count": null,
   "source": [
    "def preprocess_qz1(file):\n",
    "    df = pd.read_excel(file, sheet_name=1, parse_dates=[\"发生日期\"])\n",
    "    df.rename({\"发生日期\":\"成交日期\", \"交易类别\":\"操作\"}, axis=\"columns\", inplace=True)\n",
    "    df[\"fee\"] = 0\n",
    "    return df\n",
    "\n",
    "#print(preprocess_qz1(\"jyy/jgd.xlsx\"))\n",
    "e = Evaluator(\"瞿洲\", \"jyy/jgd.xlsx\", preprocess_qz1)\n",
    "e.run()"
   ],
   "outputs": [],
   "metadata": {}
  },
  {
   "cell_type": "markdown",
   "source": [
    "# 郑方军"
   ],
   "metadata": {}
  },
  {
   "cell_type": "code",
   "execution_count": 23,
   "source": [
    "def pre_process_zfj(file):\n",
    "    df = pd.read_csv(file, encoding=\"gbk\", sep=\"\\t\", parse_dates=[\"成交日期\"])\n",
    "    df[\"fee\"] = 0\n",
    "    return df\n",
    "\n",
    "name = \"郑方军\"\n",
    "file = \"table1.xls\"\n",
    "\n",
    "e = Evaluator(name, file, pre_process_zfj)\n",
    "e.run()"
   ],
   "outputs": [
    {
     "output_type": "stream",
     "name": "stdout",
     "text": [
      "\n",
      "====== 郑方军 交易评估报告 ======\n",
      "交易次数 97\n",
      "操作区间 2021-11-01 - 2022-03-04\n",
      "总利润: 5245.0\n",
      "持仓天数: 1.75\n",
      "\n",
      "亏损最多:\n",
      "          date  name  profit   pprofit  days  daily_pprofit\n",
      "71 2022-01-20  宏润建设 -1032.0 -0.212521   4.0      -0.053130\n",
      "42 2021-12-24  三湘印象 -1078.0 -0.201232   3.0      -0.067077\n",
      "43 2021-12-28  博瑞传播  -405.0 -0.122172   1.0      -0.122172\n",
      "盈利最多:\n",
      "          date  name  profit   pprofit  days  daily_pprofit\n",
      "78 2022-01-27  保利联合  2061.0  0.678184  15.0       0.045212\n",
      "24 2021-12-08  跃岭股份  1946.0  0.520878   6.5       0.080135\n",
      "30 2021-12-16  龙洲股份  1384.0  0.313975   5.5       0.057086\n",
      "笔均利润: 1.2%\n",
      "利润中位数: -0.9%\n",
      "交易胜率: 46.39%\n",
      " ------ \n",
      "未配对交易:\n",
      "   操作         日期    名称      代码   股数       价格  手续费\n",
      "0  卖出 2021-11-01  大金重工  002487  100   38.620    0\n",
      "1  卖出 2021-11-01   金龙羽  002882  300   12.800    0\n",
      "2  卖出 2021-11-02  崇达技术  002815  200   16.010    0\n",
      "3  卖出 2021-11-29  希望转2  127049   10  125.110    0\n",
      "4  卖出 2021-12-29  N科沃转  113633   10  130.000    0\n",
      "5  卖出 2022-01-14  N兴业转  113052   10  110.000    0\n",
      "6  卖出 2022-01-21  佩蒂转债  123133   10  128.042    0\n"
     ]
    },
    {
     "output_type": "display_data",
     "data": {
      "image/png": "[encoded data removed]",
      "text/plain": [
       "<Figure size 960x480 with 1 Axes>"
      ]
     },
     "metadata": {
      "needs_background": "light"
     }
    }
   ],
   "metadata": {}
  },
  {
   "cell_type": "markdown",
   "source": [
    "# 张洁"
   ],
   "metadata": {}
  },
  {
   "cell_type": "code",
   "execution_count": 27,
   "source": [
    "def pre_process_zj(file):\n",
    "    df = pd.read_csv(file, encoding=\"gbk\", sep=\"\\t\", parse_dates=[\"成交日期\"])\n",
    "    df[\"fee\"] = df[\"手续费\"] + df[\"印花税\"] + df[\"其他杂费\"]\n",
    "    return df\n",
    "\n",
    "name = \"张洁\"\n",
    "file = \"交割单.xls\"\n",
    "e = Evaluator(name, file, pre_process_zj)\n",
    "e.run()"
   ],
   "outputs": [
    {
     "output_type": "stream",
     "name": "stdout",
     "text": [
      "\n",
      "====== 张洁 交易评估报告 ======\n",
      "交易次数 189\n",
      "操作区间 2021-12-01 - 2022-03-16\n",
      "总利润: 1052537.64\n",
      "持仓天数: 1.99\n",
      "\n",
      "亏损最多:\n",
      "           date  name     profit   pprofit  days  daily_pprofit\n",
      "166 2022-02-28   哈空调 -388020.65 -0.188307   1.0      -0.188307\n",
      "164 2022-02-23  恒宝股份  -75728.17 -0.160746   1.0      -0.160746\n",
      "183 2022-03-08  中国医药  -74057.99 -0.145331   1.0      -0.145331\n",
      "盈利最多:\n",
      "           date  name         profit   pprofit  days  daily_pprofit\n",
      "161 2021-12-29  九安医疗  995327.528156  0.413444  56.0       0.007383\n",
      "162 2021-12-30  九安医疗  673642.331844  0.298725  55.0       0.005431\n",
      "133 2021-12-16  京城股份  597398.010000  0.272349   4.0       0.068087\n",
      "笔均利润: -1.7%\n",
      "利润中位数: -3.1%\n",
      "交易胜率: 28.04%\n",
      " ------ \n",
      "未配对交易:\n",
      "    操作         日期    名称      代码     股数      价格      手续费\n",
      "0   买入 2022-03-16   美利云  000815  89900   18.58   501.10\n",
      "1   买入 2022-03-16   美利云  000815  89900   19.16   516.75\n",
      "2   买入 2022-03-16   美利云  000815  25000   18.17   136.28\n",
      "3   买入 2022-03-16  中国医药  600056  67400   27.30  2392.03\n",
      "4   买入 2022-03-16  北大医药  000788  38100   12.00   137.16\n",
      "5   卖出 2021-12-01  华阳集团  002906    500   62.62    40.70\n",
      "6   卖出 2021-12-01  华阳集团  002906   3000   62.60   244.14\n",
      "7   卖出 2021-12-01  兰卫医学  301060   2500   38.45   124.97\n",
      "8   卖出 2021-12-01  兰卫医学  301060   1500   38.54    75.15\n",
      "9   卖出 2021-12-01  兰卫医学  301060   1000   38.47    50.01\n",
      "10  卖出 2021-12-01  晓程科技  300139  12000   13.76   214.66\n",
      "11  卖出 2021-12-01  晓程科技  300139  12000   13.75   214.50\n",
      "12  卖出 2021-12-01   金银河  300619   2200  101.49   290.26\n",
      "13  卖出 2021-12-01   金银河  300619   2300  101.30   302.89\n",
      "14  卖出 2021-12-01  扬电科技  301012   1500   67.09   130.83\n",
      "15  卖出 2021-12-01  扬电科技  301012   1500   67.00   130.65\n",
      "16  卖出 2021-12-01   国安达  300902   2200   35.13   100.48\n",
      "17  卖出 2021-12-01   国安达  300902   2300   35.03   104.74\n",
      "18  卖出 2021-12-01  劲嘉股份  002191  13000   15.76   266.34\n",
      "19  卖出 2021-12-01  中孚信息  300659   3700   50.48   242.81\n",
      "20  卖出 2021-12-01  久吾高科  300631   4000   48.80   253.76\n",
      "21  卖出 2021-12-01  许继电气  000400   7000   26.66   242.61\n"
     ]
    },
    {
     "output_type": "stream",
     "name": "stderr",
     "text": [
      "/root/.local/lib/python3.8/site-packages/IPython/core/pylabtools.py:151: UserWarning: Glyph 8722 (\\N{MINUS SIGN}) missing from current font.\n",
      "  fig.canvas.print_figure(bytes_io, **kw)\n"
     ]
    },
    {
     "output_type": "display_data",
     "data": {
      "image/png": "[encoded data removed]",
      "text/plain": [
       "<Figure size 960x480 with 1 Axes>"
      ]
     },
     "metadata": {
      "needs_background": "light"
     }
    }
   ],
   "metadata": {}
  },
  {
   "cell_type": "markdown",
   "source": [
    "# 刘伟"
   ],
   "metadata": {}
  },
  {
   "cell_type": "code",
   "execution_count": 33,
   "source": [
    "def pre_process_lw(file):\n",
    "    df = pd.read_excel(file, parse_dates=[\"成交日期\"])\n",
    "    df.rename({\"成交价格\":\"成交均价\", \"买卖标志\":\"操作\", \"印花税\":\"fee\"}, axis=\"columns\", inplace=True)\n",
    "    return df\n",
    "\n",
    "name = \"刘伟\"\n",
    "e = Evaluator(name, \"lw.XLSX\", pre_process_lw)\n",
    "e.run()"
   ],
   "outputs": [
    {
     "output_type": "stream",
     "name": "stdout",
     "text": [
      "\n",
      "====== 刘伟 交易评估报告 ======\n",
      "交易次数 27\n",
      "操作区间 2021-10-25 - 2022-03-17\n",
      "总利润: 40032.53\n",
      "持仓天数: 1.3\n",
      "\n",
      "亏损最多:\n",
      "          date  name     profit   pprofit  days  daily_pprofit\n",
      "10 2021-11-16  建业股份 -3986.0195 -0.032813   1.0      -0.032813\n",
      "13 2021-11-18  华安鑫创 -1296.3300 -0.020718   1.0      -0.020718\n",
      "11 2021-11-16  建业股份  -122.1905 -0.019377   1.0      -0.019377\n",
      "盈利最多:\n",
      "          date  name       profit   pprofit  days  daily_pprofit\n",
      "19 2022-03-09  大理药业  7577.750000  0.247364   1.0       0.247364\n",
      "21 2022-03-11  榕基软件  2362.384808  0.106284   3.0       0.035428\n",
      "22 2022-03-11  榕基软件  1516.325192  0.100147   3.0       0.033382\n",
      "笔均利润: 3.1%\n",
      "利润中位数: 0.8%\n",
      "交易胜率: 66.67%\n",
      " ------ \n",
      "未配对交易:\n",
      "    操作         日期    名称      代码  股数   价格  手续费\n",
      "0   买入 2021-11-01  镇洋配号  736213   1  0.0  0.0\n",
      "1   买入 2021-11-17  华塑配号  741935   2  0.0  0.0\n",
      "2   买入 2021-11-17  金钟股份  301133   4  0.0  0.0\n",
      "3   买入 2021-11-18   三羊马  001317   4  0.0  0.0\n",
      "4   买入 2021-11-22  观想科技  301213   5  0.0  0.0\n",
      "5   买入 2021-11-23  洁雅股份  301108   6  0.0  0.0\n",
      "6   买入 2021-11-23  喜悦智行  301198   6  0.0  0.0\n",
      "7   买入 2021-11-25  建研设计  301167   5  0.0  0.0\n",
      "8   买入 2021-11-26  达嘉维康  301126   6  0.0  0.0\n",
      "9   买入 2021-11-26  粤万年青  301111   6  0.0  0.0\n",
      "10  买入 2021-11-26  迈赫股份  301199   6  0.0  0.0\n",
      "11  买入 2021-11-30  家联科技  301193   6  0.0  0.0\n",
      "12  买入 2021-11-30  通灵股份  301168   6  0.0  0.0\n"
     ]
    },
    {
     "output_type": "display_data",
     "data": {
      "image/png": "[encoded data removed]",
      "text/plain": [
       "<Figure size 960x480 with 1 Axes>"
      ]
     },
     "metadata": {
      "needs_background": "light"
     }
    }
   ],
   "metadata": {}
  },
  {
   "cell_type": "code",
   "execution_count": 30,
   "source": [
    "\n",
    "peek(name)"
   ],
   "outputs": [
    {
     "output_type": "stream",
     "name": "stdout",
     "text": [
      "/apps/alpha/data/traders/刘伟\n",
      "   序号      成交日期    证券代码   证券名称 买卖标志   成交价格   成交数量      成交金额       发生金额     佣金  \\\n",
      "0   1  20211025    2165  红 宝 丽   买入   6.52  29800  194296.0 -194329.03  29.14   \n",
      "1   2  20211026    2165  红 宝 丽   卖出   7.18 -29800  213964.0  213713.67  32.09   \n",
      "2   3  20211028  605566   福莱蒽特   买入  30.00   7100  213000.0 -213036.21  31.95   \n",
      "3   4  20211029  605566   福莱蒽特   卖出  30.45  -3500  106575.3  106450.60  15.99   \n",
      "4   5  20211029  605566   福莱蒽特   卖出  30.30  -3600  109080.0  108952.39  16.36   \n",
      "\n",
      "      印花税   过户费  其它费  差额佣金          成交编号        股东代码    备注  \n",
      "0    0.00  3.89    0     0  1.040000e+14  0326059615  证券买入  \n",
      "1  213.96  4.28    0     0  1.040000e+14  0326059615  证券卖出  \n",
      "2    0.00  4.26    0     0  3.307100e+04  A417754560  证券买入  \n",
      "3  106.58  2.13    0     0  1.215894e+06  A417754560  证券卖出  \n",
      "4  109.08  2.17    0     0  3.353787e+06  A417754560  证券卖出  \n"
     ]
    },
    {
     "output_type": "execute_result",
     "data": {
      "text/plain": [
       "('/apps/alpha/data/traders/刘伟/lw.XLSX', 'excel', {'fee', '成交均价', '操作'})"
      ]
     },
     "metadata": {},
     "execution_count": 30
    }
   ],
   "metadata": {}
  },
  {
   "cell_type": "code",
   "execution_count": 28,
   "source": [
    "cols"
   ],
   "outputs": [
    {
     "output_type": "execute_result",
     "data": {
      "text/plain": [
       "['成交日期', '证券代码', '证券名称', '操作', '成交均价', '成交数量', '成交金额', 'fee']"
      ]
     },
     "metadata": {},
     "execution_count": 28
    }
   ],
   "metadata": {}
  },
  {
   "cell_type": "code",
   "execution_count": null,
   "source": [],
   "outputs": [],
   "metadata": {}
  }
 ],
 "metadata": {
  "kernelspec": {
   "display_name": "alpha",
   "language": "python",
   "name": "alpha"
  },
  "language_info": {
   "codemirror_mode": {
    "name": "ipython",
    "version": 3
   },
   "file_extension": ".py",
   "mimetype": "text/x-python",
   "name": "python",
   "nbconvert_exporter": "python",
   "pygments_lexer": "ipython3",
   "version": "3.8.12"
  },
  "toc": {
   "base_numbering": 1,
   "nav_menu": {},
   "number_sections": true,
   "sideBar": true,
   "skip_h1_title": false,
   "title_cell": "Table of Contents",
   "title_sidebar": "Contents",
   "toc_cell": false,
   "toc_position": {
    "height": "calc(100% - 180px)",
    "left": "10px",
    "top": "150px",
    "width": "228px"
   },
   "toc_section_display": true,
   "toc_window_display": true
  },
  "varInspector": {
   "cols": {
    "lenName": 16,
    "lenType": 16,
    "lenVar": 40
   },
   "kernels_config": {
    "python": {
     "delete_cmd_postfix": "",
     "delete_cmd_prefix": "del ",
     "library": "var_list.py",
     "varRefreshCmd": "print(var_dic_list())"
    },
    "r": {
     "delete_cmd_postfix": ") ",
     "delete_cmd_prefix": "rm(",
     "library": "var_list.r",
     "varRefreshCmd": "cat(var_dic_list()) "
    }
   },
   "types_to_exclude": [
    "module",
    "function",
    "builtin_function_or_method",
    "instance",
    "_Feature"
   ],
   "window_display": false
  }
 },
 "nbformat": 4,
 "nbformat_minor": 5
}