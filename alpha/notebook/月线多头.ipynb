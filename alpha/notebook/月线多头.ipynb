{
 "cells": [
  {
   "cell_type": "markdown",
   "id": "37bb179f",
   "metadata": {},
   "source": [
    "# 月线多头\n",
    "\n",
    "寻找月线多头"
   ]
  },
  {
   "cell_type": "code",
   "execution_count": 1,
   "id": "eb7afc2d",
   "metadata": {
    "scrolled": true
   },
   "outputs": [],
   "source": [
    "from alpha.notebook import *\n",
    "\n",
    "await init_notebook()"
   ]
  },
  {
   "cell_type": "code",
   "execution_count": null,
   "id": "079c9f16",
   "metadata": {
    "scrolled": true
   },
   "outputs": [],
   "source": [
    "df = scan()\n",
    "df.style.format({\n",
    "    \"预测涨幅\": \"{:.0%}\"\n",
    "})"
   ]
  },
  {
   "cell_type": "code",
   "execution_count": null,
   "id": "be67b92b",
   "metadata": {
    "scrolled": true
   },
   "outputs": [],
   "source": [
    "df.sort_values(\"预测涨幅\", ascending=False)"
   ]
  },
  {
   "cell_type": "markdown",
   "id": "590cdde6",
   "metadata": {},
   "source": [
    "# 相似均线拟合法"
   ]
  },
  {
   "cell_type": "code",
   "execution_count": null,
   "id": "87f528c9",
   "metadata": {
    "scrolled": true
   },
   "outputs": [],
   "source": [
    "# 给定时间点和代码，生成拟合均线。再scan所有股票和所有时间点，将欧氏距离和实际涨幅分别作为x,y\n",
    "\n",
    "def build_sample_line(code, frame:str, ma_groups=(5, 10, 20)):\n",
    "    line_len = 7\n",
    "    nbars = max(ma_groups) + line_len - 1\n",
    "    bars = get_bars(code, nbars, frame, unit=\"1M\")\n",
    "    \n",
    "    x = np.arange(line_len)\n",
    "    \n",
    "    vec = []\n",
    "    dist = {}\n",
    "    for win in ma_groups:\n",
    "        ma = moving_average(bars[\"close\"], win)[-line_len:]\n",
    "        ma /= ma[0]\n",
    "        coeff, pmae = polyfit(ma)\n",
    "        vec.append(np.polyval(coeff, x))\n",
    "        \n",
    "    return vec\n",
    "\n",
    "jl = build_sample_line(\"002791.XSHE\", \"2019-12-31\")\n",
    "jl"
   ]
  },
  {
   "cell_type": "markdown",
   "id": "05814c9a",
   "metadata": {},
   "source": [
    "## 坚朗五金月线拟合"
   ]
  },
  {
   "cell_type": "code",
   "execution_count": null,
   "id": "eedfc3b5",
   "metadata": {
    "scrolled": true
   },
   "outputs": [],
   "source": [
    "def search_jl(sample_lines, line_len=7, ma_groups=(5, 10, 20)):\n",
    "    nbars = max(ma_groups) + line_len - 1\n",
    "    results = []\n",
    "    \n",
    "    x = np.arange(line_len)\n",
    "    threshold = {\n",
    "        5: 0.03,\n",
    "        10: 0.025,\n",
    "        20:0.01\n",
    "    }\n",
    "    for code, bars in load_monthly_bars().items():\n",
    "        for i in range(nbars, len(bars) - 1):\n",
    "            bars_ = bars[i-nbars: i]\n",
    "            \n",
    "            frame = bars_['date'][-1]\n",
    "            close = bars_['close']\n",
    "            \n",
    "            c0 = close[-1]\n",
    "            c1 = bars[\"close\"][i]\n",
    "            \n",
    "            pcr = c1/c0 - 1\n",
    "\n",
    "            row = [code, get_name(code), frame, pcr]\n",
    "            mas = []\n",
    "            for win in ma_groups:\n",
    "                ma = moving_average(close, win)[-line_len:]\n",
    "                ma /= ma[0]\n",
    "                mas.append(ma)\n",
    "\n",
    "            \n",
    "            distances = paired_distances(sample_lines, mas)\n",
    "            row.extend(distances)\n",
    "\n",
    "            results.append(row)\n",
    "            \n",
    "    return pd.DataFrame(results, columns=[\"code\", \"name\", \"frame\", \"pcr\", \"d5\", \"d10\", \"d20\"])\n",
    "\n",
    "jl = build_sample_line(\"002791.XSHE\", \"2019-12-31\")\n",
    "df_jl = search_jl(jl)\n",
    "df_jl"
   ]
  },
  {
   "cell_type": "code",
   "execution_count": null,
   "id": "aace101b",
   "metadata": {
    "scrolled": true
   },
   "outputs": [],
   "source": [
    "df_jl[df_jl.d5<0.05]"
   ]
  },
  {
   "cell_type": "markdown",
   "id": "90d2d4cb",
   "metadata": {},
   "source": [
    "## 鸿路钢构"
   ]
  },
  {
   "cell_type": "code",
   "execution_count": null,
   "id": "08a85668",
   "metadata": {
    "scrolled": true
   },
   "outputs": [],
   "source": [
    "mas_hl = {}\n",
    "\n",
    "hl = get_bars('002541.XSHE', 29, '2020-01-23', unit='1M')\n",
    "print(bars['date'][-3:])\n",
    "for win in [5, 10, 20]:\n",
    "    ma = moving_average(bars['close'], win)[-10:]\n",
    "    ma /= ma[0]\n",
    "    coeff, pmae = polyfit(ma)\n",
    "    \n",
    "    fitma = np.polyval(coeff, x)\n",
    "    mas_hl[win] = fitma\n",
    "mas_hl"
   ]
  },
  {
   "cell_type": "code",
   "execution_count": null,
   "id": "60ca76d1",
   "metadata": {
    "scrolled": true
   },
   "outputs": [],
   "source": [
    "from sklearn.metrics import euclidean_distances\n",
    "from sklearn.metrics.pairwise import cosine_distances\n",
    "\n",
    "x = np.arange(10)\n",
    "\n",
    "colors = {\n",
    "    5: 'r',\n",
    "    10:'g',\n",
    "    20:'blue'\n",
    "}\n",
    "for win in [5, 10, 20]:\n",
    "    ma_hl = mas_hl[win]\n",
    "    ma_jl = mas_jl[win]\n",
    "    \n",
    "    d = euclidean_distances([ma_hl], [ma_jl])\n",
    "    print(d)\n",
    "    \n",
    "    plt.plot(x, ma_hl, \".\", color=colors[win])\n",
    "    plt.plot(x, ma_jl, \"-\", color=colors[win])"
   ]
  },
  {
   "cell_type": "code",
   "execution_count": null,
   "id": "cd333f4b",
   "metadata": {
    "scrolled": true
   },
   "outputs": [],
   "source": [
    "secs[secs.start_date < datetime.datetime(2018,1,1,0,0,0)]"
   ]
  },
  {
   "cell_type": "markdown",
   "id": "a44d2a94",
   "metadata": {},
   "source": [
    "# 机器学习方法"
   ]
  },
  {
   "cell_type": "code",
   "execution_count": null,
   "id": "b2922416",
   "metadata": {
    "scrolled": true
   },
   "outputs": [],
   "source": [
    "import pickle\n",
    "def make_ds_month(path):\n",
    "    end = arrow.get(\"2021-08-31\").date()\n",
    "    data = {}\n",
    "    for code in secs[secs.start_date < datetime.datetime(2018,1,1,0,0,0)].index:\n",
    "        bars = get_bars(code, 68, end, unit='1M')\n",
    "        data[code] = bars\n",
    "        \n",
    "    path = os.path.expanduser(path)\n",
    "    with open(path, \"wb\") as f:\n",
    "        pickle.dump(data, f, protocol=5)"
   ]
  },
  {
   "cell_type": "code",
   "execution_count": null,
   "id": "4c3e43af",
   "metadata": {
    "scrolled": true
   },
   "outputs": [],
   "source": [
    "   \n",
    "def search():\n",
    "    results = []\n",
    "    pred_samples = {\n",
    "        5: 7,\n",
    "        10: 10,\n",
    "        20: 10\n",
    "    }\n",
    "    for code, bars in load_monthly_bars().items():\n",
    "        for i in range(29, len(bars) - 1):\n",
    "            bars_ = bars[i-29: i]\n",
    "            \n",
    "            frame = bars_['date'][-1]\n",
    "            c0 = bars_['close'][-1]\n",
    "            c1 = bars[i]['close']\n",
    "            pcr = c1/c0 - 1\n",
    "\n",
    "            row = [code, get_name(code), frame, pcr]\n",
    "            for win in [5, 10, 20]:\n",
    "                ma = moving_average(bars_['close'], win)[-10:]\n",
    "                ma /= ma[0]\n",
    "                (a,b,c), pmae = polyfit(ma)\n",
    "                \n",
    "                ypreds, _ = predict_by_moving_average(bars_['close'], win, 1, 1, pred_samples[win])\n",
    "                if ypreds is not None:\n",
    "                    pred = ypreds[0] / c0 - 1\n",
    "                else:\n",
    "                    pred = None\n",
    "                    \n",
    "                row.extend((a, b, pmae, pred))\n",
    "\n",
    "            results.append(row)\n",
    "                        \n",
    "    return pd.DataFrame(results, columns=[\"code\", \"name\", \"frame\", \"actual\", \"a5\", \"b5\", \"pmae5\", \"pred5\",\n",
    "                                         \"a10\", \"b10\", \"pmae10\", \"pred10\",\n",
    "                                         \"a20\", \"b20\", \"pmae20\", \"pred20\"])\n",
    "            \n",
    "df = search()"
   ]
  },
  {
   "cell_type": "code",
   "execution_count": null,
   "id": "a823566f",
   "metadata": {
    "scrolled": true
   },
   "outputs": [],
   "source": [
    "def preprocess(df):\n",
    "    \"\"\"prepare dataset for xgboost classification\n",
    "    \n",
    "    0 不可预测\n",
    "    1 可用5月线预测\n",
    "    2 可用10月线\n",
    "    3 可用20月线\n",
    "    \"\"\"\n",
    "    return {\n",
    "        \"X\": df[[\"a5\", \"b5\", \"pmae5\", \"pred5\",\n",
    "                \"a10\", \"b10\", \"pmae10\", \"pred10\",\n",
    "                \"a20\", \"b20\", \"pmae20\", \"pred20\"]],\n",
    "        \n",
    "        \"y\": labelling(df)\n",
    "    }\n"
   ]
  },
  {
   "cell_type": "code",
   "execution_count": null,
   "id": "e1616823",
   "metadata": {
    "scrolled": true
   },
   "outputs": [],
   "source": [
    "def labelling(df, threshold=0.1):\n",
    "    \"\"\"\"\"\"\n",
    "    labels = []\n",
    "    for i in range(len(df)):\n",
    "        pred5 = df.loc[i, \"pred5\"]\n",
    "        pred10 = df.loc[i, \"pred10\"]\n",
    "        pred20 = df.loc[i, \"pred20\"]\n",
    "        actual = df.loc[i, \"actual\"]\n",
    "        \n",
    "        d = np.abs(np.array([pred5 - actual, pred10 - actual, pred20 - actual]))\n",
    "        if min(d) > threshold:\n",
    "            labels.append(0)\n",
    "            continue\n",
    "            \n",
    "        pos = np.argmin(d)\n",
    "        labels.append(pos + 1)\n",
    "        \n",
    "    return labels"
   ]
  },
  {
   "cell_type": "code",
   "execution_count": null,
   "id": "c5946b85",
   "metadata": {
    "scrolled": true
   },
   "outputs": [],
   "source": [
    "import xgboost\n",
    "from xgboost import XGBClassifier\n",
    "from sklearn.metrics import classification_report\n",
    "from sklearn.utils import shuffle\n",
    "from sklearn.model_selection import train_test_split, RandomizedSearchCV\n",
    "from scipy.stats import randint, uniform\n",
    "\n",
    "\n",
    "def train(X_train, y_train, X_test, y_test):\n",
    "    model = XGBClassifier()\n",
    "    \n",
    "    params = {\n",
    "            \"colsample_bytree\": uniform(0.7, 0.3),\n",
    "            \"gamma\": uniform(0, 0.5),\n",
    "            \"learning_rate\": uniform(0.01, 1),\n",
    "            \"max_depth\": randint(2, 6),\n",
    "            \"n_estimators\": randint(80, 150),\n",
    "            \"subsample\": uniform(0.6, 0.4),\n",
    "        }\n",
    "    \n",
    "    search = RandomizedSearchCV(\n",
    "        model,\n",
    "        param_distributions=params,\n",
    "        random_state=78,\n",
    "        n_iter=200,\n",
    "        cv=10,\n",
    "        verbose=1,\n",
    "        n_jobs=1,\n",
    "        return_train_score=True,\n",
    "        refit=True,  # do the refit oursel\n",
    "    )\n",
    "    \n",
    "    fit_params = {\n",
    "            \"eval_set\": [(X_test, y_test)],\n",
    "            \"early_stopping_rounds\": 5,\n",
    "        }\n",
    "    \n",
    "    search.fit(X_train, y_train, **fit_params)\n",
    "    \n",
    "    best_model = search.best_estimator_\n",
    "    preds = best_model.predict(X_test)\n",
    "    report = classification_report(y_test, preds)\n",
    "    print(report)\n",
    "    \n",
    "data = preprocess(df)\n",
    "X, y = shuffle(data[\"X\"], data[\"y\"], random_state=78)\n",
    "\n",
    "X_train, X_test, y_train, y_test = train_test_split(X, y, test_size=0.2, random_state=78)\n",
    "train(X_train, y_train, X_test, y_test)"
   ]
  },
  {
   "cell_type": "markdown",
   "id": "0ac7ce6f",
   "metadata": {},
   "source": [
    "# 拟合均线预测法\n",
    "\n",
    "在a5, a10, a20, a30都大于0的情况下，预测下一个月的涨幅。当拟合线与实际ma误差小于0.01时，认为拟合有效。"
   ]
  },
  {
   "cell_type": "code",
   "execution_count": null,
   "id": "d92fd632",
   "metadata": {
    "scrolled": true
   },
   "outputs": [],
   "source": [
    "class NotFitableError(Exception):\n",
    "    pass\n",
    "\n",
    "class NotProfitableError(Exception):\n",
    "    pass\n",
    "\n",
    "def scan(fit_err=0.01):\n",
    "    with open(\"/Users/aaronyang/data/monthly_bars.pkl\", \"rb\") as f:\n",
    "        data = pickle.load(f)\n",
    "        \n",
    "    results = []\n",
    "    for code, bars in data.items():\n",
    "        name = get_name(code)\n",
    "        \n",
    "        for i in range(39, len(bars)-2):\n",
    "            frame = bars[\"date\"][i-1]\n",
    "            close = bars[\"close\"][i - 39: i]\n",
    "            pcr = max(bars[\"close\"][i:i+2])/close[-1] - 1\n",
    "            max_pcr_pred = 0\n",
    "\n",
    "            row = [name, code, frame, pcr]\n",
    "            try:\n",
    "                for win in [5, 10, 20, 30]:\n",
    "                    fit_win = 7 if win == 5 else 10\n",
    "                    ma = moving_average(close, win)[-fit_win:]\n",
    "                    ma /= ma[0]\n",
    "                            \n",
    "                    coeff, pmae = polyfit(ma)\n",
    "                    a, b, _ = coeff\n",
    "                    \n",
    "                    row.extend((a, b))\n",
    "                    ma_fit = np.polyval(coeff, np.arange(fit_win))\n",
    "                    d = euclidean_distances([ma_fit], [ma]).flatten()[0]\n",
    "                    \n",
    "                    if d > fit_err: # 当前均线没有指示意义\n",
    "                        continue\n",
    "                    \n",
    "                    ypreds, _ = predict_by_moving_average(close, win, 2, err_threshold=1, n=fit_win)\n",
    "                    if ypreds is not None:\n",
    "                        pcr_pred = ypreds[-1] / close[-1] - 1\n",
    "                        # 如果当前均线指示会有较大跌幅\n",
    "                        if pcr_pred < 0 and abs(pcr_pred) > max(max_pcr_pred, 0.2):\n",
    "                            raise NotProfitableError\n",
    "                            \n",
    "                        max_pcr_pred = max(max_pcr_pred, pcr_pred)\n",
    "                        \n",
    "                row.append(max_pcr_pred)\n",
    "                results.append(row)\n",
    "            except (NotFitableError, NotProfitableError):\n",
    "                pass\n",
    "            \n",
    "    return pd.DataFrame(results, columns=[\"name\", \"code\", \"frame\", \"pcr\", \"a5\", \"b5\", \n",
    "                                          \"a10\", \"b10\", \"a20\", \"b20\", \"a30\", \"b30\", \"pred\"])\n",
    "        "
   ]
  },
  {
   "cell_type": "code",
   "execution_count": null,
   "id": "1ec50631",
   "metadata": {
    "scrolled": true
   },
   "outputs": [],
   "source": [
    "df = scan(0.005)\n",
    "df"
   ]
  },
  {
   "cell_type": "code",
   "execution_count": null,
   "id": "03a6e227",
   "metadata": {
    "scrolled": true
   },
   "outputs": [],
   "source": [
    "pred = df[df.pred!=0]\n",
    "pred[\"gap\"] = pred.pred - pred.pcr"
   ]
  },
  {
   "cell_type": "code",
   "execution_count": null,
   "id": "1bb692b9",
   "metadata": {
    "scrolled": true
   },
   "outputs": [],
   "source": [
    "pred.gap.describe()"
   ]
  },
  {
   "cell_type": "code",
   "execution_count": null,
   "id": "aff746b0",
   "metadata": {
    "scrolled": true
   },
   "outputs": [],
   "source": [
    "pd.set_option('display.max_rows', 500)\n",
    "pred[(pred.code==\"000422.XSHE\")]"
   ]
  },
  {
   "cell_type": "markdown",
   "id": "9435b1bb",
   "metadata": {},
   "source": [
    "# 湖北宜化相似曲线方法"
   ]
  },
  {
   "cell_type": "code",
   "execution_count": null,
   "id": "290eb073",
   "metadata": {
    "scrolled": true
   },
   "outputs": [],
   "source": [
    "import matplotlib.pyplot as plt\n",
    "\n",
    "lines = []\n",
    "\n",
    "# till 2021-05-31\n",
    "hbyh = data[\"000422.XSHE\"][:-3]\n",
    "for win in [5, 10, 20, 30]:\n",
    "    line = moving_average(hbyh[\"close\"], win)[-14:]\n",
    "    line /= line[0]\n",
    "    lines.append(line.tolist())\n",
    "    \n",
    "hbyh_vec = np.array(lines, dtype=np.float32)\n",
    "for vec in hbyh_vec:\n",
    "    plt.plot(vec)\n",
    "    \n",
    "coeff, pmae = polyfit(lines[0])\n",
    "yfit = np.polyval(coeff, np.arange(0, 14))\n",
    "plt.plot(yfit)"
   ]
  },
  {
   "cell_type": "code",
   "execution_count": null,
   "id": "5c71951e",
   "metadata": {
    "scrolled": true
   },
   "outputs": [],
   "source": [
    "class NotEnoughDataError(Exception):\n",
    "    pass\n",
    "def search_like_hbyh():\n",
    "    results = []\n",
    "    for code, bars in data.items():\n",
    "        name = get_name(code)\n",
    "        for i in range(43, len(bars)-2):\n",
    "            frame = bars[\"date\"][i-1]\n",
    "            close = bars[\"close\"][i-43:i]\n",
    "            pcr = max(bars[\"close\"][i:i+2])/close[-1] - 1\n",
    "            \n",
    "            row_result = [name, code, frame, pcr]\n",
    "            lines = []\n",
    "            try:\n",
    "                for win in [5, 10, 20, 30]:\n",
    "                    line = moving_average(close, win)[-14:]\n",
    "                    if len(line) != 14:\n",
    "                        raise NotEnoughDataError\n",
    "                    line /= line[0]\n",
    "\n",
    "                    lines.append(line.tolist())\n",
    "            except NotEnoughDataError:\n",
    "                pass\n",
    "                \n",
    "            d = paired_distances(hbyh_vec, lines)\n",
    "            row_result.extend(d)\n",
    "            results.append(row_result)\n",
    "            \n",
    "    return pd.DataFrame(results, columns=[\"name\", \"code\", \"frame\", \"pcr\", \"d5\", \"d10\", \"d20\", \"d30\"])\n",
    "df = search_like_hbyh()            "
   ]
  },
  {
   "cell_type": "code",
   "execution_count": null,
   "id": "a3f8cacd",
   "metadata": {
    "scrolled": true
   },
   "outputs": [],
   "source": [
    "thres = 0.15\n",
    "df[(df.d5<thres) & (df.d10 < thres) & (df.d20<thres) &(df.d30<thres)]"
   ]
  },
  {
   "cell_type": "code",
   "execution_count": null,
   "id": "2c4525dc",
   "metadata": {
    "scrolled": true
   },
   "outputs": [],
   "source": [
    "df[\"dsum\"] = df.d5+df.d10+df.d20+df.d30\n",
    "df.nsmallest(10, \"dsum\")"
   ]
  },
  {
   "cell_type": "markdown",
   "id": "73102c4a",
   "metadata": {},
   "source": [
    "# 股价走势法\n",
    "直接使用涨跌幅，再求相似曲线。结果不佳"
   ]
  },
  {
   "cell_type": "code",
   "execution_count": null,
   "id": "ca7b15a4",
   "metadata": {
    "scrolled": true
   },
   "outputs": [],
   "source": [
    "lines = []\n",
    "\n",
    "# till 2021-05-31\n",
    "hbyh = data[\"000422.XSHE\"][-52:-3]\n",
    "\n",
    "close = hbyh[\"close\"]\n",
    "hbyh_pcr = close[1:]/close[:-1] - 1"
   ]
  },
  {
   "cell_type": "code",
   "execution_count": null,
   "id": "06821519",
   "metadata": {
    "scrolled": true
   },
   "outputs": [],
   "source": [
    "def search_like_hbyh_pcr():\n",
    "    results = []\n",
    "    for code, bars in data.items():\n",
    "        name = get_name(code)\n",
    "        for i in range(49, len(bars)-2):\n",
    "            frame = bars[\"date\"][i-1]\n",
    "            close = bars[\"close\"][i-49:i]\n",
    "            \n",
    "            pcrs = close[1:]/close[:-1] - 1\n",
    "            pcr = max(bars[\"close\"][i:i+2])/close[-1] - 1\n",
    "            \n",
    "            row_result = [name, code, frame, pcr]\n",
    "            \n",
    "            d = euclidean_distances([pcrs], [hbyh_pcr]).flatten()[0]\n",
    "            row_result.append(d)\n",
    "            results.append(row_result)\n",
    "        \n",
    "    return pd.DataFrame(results, columns=[\"name\", \"code\", \"frame\", \"pcr\", \"d\"])\n",
    "\n",
    "df = search_like_hbyh_pcr()"
   ]
  },
  {
   "cell_type": "code",
   "execution_count": null,
   "id": "f7224d37",
   "metadata": {
    "scrolled": true
   },
   "outputs": [],
   "source": [
    "df.nsmallest(10, \"d\")"
   ]
  },
  {
   "cell_type": "markdown",
   "id": "7d8e9f1d",
   "metadata": {},
   "source": [
    "# 参考库"
   ]
  },
  {
   "cell_type": "code",
   "execution_count": null,
   "id": "05193a3a",
   "metadata": {
    "scrolled": true
   },
   "outputs": [],
   "source": [
    "pool = []\n",
    "cm = {\n",
    "    5: \"b\",\n",
    "    10: \"g\",\n",
    "    20: \"c\",\n",
    "    30: \"m\",\n",
    "    60: \"y\",\n",
    "    120: \"tab:orange\",\n",
    "    \"raw\": \"tab:gray\",\n",
    "}"
   ]
  },
  {
   "cell_type": "code",
   "execution_count": null,
   "id": "e97b57e9",
   "metadata": {
    "scrolled": false
   },
   "outputs": [],
   "source": [
    "# 找出两个月内涨幅超过50%的所有个股\n",
    "\n",
    "with open(\"/Users/aaronyang/data/monthly_bars.pkl\", \"rb\") as f:\n",
    "    data = pickle.load(f)\n",
    "    \n",
    "def find_bulls(adv=0.5):\n",
    "    results = []\n",
    "    ma_groups = [5, 10, 20, 30]\n",
    "    samples = 14\n",
    "    n = max(ma_groups) + samples - 1\n",
    "    ylen=5\n",
    "    \n",
    "    for code, bars in data.items():\n",
    "        name = get_name(code)\n",
    "#         if code != \"600084.XSHG\":\n",
    "#             continue\n",
    "            \n",
    "        if len(bars) < n:\n",
    "            continue\n",
    "\n",
    "        for i in range(n, len(bars) - ylen):\n",
    "            xbars = bars[i-n:i].copy()\n",
    "            ybars = bars[i:i+ylen].copy()\n",
    "            \n",
    "            frame = xbars[\"date\"][-1]\n",
    "            xclose = xbars[\"close\"]\n",
    "            yclose = ybars[\"close\"]\n",
    "            \n",
    "            pcr = max(yclose) / xclose[-1] - 1\n",
    "            \n",
    "            if pcr < adv:\n",
    "                continue\n",
    "\n",
    "            results.append((name, code, frame, pcr))\n",
    "            \n",
    "            fig, ax = plt.subplots(nrows=1, ncols=1)\n",
    "\n",
    "            xclose /= xclose[0]\n",
    "            \n",
    "            for win in [5, 10, 20, 30]:\n",
    "                ma = moving_average(xclose, win)[-samples:]\n",
    "                ax.plot(ma, color=cm[win])\n",
    "                \n",
    "                \n",
    "            fig.savefig(f'/tmp/find_bulls/{name}-{frame}-{pcr:.2f}.png')\n",
    "            plt.close(fig)\n",
    "\n",
    "    df = pd.DataFrame(results, columns=[\"name\", \"code\", \"frame\", \"pcr\"])\n",
    "    return df\n",
    "find_bulls(adv=2)"
   ]
  },
  {
   "cell_type": "code",
   "execution_count": null,
   "id": "95f43c97",
   "metadata": {
    "scrolled": true
   },
   "outputs": [],
   "source": [
    "with open(\"/Users/aaronyang/data/monthly_bars.pkl\", \"rb\") as f:\n",
    "    data = pickle.load(f)"
   ]
  },
  {
   "cell_type": "code",
   "execution_count": null,
   "id": "9e068f8d",
   "metadata": {
    "scrolled": true
   },
   "outputs": [],
   "source": [
    "def draw_maline(code, end, inline_show=True):\n",
    "    if \".\" not in code:\n",
    "        if code.startswith(\"6\"):\n",
    "            code += \".XSHG\"\n",
    "        else:\n",
    "            code += \".XSHE\"\n",
    "        \n",
    "    bars = data[code].copy()\n",
    "    end_pos = np.argmax(bars[\"date\"]>=arrow.get(end).date())\n",
    "    frame = bars[\"date\"][end_pos]\n",
    "    assert end_pos >= 43\n",
    "    close = bars[\"close\"][end_pos - 42: end_pos + 1]\n",
    "\n",
    "    close /= close[0]\n",
    "    \n",
    "    if not inline_show:\n",
    "        fig, ax = plt.subplots(nrows=1, ncols=1)\n",
    "        \n",
    "        for win in [5, 10, 20, 30]:\n",
    "            ma = moving_average(close, win)\n",
    "            ax.plot(ma[-14:])\n",
    "            ax.text(13, ma[-1], f\"{win}\")\n",
    "        fig.savefig(f\"/tmp/find_bulls/{code}_{end}.png\")\n",
    "        plt.close(fig)\n",
    "    else:\n",
    "        for win in [5, 10, 20, 30]:\n",
    "            ma = moving_average(close, win)\n",
    "            plt.plot(ma[-14:])\n",
    "            plt.text(13, ma[-1], f\"{win}\")"
   ]
  },
  {
   "cell_type": "code",
   "execution_count": null,
   "id": "13a28fb5",
   "metadata": {
    "scrolled": true
   },
   "outputs": [],
   "source": [
    "samples = \"\"\"st众泰 2021-01-29 1折超跌，月线大阳（30%）\n",
    "st众泰 2021-02-26 1折超跌，短线金叉\n",
    "st众泰 2021-04-30 1折超跌，短线金叉\n",
    "st双环 2021-05-31 2折底部黄金坑\n",
    "st商城 2021-02-26 底部短线金叉\n",
    "st天成 2021-04-29 1折超跌\n",
    "st新光 2021-02-26 1折超跌\n",
    "st节能 2021-03-31 1折超跌，均线粘合，金叉\n",
    "st赫美 2021-05-31 1折超跌，均线粘合，金叉\n",
    "st天山 2020-07-31 均线粘合，月线收阳，均线拐头\n",
    "三星医疗 2021-04-30 均线粘合后金叉发散，连涨4月\n",
    "三诺生物 2020-04-30 短线金叉，长线走平或者拐头\n",
    "世名科技 2020-04-30 均线粘合，短线金叉。新股接近首日开盘价整理多月。\n",
    "东富龙 2020-04-30 整理后均线金叉。注意有显著放量\n",
    "东富龙 2021-03-31 长线多头，短线黄金坑\n",
    "中国中免 2020-05-29 长线多头，短线下黄金坑，月线平台突破\n",
    "中国北车 2014-10-24 均线粘合，长线多头，短线黄金坑\n",
    "中毅达 2021-03-31 短线多头，月线上穿均线，长线拐头\n",
    "中能电气 2020-09-30 短线金叉，多头排列，突破平台\n",
    "亚厦股份 2020-03-31 均线粘合。大阳带动均线形成多头。\n",
    "光启技术 2020-06-30 均线粘合后再度洗盘，当月收十字星\n",
    "全志科技 2021-04-30 均线多头，短线黄金坑\n",
    "凯撒文化 2020-05-29 均线粘合，大阳穿4线\n",
    "华银电力 2021-02-26 短线金叉。长下影\n",
    "*华鹏飞 周线机会\n",
    "博晖创新 2020-06-30 均线金叉。长线拐头\n",
    "双林股份 2020-07-31 均线粘合，拐头。连续两月放量\n",
    "*君正集团 2020-06-30 均线粘合，底部整理两月。短线拐头。板块驱动\n",
    "*国民技术 2021-05-31 均线粘合，一阳穿4线。\n",
    "国科微 2021-03-31 长线向上支撑，短线止跌\n",
    "国科微 2021-04-30 多头初现。短线黄金坑\n",
    "大豪科技 2020-11-23 短线金叉，停牌利好？\n",
    "天际股份 2020-09-30 次新股价接近首日开盘价，均线拐头\n",
    "天际股份 2021-04-30 长线多头，短线整理后重拾升势\n",
    "天齐锂业 2020-11-30 短线金叉。缩量整理\n",
    "奥园美谷 2020-11-30 均线粘合，短线金叉，一阳穿4线\n",
    "奥园美谷 2021-03-31 均线多头强势首阴\n",
    "姚记科技 2019-11-29 均线金叉，短线多头，长线拐头\n",
    "宝鼎科技 2019-08-30 均线金叉，近期放量，底部黄金坑\n",
    "富临精工 2021-05-31 次新，均线多头，短线黄金坑。月线突破平台。\n",
    "富满电子 2021-03-31 次新，均线多头，短线黄金坑，两上升小阳线表明企稳。\n",
    "小康股份 2021-02-26 次新，均线金叉，底部巨量。长线拐头\n",
    "小康股份 2021-03-31 次新，均线金叉，底部巨量。多头排列。\n",
    "岩石股份 2021-02-26 30线支撑，5线黄金坑。均线金叉。突破平台。\n",
    "川能动力 2020-10-30 金叉，多头排列。\n",
    "斯莱克 2021-04-30 短线黄金坑，长线多头。\n",
    "昌红科技 2020-04-30 均线多头，短期洗盘完成\n",
    "*星徽股份\n",
    "星期六 2019-11-29 均线粘合后发散\n",
    "晨曦航空 2020-08-31 均线粘合，金叉。30线向上加速。\n",
    "晶方科技 2019-11-29 10线黄金坑。5线上升态。余线拐头\n",
    "晶瑞电材 2021-05-31 均线多头，5线黄金坑\n",
    "智飞生物 2020-05-29 均线多头\n",
    "朗姿股份 2020-10-30 均线金叉。缩量整理。\n",
    "朗姿股份 2020-11-30 均线金叉，多头。\n",
    "朗姿股份 2021-01-29 均线多头。短线缩量调整。\n",
    "未名医药 2020-03-31 均线金叉。底部放量\n",
    "未来股份 2020-05-29 2折超跌，底部放量吸筹。5线上攻，4连阳\n",
    "格力地产 2020-04-30 120线支撑，均线粘合，一阳多线。\n",
    "* 森特股份 2021-02-26 \n",
    "模塑科技 2019-12-31 均线粘合、金叉。底部4连阳。\n",
    "永兴材料 2020-10-30 均线多头\n",
    "永兴材料 2021-06-30 均线多头\n",
    "汇金股份 2020-07-31 均线多头，金叉\n",
    "江特电机 2020-11-30 2折股，短线金叉\n",
    "江特电机 2021-06-30 金叉，多头。缩量调整。\n",
    "*沈阳化工 2020-07-31 仙人指路后收首阳\n",
    "泉阳泉 2020-07-31 5线拐头。\n",
    "泉阳泉 2020-10-30 均线金叉收阳。\n",
    "泰达股份 2020-01-23 均线金叉，收大阳\n",
    "洪都航空 2020-06-30 5线黄金坑\n",
    "海利生物 2020-06-30 均线多头\n",
    "海南椰岛 2021-03-31 均线多头、金叉。短线整理后收阳\n",
    "海汽集团 2020-06-30 均线多头\n",
    "*润和软件 2021-04-30 \n",
    "深物业A 2020-05-29 底部3连阳。均线走平。\n",
    "漫步者 2019-09-30 金叉，10线加速上攻\n",
    "*王府井 2020-05-30 \n",
    "盛和资源 2020-12-31 金叉，10线加速上攻\n",
    "省广集团 2020-03-31 3折超跌，均线底部粘合\n",
    "石大胜华 2020-08-31 均线多头，5线黄金坑\n",
    "石大胜华 2021-02-26 均线多头，缩量整理\n",
    "秀强股份 2020-01-23 底部企稳上攻，金叉\n",
    "*美邦服饰 2021-02-26 企稳后洗盘\n",
    "联创股份 2021-06-30 均线粘合、多头\n",
    "联络互动 2021-04-30 1折超跌，金叉上攻\n",
    "舍得酒业 2021-03-31 均线多头，缩量整理后重拾升势\n",
    "航锦科技 2019-11-29 均线粘合，4月筑底，一阳多线\n",
    "苏宁环球 2021-03-31 均线多头，缩量整理\n",
    "蓝英装备 2020-05-29 金叉上攻，短线多头\n",
    "藏格控股 2021-03-31 金叉\n",
    "融捷股份 2021-06-30 均线多头，缩量整理\n",
    "西藏矿业 2021-04-30 均线多头\n",
    "西藏药业 2020-05-29 均线粘合后发散\n",
    "达安基因 2020-05-29 均线金叉，缩量整理\n",
    "*郑州煤电 2020-10-30 均线金叉\n",
    "酒鬼酒 2020-05-29 均线多头，10线强势支撑\n",
    "金刚玻璃 2021-03-31 30线支撑，5线黄金坑,平台突破\n",
    "金力泰 2020-06-30 贴地飞行\n",
    "金发拉比 2021-03-31 均线粘合，5线上攻金叉\n",
    "金种子酒 2020-10-30 均线多头，5线黄金坑\n",
    "锦泓集团 2021-03-31 贴地飞行后向下洗盘，收两阳\n",
    "长城汽车 2021-05-31 30线黄金坑。大涨突破平台后调整。\n",
    "长城汽车 2020-08-31 均线多头，短线整理后重拾升势\n",
    "长川科技 2021-04-30 均线多头，整理吸引上影线\n",
    "*长源电力 2021-03-31\n",
    "阳光电源 2020-08-31 均线多头，强势\n",
    "阳光电源 2021-05-31 均线多头，整理后重拾升势\n",
    "鸿路钢构 2020-04-30 均线多头\"\"\"\n",
    "\n",
    "patterns = []\n",
    "\n",
    "for line in samples.split(\"\\n\"):\n",
    "    if line[0].startswith(\"*\"):\n",
    "        continue\n",
    "        \n",
    "    items = line.split(\" \")\n",
    "    if len(items) == 1:\n",
    "        continue\n",
    "        \n",
    "    name, frame, *_ = items\n",
    "    patterns.append((name, frame))\n",
    "    "
   ]
  },
  {
   "cell_type": "code",
   "execution_count": null,
   "id": "f1bbdfad",
   "metadata": {
    "scrolled": true
   },
   "outputs": [],
   "source": [
    "pattern_pool = []\n",
    "with open(\"/Users/aaronyang/data/monthly_bars.pkl\", \"rb\") as f:\n",
    "    data = pickle.load(f)\n",
    "    \n",
    "def build_pattern_pool(samples):\n",
    "    for (name, end) in samples:\n",
    "        try:\n",
    "            code = get_code(name)\n",
    "\n",
    "            end = arrow.get(end).date()\n",
    "\n",
    "            bars = data[code]\n",
    "            end_pos = np.argmax(bars[\"date\"]>=end)\n",
    "            frame = bars[\"date\"][end_pos]\n",
    "\n",
    "            close = bars[\"close\"].copy()[end_pos - 42: end_pos + 1]\n",
    "            close /= close[0]\n",
    "\n",
    "            vectors = []\n",
    "            for win in [5, 10, 20, 30]:\n",
    "                ma = moving_average(close, win)[-14:]\n",
    "                vectors.extend(ma)\n",
    "            pattern_pool.append(vectors)\n",
    "        except Exception as e:\n",
    "            print(f\"Error: {name} {end} {str(e)}\")\n",
    "        \n",
    "build_pattern_pool(patterns)\n",
    "print(len(pattern_pool), len(patterns))"
   ]
  },
  {
   "cell_type": "code",
   "execution_count": null,
   "id": "ba36d414",
   "metadata": {
    "scrolled": true
   },
   "outputs": [],
   "source": [
    "for (name, end) in patterns:\n",
    "    code = get_code(name)\n",
    "    draw_maline(code, end, False)"
   ]
  },
  {
   "cell_type": "code",
   "execution_count": null,
   "id": "6f148404",
   "metadata": {
    "scrolled": true
   },
   "outputs": [],
   "source": [
    "with open(\"/Users/aaronyang/data/monthly_bars.pkl\", \"rb\") as f:\n",
    "    data = pickle.load(f)\n",
    "def search_sim_vec():\n",
    "    results = []\n",
    "    for (code, bars) in data.items():\n",
    "        for i in range(43, len(bars)):\n",
    "            frame = bars[\"date\"][i]\n",
    "            close = bars[\"close\"].copy()[i-43:i]\n",
    "            close /= close[0]\n",
    "            vec = []\n",
    "            for win in [5, 10, 20, 30]:\n",
    "                ma = moving_average(close, win)[-14:]\n",
    "                vec.extend(ma)\n",
    "                \n",
    "            d = euclidean_distances(pattern_pool, [vec]).flatten()\n",
    "            pos = np.argmin(d)\n",
    "            results.append((get_name(code), frame, *patterns[pos], np.min(d)))\n",
    "    return pd.DataFrame(results, columns=[\"被检\", \"frame\", \"对照\", \"对照时间\", \"距离\"])\n",
    "\n",
    "sim_vecs = search_sim_vec()  \n",
    "sim_vecs"
   ]
  },
  {
   "cell_type": "code",
   "execution_count": null,
   "id": "39ce2e96",
   "metadata": {
    "scrolled": true
   },
   "outputs": [],
   "source": [
    "sim_vecs.rename(columns={\"被检\": \"sample\", \"对照\": \"ref\", \"距离\":\"dis\"}, inplace=True)"
   ]
  },
  {
   "cell_type": "code",
   "execution_count": null,
   "id": "990ef47c",
   "metadata": {
    "scrolled": true
   },
   "outputs": [],
   "source": [
    "sim_vecs[(sim_vecs.dis > 1e-3) & (sim_vecs.dis<0.15) &(sim_vecs.frame>=datetime.date(2021,8,1))]"
   ]
  },
  {
   "cell_type": "code",
   "execution_count": null,
   "id": "60d05744",
   "metadata": {
    "scrolled": false
   },
   "outputs": [],
   "source": [
    "def parallel_show(name1, frame1, name2, frame2):\n",
    "    code1 = get_code(name1)\n",
    "    code2 = get_code(name2)\n",
    "\n",
    "    fig, axes = plt.subplots(nrows=1, ncols=2, figsize=(16, 5))\n",
    "\n",
    "    codes = [code1, code2]\n",
    "    frames = [frame1, frame2]\n",
    "    \n",
    "    for i in range(2):\n",
    "        ax = axes[i]\n",
    "        code = codes[i]\n",
    "        frame = frames[i]\n",
    "        \n",
    "        bars = data[code].copy()\n",
    "        end_pos = np.argmax(bars[\"date\"]>=arrow.get(frame).date())\n",
    "        close = bars[\"close\"][end_pos - 42: end_pos + 1]\n",
    "\n",
    "        close /= close[0]\n",
    "    \n",
    "        ax.text(0, 0.95, f\"{code} {frame}\", transform=ax.transAxes)\n",
    "        for win in [5, 10, 20, 30]:\n",
    "            ma = moving_average(close, win)\n",
    "            ax.plot(ma[-14:])\n",
    "            ax.text(13, ma[-1], f\"{win}\")\n"
   ]
  },
  {
   "cell_type": "code",
   "execution_count": null,
   "id": "f96a00fe",
   "metadata": {
    "scrolled": false
   },
   "outputs": [],
   "source": [
    "for row in sim_vecs[(sim_vecs.dis > 1e-3) & (sim_vecs.dis<0.07)].to_records():\n",
    "    _, name1, frame1, name2, frame2, _ = row\n",
    "    parallel_show(name1, frame1, name2, frame2)"
   ]
  },
  {
   "cell_type": "markdown",
   "id": "866c4cb3",
   "metadata": {},
   "source": [
    "# 月线涨幅大于35%,首月大涨的"
   ]
  },
  {
   "cell_type": "code",
   "execution_count": null,
   "id": "82b55453",
   "metadata": {},
   "outputs": [],
   "source": [
    "for code in choose_stocks():\n",
    "    bars = get_bars(code, 2, end=None, unit=\"1M\")\n",
    "    if len(bars) != 2 or bars[\"date\"][1] != datetime.date(2021, 9, 30):\n",
    "        continue\n",
    "        \n",
    "    close = bars[\"close\"]\n",
    "    adv = close[1]/close[0] - 1\n",
    "    if 0.25 < adv < 0.4:\n",
    "        print(get_name(code), code)"
   ]
  },
  {
   "cell_type": "code",
   "execution_count": null,
   "id": "d1da7622",
   "metadata": {},
   "outputs": [],
   "source": [
    "240 * 250 * 5000/(1000*1000*1000)"
   ]
  },
  {
   "cell_type": "markdown",
   "id": "dd95982a",
   "metadata": {},
   "source": [
    "# 月线三连阳\n",
    "\n",
    "底部启动，月线三连阳且放量，均线金叉"
   ]
  },
  {
   "cell_type": "code",
   "execution_count": 29,
   "id": "5ad67a74",
   "metadata": {},
   "outputs": [
    {
     "name": "stdout",
     "output_type": "stream",
     "text": [
      "progress: 500/3992, elapsed: 2, ETA: 13\n",
      "progress: 1000/3992, elapsed: 3, ETA: 8\n",
      "progress: 1500/3992, elapsed: 5, ETA: 8\n",
      "progress: 2000/3992, elapsed: 6, ETA: 5\n",
      "progress: 2500/3992, elapsed: 14, ETA: 8\n",
      "progress: 3000/3992, elapsed: 16, ETA: 5\n",
      "progress: 3500/3992, elapsed: 19, ETA: 2\n"
     ]
    }
   ],
   "source": [
    "def features(code, name, bars, results, frame_type):    \n",
    "    frame = bars[\"frame\"][-1]\n",
    "    high, low, close = bars[\"high\"], bars[\"low\"], bars[\"close\"]\n",
    "    wr = np.round((close[-1]-min(low))/(max(high)-min(low)),2)\n",
    "    \n",
    "    volume = bars[\"volume\"]\n",
    "    vr = np.round(np.max(volume[-3:]) / np.min(volume[-6:]), 1)\n",
    "    \n",
    "    bullish = np.all((bars[\"close\"] > bars[\"open\"])[-3:])\n",
    "    \n",
    "    if not bullish:\n",
    "        return\n",
    "\n",
    "    if len(bars) > 12:\n",
    "        ma10 = moving_average(close, 10)[-4:]\n",
    "        ma5 = moving_average(close, 5)[-4:]\n",
    "        \n",
    "        pos = np.argwhere(ma5 < ma10).flatten()\n",
    "        if len(pos) == 0:\n",
    "            return\n",
    "        \n",
    "        for p in pos:\n",
    "            if p == 4:\n",
    "                break\n",
    "                \n",
    "            if ma5[p+1] > ma10[p+1]: \n",
    "                results.append([name, code, frame, wr, vr, 4 - p])\n",
    "                break\n",
    "\n",
    "results = await scan(features, 13, '1M', nstocks=None, silent=True)\n",
    "df = pd.DataFrame(results, columns=[\"name\", \"code\", \"frame\", \"wr\", \"vr\", \"since_cross\"])"
   ]
  },
  {
   "cell_type": "code",
   "execution_count": 35,
   "id": "62a51f23",
   "metadata": {},
   "outputs": [
    {
     "data": {
      "text/html": [
       "<div>\n",
       "<style scoped>\n",
       "    .dataframe tbody tr th:only-of-type {\n",
       "        vertical-align: middle;\n",
       "    }\n",
       "\n",
       "    .dataframe tbody tr th {\n",
       "        vertical-align: top;\n",
       "    }\n",
       "\n",
       "    .dataframe thead th {\n",
       "        text-align: right;\n",
       "    }\n",
       "</style>\n",
       "<table border=\"1\" class=\"dataframe\">\n",
       "  <thead>\n",
       "    <tr style=\"text-align: right;\">\n",
       "      <th></th>\n",
       "      <th>name</th>\n",
       "      <th>code</th>\n",
       "      <th>frame</th>\n",
       "      <th>wr</th>\n",
       "      <th>vr</th>\n",
       "      <th>since_cross</th>\n",
       "    </tr>\n",
       "  </thead>\n",
       "  <tbody>\n",
       "    <tr>\n",
       "      <th>5</th>\n",
       "      <td>红宝丽</td>\n",
       "      <td>002165.XSHE</td>\n",
       "      <td>2021-10-29</td>\n",
       "      <td>0.58</td>\n",
       "      <td>17.0</td>\n",
       "      <td>2</td>\n",
       "    </tr>\n",
       "    <tr>\n",
       "      <th>33</th>\n",
       "      <td>德恩精工</td>\n",
       "      <td>300780.XSHE</td>\n",
       "      <td>2021-10-29</td>\n",
       "      <td>0.40</td>\n",
       "      <td>9.7</td>\n",
       "      <td>3</td>\n",
       "    </tr>\n",
       "    <tr>\n",
       "      <th>20</th>\n",
       "      <td>日丰股份</td>\n",
       "      <td>002953.XSHE</td>\n",
       "      <td>2021-10-29</td>\n",
       "      <td>0.50</td>\n",
       "      <td>6.6</td>\n",
       "      <td>3</td>\n",
       "    </tr>\n",
       "    <tr>\n",
       "      <th>8</th>\n",
       "      <td>长青股份</td>\n",
       "      <td>002391.XSHE</td>\n",
       "      <td>2021-10-29</td>\n",
       "      <td>0.35</td>\n",
       "      <td>5.5</td>\n",
       "      <td>2</td>\n",
       "    </tr>\n",
       "    <tr>\n",
       "      <th>57</th>\n",
       "      <td>中曼石油</td>\n",
       "      <td>603619.XSHG</td>\n",
       "      <td>2021-10-29</td>\n",
       "      <td>0.58</td>\n",
       "      <td>4.8</td>\n",
       "      <td>4</td>\n",
       "    </tr>\n",
       "    <tr>\n",
       "      <th>17</th>\n",
       "      <td>泰永长征</td>\n",
       "      <td>002927.XSHE</td>\n",
       "      <td>2021-10-29</td>\n",
       "      <td>0.57</td>\n",
       "      <td>4.4</td>\n",
       "      <td>2</td>\n",
       "    </tr>\n",
       "    <tr>\n",
       "      <th>29</th>\n",
       "      <td>丝路视觉</td>\n",
       "      <td>300556.XSHE</td>\n",
       "      <td>2021-10-29</td>\n",
       "      <td>0.53</td>\n",
       "      <td>4.3</td>\n",
       "      <td>3</td>\n",
       "    </tr>\n",
       "    <tr>\n",
       "      <th>18</th>\n",
       "      <td>新兴装备</td>\n",
       "      <td>002933.XSHE</td>\n",
       "      <td>2021-10-29</td>\n",
       "      <td>0.59</td>\n",
       "      <td>4.2</td>\n",
       "      <td>2</td>\n",
       "    </tr>\n",
       "    <tr>\n",
       "      <th>14</th>\n",
       "      <td>中坚科技</td>\n",
       "      <td>002779.XSHE</td>\n",
       "      <td>2021-10-29</td>\n",
       "      <td>0.52</td>\n",
       "      <td>4.2</td>\n",
       "      <td>3</td>\n",
       "    </tr>\n",
       "    <tr>\n",
       "      <th>32</th>\n",
       "      <td>海川智能</td>\n",
       "      <td>300720.XSHE</td>\n",
       "      <td>2021-10-29</td>\n",
       "      <td>0.29</td>\n",
       "      <td>3.6</td>\n",
       "      <td>3</td>\n",
       "    </tr>\n",
       "    <tr>\n",
       "      <th>21</th>\n",
       "      <td>嘉美包装</td>\n",
       "      <td>002969.XSHE</td>\n",
       "      <td>2021-10-29</td>\n",
       "      <td>0.55</td>\n",
       "      <td>3.4</td>\n",
       "      <td>2</td>\n",
       "    </tr>\n",
       "    <tr>\n",
       "      <th>51</th>\n",
       "      <td>元成股份</td>\n",
       "      <td>603388.XSHG</td>\n",
       "      <td>2021-10-29</td>\n",
       "      <td>0.57</td>\n",
       "      <td>3.4</td>\n",
       "      <td>3</td>\n",
       "    </tr>\n",
       "    <tr>\n",
       "      <th>34</th>\n",
       "      <td>海晨股份</td>\n",
       "      <td>300873.XSHE</td>\n",
       "      <td>2021-10-29</td>\n",
       "      <td>0.43</td>\n",
       "      <td>3.0</td>\n",
       "      <td>3</td>\n",
       "    </tr>\n",
       "    <tr>\n",
       "      <th>54</th>\n",
       "      <td>三星新材</td>\n",
       "      <td>603578.XSHG</td>\n",
       "      <td>2021-10-29</td>\n",
       "      <td>0.31</td>\n",
       "      <td>2.8</td>\n",
       "      <td>3</td>\n",
       "    </tr>\n",
       "    <tr>\n",
       "      <th>41</th>\n",
       "      <td>悦达投资</td>\n",
       "      <td>600805.XSHG</td>\n",
       "      <td>2021-10-29</td>\n",
       "      <td>0.28</td>\n",
       "      <td>2.3</td>\n",
       "      <td>2</td>\n",
       "    </tr>\n",
       "    <tr>\n",
       "      <th>24</th>\n",
       "      <td>尔康制药</td>\n",
       "      <td>300267.XSHE</td>\n",
       "      <td>2021-10-29</td>\n",
       "      <td>0.24</td>\n",
       "      <td>2.2</td>\n",
       "      <td>2</td>\n",
       "    </tr>\n",
       "    <tr>\n",
       "      <th>50</th>\n",
       "      <td>顶点软件</td>\n",
       "      <td>603383.XSHG</td>\n",
       "      <td>2021-10-29</td>\n",
       "      <td>0.57</td>\n",
       "      <td>2.0</td>\n",
       "      <td>3</td>\n",
       "    </tr>\n",
       "    <tr>\n",
       "      <th>16</th>\n",
       "      <td>庄园牧场</td>\n",
       "      <td>002910.XSHE</td>\n",
       "      <td>2021-10-29</td>\n",
       "      <td>0.45</td>\n",
       "      <td>1.8</td>\n",
       "      <td>4</td>\n",
       "    </tr>\n",
       "    <tr>\n",
       "      <th>39</th>\n",
       "      <td>天士力</td>\n",
       "      <td>600535.XSHG</td>\n",
       "      <td>2021-10-29</td>\n",
       "      <td>0.23</td>\n",
       "      <td>1.2</td>\n",
       "      <td>3</td>\n",
       "    </tr>\n",
       "  </tbody>\n",
       "</table>\n",
       "</div>"
      ],
      "text/plain": [
       "    name         code       frame    wr    vr  since_cross\n",
       "5    红宝丽  002165.XSHE  2021-10-29  0.58  17.0            2\n",
       "33  德恩精工  300780.XSHE  2021-10-29  0.40   9.7            3\n",
       "20  日丰股份  002953.XSHE  2021-10-29  0.50   6.6            3\n",
       "8   长青股份  002391.XSHE  2021-10-29  0.35   5.5            2\n",
       "57  中曼石油  603619.XSHG  2021-10-29  0.58   4.8            4\n",
       "17  泰永长征  002927.XSHE  2021-10-29  0.57   4.4            2\n",
       "29  丝路视觉  300556.XSHE  2021-10-29  0.53   4.3            3\n",
       "18  新兴装备  002933.XSHE  2021-10-29  0.59   4.2            2\n",
       "14  中坚科技  002779.XSHE  2021-10-29  0.52   4.2            3\n",
       "32  海川智能  300720.XSHE  2021-10-29  0.29   3.6            3\n",
       "21  嘉美包装  002969.XSHE  2021-10-29  0.55   3.4            2\n",
       "51  元成股份  603388.XSHG  2021-10-29  0.57   3.4            3\n",
       "34  海晨股份  300873.XSHE  2021-10-29  0.43   3.0            3\n",
       "54  三星新材  603578.XSHG  2021-10-29  0.31   2.8            3\n",
       "41  悦达投资  600805.XSHG  2021-10-29  0.28   2.3            2\n",
       "24  尔康制药  300267.XSHE  2021-10-29  0.24   2.2            2\n",
       "50  顶点软件  603383.XSHG  2021-10-29  0.57   2.0            3\n",
       "16  庄园牧场  002910.XSHE  2021-10-29  0.45   1.8            4\n",
       "39   天士力  600535.XSHG  2021-10-29  0.23   1.2            3"
      ]
     },
     "execution_count": 35,
     "metadata": {},
     "output_type": "execute_result"
    }
   ],
   "source": [
    "df[df.wr<0.6].nlargest(20, \"vr\")"
   ]
  },
  {
   "cell_type": "code",
   "execution_count": null,
   "id": "388f56e6",
   "metadata": {},
   "outputs": [],
   "source": [
    "import xgboost\n",
    "from xgboost import XGBRegressor\n",
    "from sklearn.utils import shuffle\n",
    "from sklearn.model_selection import train_test_split, RandomizedSearchCV\n",
    "from scipy.stats import randint, uniform\n",
    "\n",
    "\n",
    "def grid_search(X_train, y_train):\n",
    "    params = {\n",
    "        \"colsample_bytree\": uniform(0.7, 0.3),\n",
    "        \"gamma\": uniform(0, 0.5),\n",
    "        \"learning_rate\": uniform(0.03, 1),\n",
    "        \"max_depth\": randint(2, 6),\n",
    "        \"n_estimators\": randint(100, 150),\n",
    "        \"subsample\": uniform(0.6, 0.4),\n",
    "    }\n",
    "    model = XGBRegressor()\n",
    "    search = RandomizedSearchCV(\n",
    "        model,\n",
    "        param_distributions=params,\n",
    "        random_state=42,\n",
    "        n_iter=10,\n",
    "        cv=3,\n",
    "        verbose=2,\n",
    "        n_jobs=8,\n",
    "        return_train_score=True,\n",
    "    )\n",
    "\n",
    "\n",
    "    search.fit(X_train, y_train)\n",
    "\n",
    "    _report_best_scores(search.cv_results_)\n",
    "    return search.best_estimator_\n",
    "\n",
    "def _report_best_scores(results, n_top=3):\n",
    "    for i in range(1, n_top + 1):\n",
    "        candidates = np.flatnonzero(results[\"rank_test_score\"] == i)\n",
    "        for candidate in candidates:\n",
    "            print(\"Model with rank: {0}\".format(i))\n",
    "            print(\n",
    "                \"Mean validation score: {0:.3f} (std: {1:.3f})\".format(\n",
    "                    results[\"mean_test_score\"][candidate],\n",
    "                    results[\"std_test_score\"][candidate],\n",
    "                )\n",
    "            )\n",
    "            print(\"Parameters: {0}\".format(results[\"params\"][candidate]))\n",
    "            print(\"\")\n",
    "\n",
    "\n",
    "X_train, X_test, y_train, y_test = train_test_split(X, y, test_size=0.2, random_state=78)\n",
    "model = grid_search(np.array(X_train), np.array(y_train))"
   ]
  },
  {
   "cell_type": "code",
   "execution_count": null,
   "id": "1811c53c",
   "metadata": {},
   "outputs": [],
   "source": [
    "preds = model.predict(np.array(X_test))"
   ]
  },
  {
   "cell_type": "code",
   "execution_count": null,
   "id": "a085708c",
   "metadata": {},
   "outputs": [],
   "source": []
  }
 ],
 "metadata": {
  "kernelspec": {
   "display_name": "alpha",
   "language": "python",
   "name": "alpha"
  },
  "language_info": {
   "codemirror_mode": {
    "name": "ipython",
    "version": 3
   },
   "file_extension": ".py",
   "mimetype": "text/x-python",
   "name": "python",
   "nbconvert_exporter": "python",
   "pygments_lexer": "ipython3",
   "version": "3.8.12"
  },
  "toc": {
   "base_numbering": 1,
   "nav_menu": {},
   "number_sections": true,
   "sideBar": true,
   "skip_h1_title": false,
   "title_cell": "Table of Contents",
   "title_sidebar": "Contents",
   "toc_cell": false,
   "toc_position": {
    "height": "calc(100% - 180px)",
    "left": "10px",
    "top": "150px",
    "width": "223px"
   },
   "toc_section_display": true,
   "toc_window_display": true
  }
 },
 "nbformat": 4,
 "nbformat_minor": 5
}
